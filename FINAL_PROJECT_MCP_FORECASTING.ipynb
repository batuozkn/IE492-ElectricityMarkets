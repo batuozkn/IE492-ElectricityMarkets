{
 "cells": [
  {
   "cell_type": "code",
   "execution_count": 1,
   "metadata": {
    "vscode": {
     "languageId": "r"
    }
   },
   "outputs": [
    {
     "name": "stderr",
     "output_type": "stream",
     "text": [
      "\n",
      "Attaching package: 'zoo'\n",
      "\n",
      "\n",
      "The following objects are masked from 'package:base':\n",
      "\n",
      "    as.Date, as.Date.numeric\n",
      "\n",
      "\n",
      "corrplot 0.92 loaded\n",
      "\n",
      "\n",
      "Attaching package: 'dplyr'\n",
      "\n",
      "\n",
      "The following objects are masked from 'package:stats':\n",
      "\n",
      "    filter, lag\n",
      "\n",
      "\n",
      "The following objects are masked from 'package:base':\n",
      "\n",
      "    intersect, setdiff, setequal, union\n",
      "\n",
      "\n",
      "Loading required package: ggplot2\n",
      "\n",
      "Registered S3 method overwritten by 'GGally':\n",
      "  method from   \n",
      "  +.gg   ggplot2\n",
      "\n",
      "\n",
      "Attaching package: 'lubridate'\n",
      "\n",
      "\n",
      "The following objects are masked from 'package:base':\n",
      "\n",
      "    date, intersect, setdiff, union\n",
      "\n",
      "\n",
      "Registered S3 method overwritten by 'quantmod':\n",
      "  method            from\n",
      "  as.zoo.data.frame zoo \n",
      "\n",
      "\n",
      "Attaching package: 'data.table'\n",
      "\n",
      "\n",
      "The following objects are masked from 'package:lubridate':\n",
      "\n",
      "    hour, isoweek, mday, minute, month, quarter, second, wday, week,\n",
      "    yday, year\n",
      "\n",
      "\n",
      "The following objects are masked from 'package:dplyr':\n",
      "\n",
      "    between, first, last\n",
      "\n",
      "\n",
      "The following objects are masked from 'package:zoo':\n",
      "\n",
      "    yearmon, yearqtr\n",
      "\n",
      "\n",
      "Loading required package: fma\n",
      "\n",
      "\n",
      "Attaching package: 'fma'\n",
      "\n",
      "\n",
      "The following object is masked from 'package:GGally':\n",
      "\n",
      "    pigs\n",
      "\n",
      "\n",
      "Loading required package: expsmooth\n",
      "\n",
      "Loading required package: lmtest\n",
      "\n",
      "Loading required package: tseries\n",
      "\n",
      "Loading required package: skimr\n",
      "\n",
      "Warning message in library(package, lib.loc = lib.loc, character.only = TRUE, logical.return = TRUE, :\n",
      "\"there is no package called 'skimr'\"\n",
      "Loading required package: repr\n",
      "\n"
     ]
    }
   ],
   "source": [
    "library(RcppRoll)\n",
    "library(zoo)\n",
    "library(scales)\n",
    "library(corrplot)\n",
    "library(dplyr)\n",
    "library(ggcorrplot)\n",
    "library(GGally)\n",
    "library(lubridate)\n",
    "library(forecast)\n",
    "library(tidyr)\n",
    "library(data.table)\n",
    "library(dplyr)\n",
    "library(ggplot2)\n",
    "library(stats)\n",
    "library(fpp)\n",
    "library(data.table)\n",
    "require(data.table)\n",
    "require(lubridate)\n",
    "require(forecast)\n",
    "require(skimr)\n",
    "require(repr)"
   ]
  },
  {
   "cell_type": "code",
   "execution_count": 2,
   "metadata": {
    "vscode": {
     "languageId": "r"
    }
   },
   "outputs": [
    {
     "data": {
      "text/html": [
       "<table class=\"dataframe\">\n",
       "<caption>A data.table: 6 × 10</caption>\n",
       "<thead>\n",
       "\t<tr><th scope=col>DateTime</th><th scope=col>renewable_ratio</th><th scope=col>priceEur</th><th scope=col>Difference_24</th><th scope=col>Difference_168</th><th scope=col>Workday</th><th scope=col>Workday_168</th><th scope=col>Workday_24</th><th scope=col>forecast</th><th scope=col>BV Forecast</th></tr>\n",
       "\t<tr><th scope=col>&lt;dttm&gt;</th><th scope=col>&lt;dbl&gt;</th><th scope=col>&lt;dbl&gt;</th><th scope=col>&lt;dbl&gt;</th><th scope=col>&lt;dbl&gt;</th><th scope=col>&lt;int&gt;</th><th scope=col>&lt;dbl&gt;</th><th scope=col>&lt;dbl&gt;</th><th scope=col>&lt;dbl&gt;</th><th scope=col>&lt;dbl&gt;</th></tr>\n",
       "</thead>\n",
       "<tbody>\n",
       "\t<tr><td>2021-01-14 00:00:00</td><td>0.04073709</td><td>35.26</td><td>1.16</td><td>2.17</td><td>1</td><td>1</td><td>1</td><td>27.4</td><td>4187.97</td></tr>\n",
       "\t<tr><td>2021-01-14 01:00:00</td><td>0.04586432</td><td>35.13</td><td>4.79</td><td>0.94</td><td>1</td><td>1</td><td>1</td><td>30.1</td><td>3975.82</td></tr>\n",
       "\t<tr><td>2021-01-14 02:00:00</td><td>0.05103432</td><td>34.87</td><td>2.32</td><td>5.17</td><td>1</td><td>1</td><td>1</td><td>37.3</td><td>3885.02</td></tr>\n",
       "\t<tr><td>2021-01-14 03:00:00</td><td>0.05995258</td><td>34.58</td><td>7.66</td><td>5.35</td><td>1</td><td>1</td><td>1</td><td>41.0</td><td>3589.79</td></tr>\n",
       "\t<tr><td>2021-01-14 04:00:00</td><td>0.06207705</td><td>34.57</td><td>6.45</td><td>7.32</td><td>1</td><td>1</td><td>1</td><td>52.6</td><td>3137.07</td></tr>\n",
       "\t<tr><td>2021-01-14 05:00:00</td><td>0.07138521</td><td>34.53</td><td>0.32</td><td>7.28</td><td>1</td><td>1</td><td>1</td><td>67.9</td><td>2717.61</td></tr>\n",
       "</tbody>\n",
       "</table>\n"
      ],
      "text/latex": [
       "A data.table: 6 × 10\n",
       "\\begin{tabular}{llllllllll}\n",
       " DateTime & renewable\\_ratio & priceEur & Difference\\_24 & Difference\\_168 & Workday & Workday\\_168 & Workday\\_24 & forecast & BV Forecast\\\\\n",
       " <dttm> & <dbl> & <dbl> & <dbl> & <dbl> & <int> & <dbl> & <dbl> & <dbl> & <dbl>\\\\\n",
       "\\hline\n",
       "\t 2021-01-14 00:00:00 & 0.04073709 & 35.26 & 1.16 & 2.17 & 1 & 1 & 1 & 27.4 & 4187.97\\\\\n",
       "\t 2021-01-14 01:00:00 & 0.04586432 & 35.13 & 4.79 & 0.94 & 1 & 1 & 1 & 30.1 & 3975.82\\\\\n",
       "\t 2021-01-14 02:00:00 & 0.05103432 & 34.87 & 2.32 & 5.17 & 1 & 1 & 1 & 37.3 & 3885.02\\\\\n",
       "\t 2021-01-14 03:00:00 & 0.05995258 & 34.58 & 7.66 & 5.35 & 1 & 1 & 1 & 41.0 & 3589.79\\\\\n",
       "\t 2021-01-14 04:00:00 & 0.06207705 & 34.57 & 6.45 & 7.32 & 1 & 1 & 1 & 52.6 & 3137.07\\\\\n",
       "\t 2021-01-14 05:00:00 & 0.07138521 & 34.53 & 0.32 & 7.28 & 1 & 1 & 1 & 67.9 & 2717.61\\\\\n",
       "\\end{tabular}\n"
      ],
      "text/markdown": [
       "\n",
       "A data.table: 6 × 10\n",
       "\n",
       "| DateTime &lt;dttm&gt; | renewable_ratio &lt;dbl&gt; | priceEur &lt;dbl&gt; | Difference_24 &lt;dbl&gt; | Difference_168 &lt;dbl&gt; | Workday &lt;int&gt; | Workday_168 &lt;dbl&gt; | Workday_24 &lt;dbl&gt; | forecast &lt;dbl&gt; | BV Forecast &lt;dbl&gt; |\n",
       "|---|---|---|---|---|---|---|---|---|---|\n",
       "| 2021-01-14 00:00:00 | 0.04073709 | 35.26 | 1.16 | 2.17 | 1 | 1 | 1 | 27.4 | 4187.97 |\n",
       "| 2021-01-14 01:00:00 | 0.04586432 | 35.13 | 4.79 | 0.94 | 1 | 1 | 1 | 30.1 | 3975.82 |\n",
       "| 2021-01-14 02:00:00 | 0.05103432 | 34.87 | 2.32 | 5.17 | 1 | 1 | 1 | 37.3 | 3885.02 |\n",
       "| 2021-01-14 03:00:00 | 0.05995258 | 34.58 | 7.66 | 5.35 | 1 | 1 | 1 | 41.0 | 3589.79 |\n",
       "| 2021-01-14 04:00:00 | 0.06207705 | 34.57 | 6.45 | 7.32 | 1 | 1 | 1 | 52.6 | 3137.07 |\n",
       "| 2021-01-14 05:00:00 | 0.07138521 | 34.53 | 0.32 | 7.28 | 1 | 1 | 1 | 67.9 | 2717.61 |\n",
       "\n"
      ],
      "text/plain": [
       "  DateTime            renewable_ratio priceEur Difference_24 Difference_168\n",
       "1 2021-01-14 00:00:00 0.04073709      35.26    1.16          2.17          \n",
       "2 2021-01-14 01:00:00 0.04586432      35.13    4.79          0.94          \n",
       "3 2021-01-14 02:00:00 0.05103432      34.87    2.32          5.17          \n",
       "4 2021-01-14 03:00:00 0.05995258      34.58    7.66          5.35          \n",
       "5 2021-01-14 04:00:00 0.06207705      34.57    6.45          7.32          \n",
       "6 2021-01-14 05:00:00 0.07138521      34.53    0.32          7.28          \n",
       "  Workday Workday_168 Workday_24 forecast BV Forecast\n",
       "1 1       1           1          27.4     4187.97    \n",
       "2 1       1           1          30.1     3975.82    \n",
       "3 1       1           1          37.3     3885.02    \n",
       "4 1       1           1          41.0     3589.79    \n",
       "5 1       1           1          52.6     3137.07    \n",
       "6 1       1           1          67.9     2717.61    "
      ]
     },
     "metadata": {},
     "output_type": "display_data"
    },
    {
     "name": "stdout",
     "output_type": "stream",
     "text": [
      "Classes 'data.table' and 'data.frame':\t28752 obs. of  10 variables:\n",
      " $ DateTime       : POSIXct, format: \"2021-01-14 00:00:00\" \"2021-01-14 01:00:00\" ...\n",
      " $ renewable_ratio: num  0.0407 0.0459 0.051 0.06 0.0621 ...\n",
      " $ priceEur       : num  35.3 35.1 34.9 34.6 34.6 ...\n",
      " $ Difference_24  : num  1.16 4.79 2.32 7.66 6.45 ...\n",
      " $ Difference_168 : num  2.17 0.94 5.17 5.35 7.32 ...\n",
      " $ Workday        : int  1 1 1 1 1 1 1 1 1 1 ...\n",
      " $ Workday_168    : num  1 1 1 1 1 1 1 1 1 1 ...\n",
      " $ Workday_24     : num  1 1 1 1 1 1 1 1 1 1 ...\n",
      " $ forecast       : num  27.4 30.1 37.3 41 52.6 ...\n",
      " $ BV Forecast    : num  4188 3976 3885 3590 3137 ...\n",
      " - attr(*, \".internal.selfref\")=<externalptr> \n"
     ]
    }
   ],
   "source": [
    "data_path='data.csv'\n",
    "data=fread(data_path)\n",
    "head(data)\n",
    "str(data)"
   ]
  },
  {
   "cell_type": "code",
   "execution_count": 3,
   "metadata": {
    "vscode": {
     "languageId": "r"
    }
   },
   "outputs": [
    {
     "data": {
      "image/png": "[encoded data removed]",
      "text/plain": [
       "plot without title"
      ]
     },
     "metadata": {
      "image/png": {
       "height": 420,
       "width": 420
      }
     },
     "output_type": "display_data"
    }
   ],
   "source": [
    "ggplot(data,aes(x=DateTime)) + geom_line(aes(y=priceEur,color='priceEur'))"
   ]
  },
  {
   "cell_type": "code",
   "execution_count": 4,
   "metadata": {
    "vscode": {
     "languageId": "r"
    }
   },
   "outputs": [
    {
     "data": {
      "image/png": "[encoded data removed]",
      "text/plain": [
       "plot without title"
      ]
     },
     "metadata": {
      "image/png": {
       "height": 420,
       "width": 420
      }
     },
     "output_type": "display_data"
    }
   ],
   "source": [
    "ggplot(data,aes(x=DateTime)) + geom_line(aes(y=Difference_24,color='Difference_24'))"
   ]
  },
  {
   "cell_type": "code",
   "execution_count": 5,
   "metadata": {
    "vscode": {
     "languageId": "r"
    }
   },
   "outputs": [],
   "source": [
    "#ggpairs(data)"
   ]
  },
  {
   "cell_type": "code",
   "execution_count": 6,
   "metadata": {
    "vscode": {
     "languageId": "r"
    }
   },
   "outputs": [
    {
     "data": {
      "image/png": "[encoded data removed]",
      "text/plain": [
       "plot without title"
      ]
     },
     "metadata": {
      "image/png": {
       "height": 420,
       "width": 420
      }
     },
     "output_type": "display_data"
    }
   ],
   "source": [
    "data <- as.data.frame(data)\n",
    "\n",
    "selected_columns <- c(\"renewable_ratio\", \"priceEur\")\n",
    "\n",
    "ggpairs(data[, selected_columns])"
   ]
  },
  {
   "cell_type": "code",
   "execution_count": 7,
   "metadata": {
    "vscode": {
     "languageId": "r"
    }
   },
   "outputs": [],
   "source": [
    "#data <- as.data.frame(data)\n",
    "\n",
    "#selected_columns <- c(\"DateTime\", \"Difference_24\", \"priceEur\")\n",
    "\n",
    "#ggpairs(data[, selected_columns])"
   ]
  },
  {
   "cell_type": "code",
   "execution_count": 8,
   "metadata": {
    "vscode": {
     "languageId": "r"
    }
   },
   "outputs": [],
   "source": [
    "#data <- as.data.frame(data)\n",
    "\n",
    "#selected_columns <- c(\"DateTime\", \"Difference_168\", \"priceEur\")\n",
    "\n",
    "#ggpairs(data[, selected_columns])"
   ]
  },
  {
   "cell_type": "code",
   "execution_count": 9,
   "metadata": {
    "vscode": {
     "languageId": "r"
    }
   },
   "outputs": [
    {
     "ename": "ERROR",
     "evalue": "Error in eval(e, x, parent.frame()): object 'not_holiday' not found\n",
     "output_type": "error",
     "traceback": [
      "Error in eval(e, x, parent.frame()): object 'not_holiday' not found\nTraceback:\n",
      "1. subset(data, not_holiday == 1)",
      "2. subset.data.frame(data, not_holiday == 1)",
      "3. eval(e, x, parent.frame())",
      "4. eval(e, x, parent.frame())"
     ]
    }
   ],
   "source": [
    "# Filter data for \"Workday\" column equal to 1\n",
    "#workday_data <- subset(data, not_holiday == 1)\n",
    "\n",
    "# Calculate the average of \"priceEur\" column\n",
    "#average_price <- mean(workday_data$priceEur)\n",
    "\n",
    "# Print the average price\n",
    "#print(average_price)"
   ]
  },
  {
   "cell_type": "code",
   "execution_count": null,
   "metadata": {
    "vscode": {
     "languageId": "r"
    }
   },
   "outputs": [
    {
     "name": "stdout",
     "output_type": "stream",
     "text": [
      "[1] 61.0155\n"
     ]
    }
   ],
   "source": [
    "# Filter data for \"Workday\" column equal to 1\n",
    "#workday_data <- subset(data, not_holiday == 0)\n",
    "\n",
    "# Calculate the average of \"priceEur\" column\n",
    "#average_price <- mean(workday_data$priceEur)\n",
    "\n",
    "# Print the average price\n",
    "#print(average_price)"
   ]
  },
  {
   "cell_type": "code",
   "execution_count": 10,
   "metadata": {
    "vscode": {
     "languageId": "r"
    }
   },
   "outputs": [
    {
     "data": {
      "image/png": "[encoded data removed]",
      "text/plain": [
       "plot without title"
      ]
     },
     "metadata": {
      "image/png": {
       "height": 420,
       "width": 420
      }
     },
     "output_type": "display_data"
    }
   ],
   "source": [
    "data <- as.data.frame(data)\n",
    "#colnames(data)[colnames(data) == \"Workday\"] <- \"not_holiday\"\n",
    "#selected_columns <- c(\"not_holiday\", \"priceEur\")\n",
    "\n",
    "#ggpairs(data[, selected_columns])"
   ]
  },
  {
   "cell_type": "code",
   "execution_count": null,
   "metadata": {
    "vscode": {
     "languageId": "r"
    }
   },
   "outputs": [],
   "source": [
    "#data <- as.data.frame(data)\n",
    "\n",
    "#selected_columns <- c(\"DateTime\", \"forecast\", \"priceEur\")\n",
    "\n",
    "#ggpairs(data[, selected_columns])"
   ]
  },
  {
   "cell_type": "code",
   "execution_count": null,
   "metadata": {
    "vscode": {
     "languageId": "r"
    }
   },
   "outputs": [],
   "source": [
    "#data <- as.data.frame(data)\n",
    "\n",
    "#selected_columns <- c(\"DateTime\", \"BV Forecast\", \"priceEur\")\n",
    "\n",
    "#ggpairs(data[, selected_columns])"
   ]
  },
  {
   "cell_type": "code",
   "execution_count": null,
   "metadata": {
    "vscode": {
     "languageId": "r"
    }
   },
   "outputs": [
    {
     "data": {
      "image/png": "[encoded data removed]",
      "text/plain": [
       "Plot with title \"Series  data$Difference_24\""
      ]
     },
     "metadata": {
      "image/png": {
       "height": 420,
       "width": 420
      }
     },
     "output_type": "display_data"
    }
   ],
   "source": [
    "acf(data$Difference_24, lag.max = 200)"
   ]
  },
  {
   "cell_type": "markdown",
   "metadata": {},
   "source": [
    "# 1 Autoarima for Difference_24, with Workday and Workday_24 regressors"
   ]
  },
  {
   "cell_type": "code",
   "execution_count": 12,
   "metadata": {
    "vscode": {
     "languageId": "r"
    }
   },
   "outputs": [
    {
     "ename": "ERROR",
     "evalue": "Error in eval(expr, envir, enclos): object '..predictors' not found\n",
     "output_type": "error",
     "traceback": [
      "Error in eval(expr, envir, enclos): object '..predictors' not found\nTraceback:\n",
      "1. as.matrix(data[, ..predictors])",
      "2. data[, ..predictors]",
      "3. `[.data.frame`(data, , ..predictors)"
     ]
    }
   ],
   "source": [
    "predictors <- c(\"Workday\", \"Workday_24\")\n",
    "\n",
    "# Convert predictors to a numeric matrix\n",
    "predictor_matrix <- as.matrix(data[, ..predictors])\n",
    "\n",
    "auto_arima_model1 <- auto.arima(data$Difference_24, xreg = predictor_matrix)"
   ]
  },
  {
   "cell_type": "code",
   "execution_count": null,
   "metadata": {
    "vscode": {
     "languageId": "r"
    }
   },
   "outputs": [
    {
     "data": {
      "text/plain": [
       "Series: data$Difference_24 \n",
       "Regression with ARIMA(2,0,2) errors \n",
       "\n",
       "Coefficients:\n",
       "         ar1      ar2      ma1      ma2  Workday  Workday_24\n",
       "      1.1781  -0.2603  -0.5036  -0.1027   8.3123     -8.2709\n",
       "s.e.  0.0369   0.0303   0.0370   0.0109   1.4411      1.4412\n",
       "\n",
       "sigma^2 = 352.2:  log likelihood = -125100.5\n",
       "AIC=250214.9   AICc=250214.9   BIC=250272.8\n",
       "\n",
       "Training set error measures:\n",
       "                      ME     RMSE      MAE MPE MAPE      MASE         ACF1\n",
       "Training set -0.00200711 18.76636 10.51922 NaN  Inf 0.9494724 3.455141e-05"
      ]
     },
     "metadata": {},
     "output_type": "display_data"
    }
   ],
   "source": [
    "summary(auto_arima_model1)"
   ]
  },
  {
   "cell_type": "code",
   "execution_count": null,
   "metadata": {
    "vscode": {
     "languageId": "r"
    }
   },
   "outputs": [
    {
     "name": "stdout",
     "output_type": "stream",
     "text": [
      "\n",
      "\tLjung-Box test\n",
      "\n",
      "data:  Residuals from Regression with ARIMA(2,0,2) errors\n",
      "Q* = 60.917, df = 6, p-value = 2.93e-11\n",
      "\n",
      "Model df: 4.   Total lags used: 10\n",
      "\n"
     ]
    },
    {
     "data": {
      "image/png": "[encoded data removed]",
      "text/plain": [
       "plot without title"
      ]
     },
     "metadata": {
      "image/png": {
       "height": 420,
       "width": 420
      }
     },
     "output_type": "display_data"
    }
   ],
   "source": [
    "checkresiduals(auto_arima_model1)"
   ]
  },
  {
   "cell_type": "code",
   "execution_count": null,
   "metadata": {
    "vscode": {
     "languageId": "r"
    }
   },
   "outputs": [
    {
     "ename": "ERROR",
     "evalue": "Error in eval(expr, envir, enclos): object 'actual_values' not found\n",
     "output_type": "error",
     "traceback": [
      "Error in eval(expr, envir, enclos): object 'actual_values' not found\nTraceback:\n",
      "1. mean((forecast_values$mean - actual_values)^2)"
     ]
    },
    {
     "data": {
      "image/png": "[encoded data removed]",
      "text/plain": [
       "plot without title"
      ]
     },
     "metadata": {
      "image/png": {
       "height": 420,
       "width": 420
      }
     },
     "output_type": "display_data"
    }
   ],
   "source": [
    "forecast_values <- forecast(auto_arima_model1, xreg = predictor_matrix)\n",
    "\n",
    "plot_data <- data.frame(\n",
    "  DateTime = data$DateTime,\n",
    "  Actual = data$Difference_24,\n",
    "  Predicted = forecast_values$mean\n",
    ")\n",
    "\n",
    "ggplot(plot_data, aes(x = DateTime)) +\n",
    "  geom_line(aes(y = Actual, color = \"Real\")) +\n",
    "  geom_line(aes(y = Predicted, color = \"Predicted\"))\n",
    "\n",
    "# Calculate MSE\n",
    "mse <- mean((forecast_values$mean - actual_values)^2)\n",
    "\n",
    "# Print MSE\n",
    "print(paste(\"Mean Squared Error (MSE):\", mse))"
   ]
  },
  {
   "cell_type": "code",
   "execution_count": null,
   "metadata": {
    "vscode": {
     "languageId": "r"
    }
   },
   "outputs": [
    {
     "data": {
      "text/html": [
       "<table class=\"dataframe\">\n",
       "<caption>A data.frame: 1 × 5</caption>\n",
       "<thead>\n",
       "\t<tr><th scope=col>Model</th><th scope=col>MSE</th><th scope=col>MAE</th><th scope=col>MAPE</th><th scope=col>WMAPE</th></tr>\n",
       "\t<tr><th scope=col>&lt;chr&gt;</th><th scope=col>&lt;dbl&gt;</th><th scope=col>&lt;dbl&gt;</th><th scope=col>&lt;dbl&gt;</th><th scope=col>&lt;dbl&gt;</th></tr>\n",
       "</thead>\n",
       "<tbody>\n",
       "\t<tr><td>ARIMA 1</td><td>738.9659</td><td>15.14293</td><td>37474.51</td><td>0.1681185</td></tr>\n",
       "</tbody>\n",
       "</table>\n"
      ],
      "text/latex": [
       "A data.frame: 1 × 5\n",
       "\\begin{tabular}{lllll}\n",
       " Model & MSE & MAE & MAPE & WMAPE\\\\\n",
       " <chr> & <dbl> & <dbl> & <dbl> & <dbl>\\\\\n",
       "\\hline\n",
       "\t ARIMA 1 & 738.9659 & 15.14293 & 37474.51 & 0.1681185\\\\\n",
       "\\end{tabular}\n"
      ],
      "text/markdown": [
       "\n",
       "A data.frame: 1 × 5\n",
       "\n",
       "| Model &lt;chr&gt; | MSE &lt;dbl&gt; | MAE &lt;dbl&gt; | MAPE &lt;dbl&gt; | WMAPE &lt;dbl&gt; |\n",
       "|---|---|---|---|---|\n",
       "| ARIMA 1 | 738.9659 | 15.14293 | 37474.51 | 0.1681185 |\n",
       "\n"
      ],
      "text/plain": [
       "  Model   MSE      MAE      MAPE     WMAPE    \n",
       "1 ARIMA 1 738.9659 15.14293 37474.51 0.1681185"
      ]
     },
     "metadata": {},
     "output_type": "display_data"
    }
   ],
   "source": [
    "model_1_evaluation <- copy(data)\n",
    "\n",
    "model_1_evaluation[,actual:=priceEur]\n",
    "model_1_evaluation[,priceEur_24:=priceEur-Difference_24]\n",
    "model_1_evaluation[,forecasted_diff:=forecast_values$mean]\n",
    "model_1_evaluation[,forecasted_price:=priceEur_24 + forecast_values$mean]\n",
    "\n",
    "residuals <- model_1_evaluation$actual - model_1_evaluation$forecasted_price\n",
    "mse <- mean(residuals^2)\n",
    "mae <- mean(abs(residuals))\n",
    "mape <- mean(abs(residuals)/((model_1_evaluation$actual)+0.000001))\n",
    "wmape <- sum(abs(residuals))/sum(model_1_evaluation$actual)\n",
    "\n",
    "perf_results <- data.frame(\n",
    "    Number = 1\n",
    "    Model = \"ARIMA (2,0,2)\",\n",
    "    Response = \"Daily Difference (€)\",\n",
    "    I.Variables = \"Holiday, Holiday(-24)\"\n",
    "    MSE = mse,\n",
    "    MAE = mae,\n",
    "    MAPE = mape,\n",
    "    WMAPE = wmape,)\n",
    "\n",
    "perf_results"
   ]
  },
  {
   "cell_type": "markdown",
   "metadata": {},
   "source": [
    "# 2. Autoarima for Difference_24, with Workday, Workday_24, and Hour regressors"
   ]
  },
  {
   "cell_type": "code",
   "execution_count": null,
   "metadata": {
    "vscode": {
     "languageId": "r"
    }
   },
   "outputs": [
    {
     "data": {
      "text/html": [
       "<table class=\"dataframe\">\n",
       "<caption>A data.table: 28752 × 36</caption>\n",
       "<thead>\n",
       "\t<tr><th scope=col>DateTime</th><th scope=col>renewable_ratio</th><th scope=col>priceEur</th><th scope=col>Difference_24</th><th scope=col>Difference_168</th><th scope=col>Workday</th><th scope=col>Workday_168</th><th scope=col>Workday_24</th><th scope=col>forecast</th><th scope=col>BV Forecast</th><th scope=col>⋯</th><th scope=col>factor(Hour)14</th><th scope=col>factor(Hour)15</th><th scope=col>factor(Hour)16</th><th scope=col>factor(Hour)17</th><th scope=col>factor(Hour)18</th><th scope=col>factor(Hour)19</th><th scope=col>factor(Hour)20</th><th scope=col>factor(Hour)21</th><th scope=col>factor(Hour)22</th><th scope=col>factor(Hour)23</th></tr>\n",
       "\t<tr><th scope=col>&lt;dttm&gt;</th><th scope=col>&lt;dbl&gt;</th><th scope=col>&lt;dbl&gt;</th><th scope=col>&lt;dbl&gt;</th><th scope=col>&lt;dbl&gt;</th><th scope=col>&lt;int&gt;</th><th scope=col>&lt;dbl&gt;</th><th scope=col>&lt;dbl&gt;</th><th scope=col>&lt;dbl&gt;</th><th scope=col>&lt;dbl&gt;</th><th scope=col>⋯</th><th scope=col>&lt;dbl&gt;</th><th scope=col>&lt;dbl&gt;</th><th scope=col>&lt;dbl&gt;</th><th scope=col>&lt;dbl&gt;</th><th scope=col>&lt;dbl&gt;</th><th scope=col>&lt;dbl&gt;</th><th scope=col>&lt;dbl&gt;</th><th scope=col>&lt;dbl&gt;</th><th scope=col>&lt;dbl&gt;</th><th scope=col>&lt;dbl&gt;</th></tr>\n",
       "</thead>\n",
       "<tbody>\n",
       "\t<tr><td>2021-01-14 00:00:00</td><td>0.04073709</td><td>35.26</td><td> 1.16</td><td>2.17</td><td>1</td><td>1</td><td>1</td><td> 27.4</td><td>4187.97</td><td>⋯</td><td>0</td><td>0</td><td>0</td><td>0</td><td>0</td><td>0</td><td>0</td><td>0</td><td>0</td><td>0</td></tr>\n",
       "\t<tr><td>2021-01-14 01:00:00</td><td>0.04586432</td><td>35.13</td><td> 4.79</td><td>0.94</td><td>1</td><td>1</td><td>1</td><td> 30.1</td><td>3975.82</td><td>⋯</td><td>0</td><td>0</td><td>0</td><td>0</td><td>0</td><td>0</td><td>0</td><td>0</td><td>0</td><td>0</td></tr>\n",
       "\t<tr><td>2021-01-14 02:00:00</td><td>0.05103432</td><td>34.87</td><td> 2.32</td><td>5.17</td><td>1</td><td>1</td><td>1</td><td> 37.3</td><td>3885.02</td><td>⋯</td><td>0</td><td>0</td><td>0</td><td>0</td><td>0</td><td>0</td><td>0</td><td>0</td><td>0</td><td>0</td></tr>\n",
       "\t<tr><td>2021-01-14 03:00:00</td><td>0.05995258</td><td>34.58</td><td> 7.66</td><td>5.35</td><td>1</td><td>1</td><td>1</td><td> 41.0</td><td>3589.79</td><td>⋯</td><td>0</td><td>0</td><td>0</td><td>0</td><td>0</td><td>0</td><td>0</td><td>0</td><td>0</td><td>0</td></tr>\n",
       "\t<tr><td>2021-01-14 04:00:00</td><td>0.06207705</td><td>34.57</td><td> 6.45</td><td>7.32</td><td>1</td><td>1</td><td>1</td><td> 52.6</td><td>3137.07</td><td>⋯</td><td>0</td><td>0</td><td>0</td><td>0</td><td>0</td><td>0</td><td>0</td><td>0</td><td>0</td><td>0</td></tr>\n",
       "\t<tr><td>2021-01-14 05:00:00</td><td>0.07138521</td><td>34.53</td><td> 0.32</td><td>7.28</td><td>1</td><td>1</td><td>1</td><td> 67.9</td><td>2717.61</td><td>⋯</td><td>0</td><td>0</td><td>0</td><td>0</td><td>0</td><td>0</td><td>0</td><td>0</td><td>0</td><td>0</td></tr>\n",
       "\t<tr><td>2021-01-14 06:00:00</td><td>0.07629706</td><td>34.69</td><td> 0.24</td><td>6.42</td><td>1</td><td>1</td><td>1</td><td> 83.2</td><td>2882.89</td><td>⋯</td><td>0</td><td>0</td><td>0</td><td>0</td><td>0</td><td>0</td><td>0</td><td>0</td><td>0</td><td>0</td></tr>\n",
       "\t<tr><td>2021-01-14 07:00:00</td><td>0.08121125</td><td>34.95</td><td> 0.14</td><td>5.25</td><td>1</td><td>1</td><td>1</td><td>107.8</td><td>2746.63</td><td>⋯</td><td>0</td><td>0</td><td>0</td><td>0</td><td>0</td><td>0</td><td>0</td><td>0</td><td>0</td><td>0</td></tr>\n",
       "\t<tr><td>2021-01-14 08:00:00</td><td>0.07804943</td><td>35.84</td><td> 0.03</td><td>0.99</td><td>1</td><td>1</td><td>1</td><td>141.8</td><td>2642.18</td><td>⋯</td><td>0</td><td>0</td><td>0</td><td>0</td><td>0</td><td>0</td><td>0</td><td>0</td><td>0</td><td>0</td></tr>\n",
       "\t<tr><td>2021-01-14 09:00:00</td><td>0.06722491</td><td>36.71</td><td> 0.19</td><td>1.63</td><td>1</td><td>1</td><td>1</td><td>165.4</td><td>2570.10</td><td>⋯</td><td>0</td><td>0</td><td>0</td><td>0</td><td>0</td><td>0</td><td>0</td><td>0</td><td>0</td><td>0</td></tr>\n",
       "\t<tr><td>2021-01-14 10:00:00</td><td>0.06028635</td><td>36.91</td><td> 0.35</td><td>1.88</td><td>1</td><td>1</td><td>1</td><td>173.4</td><td>2417.71</td><td>⋯</td><td>0</td><td>0</td><td>0</td><td>0</td><td>0</td><td>0</td><td>0</td><td>0</td><td>0</td><td>0</td></tr>\n",
       "\t<tr><td>2021-01-14 11:00:00</td><td>0.05528408</td><td>36.91</td><td> 0.21</td><td>2.28</td><td>1</td><td>1</td><td>1</td><td>159.1</td><td>2194.13</td><td>⋯</td><td>0</td><td>0</td><td>0</td><td>0</td><td>0</td><td>0</td><td>0</td><td>0</td><td>0</td><td>0</td></tr>\n",
       "\t<tr><td>2021-01-14 12:00:00</td><td>0.04667269</td><td>36.40</td><td> 0.11</td><td>6.70</td><td>1</td><td>1</td><td>1</td><td>123.8</td><td>2315.63</td><td>⋯</td><td>0</td><td>0</td><td>0</td><td>0</td><td>0</td><td>0</td><td>0</td><td>0</td><td>0</td><td>0</td></tr>\n",
       "\t<tr><td>2021-01-14 13:00:00</td><td>0.03567151</td><td>36.75</td><td> 0.35</td><td>6.48</td><td>1</td><td>1</td><td>1</td><td> 92.8</td><td>2212.84</td><td>⋯</td><td>0</td><td>0</td><td>0</td><td>0</td><td>0</td><td>0</td><td>0</td><td>0</td><td>0</td><td>0</td></tr>\n",
       "\t<tr><td>2021-01-14 14:00:00</td><td>0.02969541</td><td>37.05</td><td> 0.34</td><td>2.81</td><td>1</td><td>1</td><td>1</td><td> 74.5</td><td>2281.34</td><td>⋯</td><td>1</td><td>0</td><td>0</td><td>0</td><td>0</td><td>0</td><td>0</td><td>0</td><td>0</td><td>0</td></tr>\n",
       "\t<tr><td>2021-01-14 15:00:00</td><td>0.02732189</td><td>37.05</td><td> 0.24</td><td>2.48</td><td>1</td><td>1</td><td>1</td><td> 55.8</td><td>2443.12</td><td>⋯</td><td>0</td><td>1</td><td>0</td><td>0</td><td>0</td><td>0</td><td>0</td><td>0</td><td>0</td><td>0</td></tr>\n",
       "\t<tr><td>2021-01-14 16:00:00</td><td>0.02761760</td><td>37.33</td><td> 0.21</td><td>2.73</td><td>1</td><td>1</td><td>1</td><td> 35.9</td><td>2417.30</td><td>⋯</td><td>0</td><td>0</td><td>1</td><td>0</td><td>0</td><td>0</td><td>0</td><td>0</td><td>0</td><td>0</td></tr>\n",
       "\t<tr><td>2021-01-14 17:00:00</td><td>0.02634251</td><td>39.28</td><td> 1.41</td><td>3.97</td><td>1</td><td>1</td><td>1</td><td> 32.4</td><td>2256.21</td><td>⋯</td><td>0</td><td>0</td><td>0</td><td>1</td><td>0</td><td>0</td><td>0</td><td>0</td><td>0</td><td>0</td></tr>\n",
       "\t<tr><td>2021-01-14 18:00:00</td><td>0.02718652</td><td>38.48</td><td> 0.42</td><td>3.07</td><td>1</td><td>1</td><td>1</td><td> 32.1</td><td>1965.84</td><td>⋯</td><td>0</td><td>0</td><td>0</td><td>0</td><td>1</td><td>0</td><td>0</td><td>0</td><td>0</td><td>0</td></tr>\n",
       "\t<tr><td>2021-01-14 19:00:00</td><td>0.03090146</td><td>36.92</td><td>-0.11</td><td>2.03</td><td>1</td><td>1</td><td>1</td><td> 25.9</td><td>1824.76</td><td>⋯</td><td>0</td><td>0</td><td>0</td><td>0</td><td>0</td><td>1</td><td>0</td><td>0</td><td>0</td><td>0</td></tr>\n",
       "\t<tr><td>2021-01-14 20:00:00</td><td>0.03546436</td><td>36.22</td><td>-0.05</td><td>1.34</td><td>1</td><td>1</td><td>1</td><td> 27.1</td><td>1394.25</td><td>⋯</td><td>0</td><td>0</td><td>0</td><td>0</td><td>0</td><td>0</td><td>1</td><td>0</td><td>0</td><td>0</td></tr>\n",
       "\t<tr><td>2021-01-14 21:00:00</td><td>0.04116470</td><td>35.83</td><td>-0.13</td><td>1.28</td><td>1</td><td>1</td><td>1</td><td> 45.3</td><td>1282.78</td><td>⋯</td><td>0</td><td>0</td><td>0</td><td>0</td><td>0</td><td>0</td><td>0</td><td>1</td><td>0</td><td>0</td></tr>\n",
       "\t<tr><td>2021-01-14 22:00:00</td><td>0.04487660</td><td>35.33</td><td>-0.26</td><td>1.11</td><td>1</td><td>1</td><td>1</td><td> 69.5</td><td>1282.52</td><td>⋯</td><td>0</td><td>0</td><td>0</td><td>0</td><td>0</td><td>0</td><td>0</td><td>0</td><td>1</td><td>0</td></tr>\n",
       "\t<tr><td>2021-01-14 23:00:00</td><td>0.05110080</td><td>34.73</td><td>-0.45</td><td>5.03</td><td>1</td><td>1</td><td>1</td><td> 94.2</td><td>1176.36</td><td>⋯</td><td>0</td><td>0</td><td>0</td><td>0</td><td>0</td><td>0</td><td>0</td><td>0</td><td>0</td><td>1</td></tr>\n",
       "\t<tr><td>2021-01-15 00:00:00</td><td>0.06453830</td><td>34.65</td><td>-0.61</td><td>0.47</td><td>1</td><td>1</td><td>1</td><td>105.2</td><td>1379.18</td><td>⋯</td><td>0</td><td>0</td><td>0</td><td>0</td><td>0</td><td>0</td><td>0</td><td>0</td><td>0</td><td>0</td></tr>\n",
       "\t<tr><td>2021-01-15 01:00:00</td><td>0.07408553</td><td>34.57</td><td>-0.56</td><td>6.21</td><td>1</td><td>1</td><td>1</td><td>141.9</td><td>1473.72</td><td>⋯</td><td>0</td><td>0</td><td>0</td><td>0</td><td>0</td><td>0</td><td>0</td><td>0</td><td>0</td><td>0</td></tr>\n",
       "\t<tr><td>2021-01-15 02:00:00</td><td>0.08583089</td><td>34.23</td><td>-0.64</td><td>5.64</td><td>1</td><td>1</td><td>1</td><td>162.0</td><td>1580.46</td><td>⋯</td><td>0</td><td>0</td><td>0</td><td>0</td><td>0</td><td>0</td><td>0</td><td>0</td><td>0</td><td>0</td></tr>\n",
       "\t<tr><td>2021-01-15 03:00:00</td><td>0.10366134</td><td>27.61</td><td>-6.97</td><td>0.62</td><td>1</td><td>1</td><td>1</td><td>187.7</td><td>1802.69</td><td>⋯</td><td>0</td><td>0</td><td>0</td><td>0</td><td>0</td><td>0</td><td>0</td><td>0</td><td>0</td><td>0</td></tr>\n",
       "\t<tr><td>2021-01-15 04:00:00</td><td>0.10448517</td><td>26.50</td><td>-8.07</td><td>0.62</td><td>1</td><td>1</td><td>1</td><td>191.5</td><td>1861.43</td><td>⋯</td><td>0</td><td>0</td><td>0</td><td>0</td><td>0</td><td>0</td><td>0</td><td>0</td><td>0</td><td>0</td></tr>\n",
       "\t<tr><td>2021-01-15 05:00:00</td><td>0.09883358</td><td>26.50</td><td>-8.03</td><td>0.40</td><td>1</td><td>1</td><td>1</td><td>161.7</td><td>2153.10</td><td>⋯</td><td>0</td><td>0</td><td>0</td><td>0</td><td>0</td><td>0</td><td>0</td><td>0</td><td>0</td><td>0</td></tr>\n",
       "\t<tr><td>⋮</td><td>⋮</td><td>⋮</td><td>⋮</td><td>⋮</td><td>⋮</td><td>⋮</td><td>⋮</td><td>⋮</td><td>⋮</td><td>⋱</td><td>⋮</td><td>⋮</td><td>⋮</td><td>⋮</td><td>⋮</td><td>⋮</td><td>⋮</td><td>⋮</td><td>⋮</td><td>⋮</td></tr>\n",
       "\t<tr><td>2024-04-24 18:00:00</td><td>0.07979321</td><td>77.99</td><td> 0.01</td><td> 6.87</td><td>1</td><td>1</td><td>0</td><td>128.96</td><td> 4765.49</td><td>⋯</td><td>0</td><td>0</td><td>0</td><td>0</td><td>1</td><td>0</td><td>0</td><td>0</td><td>0</td><td>0</td></tr>\n",
       "\t<tr><td>2024-04-24 19:00:00</td><td>0.07345477</td><td>77.99</td><td> 0.01</td><td>-0.39</td><td>1</td><td>1</td><td>0</td><td> 98.48</td><td> 3706.28</td><td>⋯</td><td>0</td><td>0</td><td>0</td><td>0</td><td>0</td><td>1</td><td>0</td><td>0</td><td>0</td><td>0</td></tr>\n",
       "\t<tr><td>2024-04-24 20:00:00</td><td>0.07387844</td><td>77.99</td><td> 0.01</td><td>-0.39</td><td>1</td><td>1</td><td>0</td><td> 78.06</td><td> 3386.47</td><td>⋯</td><td>0</td><td>0</td><td>0</td><td>0</td><td>0</td><td>0</td><td>1</td><td>0</td><td>0</td><td>0</td></tr>\n",
       "\t<tr><td>2024-04-24 21:00:00</td><td>0.07595411</td><td>77.99</td><td> 0.01</td><td> 1.09</td><td>1</td><td>1</td><td>0</td><td> 72.15</td><td> 3207.80</td><td>⋯</td><td>0</td><td>0</td><td>0</td><td>0</td><td>0</td><td>0</td><td>0</td><td>1</td><td>0</td><td>0</td></tr>\n",
       "\t<tr><td>2024-04-24 22:00:00</td><td>0.07603033</td><td>77.99</td><td> 9.63</td><td>20.95</td><td>1</td><td>1</td><td>0</td><td> 63.76</td><td> 3123.62</td><td>⋯</td><td>0</td><td>0</td><td>0</td><td>0</td><td>0</td><td>0</td><td>0</td><td>0</td><td>1</td><td>0</td></tr>\n",
       "\t<tr><td>2024-04-24 23:00:00</td><td>0.07647164</td><td>77.99</td><td>22.48</td><td>34.45</td><td>1</td><td>1</td><td>0</td><td> 56.80</td><td> 3159.82</td><td>⋯</td><td>0</td><td>0</td><td>0</td><td>0</td><td>0</td><td>0</td><td>0</td><td>0</td><td>0</td><td>1</td></tr>\n",
       "\t<tr><td>2024-04-25 00:00:00</td><td>0.07848485</td><td>77.99</td><td> 0.00</td><td>11.44</td><td>1</td><td>1</td><td>1</td><td> 49.95</td><td> 3203.52</td><td>⋯</td><td>0</td><td>0</td><td>0</td><td>0</td><td>0</td><td>0</td><td>0</td><td>0</td><td>0</td><td>0</td></tr>\n",
       "\t<tr><td>2024-04-25 01:00:00</td><td>0.08173047</td><td>77.99</td><td>13.14</td><td>27.16</td><td>1</td><td>1</td><td>1</td><td> 48.24</td><td> 3165.60</td><td>⋯</td><td>0</td><td>0</td><td>0</td><td>0</td><td>0</td><td>0</td><td>0</td><td>0</td><td>0</td><td>0</td></tr>\n",
       "\t<tr><td>2024-04-25 02:00:00</td><td>0.08636969</td><td>73.63</td><td>23.09</td><td>30.06</td><td>1</td><td>1</td><td>1</td><td> 50.83</td><td> 3162.16</td><td>⋯</td><td>0</td><td>0</td><td>0</td><td>0</td><td>0</td><td>0</td><td>0</td><td>0</td><td>0</td><td>0</td></tr>\n",
       "\t<tr><td>2024-04-25 03:00:00</td><td>0.08685262</td><td>65.82</td><td>22.52</td><td>36.77</td><td>1</td><td>1</td><td>1</td><td> 52.30</td><td> 3155.36</td><td>⋯</td><td>0</td><td>0</td><td>0</td><td>0</td><td>0</td><td>0</td><td>0</td><td>0</td><td>0</td><td>0</td></tr>\n",
       "\t<tr><td>2024-04-25 04:00:00</td><td>0.08770678</td><td>64.79</td><td> 7.36</td><td>35.74</td><td>1</td><td>1</td><td>1</td><td> 55.39</td><td> 3173.46</td><td>⋯</td><td>0</td><td>0</td><td>0</td><td>0</td><td>0</td><td>0</td><td>0</td><td>0</td><td>0</td><td>0</td></tr>\n",
       "\t<tr><td>2024-04-25 05:00:00</td><td>0.09050225</td><td>64.85</td><td>14.31</td><td>21.28</td><td>1</td><td>1</td><td>1</td><td> 60.61</td><td> 3209.00</td><td>⋯</td><td>0</td><td>0</td><td>0</td><td>0</td><td>0</td><td>0</td><td>0</td><td>0</td><td>0</td><td>0</td></tr>\n",
       "\t<tr><td>2024-04-25 06:00:00</td><td>0.09473767</td><td>54.80</td><td>17.25</td><td>11.23</td><td>1</td><td>1</td><td>1</td><td> 71.32</td><td> 3809.05</td><td>⋯</td><td>0</td><td>0</td><td>0</td><td>0</td><td>0</td><td>0</td><td>0</td><td>0</td><td>0</td><td>0</td></tr>\n",
       "\t<tr><td>2024-04-25 07:00:00</td><td>0.09094649</td><td>63.20</td><td>19.90</td><td>28.34</td><td>1</td><td>1</td><td>1</td><td> 83.20</td><td> 5582.83</td><td>⋯</td><td>0</td><td>0</td><td>0</td><td>0</td><td>0</td><td>0</td><td>0</td><td>0</td><td>0</td><td>0</td></tr>\n",
       "\t<tr><td>2024-04-25 08:00:00</td><td>0.08521372</td><td>77.99</td><td> 3.21</td><td>11.79</td><td>1</td><td>1</td><td>1</td><td>105.83</td><td> 7448.67</td><td>⋯</td><td>0</td><td>0</td><td>0</td><td>0</td><td>0</td><td>0</td><td>0</td><td>0</td><td>0</td><td>0</td></tr>\n",
       "\t<tr><td>2024-04-25 09:00:00</td><td>0.09003437</td><td>77.99</td><td> 2.89</td><td>25.71</td><td>1</td><td>1</td><td>1</td><td>128.63</td><td> 9118.45</td><td>⋯</td><td>0</td><td>0</td><td>0</td><td>0</td><td>0</td><td>0</td><td>0</td><td>0</td><td>0</td><td>0</td></tr>\n",
       "\t<tr><td>2024-04-25 10:00:00</td><td>0.09996754</td><td>76.52</td><td>10.70</td><td>47.47</td><td>1</td><td>1</td><td>1</td><td>172.58</td><td>10265.36</td><td>⋯</td><td>0</td><td>0</td><td>0</td><td>0</td><td>0</td><td>0</td><td>0</td><td>0</td><td>0</td><td>0</td></tr>\n",
       "\t<tr><td>2024-04-25 11:00:00</td><td>0.11306289</td><td>73.63</td><td>15.86</td><td>43.13</td><td>1</td><td>1</td><td>1</td><td>212.26</td><td>11390.85</td><td>⋯</td><td>0</td><td>0</td><td>0</td><td>0</td><td>0</td><td>0</td><td>0</td><td>0</td><td>0</td><td>0</td></tr>\n",
       "\t<tr><td>2024-04-25 12:00:00</td><td>0.14563738</td><td>47.14</td><td>12.63</td><td>39.88</td><td>1</td><td>1</td><td>1</td><td>273.98</td><td>11861.89</td><td>⋯</td><td>0</td><td>0</td><td>0</td><td>0</td><td>0</td><td>0</td><td>0</td><td>0</td><td>0</td><td>0</td></tr>\n",
       "\t<tr><td>2024-04-25 13:00:00</td><td>0.15024532</td><td>54.80</td><td>11.50</td><td>19.99</td><td>1</td><td>1</td><td>1</td><td>322.73</td><td>11121.18</td><td>⋯</td><td>0</td><td>0</td><td>0</td><td>0</td><td>0</td><td>0</td><td>0</td><td>0</td><td>0</td><td>0</td></tr>\n",
       "\t<tr><td>2024-04-25 14:00:00</td><td>0.13886102</td><td>69.03</td><td> 3.25</td><td>18.21</td><td>1</td><td>1</td><td>1</td><td>369.00</td><td>10379.20</td><td>⋯</td><td>1</td><td>0</td><td>0</td><td>0</td><td>0</td><td>0</td><td>0</td><td>0</td><td>0</td><td>0</td></tr>\n",
       "\t<tr><td>2024-04-25 15:00:00</td><td>0.13103258</td><td>70.34</td><td> 1.02</td><td>35.53</td><td>1</td><td>1</td><td>1</td><td>369.70</td><td> 9326.40</td><td>⋯</td><td>0</td><td>1</td><td>0</td><td>0</td><td>0</td><td>0</td><td>0</td><td>0</td><td>0</td><td>0</td></tr>\n",
       "\t<tr><td>2024-04-25 16:00:00</td><td>0.12554516</td><td>77.97</td><td>-0.02</td><td>19.88</td><td>1</td><td>1</td><td>1</td><td>362.37</td><td> 8484.82</td><td>⋯</td><td>0</td><td>0</td><td>1</td><td>0</td><td>0</td><td>0</td><td>0</td><td>0</td><td>0</td><td>0</td></tr>\n",
       "\t<tr><td>2024-04-25 17:00:00</td><td>0.11571856</td><td>77.99</td><td> 0.00</td><td> 3.95</td><td>1</td><td>1</td><td>1</td><td>352.40</td><td> 7202.55</td><td>⋯</td><td>0</td><td>0</td><td>0</td><td>1</td><td>0</td><td>0</td><td>0</td><td>0</td><td>0</td><td>0</td></tr>\n",
       "\t<tr><td>2024-04-25 18:00:00</td><td>0.11151240</td><td>77.99</td><td> 0.00</td><td> 0.67</td><td>1</td><td>1</td><td>1</td><td>318.28</td><td> 5439.89</td><td>⋯</td><td>0</td><td>0</td><td>0</td><td>0</td><td>1</td><td>0</td><td>0</td><td>0</td><td>0</td><td>0</td></tr>\n",
       "\t<tr><td>2024-04-25 19:00:00</td><td>0.10691880</td><td>77.99</td><td> 0.00</td><td>-0.44</td><td>1</td><td>1</td><td>1</td><td>264.01</td><td> 4703.63</td><td>⋯</td><td>0</td><td>0</td><td>0</td><td>0</td><td>0</td><td>1</td><td>0</td><td>0</td><td>0</td><td>0</td></tr>\n",
       "\t<tr><td>2024-04-25 20:00:00</td><td>0.10165056</td><td>77.99</td><td> 0.00</td><td>-0.44</td><td>1</td><td>1</td><td>1</td><td>219.62</td><td> 4501.67</td><td>⋯</td><td>0</td><td>0</td><td>0</td><td>0</td><td>0</td><td>0</td><td>1</td><td>0</td><td>0</td><td>0</td></tr>\n",
       "\t<tr><td>2024-04-25 21:00:00</td><td>0.10212468</td><td>77.99</td><td> 0.00</td><td>-0.44</td><td>1</td><td>1</td><td>1</td><td>191.99</td><td> 4394.75</td><td>⋯</td><td>0</td><td>0</td><td>0</td><td>0</td><td>0</td><td>0</td><td>0</td><td>1</td><td>0</td><td>0</td></tr>\n",
       "\t<tr><td>2024-04-25 22:00:00</td><td>0.09613362</td><td>77.99</td><td> 0.00</td><td> 1.04</td><td>1</td><td>1</td><td>1</td><td>157.67</td><td> 4235.98</td><td>⋯</td><td>0</td><td>0</td><td>0</td><td>0</td><td>0</td><td>0</td><td>0</td><td>0</td><td>1</td><td>0</td></tr>\n",
       "\t<tr><td>2024-04-25 23:00:00</td><td>0.09804755</td><td>77.99</td><td> 0.00</td><td>10.57</td><td>1</td><td>1</td><td>1</td><td>134.85</td><td> 4053.30</td><td>⋯</td><td>0</td><td>0</td><td>0</td><td>0</td><td>0</td><td>0</td><td>0</td><td>0</td><td>0</td><td>1</td></tr>\n",
       "</tbody>\n",
       "</table>\n"
      ],
      "text/latex": [
       "A data.table: 28752 × 36\n",
       "\\begin{tabular}{lllllllllllllllllllll}\n",
       " DateTime & renewable\\_ratio & priceEur & Difference\\_24 & Difference\\_168 & Workday & Workday\\_168 & Workday\\_24 & forecast & BV Forecast & ⋯ & factor(Hour)14 & factor(Hour)15 & factor(Hour)16 & factor(Hour)17 & factor(Hour)18 & factor(Hour)19 & factor(Hour)20 & factor(Hour)21 & factor(Hour)22 & factor(Hour)23\\\\\n",
       " <dttm> & <dbl> & <dbl> & <dbl> & <dbl> & <int> & <dbl> & <dbl> & <dbl> & <dbl> & ⋯ & <dbl> & <dbl> & <dbl> & <dbl> & <dbl> & <dbl> & <dbl> & <dbl> & <dbl> & <dbl>\\\\\n",
       "\\hline\n",
       "\t 2021-01-14 00:00:00 & 0.04073709 & 35.26 &  1.16 & 2.17 & 1 & 1 & 1 &  27.4 & 4187.97 & ⋯ & 0 & 0 & 0 & 0 & 0 & 0 & 0 & 0 & 0 & 0\\\\\n",
       "\t 2021-01-14 01:00:00 & 0.04586432 & 35.13 &  4.79 & 0.94 & 1 & 1 & 1 &  30.1 & 3975.82 & ⋯ & 0 & 0 & 0 & 0 & 0 & 0 & 0 & 0 & 0 & 0\\\\\n",
       "\t 2021-01-14 02:00:00 & 0.05103432 & 34.87 &  2.32 & 5.17 & 1 & 1 & 1 &  37.3 & 3885.02 & ⋯ & 0 & 0 & 0 & 0 & 0 & 0 & 0 & 0 & 0 & 0\\\\\n",
       "\t 2021-01-14 03:00:00 & 0.05995258 & 34.58 &  7.66 & 5.35 & 1 & 1 & 1 &  41.0 & 3589.79 & ⋯ & 0 & 0 & 0 & 0 & 0 & 0 & 0 & 0 & 0 & 0\\\\\n",
       "\t 2021-01-14 04:00:00 & 0.06207705 & 34.57 &  6.45 & 7.32 & 1 & 1 & 1 &  52.6 & 3137.07 & ⋯ & 0 & 0 & 0 & 0 & 0 & 0 & 0 & 0 & 0 & 0\\\\\n",
       "\t 2021-01-14 05:00:00 & 0.07138521 & 34.53 &  0.32 & 7.28 & 1 & 1 & 1 &  67.9 & 2717.61 & ⋯ & 0 & 0 & 0 & 0 & 0 & 0 & 0 & 0 & 0 & 0\\\\\n",
       "\t 2021-01-14 06:00:00 & 0.07629706 & 34.69 &  0.24 & 6.42 & 1 & 1 & 1 &  83.2 & 2882.89 & ⋯ & 0 & 0 & 0 & 0 & 0 & 0 & 0 & 0 & 0 & 0\\\\\n",
       "\t 2021-01-14 07:00:00 & 0.08121125 & 34.95 &  0.14 & 5.25 & 1 & 1 & 1 & 107.8 & 2746.63 & ⋯ & 0 & 0 & 0 & 0 & 0 & 0 & 0 & 0 & 0 & 0\\\\\n",
       "\t 2021-01-14 08:00:00 & 0.07804943 & 35.84 &  0.03 & 0.99 & 1 & 1 & 1 & 141.8 & 2642.18 & ⋯ & 0 & 0 & 0 & 0 & 0 & 0 & 0 & 0 & 0 & 0\\\\\n",
       "\t 2021-01-14 09:00:00 & 0.06722491 & 36.71 &  0.19 & 1.63 & 1 & 1 & 1 & 165.4 & 2570.10 & ⋯ & 0 & 0 & 0 & 0 & 0 & 0 & 0 & 0 & 0 & 0\\\\\n",
       "\t 2021-01-14 10:00:00 & 0.06028635 & 36.91 &  0.35 & 1.88 & 1 & 1 & 1 & 173.4 & 2417.71 & ⋯ & 0 & 0 & 0 & 0 & 0 & 0 & 0 & 0 & 0 & 0\\\\\n",
       "\t 2021-01-14 11:00:00 & 0.05528408 & 36.91 &  0.21 & 2.28 & 1 & 1 & 1 & 159.1 & 2194.13 & ⋯ & 0 & 0 & 0 & 0 & 0 & 0 & 0 & 0 & 0 & 0\\\\\n",
       "\t 2021-01-14 12:00:00 & 0.04667269 & 36.40 &  0.11 & 6.70 & 1 & 1 & 1 & 123.8 & 2315.63 & ⋯ & 0 & 0 & 0 & 0 & 0 & 0 & 0 & 0 & 0 & 0\\\\\n",
       "\t 2021-01-14 13:00:00 & 0.03567151 & 36.75 &  0.35 & 6.48 & 1 & 1 & 1 &  92.8 & 2212.84 & ⋯ & 0 & 0 & 0 & 0 & 0 & 0 & 0 & 0 & 0 & 0\\\\\n",
       "\t 2021-01-14 14:00:00 & 0.02969541 & 37.05 &  0.34 & 2.81 & 1 & 1 & 1 &  74.5 & 2281.34 & ⋯ & 1 & 0 & 0 & 0 & 0 & 0 & 0 & 0 & 0 & 0\\\\\n",
       "\t 2021-01-14 15:00:00 & 0.02732189 & 37.05 &  0.24 & 2.48 & 1 & 1 & 1 &  55.8 & 2443.12 & ⋯ & 0 & 1 & 0 & 0 & 0 & 0 & 0 & 0 & 0 & 0\\\\\n",
       "\t 2021-01-14 16:00:00 & 0.02761760 & 37.33 &  0.21 & 2.73 & 1 & 1 & 1 &  35.9 & 2417.30 & ⋯ & 0 & 0 & 1 & 0 & 0 & 0 & 0 & 0 & 0 & 0\\\\\n",
       "\t 2021-01-14 17:00:00 & 0.02634251 & 39.28 &  1.41 & 3.97 & 1 & 1 & 1 &  32.4 & 2256.21 & ⋯ & 0 & 0 & 0 & 1 & 0 & 0 & 0 & 0 & 0 & 0\\\\\n",
       "\t 2021-01-14 18:00:00 & 0.02718652 & 38.48 &  0.42 & 3.07 & 1 & 1 & 1 &  32.1 & 1965.84 & ⋯ & 0 & 0 & 0 & 0 & 1 & 0 & 0 & 0 & 0 & 0\\\\\n",
       "\t 2021-01-14 19:00:00 & 0.03090146 & 36.92 & -0.11 & 2.03 & 1 & 1 & 1 &  25.9 & 1824.76 & ⋯ & 0 & 0 & 0 & 0 & 0 & 1 & 0 & 0 & 0 & 0\\\\\n",
       "\t 2021-01-14 20:00:00 & 0.03546436 & 36.22 & -0.05 & 1.34 & 1 & 1 & 1 &  27.1 & 1394.25 & ⋯ & 0 & 0 & 0 & 0 & 0 & 0 & 1 & 0 & 0 & 0\\\\\n",
       "\t 2021-01-14 21:00:00 & 0.04116470 & 35.83 & -0.13 & 1.28 & 1 & 1 & 1 &  45.3 & 1282.78 & ⋯ & 0 & 0 & 0 & 0 & 0 & 0 & 0 & 1 & 0 & 0\\\\\n",
       "\t 2021-01-14 22:00:00 & 0.04487660 & 35.33 & -0.26 & 1.11 & 1 & 1 & 1 &  69.5 & 1282.52 & ⋯ & 0 & 0 & 0 & 0 & 0 & 0 & 0 & 0 & 1 & 0\\\\\n",
       "\t 2021-01-14 23:00:00 & 0.05110080 & 34.73 & -0.45 & 5.03 & 1 & 1 & 1 &  94.2 & 1176.36 & ⋯ & 0 & 0 & 0 & 0 & 0 & 0 & 0 & 0 & 0 & 1\\\\\n",
       "\t 2021-01-15 00:00:00 & 0.06453830 & 34.65 & -0.61 & 0.47 & 1 & 1 & 1 & 105.2 & 1379.18 & ⋯ & 0 & 0 & 0 & 0 & 0 & 0 & 0 & 0 & 0 & 0\\\\\n",
       "\t 2021-01-15 01:00:00 & 0.07408553 & 34.57 & -0.56 & 6.21 & 1 & 1 & 1 & 141.9 & 1473.72 & ⋯ & 0 & 0 & 0 & 0 & 0 & 0 & 0 & 0 & 0 & 0\\\\\n",
       "\t 2021-01-15 02:00:00 & 0.08583089 & 34.23 & -0.64 & 5.64 & 1 & 1 & 1 & 162.0 & 1580.46 & ⋯ & 0 & 0 & 0 & 0 & 0 & 0 & 0 & 0 & 0 & 0\\\\\n",
       "\t 2021-01-15 03:00:00 & 0.10366134 & 27.61 & -6.97 & 0.62 & 1 & 1 & 1 & 187.7 & 1802.69 & ⋯ & 0 & 0 & 0 & 0 & 0 & 0 & 0 & 0 & 0 & 0\\\\\n",
       "\t 2021-01-15 04:00:00 & 0.10448517 & 26.50 & -8.07 & 0.62 & 1 & 1 & 1 & 191.5 & 1861.43 & ⋯ & 0 & 0 & 0 & 0 & 0 & 0 & 0 & 0 & 0 & 0\\\\\n",
       "\t 2021-01-15 05:00:00 & 0.09883358 & 26.50 & -8.03 & 0.40 & 1 & 1 & 1 & 161.7 & 2153.10 & ⋯ & 0 & 0 & 0 & 0 & 0 & 0 & 0 & 0 & 0 & 0\\\\\n",
       "\t ⋮ & ⋮ & ⋮ & ⋮ & ⋮ & ⋮ & ⋮ & ⋮ & ⋮ & ⋮ & ⋱ & ⋮ & ⋮ & ⋮ & ⋮ & ⋮ & ⋮ & ⋮ & ⋮ & ⋮ & ⋮\\\\\n",
       "\t 2024-04-24 18:00:00 & 0.07979321 & 77.99 &  0.01 &  6.87 & 1 & 1 & 0 & 128.96 &  4765.49 & ⋯ & 0 & 0 & 0 & 0 & 1 & 0 & 0 & 0 & 0 & 0\\\\\n",
       "\t 2024-04-24 19:00:00 & 0.07345477 & 77.99 &  0.01 & -0.39 & 1 & 1 & 0 &  98.48 &  3706.28 & ⋯ & 0 & 0 & 0 & 0 & 0 & 1 & 0 & 0 & 0 & 0\\\\\n",
       "\t 2024-04-24 20:00:00 & 0.07387844 & 77.99 &  0.01 & -0.39 & 1 & 1 & 0 &  78.06 &  3386.47 & ⋯ & 0 & 0 & 0 & 0 & 0 & 0 & 1 & 0 & 0 & 0\\\\\n",
       "\t 2024-04-24 21:00:00 & 0.07595411 & 77.99 &  0.01 &  1.09 & 1 & 1 & 0 &  72.15 &  3207.80 & ⋯ & 0 & 0 & 0 & 0 & 0 & 0 & 0 & 1 & 0 & 0\\\\\n",
       "\t 2024-04-24 22:00:00 & 0.07603033 & 77.99 &  9.63 & 20.95 & 1 & 1 & 0 &  63.76 &  3123.62 & ⋯ & 0 & 0 & 0 & 0 & 0 & 0 & 0 & 0 & 1 & 0\\\\\n",
       "\t 2024-04-24 23:00:00 & 0.07647164 & 77.99 & 22.48 & 34.45 & 1 & 1 & 0 &  56.80 &  3159.82 & ⋯ & 0 & 0 & 0 & 0 & 0 & 0 & 0 & 0 & 0 & 1\\\\\n",
       "\t 2024-04-25 00:00:00 & 0.07848485 & 77.99 &  0.00 & 11.44 & 1 & 1 & 1 &  49.95 &  3203.52 & ⋯ & 0 & 0 & 0 & 0 & 0 & 0 & 0 & 0 & 0 & 0\\\\\n",
       "\t 2024-04-25 01:00:00 & 0.08173047 & 77.99 & 13.14 & 27.16 & 1 & 1 & 1 &  48.24 &  3165.60 & ⋯ & 0 & 0 & 0 & 0 & 0 & 0 & 0 & 0 & 0 & 0\\\\\n",
       "\t 2024-04-25 02:00:00 & 0.08636969 & 73.63 & 23.09 & 30.06 & 1 & 1 & 1 &  50.83 &  3162.16 & ⋯ & 0 & 0 & 0 & 0 & 0 & 0 & 0 & 0 & 0 & 0\\\\\n",
       "\t 2024-04-25 03:00:00 & 0.08685262 & 65.82 & 22.52 & 36.77 & 1 & 1 & 1 &  52.30 &  3155.36 & ⋯ & 0 & 0 & 0 & 0 & 0 & 0 & 0 & 0 & 0 & 0\\\\\n",
       "\t 2024-04-25 04:00:00 & 0.08770678 & 64.79 &  7.36 & 35.74 & 1 & 1 & 1 &  55.39 &  3173.46 & ⋯ & 0 & 0 & 0 & 0 & 0 & 0 & 0 & 0 & 0 & 0\\\\\n",
       "\t 2024-04-25 05:00:00 & 0.09050225 & 64.85 & 14.31 & 21.28 & 1 & 1 & 1 &  60.61 &  3209.00 & ⋯ & 0 & 0 & 0 & 0 & 0 & 0 & 0 & 0 & 0 & 0\\\\\n",
       "\t 2024-04-25 06:00:00 & 0.09473767 & 54.80 & 17.25 & 11.23 & 1 & 1 & 1 &  71.32 &  3809.05 & ⋯ & 0 & 0 & 0 & 0 & 0 & 0 & 0 & 0 & 0 & 0\\\\\n",
       "\t 2024-04-25 07:00:00 & 0.09094649 & 63.20 & 19.90 & 28.34 & 1 & 1 & 1 &  83.20 &  5582.83 & ⋯ & 0 & 0 & 0 & 0 & 0 & 0 & 0 & 0 & 0 & 0\\\\\n",
       "\t 2024-04-25 08:00:00 & 0.08521372 & 77.99 &  3.21 & 11.79 & 1 & 1 & 1 & 105.83 &  7448.67 & ⋯ & 0 & 0 & 0 & 0 & 0 & 0 & 0 & 0 & 0 & 0\\\\\n",
       "\t 2024-04-25 09:00:00 & 0.09003437 & 77.99 &  2.89 & 25.71 & 1 & 1 & 1 & 128.63 &  9118.45 & ⋯ & 0 & 0 & 0 & 0 & 0 & 0 & 0 & 0 & 0 & 0\\\\\n",
       "\t 2024-04-25 10:00:00 & 0.09996754 & 76.52 & 10.70 & 47.47 & 1 & 1 & 1 & 172.58 & 10265.36 & ⋯ & 0 & 0 & 0 & 0 & 0 & 0 & 0 & 0 & 0 & 0\\\\\n",
       "\t 2024-04-25 11:00:00 & 0.11306289 & 73.63 & 15.86 & 43.13 & 1 & 1 & 1 & 212.26 & 11390.85 & ⋯ & 0 & 0 & 0 & 0 & 0 & 0 & 0 & 0 & 0 & 0\\\\\n",
       "\t 2024-04-25 12:00:00 & 0.14563738 & 47.14 & 12.63 & 39.88 & 1 & 1 & 1 & 273.98 & 11861.89 & ⋯ & 0 & 0 & 0 & 0 & 0 & 0 & 0 & 0 & 0 & 0\\\\\n",
       "\t 2024-04-25 13:00:00 & 0.15024532 & 54.80 & 11.50 & 19.99 & 1 & 1 & 1 & 322.73 & 11121.18 & ⋯ & 0 & 0 & 0 & 0 & 0 & 0 & 0 & 0 & 0 & 0\\\\\n",
       "\t 2024-04-25 14:00:00 & 0.13886102 & 69.03 &  3.25 & 18.21 & 1 & 1 & 1 & 369.00 & 10379.20 & ⋯ & 1 & 0 & 0 & 0 & 0 & 0 & 0 & 0 & 0 & 0\\\\\n",
       "\t 2024-04-25 15:00:00 & 0.13103258 & 70.34 &  1.02 & 35.53 & 1 & 1 & 1 & 369.70 &  9326.40 & ⋯ & 0 & 1 & 0 & 0 & 0 & 0 & 0 & 0 & 0 & 0\\\\\n",
       "\t 2024-04-25 16:00:00 & 0.12554516 & 77.97 & -0.02 & 19.88 & 1 & 1 & 1 & 362.37 &  8484.82 & ⋯ & 0 & 0 & 1 & 0 & 0 & 0 & 0 & 0 & 0 & 0\\\\\n",
       "\t 2024-04-25 17:00:00 & 0.11571856 & 77.99 &  0.00 &  3.95 & 1 & 1 & 1 & 352.40 &  7202.55 & ⋯ & 0 & 0 & 0 & 1 & 0 & 0 & 0 & 0 & 0 & 0\\\\\n",
       "\t 2024-04-25 18:00:00 & 0.11151240 & 77.99 &  0.00 &  0.67 & 1 & 1 & 1 & 318.28 &  5439.89 & ⋯ & 0 & 0 & 0 & 0 & 1 & 0 & 0 & 0 & 0 & 0\\\\\n",
       "\t 2024-04-25 19:00:00 & 0.10691880 & 77.99 &  0.00 & -0.44 & 1 & 1 & 1 & 264.01 &  4703.63 & ⋯ & 0 & 0 & 0 & 0 & 0 & 1 & 0 & 0 & 0 & 0\\\\\n",
       "\t 2024-04-25 20:00:00 & 0.10165056 & 77.99 &  0.00 & -0.44 & 1 & 1 & 1 & 219.62 &  4501.67 & ⋯ & 0 & 0 & 0 & 0 & 0 & 0 & 1 & 0 & 0 & 0\\\\\n",
       "\t 2024-04-25 21:00:00 & 0.10212468 & 77.99 &  0.00 & -0.44 & 1 & 1 & 1 & 191.99 &  4394.75 & ⋯ & 0 & 0 & 0 & 0 & 0 & 0 & 0 & 1 & 0 & 0\\\\\n",
       "\t 2024-04-25 22:00:00 & 0.09613362 & 77.99 &  0.00 &  1.04 & 1 & 1 & 1 & 157.67 &  4235.98 & ⋯ & 0 & 0 & 0 & 0 & 0 & 0 & 0 & 0 & 1 & 0\\\\\n",
       "\t 2024-04-25 23:00:00 & 0.09804755 & 77.99 &  0.00 & 10.57 & 1 & 1 & 1 & 134.85 &  4053.30 & ⋯ & 0 & 0 & 0 & 0 & 0 & 0 & 0 & 0 & 0 & 1\\\\\n",
       "\\end{tabular}\n"
      ],
      "text/markdown": [
       "\n",
       "A data.table: 28752 × 36\n",
       "\n",
       "| DateTime &lt;dttm&gt; | renewable_ratio &lt;dbl&gt; | priceEur &lt;dbl&gt; | Difference_24 &lt;dbl&gt; | Difference_168 &lt;dbl&gt; | Workday &lt;int&gt; | Workday_168 &lt;dbl&gt; | Workday_24 &lt;dbl&gt; | forecast &lt;dbl&gt; | BV Forecast &lt;dbl&gt; | ⋯ ⋯ | factor(Hour)14 &lt;dbl&gt; | factor(Hour)15 &lt;dbl&gt; | factor(Hour)16 &lt;dbl&gt; | factor(Hour)17 &lt;dbl&gt; | factor(Hour)18 &lt;dbl&gt; | factor(Hour)19 &lt;dbl&gt; | factor(Hour)20 &lt;dbl&gt; | factor(Hour)21 &lt;dbl&gt; | factor(Hour)22 &lt;dbl&gt; | factor(Hour)23 &lt;dbl&gt; |\n",
       "|---|---|---|---|---|---|---|---|---|---|---|---|---|---|---|---|---|---|---|---|---|\n",
       "| 2021-01-14 00:00:00 | 0.04073709 | 35.26 |  1.16 | 2.17 | 1 | 1 | 1 |  27.4 | 4187.97 | ⋯ | 0 | 0 | 0 | 0 | 0 | 0 | 0 | 0 | 0 | 0 |\n",
       "| 2021-01-14 01:00:00 | 0.04586432 | 35.13 |  4.79 | 0.94 | 1 | 1 | 1 |  30.1 | 3975.82 | ⋯ | 0 | 0 | 0 | 0 | 0 | 0 | 0 | 0 | 0 | 0 |\n",
       "| 2021-01-14 02:00:00 | 0.05103432 | 34.87 |  2.32 | 5.17 | 1 | 1 | 1 |  37.3 | 3885.02 | ⋯ | 0 | 0 | 0 | 0 | 0 | 0 | 0 | 0 | 0 | 0 |\n",
       "| 2021-01-14 03:00:00 | 0.05995258 | 34.58 |  7.66 | 5.35 | 1 | 1 | 1 |  41.0 | 3589.79 | ⋯ | 0 | 0 | 0 | 0 | 0 | 0 | 0 | 0 | 0 | 0 |\n",
       "| 2021-01-14 04:00:00 | 0.06207705 | 34.57 |  6.45 | 7.32 | 1 | 1 | 1 |  52.6 | 3137.07 | ⋯ | 0 | 0 | 0 | 0 | 0 | 0 | 0 | 0 | 0 | 0 |\n",
       "| 2021-01-14 05:00:00 | 0.07138521 | 34.53 |  0.32 | 7.28 | 1 | 1 | 1 |  67.9 | 2717.61 | ⋯ | 0 | 0 | 0 | 0 | 0 | 0 | 0 | 0 | 0 | 0 |\n",
       "| 2021-01-14 06:00:00 | 0.07629706 | 34.69 |  0.24 | 6.42 | 1 | 1 | 1 |  83.2 | 2882.89 | ⋯ | 0 | 0 | 0 | 0 | 0 | 0 | 0 | 0 | 0 | 0 |\n",
       "| 2021-01-14 07:00:00 | 0.08121125 | 34.95 |  0.14 | 5.25 | 1 | 1 | 1 | 107.8 | 2746.63 | ⋯ | 0 | 0 | 0 | 0 | 0 | 0 | 0 | 0 | 0 | 0 |\n",
       "| 2021-01-14 08:00:00 | 0.07804943 | 35.84 |  0.03 | 0.99 | 1 | 1 | 1 | 141.8 | 2642.18 | ⋯ | 0 | 0 | 0 | 0 | 0 | 0 | 0 | 0 | 0 | 0 |\n",
       "| 2021-01-14 09:00:00 | 0.06722491 | 36.71 |  0.19 | 1.63 | 1 | 1 | 1 | 165.4 | 2570.10 | ⋯ | 0 | 0 | 0 | 0 | 0 | 0 | 0 | 0 | 0 | 0 |\n",
       "| 2021-01-14 10:00:00 | 0.06028635 | 36.91 |  0.35 | 1.88 | 1 | 1 | 1 | 173.4 | 2417.71 | ⋯ | 0 | 0 | 0 | 0 | 0 | 0 | 0 | 0 | 0 | 0 |\n",
       "| 2021-01-14 11:00:00 | 0.05528408 | 36.91 |  0.21 | 2.28 | 1 | 1 | 1 | 159.1 | 2194.13 | ⋯ | 0 | 0 | 0 | 0 | 0 | 0 | 0 | 0 | 0 | 0 |\n",
       "| 2021-01-14 12:00:00 | 0.04667269 | 36.40 |  0.11 | 6.70 | 1 | 1 | 1 | 123.8 | 2315.63 | ⋯ | 0 | 0 | 0 | 0 | 0 | 0 | 0 | 0 | 0 | 0 |\n",
       "| 2021-01-14 13:00:00 | 0.03567151 | 36.75 |  0.35 | 6.48 | 1 | 1 | 1 |  92.8 | 2212.84 | ⋯ | 0 | 0 | 0 | 0 | 0 | 0 | 0 | 0 | 0 | 0 |\n",
       "| 2021-01-14 14:00:00 | 0.02969541 | 37.05 |  0.34 | 2.81 | 1 | 1 | 1 |  74.5 | 2281.34 | ⋯ | 1 | 0 | 0 | 0 | 0 | 0 | 0 | 0 | 0 | 0 |\n",
       "| 2021-01-14 15:00:00 | 0.02732189 | 37.05 |  0.24 | 2.48 | 1 | 1 | 1 |  55.8 | 2443.12 | ⋯ | 0 | 1 | 0 | 0 | 0 | 0 | 0 | 0 | 0 | 0 |\n",
       "| 2021-01-14 16:00:00 | 0.02761760 | 37.33 |  0.21 | 2.73 | 1 | 1 | 1 |  35.9 | 2417.30 | ⋯ | 0 | 0 | 1 | 0 | 0 | 0 | 0 | 0 | 0 | 0 |\n",
       "| 2021-01-14 17:00:00 | 0.02634251 | 39.28 |  1.41 | 3.97 | 1 | 1 | 1 |  32.4 | 2256.21 | ⋯ | 0 | 0 | 0 | 1 | 0 | 0 | 0 | 0 | 0 | 0 |\n",
       "| 2021-01-14 18:00:00 | 0.02718652 | 38.48 |  0.42 | 3.07 | 1 | 1 | 1 |  32.1 | 1965.84 | ⋯ | 0 | 0 | 0 | 0 | 1 | 0 | 0 | 0 | 0 | 0 |\n",
       "| 2021-01-14 19:00:00 | 0.03090146 | 36.92 | -0.11 | 2.03 | 1 | 1 | 1 |  25.9 | 1824.76 | ⋯ | 0 | 0 | 0 | 0 | 0 | 1 | 0 | 0 | 0 | 0 |\n",
       "| 2021-01-14 20:00:00 | 0.03546436 | 36.22 | -0.05 | 1.34 | 1 | 1 | 1 |  27.1 | 1394.25 | ⋯ | 0 | 0 | 0 | 0 | 0 | 0 | 1 | 0 | 0 | 0 |\n",
       "| 2021-01-14 21:00:00 | 0.04116470 | 35.83 | -0.13 | 1.28 | 1 | 1 | 1 |  45.3 | 1282.78 | ⋯ | 0 | 0 | 0 | 0 | 0 | 0 | 0 | 1 | 0 | 0 |\n",
       "| 2021-01-14 22:00:00 | 0.04487660 | 35.33 | -0.26 | 1.11 | 1 | 1 | 1 |  69.5 | 1282.52 | ⋯ | 0 | 0 | 0 | 0 | 0 | 0 | 0 | 0 | 1 | 0 |\n",
       "| 2021-01-14 23:00:00 | 0.05110080 | 34.73 | -0.45 | 5.03 | 1 | 1 | 1 |  94.2 | 1176.36 | ⋯ | 0 | 0 | 0 | 0 | 0 | 0 | 0 | 0 | 0 | 1 |\n",
       "| 2021-01-15 00:00:00 | 0.06453830 | 34.65 | -0.61 | 0.47 | 1 | 1 | 1 | 105.2 | 1379.18 | ⋯ | 0 | 0 | 0 | 0 | 0 | 0 | 0 | 0 | 0 | 0 |\n",
       "| 2021-01-15 01:00:00 | 0.07408553 | 34.57 | -0.56 | 6.21 | 1 | 1 | 1 | 141.9 | 1473.72 | ⋯ | 0 | 0 | 0 | 0 | 0 | 0 | 0 | 0 | 0 | 0 |\n",
       "| 2021-01-15 02:00:00 | 0.08583089 | 34.23 | -0.64 | 5.64 | 1 | 1 | 1 | 162.0 | 1580.46 | ⋯ | 0 | 0 | 0 | 0 | 0 | 0 | 0 | 0 | 0 | 0 |\n",
       "| 2021-01-15 03:00:00 | 0.10366134 | 27.61 | -6.97 | 0.62 | 1 | 1 | 1 | 187.7 | 1802.69 | ⋯ | 0 | 0 | 0 | 0 | 0 | 0 | 0 | 0 | 0 | 0 |\n",
       "| 2021-01-15 04:00:00 | 0.10448517 | 26.50 | -8.07 | 0.62 | 1 | 1 | 1 | 191.5 | 1861.43 | ⋯ | 0 | 0 | 0 | 0 | 0 | 0 | 0 | 0 | 0 | 0 |\n",
       "| 2021-01-15 05:00:00 | 0.09883358 | 26.50 | -8.03 | 0.40 | 1 | 1 | 1 | 161.7 | 2153.10 | ⋯ | 0 | 0 | 0 | 0 | 0 | 0 | 0 | 0 | 0 | 0 |\n",
       "| ⋮ | ⋮ | ⋮ | ⋮ | ⋮ | ⋮ | ⋮ | ⋮ | ⋮ | ⋮ | ⋱ | ⋮ | ⋮ | ⋮ | ⋮ | ⋮ | ⋮ | ⋮ | ⋮ | ⋮ | ⋮ |\n",
       "| 2024-04-24 18:00:00 | 0.07979321 | 77.99 |  0.01 |  6.87 | 1 | 1 | 0 | 128.96 |  4765.49 | ⋯ | 0 | 0 | 0 | 0 | 1 | 0 | 0 | 0 | 0 | 0 |\n",
       "| 2024-04-24 19:00:00 | 0.07345477 | 77.99 |  0.01 | -0.39 | 1 | 1 | 0 |  98.48 |  3706.28 | ⋯ | 0 | 0 | 0 | 0 | 0 | 1 | 0 | 0 | 0 | 0 |\n",
       "| 2024-04-24 20:00:00 | 0.07387844 | 77.99 |  0.01 | -0.39 | 1 | 1 | 0 |  78.06 |  3386.47 | ⋯ | 0 | 0 | 0 | 0 | 0 | 0 | 1 | 0 | 0 | 0 |\n",
       "| 2024-04-24 21:00:00 | 0.07595411 | 77.99 |  0.01 |  1.09 | 1 | 1 | 0 |  72.15 |  3207.80 | ⋯ | 0 | 0 | 0 | 0 | 0 | 0 | 0 | 1 | 0 | 0 |\n",
       "| 2024-04-24 22:00:00 | 0.07603033 | 77.99 |  9.63 | 20.95 | 1 | 1 | 0 |  63.76 |  3123.62 | ⋯ | 0 | 0 | 0 | 0 | 0 | 0 | 0 | 0 | 1 | 0 |\n",
       "| 2024-04-24 23:00:00 | 0.07647164 | 77.99 | 22.48 | 34.45 | 1 | 1 | 0 |  56.80 |  3159.82 | ⋯ | 0 | 0 | 0 | 0 | 0 | 0 | 0 | 0 | 0 | 1 |\n",
       "| 2024-04-25 00:00:00 | 0.07848485 | 77.99 |  0.00 | 11.44 | 1 | 1 | 1 |  49.95 |  3203.52 | ⋯ | 0 | 0 | 0 | 0 | 0 | 0 | 0 | 0 | 0 | 0 |\n",
       "| 2024-04-25 01:00:00 | 0.08173047 | 77.99 | 13.14 | 27.16 | 1 | 1 | 1 |  48.24 |  3165.60 | ⋯ | 0 | 0 | 0 | 0 | 0 | 0 | 0 | 0 | 0 | 0 |\n",
       "| 2024-04-25 02:00:00 | 0.08636969 | 73.63 | 23.09 | 30.06 | 1 | 1 | 1 |  50.83 |  3162.16 | ⋯ | 0 | 0 | 0 | 0 | 0 | 0 | 0 | 0 | 0 | 0 |\n",
       "| 2024-04-25 03:00:00 | 0.08685262 | 65.82 | 22.52 | 36.77 | 1 | 1 | 1 |  52.30 |  3155.36 | ⋯ | 0 | 0 | 0 | 0 | 0 | 0 | 0 | 0 | 0 | 0 |\n",
       "| 2024-04-25 04:00:00 | 0.08770678 | 64.79 |  7.36 | 35.74 | 1 | 1 | 1 |  55.39 |  3173.46 | ⋯ | 0 | 0 | 0 | 0 | 0 | 0 | 0 | 0 | 0 | 0 |\n",
       "| 2024-04-25 05:00:00 | 0.09050225 | 64.85 | 14.31 | 21.28 | 1 | 1 | 1 |  60.61 |  3209.00 | ⋯ | 0 | 0 | 0 | 0 | 0 | 0 | 0 | 0 | 0 | 0 |\n",
       "| 2024-04-25 06:00:00 | 0.09473767 | 54.80 | 17.25 | 11.23 | 1 | 1 | 1 |  71.32 |  3809.05 | ⋯ | 0 | 0 | 0 | 0 | 0 | 0 | 0 | 0 | 0 | 0 |\n",
       "| 2024-04-25 07:00:00 | 0.09094649 | 63.20 | 19.90 | 28.34 | 1 | 1 | 1 |  83.20 |  5582.83 | ⋯ | 0 | 0 | 0 | 0 | 0 | 0 | 0 | 0 | 0 | 0 |\n",
       "| 2024-04-25 08:00:00 | 0.08521372 | 77.99 |  3.21 | 11.79 | 1 | 1 | 1 | 105.83 |  7448.67 | ⋯ | 0 | 0 | 0 | 0 | 0 | 0 | 0 | 0 | 0 | 0 |\n",
       "| 2024-04-25 09:00:00 | 0.09003437 | 77.99 |  2.89 | 25.71 | 1 | 1 | 1 | 128.63 |  9118.45 | ⋯ | 0 | 0 | 0 | 0 | 0 | 0 | 0 | 0 | 0 | 0 |\n",
       "| 2024-04-25 10:00:00 | 0.09996754 | 76.52 | 10.70 | 47.47 | 1 | 1 | 1 | 172.58 | 10265.36 | ⋯ | 0 | 0 | 0 | 0 | 0 | 0 | 0 | 0 | 0 | 0 |\n",
       "| 2024-04-25 11:00:00 | 0.11306289 | 73.63 | 15.86 | 43.13 | 1 | 1 | 1 | 212.26 | 11390.85 | ⋯ | 0 | 0 | 0 | 0 | 0 | 0 | 0 | 0 | 0 | 0 |\n",
       "| 2024-04-25 12:00:00 | 0.14563738 | 47.14 | 12.63 | 39.88 | 1 | 1 | 1 | 273.98 | 11861.89 | ⋯ | 0 | 0 | 0 | 0 | 0 | 0 | 0 | 0 | 0 | 0 |\n",
       "| 2024-04-25 13:00:00 | 0.15024532 | 54.80 | 11.50 | 19.99 | 1 | 1 | 1 | 322.73 | 11121.18 | ⋯ | 0 | 0 | 0 | 0 | 0 | 0 | 0 | 0 | 0 | 0 |\n",
       "| 2024-04-25 14:00:00 | 0.13886102 | 69.03 |  3.25 | 18.21 | 1 | 1 | 1 | 369.00 | 10379.20 | ⋯ | 1 | 0 | 0 | 0 | 0 | 0 | 0 | 0 | 0 | 0 |\n",
       "| 2024-04-25 15:00:00 | 0.13103258 | 70.34 |  1.02 | 35.53 | 1 | 1 | 1 | 369.70 |  9326.40 | ⋯ | 0 | 1 | 0 | 0 | 0 | 0 | 0 | 0 | 0 | 0 |\n",
       "| 2024-04-25 16:00:00 | 0.12554516 | 77.97 | -0.02 | 19.88 | 1 | 1 | 1 | 362.37 |  8484.82 | ⋯ | 0 | 0 | 1 | 0 | 0 | 0 | 0 | 0 | 0 | 0 |\n",
       "| 2024-04-25 17:00:00 | 0.11571856 | 77.99 |  0.00 |  3.95 | 1 | 1 | 1 | 352.40 |  7202.55 | ⋯ | 0 | 0 | 0 | 1 | 0 | 0 | 0 | 0 | 0 | 0 |\n",
       "| 2024-04-25 18:00:00 | 0.11151240 | 77.99 |  0.00 |  0.67 | 1 | 1 | 1 | 318.28 |  5439.89 | ⋯ | 0 | 0 | 0 | 0 | 1 | 0 | 0 | 0 | 0 | 0 |\n",
       "| 2024-04-25 19:00:00 | 0.10691880 | 77.99 |  0.00 | -0.44 | 1 | 1 | 1 | 264.01 |  4703.63 | ⋯ | 0 | 0 | 0 | 0 | 0 | 1 | 0 | 0 | 0 | 0 |\n",
       "| 2024-04-25 20:00:00 | 0.10165056 | 77.99 |  0.00 | -0.44 | 1 | 1 | 1 | 219.62 |  4501.67 | ⋯ | 0 | 0 | 0 | 0 | 0 | 0 | 1 | 0 | 0 | 0 |\n",
       "| 2024-04-25 21:00:00 | 0.10212468 | 77.99 |  0.00 | -0.44 | 1 | 1 | 1 | 191.99 |  4394.75 | ⋯ | 0 | 0 | 0 | 0 | 0 | 0 | 0 | 1 | 0 | 0 |\n",
       "| 2024-04-25 22:00:00 | 0.09613362 | 77.99 |  0.00 |  1.04 | 1 | 1 | 1 | 157.67 |  4235.98 | ⋯ | 0 | 0 | 0 | 0 | 0 | 0 | 0 | 0 | 1 | 0 |\n",
       "| 2024-04-25 23:00:00 | 0.09804755 | 77.99 |  0.00 | 10.57 | 1 | 1 | 1 | 134.85 |  4053.30 | ⋯ | 0 | 0 | 0 | 0 | 0 | 0 | 0 | 0 | 0 | 1 |\n",
       "\n"
      ],
      "text/plain": [
       "      DateTime            renewable_ratio priceEur Difference_24 Difference_168\n",
       "1     2021-01-14 00:00:00 0.04073709      35.26     1.16         2.17          \n",
       "2     2021-01-14 01:00:00 0.04586432      35.13     4.79         0.94          \n",
       "3     2021-01-14 02:00:00 0.05103432      34.87     2.32         5.17          \n",
       "4     2021-01-14 03:00:00 0.05995258      34.58     7.66         5.35          \n",
       "5     2021-01-14 04:00:00 0.06207705      34.57     6.45         7.32          \n",
       "6     2021-01-14 05:00:00 0.07138521      34.53     0.32         7.28          \n",
       "7     2021-01-14 06:00:00 0.07629706      34.69     0.24         6.42          \n",
       "8     2021-01-14 07:00:00 0.08121125      34.95     0.14         5.25          \n",
       "9     2021-01-14 08:00:00 0.07804943      35.84     0.03         0.99          \n",
       "10    2021-01-14 09:00:00 0.06722491      36.71     0.19         1.63          \n",
       "11    2021-01-14 10:00:00 0.06028635      36.91     0.35         1.88          \n",
       "12    2021-01-14 11:00:00 0.05528408      36.91     0.21         2.28          \n",
       "13    2021-01-14 12:00:00 0.04667269      36.40     0.11         6.70          \n",
       "14    2021-01-14 13:00:00 0.03567151      36.75     0.35         6.48          \n",
       "15    2021-01-14 14:00:00 0.02969541      37.05     0.34         2.81          \n",
       "16    2021-01-14 15:00:00 0.02732189      37.05     0.24         2.48          \n",
       "17    2021-01-14 16:00:00 0.02761760      37.33     0.21         2.73          \n",
       "18    2021-01-14 17:00:00 0.02634251      39.28     1.41         3.97          \n",
       "19    2021-01-14 18:00:00 0.02718652      38.48     0.42         3.07          \n",
       "20    2021-01-14 19:00:00 0.03090146      36.92    -0.11         2.03          \n",
       "21    2021-01-14 20:00:00 0.03546436      36.22    -0.05         1.34          \n",
       "22    2021-01-14 21:00:00 0.04116470      35.83    -0.13         1.28          \n",
       "23    2021-01-14 22:00:00 0.04487660      35.33    -0.26         1.11          \n",
       "24    2021-01-14 23:00:00 0.05110080      34.73    -0.45         5.03          \n",
       "25    2021-01-15 00:00:00 0.06453830      34.65    -0.61         0.47          \n",
       "26    2021-01-15 01:00:00 0.07408553      34.57    -0.56         6.21          \n",
       "27    2021-01-15 02:00:00 0.08583089      34.23    -0.64         5.64          \n",
       "28    2021-01-15 03:00:00 0.10366134      27.61    -6.97         0.62          \n",
       "29    2021-01-15 04:00:00 0.10448517      26.50    -8.07         0.62          \n",
       "30    2021-01-15 05:00:00 0.09883358      26.50    -8.03         0.40          \n",
       "⋮     ⋮                   ⋮               ⋮        ⋮             ⋮             \n",
       "28723 2024-04-24 18:00:00 0.07979321      77.99     0.01          6.87         \n",
       "28724 2024-04-24 19:00:00 0.07345477      77.99     0.01         -0.39         \n",
       "28725 2024-04-24 20:00:00 0.07387844      77.99     0.01         -0.39         \n",
       "28726 2024-04-24 21:00:00 0.07595411      77.99     0.01          1.09         \n",
       "28727 2024-04-24 22:00:00 0.07603033      77.99     9.63         20.95         \n",
       "28728 2024-04-24 23:00:00 0.07647164      77.99    22.48         34.45         \n",
       "28729 2024-04-25 00:00:00 0.07848485      77.99     0.00         11.44         \n",
       "28730 2024-04-25 01:00:00 0.08173047      77.99    13.14         27.16         \n",
       "28731 2024-04-25 02:00:00 0.08636969      73.63    23.09         30.06         \n",
       "28732 2024-04-25 03:00:00 0.08685262      65.82    22.52         36.77         \n",
       "28733 2024-04-25 04:00:00 0.08770678      64.79     7.36         35.74         \n",
       "28734 2024-04-25 05:00:00 0.09050225      64.85    14.31         21.28         \n",
       "28735 2024-04-25 06:00:00 0.09473767      54.80    17.25         11.23         \n",
       "28736 2024-04-25 07:00:00 0.09094649      63.20    19.90         28.34         \n",
       "28737 2024-04-25 08:00:00 0.08521372      77.99     3.21         11.79         \n",
       "28738 2024-04-25 09:00:00 0.09003437      77.99     2.89         25.71         \n",
       "28739 2024-04-25 10:00:00 0.09996754      76.52    10.70         47.47         \n",
       "28740 2024-04-25 11:00:00 0.11306289      73.63    15.86         43.13         \n",
       "28741 2024-04-25 12:00:00 0.14563738      47.14    12.63         39.88         \n",
       "28742 2024-04-25 13:00:00 0.15024532      54.80    11.50         19.99         \n",
       "28743 2024-04-25 14:00:00 0.13886102      69.03     3.25         18.21         \n",
       "28744 2024-04-25 15:00:00 0.13103258      70.34     1.02         35.53         \n",
       "28745 2024-04-25 16:00:00 0.12554516      77.97    -0.02         19.88         \n",
       "28746 2024-04-25 17:00:00 0.11571856      77.99     0.00          3.95         \n",
       "28747 2024-04-25 18:00:00 0.11151240      77.99     0.00          0.67         \n",
       "28748 2024-04-25 19:00:00 0.10691880      77.99     0.00         -0.44         \n",
       "28749 2024-04-25 20:00:00 0.10165056      77.99     0.00         -0.44         \n",
       "28750 2024-04-25 21:00:00 0.10212468      77.99     0.00         -0.44         \n",
       "28751 2024-04-25 22:00:00 0.09613362      77.99     0.00          1.04         \n",
       "28752 2024-04-25 23:00:00 0.09804755      77.99     0.00         10.57         \n",
       "      Workday Workday_168 Workday_24 forecast BV Forecast ⋯ factor(Hour)14\n",
       "1     1       1           1           27.4    4187.97     ⋯ 0             \n",
       "2     1       1           1           30.1    3975.82     ⋯ 0             \n",
       "3     1       1           1           37.3    3885.02     ⋯ 0             \n",
       "4     1       1           1           41.0    3589.79     ⋯ 0             \n",
       "5     1       1           1           52.6    3137.07     ⋯ 0             \n",
       "6     1       1           1           67.9    2717.61     ⋯ 0             \n",
       "7     1       1           1           83.2    2882.89     ⋯ 0             \n",
       "8     1       1           1          107.8    2746.63     ⋯ 0             \n",
       "9     1       1           1          141.8    2642.18     ⋯ 0             \n",
       "10    1       1           1          165.4    2570.10     ⋯ 0             \n",
       "11    1       1           1          173.4    2417.71     ⋯ 0             \n",
       "12    1       1           1          159.1    2194.13     ⋯ 0             \n",
       "13    1       1           1          123.8    2315.63     ⋯ 0             \n",
       "14    1       1           1           92.8    2212.84     ⋯ 0             \n",
       "15    1       1           1           74.5    2281.34     ⋯ 1             \n",
       "16    1       1           1           55.8    2443.12     ⋯ 0             \n",
       "17    1       1           1           35.9    2417.30     ⋯ 0             \n",
       "18    1       1           1           32.4    2256.21     ⋯ 0             \n",
       "19    1       1           1           32.1    1965.84     ⋯ 0             \n",
       "20    1       1           1           25.9    1824.76     ⋯ 0             \n",
       "21    1       1           1           27.1    1394.25     ⋯ 0             \n",
       "22    1       1           1           45.3    1282.78     ⋯ 0             \n",
       "23    1       1           1           69.5    1282.52     ⋯ 0             \n",
       "24    1       1           1           94.2    1176.36     ⋯ 0             \n",
       "25    1       1           1          105.2    1379.18     ⋯ 0             \n",
       "26    1       1           1          141.9    1473.72     ⋯ 0             \n",
       "27    1       1           1          162.0    1580.46     ⋯ 0             \n",
       "28    1       1           1          187.7    1802.69     ⋯ 0             \n",
       "29    1       1           1          191.5    1861.43     ⋯ 0             \n",
       "30    1       1           1          161.7    2153.10     ⋯ 0             \n",
       "⋮     ⋮       ⋮           ⋮          ⋮        ⋮           ⋱ ⋮             \n",
       "28723 1       1           0          128.96    4765.49    ⋯ 0             \n",
       "28724 1       1           0           98.48    3706.28    ⋯ 0             \n",
       "28725 1       1           0           78.06    3386.47    ⋯ 0             \n",
       "28726 1       1           0           72.15    3207.80    ⋯ 0             \n",
       "28727 1       1           0           63.76    3123.62    ⋯ 0             \n",
       "28728 1       1           0           56.80    3159.82    ⋯ 0             \n",
       "28729 1       1           1           49.95    3203.52    ⋯ 0             \n",
       "28730 1       1           1           48.24    3165.60    ⋯ 0             \n",
       "28731 1       1           1           50.83    3162.16    ⋯ 0             \n",
       "28732 1       1           1           52.30    3155.36    ⋯ 0             \n",
       "28733 1       1           1           55.39    3173.46    ⋯ 0             \n",
       "28734 1       1           1           60.61    3209.00    ⋯ 0             \n",
       "28735 1       1           1           71.32    3809.05    ⋯ 0             \n",
       "28736 1       1           1           83.20    5582.83    ⋯ 0             \n",
       "28737 1       1           1          105.83    7448.67    ⋯ 0             \n",
       "28738 1       1           1          128.63    9118.45    ⋯ 0             \n",
       "28739 1       1           1          172.58   10265.36    ⋯ 0             \n",
       "28740 1       1           1          212.26   11390.85    ⋯ 0             \n",
       "28741 1       1           1          273.98   11861.89    ⋯ 0             \n",
       "28742 1       1           1          322.73   11121.18    ⋯ 0             \n",
       "28743 1       1           1          369.00   10379.20    ⋯ 1             \n",
       "28744 1       1           1          369.70    9326.40    ⋯ 0             \n",
       "28745 1       1           1          362.37    8484.82    ⋯ 0             \n",
       "28746 1       1           1          352.40    7202.55    ⋯ 0             \n",
       "28747 1       1           1          318.28    5439.89    ⋯ 0             \n",
       "28748 1       1           1          264.01    4703.63    ⋯ 0             \n",
       "28749 1       1           1          219.62    4501.67    ⋯ 0             \n",
       "28750 1       1           1          191.99    4394.75    ⋯ 0             \n",
       "28751 1       1           1          157.67    4235.98    ⋯ 0             \n",
       "28752 1       1           1          134.85    4053.30    ⋯ 0             \n",
       "      factor(Hour)15 factor(Hour)16 factor(Hour)17 factor(Hour)18\n",
       "1     0              0              0              0             \n",
       "2     0              0              0              0             \n",
       "3     0              0              0              0             \n",
       "4     0              0              0              0             \n",
       "5     0              0              0              0             \n",
       "6     0              0              0              0             \n",
       "7     0              0              0              0             \n",
       "8     0              0              0              0             \n",
       "9     0              0              0              0             \n",
       "10    0              0              0              0             \n",
       "11    0              0              0              0             \n",
       "12    0              0              0              0             \n",
       "13    0              0              0              0             \n",
       "14    0              0              0              0             \n",
       "15    0              0              0              0             \n",
       "16    1              0              0              0             \n",
       "17    0              1              0              0             \n",
       "18    0              0              1              0             \n",
       "19    0              0              0              1             \n",
       "20    0              0              0              0             \n",
       "21    0              0              0              0             \n",
       "22    0              0              0              0             \n",
       "23    0              0              0              0             \n",
       "24    0              0              0              0             \n",
       "25    0              0              0              0             \n",
       "26    0              0              0              0             \n",
       "27    0              0              0              0             \n",
       "28    0              0              0              0             \n",
       "29    0              0              0              0             \n",
       "30    0              0              0              0             \n",
       "⋮     ⋮              ⋮              ⋮              ⋮             \n",
       "28723 0              0              0              1             \n",
       "28724 0              0              0              0             \n",
       "28725 0              0              0              0             \n",
       "28726 0              0              0              0             \n",
       "28727 0              0              0              0             \n",
       "28728 0              0              0              0             \n",
       "28729 0              0              0              0             \n",
       "28730 0              0              0              0             \n",
       "28731 0              0              0              0             \n",
       "28732 0              0              0              0             \n",
       "28733 0              0              0              0             \n",
       "28734 0              0              0              0             \n",
       "28735 0              0              0              0             \n",
       "28736 0              0              0              0             \n",
       "28737 0              0              0              0             \n",
       "28738 0              0              0              0             \n",
       "28739 0              0              0              0             \n",
       "28740 0              0              0              0             \n",
       "28741 0              0              0              0             \n",
       "28742 0              0              0              0             \n",
       "28743 0              0              0              0             \n",
       "28744 1              0              0              0             \n",
       "28745 0              1              0              0             \n",
       "28746 0              0              1              0             \n",
       "28747 0              0              0              1             \n",
       "28748 0              0              0              0             \n",
       "28749 0              0              0              0             \n",
       "28750 0              0              0              0             \n",
       "28751 0              0              0              0             \n",
       "28752 0              0              0              0             \n",
       "      factor(Hour)19 factor(Hour)20 factor(Hour)21 factor(Hour)22\n",
       "1     0              0              0              0             \n",
       "2     0              0              0              0             \n",
       "3     0              0              0              0             \n",
       "4     0              0              0              0             \n",
       "5     0              0              0              0             \n",
       "6     0              0              0              0             \n",
       "7     0              0              0              0             \n",
       "8     0              0              0              0             \n",
       "9     0              0              0              0             \n",
       "10    0              0              0              0             \n",
       "11    0              0              0              0             \n",
       "12    0              0              0              0             \n",
       "13    0              0              0              0             \n",
       "14    0              0              0              0             \n",
       "15    0              0              0              0             \n",
       "16    0              0              0              0             \n",
       "17    0              0              0              0             \n",
       "18    0              0              0              0             \n",
       "19    0              0              0              0             \n",
       "20    1              0              0              0             \n",
       "21    0              1              0              0             \n",
       "22    0              0              1              0             \n",
       "23    0              0              0              1             \n",
       "24    0              0              0              0             \n",
       "25    0              0              0              0             \n",
       "26    0              0              0              0             \n",
       "27    0              0              0              0             \n",
       "28    0              0              0              0             \n",
       "29    0              0              0              0             \n",
       "30    0              0              0              0             \n",
       "⋮     ⋮              ⋮              ⋮              ⋮             \n",
       "28723 0              0              0              0             \n",
       "28724 1              0              0              0             \n",
       "28725 0              1              0              0             \n",
       "28726 0              0              1              0             \n",
       "28727 0              0              0              1             \n",
       "28728 0              0              0              0             \n",
       "28729 0              0              0              0             \n",
       "28730 0              0              0              0             \n",
       "28731 0              0              0              0             \n",
       "28732 0              0              0              0             \n",
       "28733 0              0              0              0             \n",
       "28734 0              0              0              0             \n",
       "28735 0              0              0              0             \n",
       "28736 0              0              0              0             \n",
       "28737 0              0              0              0             \n",
       "28738 0              0              0              0             \n",
       "28739 0              0              0              0             \n",
       "28740 0              0              0              0             \n",
       "28741 0              0              0              0             \n",
       "28742 0              0              0              0             \n",
       "28743 0              0              0              0             \n",
       "28744 0              0              0              0             \n",
       "28745 0              0              0              0             \n",
       "28746 0              0              0              0             \n",
       "28747 0              0              0              0             \n",
       "28748 1              0              0              0             \n",
       "28749 0              1              0              0             \n",
       "28750 0              0              1              0             \n",
       "28751 0              0              0              1             \n",
       "28752 0              0              0              0             \n",
       "      factor(Hour)23\n",
       "1     0             \n",
       "2     0             \n",
       "3     0             \n",
       "4     0             \n",
       "5     0             \n",
       "6     0             \n",
       "7     0             \n",
       "8     0             \n",
       "9     0             \n",
       "10    0             \n",
       "11    0             \n",
       "12    0             \n",
       "13    0             \n",
       "14    0             \n",
       "15    0             \n",
       "16    0             \n",
       "17    0             \n",
       "18    0             \n",
       "19    0             \n",
       "20    0             \n",
       "21    0             \n",
       "22    0             \n",
       "23    0             \n",
       "24    1             \n",
       "25    0             \n",
       "26    0             \n",
       "27    0             \n",
       "28    0             \n",
       "29    0             \n",
       "30    0             \n",
       "⋮     ⋮             \n",
       "28723 0             \n",
       "28724 0             \n",
       "28725 0             \n",
       "28726 0             \n",
       "28727 0             \n",
       "28728 1             \n",
       "28729 0             \n",
       "28730 0             \n",
       "28731 0             \n",
       "28732 0             \n",
       "28733 0             \n",
       "28734 0             \n",
       "28735 0             \n",
       "28736 0             \n",
       "28737 0             \n",
       "28738 0             \n",
       "28739 0             \n",
       "28740 0             \n",
       "28741 0             \n",
       "28742 0             \n",
       "28743 0             \n",
       "28744 0             \n",
       "28745 0             \n",
       "28746 0             \n",
       "28747 0             \n",
       "28748 0             \n",
       "28749 0             \n",
       "28750 0             \n",
       "28751 0             \n",
       "28752 1             "
      ]
     },
     "metadata": {},
     "output_type": "display_data"
    }
   ],
   "source": [
    "data <- data %>%\n",
    "  mutate(\n",
    "    Date = as.Date(DateTime),  # Extract date\n",
    "    Hour = hour(DateTime)      # Extract hour\n",
    "  )\n",
    "\n",
    "data_one_hot <- model.matrix(~ factor(Hour) - 1, data = data)  # The '-1' removes the intercept\n",
    "\n",
    "# Combine the one-hot encoded hours back with the original data frame\n",
    "data <- cbind(data, data_one_hot)\n",
    "data"
   ]
  },
  {
   "cell_type": "code",
   "execution_count": null,
   "metadata": {
    "vscode": {
     "languageId": "r"
    }
   },
   "outputs": [],
   "source": [
    "predictors <- c(\"Workday\", \"Workday_24\", \"factor(Hour)0\", \"factor(Hour)1\", \"factor(Hour)2\", \"factor(Hour)3\", \"factor(Hour)4\", \"factor(Hour)5\", \"factor(Hour)6\", \"factor(Hour)7\", \"factor(Hour)8\", \"factor(Hour)9\", \"factor(Hour)10\", \"factor(Hour)11\", \"factor(Hour)12\", \"factor(Hour)13\", \"factor(Hour)14\", \"factor(Hour)15\", \"factor(Hour)16\", \"factor(Hour)17\", \"factor(Hour)18\", \"factor(Hour)19\", \"factor(Hour)20\", \"factor(Hour)21\", \"factor(Hour)22\", \"factor(Hour)23\")\n",
    "\n",
    "# Convert predictors to a numeric matrix\n",
    "predictor_matrix <- as.matrix(data[, ..predictors])\n",
    "\n",
    "auto_arima_model2 <- auto.arima(data$Difference_24, xreg = predictor_matrix)"
   ]
  },
  {
   "cell_type": "code",
   "execution_count": null,
   "metadata": {
    "vscode": {
     "languageId": "r"
    }
   },
   "outputs": [
    {
     "data": {
      "text/plain": [
       "Series: data$Difference_24 \n",
       "Regression with ARIMA(0,0,0) errors \n",
       "\n",
       "Coefficients:\n",
       "      Workday  Workday_24  factor(Hour)0  factor(Hour)1  factor(Hour)2\n",
       "      12.2623    -12.0599        -0.1582        -0.1551        -0.1606\n",
       "s.e.   0.9300      0.9300         1.2415         1.2415         1.2415\n",
       "      factor(Hour)3  factor(Hour)4  factor(Hour)5  factor(Hour)6  factor(Hour)7\n",
       "            -0.1624        -0.1643        -0.1693        -0.1779        -0.1712\n",
       "s.e.         1.2415         1.2415         1.2415         1.2415         1.2415\n",
       "      factor(Hour)8  factor(Hour)9  factor(Hour)10  factor(Hour)11\n",
       "            -0.1597        -0.1603         -0.1615         -0.1640\n",
       "s.e.         1.2415         1.2415          1.2415          1.2415\n",
       "      factor(Hour)12  factor(Hour)13  factor(Hour)14  factor(Hour)15\n",
       "             -0.1858         -0.1795         -0.1679         -0.1669\n",
       "s.e.          1.2415          1.2415          1.2415          1.2415\n",
       "      factor(Hour)16  factor(Hour)17  factor(Hour)18  factor(Hour)19\n",
       "             -0.1608         -0.1614         -0.1615         -0.1607\n",
       "s.e.          1.2415          1.2415          1.2415          1.2415\n",
       "      factor(Hour)20  factor(Hour)21  factor(Hour)22  factor(Hour)23\n",
       "             -0.1600         -0.1598         -0.1595         -0.1591\n",
       "s.e.          1.2415          1.2415          1.2415          1.2415\n",
       "\n",
       "sigma^2 = 739:  log likelihood = -135742.2\n",
       "AIC=271538.5   AICc=271538.5   BIC=271761.7\n",
       "\n",
       "Training set error measures:\n",
       "                     ME     RMSE      MAE MPE MAPE    MASE      ACF1\n",
       "Training set -1.075e-11 27.17242 15.18102 NaN  Inf 1.37025 0.7179106"
      ]
     },
     "metadata": {},
     "output_type": "display_data"
    }
   ],
   "source": [
    "summary(auto_arima_model2)"
   ]
  },
  {
   "cell_type": "code",
   "execution_count": null,
   "metadata": {
    "vscode": {
     "languageId": "r"
    }
   },
   "outputs": [
    {
     "name": "stdout",
     "output_type": "stream",
     "text": [
      "\n",
      "\tLjung-Box test\n",
      "\n",
      "data:  Residuals from Regression with ARIMA(0,0,0) errors\n",
      "Q* = 44553, df = 10, p-value < 2.2e-16\n",
      "\n",
      "Model df: 0.   Total lags used: 10\n",
      "\n"
     ]
    },
    {
     "data": {
      "image/png": "[encoded data removed]",
      "text/plain": [
       "plot without title"
      ]
     },
     "metadata": {
      "image/png": {
       "height": 420,
       "width": 420
      }
     },
     "output_type": "display_data"
    }
   ],
   "source": [
    "checkresiduals(auto_arima_model2)"
   ]
  },
  {
   "cell_type": "code",
   "execution_count": null,
   "metadata": {
    "vscode": {
     "languageId": "r"
    }
   },
   "outputs": [
    {
     "data": {
      "image/png": "[encoded data removed]",
      "text/plain": [
       "plot without title"
      ]
     },
     "metadata": {
      "image/png": {
       "height": 420,
       "width": 420
      }
     },
     "output_type": "display_data"
    }
   ],
   "source": [
    "forecast_values <- forecast(auto_arima_model2, xreg = predictor_matrix)\n",
    "\n",
    "\n",
    "plot_data <- data.frame(\n",
    "  DateTime = data$DateTime,\n",
    "  Actual = data$Difference_24,\n",
    "  Predicted = forecast_values$mean\n",
    ")\n",
    "\n",
    "ggplot(plot_data, aes(x = DateTime)) +\n",
    "  geom_line(aes(y = Actual, color = \"Real\")) +\n",
    "  geom_line(aes(y = Predicted, color = \"Predicted\"))\n"
   ]
  },
  {
   "cell_type": "code",
   "execution_count": null,
   "metadata": {
    "vscode": {
     "languageId": "r"
    }
   },
   "outputs": [
    {
     "data": {
      "text/html": [
       "<table class=\"dataframe\">\n",
       "<caption>A data.frame: 2 × 5</caption>\n",
       "<thead>\n",
       "\t<tr><th scope=col>Model</th><th scope=col>MSE</th><th scope=col>MAE</th><th scope=col>MAPE</th><th scope=col>WMAPE</th></tr>\n",
       "\t<tr><th scope=col>&lt;chr&gt;</th><th scope=col>&lt;dbl&gt;</th><th scope=col>&lt;dbl&gt;</th><th scope=col>&lt;dbl&gt;</th><th scope=col>&lt;dbl&gt;</th></tr>\n",
       "</thead>\n",
       "<tbody>\n",
       "\t<tr><td>ARIMA 1</td><td>738.9659</td><td>15.14293</td><td>37474.51</td><td>0.1681185</td></tr>\n",
       "\t<tr><td>ARIMA 2</td><td>738.3403</td><td>15.18102</td><td>37461.09</td><td>0.1685414</td></tr>\n",
       "</tbody>\n",
       "</table>\n"
      ],
      "text/latex": [
       "A data.frame: 2 × 5\n",
       "\\begin{tabular}{lllll}\n",
       " Model & MSE & MAE & MAPE & WMAPE\\\\\n",
       " <chr> & <dbl> & <dbl> & <dbl> & <dbl>\\\\\n",
       "\\hline\n",
       "\t ARIMA 1 & 738.9659 & 15.14293 & 37474.51 & 0.1681185\\\\\n",
       "\t ARIMA 2 & 738.3403 & 15.18102 & 37461.09 & 0.1685414\\\\\n",
       "\\end{tabular}\n"
      ],
      "text/markdown": [
       "\n",
       "A data.frame: 2 × 5\n",
       "\n",
       "| Model &lt;chr&gt; | MSE &lt;dbl&gt; | MAE &lt;dbl&gt; | MAPE &lt;dbl&gt; | WMAPE &lt;dbl&gt; |\n",
       "|---|---|---|---|---|\n",
       "| ARIMA 1 | 738.9659 | 15.14293 | 37474.51 | 0.1681185 |\n",
       "| ARIMA 2 | 738.3403 | 15.18102 | 37461.09 | 0.1685414 |\n",
       "\n"
      ],
      "text/plain": [
       "  Model   MSE      MAE      MAPE     WMAPE    \n",
       "1 ARIMA 1 738.9659 15.14293 37474.51 0.1681185\n",
       "2 ARIMA 2 738.3403 15.18102 37461.09 0.1685414"
      ]
     },
     "metadata": {},
     "output_type": "display_data"
    }
   ],
   "source": [
    "model_2_evaluation <- copy(data)\n",
    "\n",
    "model_2_evaluation[,actual:=priceEur]\n",
    "model_2_evaluation[,priceEur_24:=priceEur-Difference_24]\n",
    "model_2_evaluation[,forecasted_diff:=forecast_values$mean]\n",
    "model_2_evaluation[,forecasted_price:=priceEur_24 + forecasted_diff]\n",
    "\n",
    "residuals <- model_2_evaluation$actual - model_2_evaluation$forecasted_price\n",
    "mse <- mean(residuals^2)\n",
    "mae <- mean(abs(residuals))\n",
    "mape <- mean(abs(residuals)/((model_2_evaluation$actual)+0.000001))\n",
    "wmape <- sum(abs(residuals))/sum(model_2_evaluation$actual)\n",
    "\n",
    "new_row <- data.frame(\n",
    "  Model = \"ARIMA 2\",\n",
    "  MSE = mse,\n",
    "  MAE = mae,\n",
    "  MAPE = mape,\n",
    "  WMAPE = wmape\n",
    ")\n",
    "\n",
    "perf_results <- rbind(perf_results, new_row)\n",
    "\n",
    "perf_results"
   ]
  },
  {
   "cell_type": "markdown",
   "metadata": {},
   "source": [
    "# 3 Autoarima for Difference_24, with Workday, Workday_24, and iswar regressors"
   ]
  },
  {
   "cell_type": "code",
   "execution_count": null,
   "metadata": {
    "vscode": {
     "languageId": "r"
    }
   },
   "outputs": [],
   "source": [
    "data_path='data.csv'\n",
    "data=fread(data_path)"
   ]
  },
  {
   "cell_type": "code",
   "execution_count": null,
   "metadata": {
    "vscode": {
     "languageId": "r"
    }
   },
   "outputs": [
    {
     "data": {
      "text/html": [
       "<table class=\"dataframe\">\n",
       "<caption>A data.table: 6 × 11</caption>\n",
       "<thead>\n",
       "\t<tr><th scope=col>DateTime</th><th scope=col>renewable_ratio</th><th scope=col>priceEur</th><th scope=col>Difference_24</th><th scope=col>Difference_168</th><th scope=col>Workday</th><th scope=col>Workday_168</th><th scope=col>Workday_24</th><th scope=col>forecast</th><th scope=col>BV Forecast</th><th scope=col>is_war</th></tr>\n",
       "\t<tr><th scope=col>&lt;dttm&gt;</th><th scope=col>&lt;dbl&gt;</th><th scope=col>&lt;dbl&gt;</th><th scope=col>&lt;dbl&gt;</th><th scope=col>&lt;dbl&gt;</th><th scope=col>&lt;int&gt;</th><th scope=col>&lt;dbl&gt;</th><th scope=col>&lt;dbl&gt;</th><th scope=col>&lt;dbl&gt;</th><th scope=col>&lt;dbl&gt;</th><th scope=col>&lt;dbl&gt;</th></tr>\n",
       "</thead>\n",
       "<tbody>\n",
       "\t<tr><td>2021-01-14 00:00:00</td><td>0.04073709</td><td>35.26</td><td>1.16</td><td>2.17</td><td>1</td><td>1</td><td>1</td><td>27.4</td><td>4187.97</td><td>0</td></tr>\n",
       "\t<tr><td>2021-01-14 01:00:00</td><td>0.04586432</td><td>35.13</td><td>4.79</td><td>0.94</td><td>1</td><td>1</td><td>1</td><td>30.1</td><td>3975.82</td><td>0</td></tr>\n",
       "\t<tr><td>2021-01-14 02:00:00</td><td>0.05103432</td><td>34.87</td><td>2.32</td><td>5.17</td><td>1</td><td>1</td><td>1</td><td>37.3</td><td>3885.02</td><td>0</td></tr>\n",
       "\t<tr><td>2021-01-14 03:00:00</td><td>0.05995258</td><td>34.58</td><td>7.66</td><td>5.35</td><td>1</td><td>1</td><td>1</td><td>41.0</td><td>3589.79</td><td>0</td></tr>\n",
       "\t<tr><td>2021-01-14 04:00:00</td><td>0.06207705</td><td>34.57</td><td>6.45</td><td>7.32</td><td>1</td><td>1</td><td>1</td><td>52.6</td><td>3137.07</td><td>0</td></tr>\n",
       "\t<tr><td>2021-01-14 05:00:00</td><td>0.07138521</td><td>34.53</td><td>0.32</td><td>7.28</td><td>1</td><td>1</td><td>1</td><td>67.9</td><td>2717.61</td><td>0</td></tr>\n",
       "</tbody>\n",
       "</table>\n"
      ],
      "text/latex": [
       "A data.table: 6 × 11\n",
       "\\begin{tabular}{lllllllllll}\n",
       " DateTime & renewable\\_ratio & priceEur & Difference\\_24 & Difference\\_168 & Workday & Workday\\_168 & Workday\\_24 & forecast & BV Forecast & is\\_war\\\\\n",
       " <dttm> & <dbl> & <dbl> & <dbl> & <dbl> & <int> & <dbl> & <dbl> & <dbl> & <dbl> & <dbl>\\\\\n",
       "\\hline\n",
       "\t 2021-01-14 00:00:00 & 0.04073709 & 35.26 & 1.16 & 2.17 & 1 & 1 & 1 & 27.4 & 4187.97 & 0\\\\\n",
       "\t 2021-01-14 01:00:00 & 0.04586432 & 35.13 & 4.79 & 0.94 & 1 & 1 & 1 & 30.1 & 3975.82 & 0\\\\\n",
       "\t 2021-01-14 02:00:00 & 0.05103432 & 34.87 & 2.32 & 5.17 & 1 & 1 & 1 & 37.3 & 3885.02 & 0\\\\\n",
       "\t 2021-01-14 03:00:00 & 0.05995258 & 34.58 & 7.66 & 5.35 & 1 & 1 & 1 & 41.0 & 3589.79 & 0\\\\\n",
       "\t 2021-01-14 04:00:00 & 0.06207705 & 34.57 & 6.45 & 7.32 & 1 & 1 & 1 & 52.6 & 3137.07 & 0\\\\\n",
       "\t 2021-01-14 05:00:00 & 0.07138521 & 34.53 & 0.32 & 7.28 & 1 & 1 & 1 & 67.9 & 2717.61 & 0\\\\\n",
       "\\end{tabular}\n"
      ],
      "text/markdown": [
       "\n",
       "A data.table: 6 × 11\n",
       "\n",
       "| DateTime &lt;dttm&gt; | renewable_ratio &lt;dbl&gt; | priceEur &lt;dbl&gt; | Difference_24 &lt;dbl&gt; | Difference_168 &lt;dbl&gt; | Workday &lt;int&gt; | Workday_168 &lt;dbl&gt; | Workday_24 &lt;dbl&gt; | forecast &lt;dbl&gt; | BV Forecast &lt;dbl&gt; | is_war &lt;dbl&gt; |\n",
       "|---|---|---|---|---|---|---|---|---|---|---|\n",
       "| 2021-01-14 00:00:00 | 0.04073709 | 35.26 | 1.16 | 2.17 | 1 | 1 | 1 | 27.4 | 4187.97 | 0 |\n",
       "| 2021-01-14 01:00:00 | 0.04586432 | 35.13 | 4.79 | 0.94 | 1 | 1 | 1 | 30.1 | 3975.82 | 0 |\n",
       "| 2021-01-14 02:00:00 | 0.05103432 | 34.87 | 2.32 | 5.17 | 1 | 1 | 1 | 37.3 | 3885.02 | 0 |\n",
       "| 2021-01-14 03:00:00 | 0.05995258 | 34.58 | 7.66 | 5.35 | 1 | 1 | 1 | 41.0 | 3589.79 | 0 |\n",
       "| 2021-01-14 04:00:00 | 0.06207705 | 34.57 | 6.45 | 7.32 | 1 | 1 | 1 | 52.6 | 3137.07 | 0 |\n",
       "| 2021-01-14 05:00:00 | 0.07138521 | 34.53 | 0.32 | 7.28 | 1 | 1 | 1 | 67.9 | 2717.61 | 0 |\n",
       "\n"
      ],
      "text/plain": [
       "  DateTime            renewable_ratio priceEur Difference_24 Difference_168\n",
       "1 2021-01-14 00:00:00 0.04073709      35.26    1.16          2.17          \n",
       "2 2021-01-14 01:00:00 0.04586432      35.13    4.79          0.94          \n",
       "3 2021-01-14 02:00:00 0.05103432      34.87    2.32          5.17          \n",
       "4 2021-01-14 03:00:00 0.05995258      34.58    7.66          5.35          \n",
       "5 2021-01-14 04:00:00 0.06207705      34.57    6.45          7.32          \n",
       "6 2021-01-14 05:00:00 0.07138521      34.53    0.32          7.28          \n",
       "  Workday Workday_168 Workday_24 forecast BV Forecast is_war\n",
       "1 1       1           1          27.4     4187.97     0     \n",
       "2 1       1           1          30.1     3975.82     0     \n",
       "3 1       1           1          37.3     3885.02     0     \n",
       "4 1       1           1          41.0     3589.79     0     \n",
       "5 1       1           1          52.6     3137.07     0     \n",
       "6 1       1           1          67.9     2717.61     0     "
      ]
     },
     "metadata": {},
     "output_type": "display_data"
    }
   ],
   "source": [
    "data <- data %>%\n",
    "  mutate(is_war = ifelse(DateTime >= as.Date(\"2022-02-01\") & DateTime <= as.Date(\"2023-08-31\"), 1, 0))\n",
    "\n",
    "head(data)"
   ]
  },
  {
   "cell_type": "code",
   "execution_count": null,
   "metadata": {
    "vscode": {
     "languageId": "r"
    }
   },
   "outputs": [],
   "source": [
    "predictors <- c(\"Workday\", \"Workday_24\", \"is_war\")\n",
    "\n",
    "predictor_matrix <- as.matrix(data[, ..predictors])\n",
    "\n",
    "auto_arima_model3 <- auto.arima(data$Difference_24, xreg = predictor_matrix)"
   ]
  },
  {
   "cell_type": "code",
   "execution_count": null,
   "metadata": {
    "vscode": {
     "languageId": "r"
    }
   },
   "outputs": [
    {
     "data": {
      "text/plain": [
       "Series: data$Difference_24 \n",
       "Regression with ARIMA(2,0,2) errors \n",
       "\n",
       "Coefficients:\n",
       "         ar1      ar2      ma1      ma2  Workday  Workday_24   is_war\n",
       "      1.1804  -0.2620  -0.5058  -0.1023   7.3634     -7.2675  -0.1104\n",
       "s.e.  0.0368   0.0302   0.0368   0.0109   1.4630      1.4631   1.0380\n",
       "\n",
       "sigma^2 = 352.3:  log likelihood = -125100.2\n",
       "AIC=250216.4   AICc=250216.5   BIC=250282.6\n",
       "\n",
       "Training set error measures:\n",
       "                       ME    RMSE      MAE MPE MAPE      MASE          ACF1\n",
       "Training set -0.001865806 18.7662 10.51688 NaN  Inf 0.9492611 -5.253791e-06"
      ]
     },
     "metadata": {},
     "output_type": "display_data"
    }
   ],
   "source": [
    "summary(auto_arima_model3)"
   ]
  },
  {
   "cell_type": "code",
   "execution_count": null,
   "metadata": {
    "vscode": {
     "languageId": "r"
    }
   },
   "outputs": [
    {
     "name": "stdout",
     "output_type": "stream",
     "text": [
      "\n",
      "\tLjung-Box test\n",
      "\n",
      "data:  Residuals from Regression with ARIMA(2,0,2) errors\n",
      "Q* = 61.02, df = 6, p-value = 2.792e-11\n",
      "\n",
      "Model df: 4.   Total lags used: 10\n",
      "\n"
     ]
    },
    {
     "data": {
      "image/png": "[encoded data removed]",
      "text/plain": [
       "plot without title"
      ]
     },
     "metadata": {
      "image/png": {
       "height": 420,
       "width": 420
      }
     },
     "output_type": "display_data"
    }
   ],
   "source": [
    "checkresiduals(auto_arima_model3)"
   ]
  },
  {
   "cell_type": "code",
   "execution_count": null,
   "metadata": {
    "vscode": {
     "languageId": "r"
    }
   },
   "outputs": [
    {
     "data": {
      "image/png": "[encoded data removed]",
      "text/plain": [
       "plot without title"
      ]
     },
     "metadata": {
      "image/png": {
       "height": 420,
       "width": 420
      }
     },
     "output_type": "display_data"
    }
   ],
   "source": [
    "forecast_values <- forecast(auto_arima_model3, xreg = predictor_matrix)\n",
    "\n",
    "plot_data <- data.frame(\n",
    "  DateTime = data$DateTime,\n",
    "  Actual = data$Difference_24,\n",
    "  Predicted = forecast_values$mean\n",
    ")\n",
    "\n",
    "ggplot(plot_data, aes(x = DateTime)) +\n",
    "  geom_line(aes(y = Actual, color = \"Real\")) +\n",
    "  geom_line(aes(y = Predicted, color = \"Predicted\"))\n"
   ]
  },
  {
   "cell_type": "code",
   "execution_count": null,
   "metadata": {
    "vscode": {
     "languageId": "r"
    }
   },
   "outputs": [
    {
     "data": {
      "text/html": [
       "<table class=\"dataframe\">\n",
       "<caption>A data.frame: 3 × 5</caption>\n",
       "<thead>\n",
       "\t<tr><th scope=col>Model</th><th scope=col>MSE</th><th scope=col>MAE</th><th scope=col>MAPE</th><th scope=col>WMAPE</th></tr>\n",
       "\t<tr><th scope=col>&lt;chr&gt;</th><th scope=col>&lt;dbl&gt;</th><th scope=col>&lt;dbl&gt;</th><th scope=col>&lt;dbl&gt;</th><th scope=col>&lt;dbl&gt;</th></tr>\n",
       "</thead>\n",
       "<tbody>\n",
       "\t<tr><td>ARIMA 1</td><td>738.9659</td><td>15.14293</td><td>37474.51</td><td>0.1681185</td></tr>\n",
       "\t<tr><td>ARIMA 2</td><td>738.3403</td><td>15.18102</td><td>37461.09</td><td>0.1685414</td></tr>\n",
       "\t<tr><td>ARIMA 3</td><td>739.3178</td><td>15.13699</td><td>37449.06</td><td>0.1680526</td></tr>\n",
       "</tbody>\n",
       "</table>\n"
      ],
      "text/latex": [
       "A data.frame: 3 × 5\n",
       "\\begin{tabular}{lllll}\n",
       " Model & MSE & MAE & MAPE & WMAPE\\\\\n",
       " <chr> & <dbl> & <dbl> & <dbl> & <dbl>\\\\\n",
       "\\hline\n",
       "\t ARIMA 1 & 738.9659 & 15.14293 & 37474.51 & 0.1681185\\\\\n",
       "\t ARIMA 2 & 738.3403 & 15.18102 & 37461.09 & 0.1685414\\\\\n",
       "\t ARIMA 3 & 739.3178 & 15.13699 & 37449.06 & 0.1680526\\\\\n",
       "\\end{tabular}\n"
      ],
      "text/markdown": [
       "\n",
       "A data.frame: 3 × 5\n",
       "\n",
       "| Model &lt;chr&gt; | MSE &lt;dbl&gt; | MAE &lt;dbl&gt; | MAPE &lt;dbl&gt; | WMAPE &lt;dbl&gt; |\n",
       "|---|---|---|---|---|\n",
       "| ARIMA 1 | 738.9659 | 15.14293 | 37474.51 | 0.1681185 |\n",
       "| ARIMA 2 | 738.3403 | 15.18102 | 37461.09 | 0.1685414 |\n",
       "| ARIMA 3 | 739.3178 | 15.13699 | 37449.06 | 0.1680526 |\n",
       "\n"
      ],
      "text/plain": [
       "  Model   MSE      MAE      MAPE     WMAPE    \n",
       "1 ARIMA 1 738.9659 15.14293 37474.51 0.1681185\n",
       "2 ARIMA 2 738.3403 15.18102 37461.09 0.1685414\n",
       "3 ARIMA 3 739.3178 15.13699 37449.06 0.1680526"
      ]
     },
     "metadata": {},
     "output_type": "display_data"
    }
   ],
   "source": [
    "model_3_evaluation <- copy(data)\n",
    "\n",
    "model_3_evaluation[,actual:=priceEur]\n",
    "model_3_evaluation[,priceEur_24:=priceEur-Difference_24]\n",
    "model_3_evaluation[,forecasted_diff:=forecast_values$mean]\n",
    "model_3_evaluation[,forecasted_price:=priceEur_24 + forecasted_diff]\n",
    "\n",
    "residuals <- model_3_evaluation$actual - model_3_evaluation$forecasted_price\n",
    "mse <- mean(residuals^2)\n",
    "mae <- mean(abs(residuals))\n",
    "mape <- mean(abs(residuals)/((model_3_evaluation$actual)+0.000001))\n",
    "wmape <- sum(abs(residuals))/sum(model_3_evaluation$actual)\n",
    "\n",
    "new_row <- data.frame(\n",
    "  Model = \"ARIMA 3\",\n",
    "  MSE = mse,\n",
    "  MAE = mae,\n",
    "  MAPE = mape,\n",
    "  WMAPE = wmape\n",
    ")\n",
    "\n",
    "# Add the new row to the data frame\n",
    "perf_results <- rbind(perf_results, new_row)\n",
    "\n",
    "perf_results"
   ]
  },
  {
   "cell_type": "markdown",
   "metadata": {},
   "source": [
    "# 4 Linear Regression for Difference_24, with its lag_24 and lag_168 values"
   ]
  },
  {
   "cell_type": "code",
   "execution_count": null,
   "metadata": {
    "vscode": {
     "languageId": "r"
    }
   },
   "outputs": [
    {
     "data": {
      "text/html": [
       "<table class=\"dataframe\">\n",
       "<caption>A data.table: 6 × 12</caption>\n",
       "<thead>\n",
       "\t<tr><th scope=col>DateTime</th><th scope=col>renewable_ratio</th><th scope=col>priceEur</th><th scope=col>Difference_24</th><th scope=col>Difference_168</th><th scope=col>Workday</th><th scope=col>Workday_168</th><th scope=col>Workday_24</th><th scope=col>forecast</th><th scope=col>BV Forecast</th><th scope=col>diff_24_lag_24</th><th scope=col>diff_24_lag_168</th></tr>\n",
       "\t<tr><th scope=col>&lt;dttm&gt;</th><th scope=col>&lt;dbl&gt;</th><th scope=col>&lt;dbl&gt;</th><th scope=col>&lt;dbl&gt;</th><th scope=col>&lt;dbl&gt;</th><th scope=col>&lt;int&gt;</th><th scope=col>&lt;dbl&gt;</th><th scope=col>&lt;dbl&gt;</th><th scope=col>&lt;dbl&gt;</th><th scope=col>&lt;dbl&gt;</th><th scope=col>&lt;dbl&gt;</th><th scope=col>&lt;dbl&gt;</th></tr>\n",
       "</thead>\n",
       "<tbody>\n",
       "\t<tr><td>2021-01-14 00:00:00</td><td>0.04073709</td><td>35.26</td><td>1.16</td><td>2.17</td><td>1</td><td>1</td><td>1</td><td>27.4</td><td>4187.97</td><td>NA</td><td>NA</td></tr>\n",
       "\t<tr><td>2021-01-14 01:00:00</td><td>0.04586432</td><td>35.13</td><td>4.79</td><td>0.94</td><td>1</td><td>1</td><td>1</td><td>30.1</td><td>3975.82</td><td>NA</td><td>NA</td></tr>\n",
       "\t<tr><td>2021-01-14 02:00:00</td><td>0.05103432</td><td>34.87</td><td>2.32</td><td>5.17</td><td>1</td><td>1</td><td>1</td><td>37.3</td><td>3885.02</td><td>NA</td><td>NA</td></tr>\n",
       "\t<tr><td>2021-01-14 03:00:00</td><td>0.05995258</td><td>34.58</td><td>7.66</td><td>5.35</td><td>1</td><td>1</td><td>1</td><td>41.0</td><td>3589.79</td><td>NA</td><td>NA</td></tr>\n",
       "\t<tr><td>2021-01-14 04:00:00</td><td>0.06207705</td><td>34.57</td><td>6.45</td><td>7.32</td><td>1</td><td>1</td><td>1</td><td>52.6</td><td>3137.07</td><td>NA</td><td>NA</td></tr>\n",
       "\t<tr><td>2021-01-14 05:00:00</td><td>0.07138521</td><td>34.53</td><td>0.32</td><td>7.28</td><td>1</td><td>1</td><td>1</td><td>67.9</td><td>2717.61</td><td>NA</td><td>NA</td></tr>\n",
       "</tbody>\n",
       "</table>\n"
      ],
      "text/latex": [
       "A data.table: 6 × 12\n",
       "\\begin{tabular}{llllllllllll}\n",
       " DateTime & renewable\\_ratio & priceEur & Difference\\_24 & Difference\\_168 & Workday & Workday\\_168 & Workday\\_24 & forecast & BV Forecast & diff\\_24\\_lag\\_24 & diff\\_24\\_lag\\_168\\\\\n",
       " <dttm> & <dbl> & <dbl> & <dbl> & <dbl> & <int> & <dbl> & <dbl> & <dbl> & <dbl> & <dbl> & <dbl>\\\\\n",
       "\\hline\n",
       "\t 2021-01-14 00:00:00 & 0.04073709 & 35.26 & 1.16 & 2.17 & 1 & 1 & 1 & 27.4 & 4187.97 & NA & NA\\\\\n",
       "\t 2021-01-14 01:00:00 & 0.04586432 & 35.13 & 4.79 & 0.94 & 1 & 1 & 1 & 30.1 & 3975.82 & NA & NA\\\\\n",
       "\t 2021-01-14 02:00:00 & 0.05103432 & 34.87 & 2.32 & 5.17 & 1 & 1 & 1 & 37.3 & 3885.02 & NA & NA\\\\\n",
       "\t 2021-01-14 03:00:00 & 0.05995258 & 34.58 & 7.66 & 5.35 & 1 & 1 & 1 & 41.0 & 3589.79 & NA & NA\\\\\n",
       "\t 2021-01-14 04:00:00 & 0.06207705 & 34.57 & 6.45 & 7.32 & 1 & 1 & 1 & 52.6 & 3137.07 & NA & NA\\\\\n",
       "\t 2021-01-14 05:00:00 & 0.07138521 & 34.53 & 0.32 & 7.28 & 1 & 1 & 1 & 67.9 & 2717.61 & NA & NA\\\\\n",
       "\\end{tabular}\n"
      ],
      "text/markdown": [
       "\n",
       "A data.table: 6 × 12\n",
       "\n",
       "| DateTime &lt;dttm&gt; | renewable_ratio &lt;dbl&gt; | priceEur &lt;dbl&gt; | Difference_24 &lt;dbl&gt; | Difference_168 &lt;dbl&gt; | Workday &lt;int&gt; | Workday_168 &lt;dbl&gt; | Workday_24 &lt;dbl&gt; | forecast &lt;dbl&gt; | BV Forecast &lt;dbl&gt; | diff_24_lag_24 &lt;dbl&gt; | diff_24_lag_168 &lt;dbl&gt; |\n",
       "|---|---|---|---|---|---|---|---|---|---|---|---|\n",
       "| 2021-01-14 00:00:00 | 0.04073709 | 35.26 | 1.16 | 2.17 | 1 | 1 | 1 | 27.4 | 4187.97 | NA | NA |\n",
       "| 2021-01-14 01:00:00 | 0.04586432 | 35.13 | 4.79 | 0.94 | 1 | 1 | 1 | 30.1 | 3975.82 | NA | NA |\n",
       "| 2021-01-14 02:00:00 | 0.05103432 | 34.87 | 2.32 | 5.17 | 1 | 1 | 1 | 37.3 | 3885.02 | NA | NA |\n",
       "| 2021-01-14 03:00:00 | 0.05995258 | 34.58 | 7.66 | 5.35 | 1 | 1 | 1 | 41.0 | 3589.79 | NA | NA |\n",
       "| 2021-01-14 04:00:00 | 0.06207705 | 34.57 | 6.45 | 7.32 | 1 | 1 | 1 | 52.6 | 3137.07 | NA | NA |\n",
       "| 2021-01-14 05:00:00 | 0.07138521 | 34.53 | 0.32 | 7.28 | 1 | 1 | 1 | 67.9 | 2717.61 | NA | NA |\n",
       "\n"
      ],
      "text/plain": [
       "  DateTime            renewable_ratio priceEur Difference_24 Difference_168\n",
       "1 2021-01-14 00:00:00 0.04073709      35.26    1.16          2.17          \n",
       "2 2021-01-14 01:00:00 0.04586432      35.13    4.79          0.94          \n",
       "3 2021-01-14 02:00:00 0.05103432      34.87    2.32          5.17          \n",
       "4 2021-01-14 03:00:00 0.05995258      34.58    7.66          5.35          \n",
       "5 2021-01-14 04:00:00 0.06207705      34.57    6.45          7.32          \n",
       "6 2021-01-14 05:00:00 0.07138521      34.53    0.32          7.28          \n",
       "  Workday Workday_168 Workday_24 forecast BV Forecast diff_24_lag_24\n",
       "1 1       1           1          27.4     4187.97     NA            \n",
       "2 1       1           1          30.1     3975.82     NA            \n",
       "3 1       1           1          37.3     3885.02     NA            \n",
       "4 1       1           1          41.0     3589.79     NA            \n",
       "5 1       1           1          52.6     3137.07     NA            \n",
       "6 1       1           1          67.9     2717.61     NA            \n",
       "  diff_24_lag_168\n",
       "1 NA             \n",
       "2 NA             \n",
       "3 NA             \n",
       "4 NA             \n",
       "5 NA             \n",
       "6 NA             "
      ]
     },
     "metadata": {},
     "output_type": "display_data"
    }
   ],
   "source": [
    "data_path='data.csv'\n",
    "data=fread(data_path)\n",
    "\n",
    "data[, diff_24_lag_24 := shift(Difference_24, 24)]\n",
    "data[, diff_24_lag_168 := shift(Difference_24, 168)]\n",
    "head(data)"
   ]
  },
  {
   "cell_type": "code",
   "execution_count": null,
   "metadata": {
    "vscode": {
     "languageId": "r"
    }
   },
   "outputs": [
    {
     "name": "stderr",
     "output_type": "stream",
     "text": [
      "Warning message in ggally_statistic(data = data, mapping = mapping, na.rm = na.rm, :\n",
      "\"Removed 24 rows containing missing values\"\n",
      "Warning message in ggally_statistic(data = data, mapping = mapping, na.rm = na.rm, :\n",
      "\"Removed 168 rows containing missing values\"\n",
      "Warning message in ggally_statistic(data = data, mapping = mapping, na.rm = na.rm, :\n",
      "\"Removed 24 rows containing missing values\"\n",
      "Warning message in ggally_statistic(data = data, mapping = mapping, na.rm = na.rm, :\n",
      "\"Removed 168 rows containing missing values\"\n",
      "Warning message:\n",
      "\"\u001b[1m\u001b[22mRemoved 24 rows containing missing values or values outside the scale range\n",
      "(`geom_point()`).\"\n",
      "Warning message:\n",
      "\"\u001b[1m\u001b[22mRemoved 24 rows containing missing values or values outside the scale range\n",
      "(`geom_point()`).\"\n",
      "Warning message:\n",
      "\"\u001b[1m\u001b[22mRemoved 24 rows containing non-finite outside the scale range\n",
      "(`stat_density()`).\"\n",
      "Warning message in ggally_statistic(data = data, mapping = mapping, na.rm = na.rm, :\n",
      "\"Removed 168 rows containing missing values\"\n",
      "Warning message:\n",
      "\"\u001b[1m\u001b[22mRemoved 168 rows containing missing values or values outside the scale range\n",
      "(`geom_point()`).\"\n",
      "Warning message:\n",
      "\"\u001b[1m\u001b[22mRemoved 168 rows containing missing values or values outside the scale range\n",
      "(`geom_point()`).\"\n",
      "Warning message:\n",
      "\"\u001b[1m\u001b[22mRemoved 168 rows containing missing values or values outside the scale range\n",
      "(`geom_point()`).\"\n",
      "Warning message:\n",
      "\"\u001b[1m\u001b[22mRemoved 168 rows containing non-finite outside the scale range\n",
      "(`stat_density()`).\"\n"
     ]
    },
    {
     "data": {
      "image/png": "[encoded data removed]",
      "text/plain": [
       "plot without title"
      ]
     },
     "metadata": {
      "image/png": {
       "height": 420,
       "width": 420
      }
     },
     "output_type": "display_data"
    }
   ],
   "source": [
    "ggpairs(data[, c(\"DateTime\", \"Difference_24\", \"diff_24_lag_24\", \"diff_24_lag_168\")])"
   ]
  },
  {
   "cell_type": "code",
   "execution_count": null,
   "metadata": {
    "vscode": {
     "languageId": "r"
    }
   },
   "outputs": [
    {
     "data": {
      "text/plain": [
       "\n",
       "Call:\n",
       "lm(formula = Difference_24 ~ diff_24_lag_24 + diff_24_lag_168 + \n",
       "    Workday + Workday_24, data = data)\n",
       "\n",
       "Residuals:\n",
       "     Min       1Q   Median       3Q      Max \n",
       "-248.780   -7.108    0.055    7.932  190.383 \n",
       "\n",
       "Coefficients:\n",
       "                  Estimate Std. Error t value Pr(>|t|)    \n",
       "(Intercept)      -3.073414   0.874867  -3.513 0.000444 ***\n",
       "diff_24_lag_24   -0.331926   0.005312 -62.483  < 2e-16 ***\n",
       "diff_24_lag_168   0.263108   0.005316  49.489  < 2e-16 ***\n",
       "Workday          14.014573   0.833515  16.814  < 2e-16 ***\n",
       "Workday_24      -10.785218   0.833809 -12.935  < 2e-16 ***\n",
       "---\n",
       "Signif. codes:  0 '***' 0.001 '**' 0.01 '*' 0.05 '.' 0.1 ' ' 1\n",
       "\n",
       "Residual standard error: 24.34 on 28579 degrees of freedom\n",
       "  (168 observations deleted due to missingness)\n",
       "Multiple R-squared:  0.2088,\tAdjusted R-squared:  0.2087 \n",
       "F-statistic:  1885 on 4 and 28579 DF,  p-value: < 2.2e-16\n"
      ]
     },
     "metadata": {},
     "output_type": "display_data"
    }
   ],
   "source": [
    "lm_model <- lm(Difference_24 ~ diff_24_lag_24 + diff_24_lag_168 + Workday + Workday_24, data = data)\n",
    "\n",
    "# Summary of the regression model\n",
    "summary(lm_model)\n"
   ]
  },
  {
   "cell_type": "code",
   "execution_count": null,
   "metadata": {
    "vscode": {
     "languageId": "r"
    }
   },
   "outputs": [
    {
     "data": {
      "text/plain": [
       "\n",
       "\tBreusch-Godfrey test for serial correlation of order up to 10\n",
       "\n",
       "data:  Residuals\n",
       "LM test = 15419, df = 10, p-value < 2.2e-16\n"
      ]
     },
     "metadata": {},
     "output_type": "display_data"
    },
    {
     "data": {
      "image/png": "[encoded data removed]",
      "text/plain": [
       "plot without title"
      ]
     },
     "metadata": {
      "image/png": {
       "height": 420,
       "width": 420
      }
     },
     "output_type": "display_data"
    }
   ],
   "source": [
    "checkresiduals(lm_model)"
   ]
  },
  {
   "cell_type": "code",
   "execution_count": null,
   "metadata": {
    "vscode": {
     "languageId": "r"
    }
   },
   "outputs": [
    {
     "data": {
      "text/html": [
       "<table class=\"dataframe\">\n",
       "<caption>A data.frame: 4 × 5</caption>\n",
       "<thead>\n",
       "\t<tr><th scope=col>Model</th><th scope=col>MSE</th><th scope=col>MAE</th><th scope=col>MAPE</th><th scope=col>WMAPE</th></tr>\n",
       "\t<tr><th scope=col>&lt;chr&gt;</th><th scope=col>&lt;dbl&gt;</th><th scope=col>&lt;dbl&gt;</th><th scope=col>&lt;dbl&gt;</th><th scope=col>&lt;dbl&gt;</th></tr>\n",
       "</thead>\n",
       "<tbody>\n",
       "\t<tr><td>ARIMA 1</td><td>738.9659</td><td>15.14293</td><td>37474.51</td><td>0.1681185</td></tr>\n",
       "\t<tr><td>ARIMA 2</td><td>738.3403</td><td>15.18102</td><td>37461.09</td><td>0.1685414</td></tr>\n",
       "\t<tr><td>ARIMA 3</td><td>739.3178</td><td>15.13699</td><td>37449.06</td><td>0.1680526</td></tr>\n",
       "\t<tr><td>LRM 4  </td><td>592.4825</td><td>14.47721</td><td>39253.08</td><td>0.1601491</td></tr>\n",
       "</tbody>\n",
       "</table>\n"
      ],
      "text/latex": [
       "A data.frame: 4 × 5\n",
       "\\begin{tabular}{lllll}\n",
       " Model & MSE & MAE & MAPE & WMAPE\\\\\n",
       " <chr> & <dbl> & <dbl> & <dbl> & <dbl>\\\\\n",
       "\\hline\n",
       "\t ARIMA 1 & 738.9659 & 15.14293 & 37474.51 & 0.1681185\\\\\n",
       "\t ARIMA 2 & 738.3403 & 15.18102 & 37461.09 & 0.1685414\\\\\n",
       "\t ARIMA 3 & 739.3178 & 15.13699 & 37449.06 & 0.1680526\\\\\n",
       "\t LRM 4   & 592.4825 & 14.47721 & 39253.08 & 0.1601491\\\\\n",
       "\\end{tabular}\n"
      ],
      "text/markdown": [
       "\n",
       "A data.frame: 4 × 5\n",
       "\n",
       "| Model &lt;chr&gt; | MSE &lt;dbl&gt; | MAE &lt;dbl&gt; | MAPE &lt;dbl&gt; | WMAPE &lt;dbl&gt; |\n",
       "|---|---|---|---|---|\n",
       "| ARIMA 1 | 738.9659 | 15.14293 | 37474.51 | 0.1681185 |\n",
       "| ARIMA 2 | 738.3403 | 15.18102 | 37461.09 | 0.1685414 |\n",
       "| ARIMA 3 | 739.3178 | 15.13699 | 37449.06 | 0.1680526 |\n",
       "| LRM 4   | 592.4825 | 14.47721 | 39253.08 | 0.1601491 |\n",
       "\n"
      ],
      "text/plain": [
       "  Model   MSE      MAE      MAPE     WMAPE    \n",
       "1 ARIMA 1 738.9659 15.14293 37474.51 0.1681185\n",
       "2 ARIMA 2 738.3403 15.18102 37461.09 0.1685414\n",
       "3 ARIMA 3 739.3178 15.13699 37449.06 0.1680526\n",
       "4 LRM 4   592.4825 14.47721 39253.08 0.1601491"
      ]
     },
     "metadata": {},
     "output_type": "display_data"
    }
   ],
   "source": [
    "predictions <- predict(lm_model, newdata = na.omit(data))\n",
    "\n",
    "model_4_evaluation <- copy(na.omit(data))\n",
    "\n",
    "model_4_evaluation[,actual:=priceEur]\n",
    "model_4_evaluation[,priceEur_24:=priceEur-Difference_24]\n",
    "model_4_evaluation[,forecasted_diff:=predictions]\n",
    "model_4_evaluation[,forecasted_price:=priceEur_24 + predictions]\n",
    "\n",
    "residuals <- model_4_evaluation$actual - model_4_evaluation$forecasted_price\n",
    "\n",
    "mse <- mean(residuals^2)\n",
    "mae <- mean(abs(residuals))\n",
    "mape <- mean(abs(residuals)/((model_4_evaluation$actual)+0.000001))\n",
    "wmape <- sum(abs(residuals))/sum(model_4_evaluation$actual)\n",
    "\n",
    "new_row <- data.frame(\n",
    "  Model = \"LRM 4\",\n",
    "  MSE = mse,\n",
    "  MAE = mae,\n",
    "  MAPE = mape,\n",
    "  WMAPE = wmape\n",
    ")\n",
    "\n",
    "perf_results <- rbind(perf_results, new_row)\n",
    "\n",
    "perf_results"
   ]
  },
  {
   "cell_type": "markdown",
   "metadata": {},
   "source": [
    "# 5 Linear Regression with Hour of Day"
   ]
  },
  {
   "cell_type": "code",
   "execution_count": null,
   "metadata": {
    "vscode": {
     "languageId": "r"
    }
   },
   "outputs": [
    {
     "data": {
      "text/html": [
       "<table class=\"dataframe\">\n",
       "<caption>A data.table: 6 × 38</caption>\n",
       "<thead>\n",
       "\t<tr><th scope=col>DateTime</th><th scope=col>renewable_ratio</th><th scope=col>priceEur</th><th scope=col>Difference_24</th><th scope=col>Difference_168</th><th scope=col>Workday</th><th scope=col>Workday_168</th><th scope=col>Workday_24</th><th scope=col>forecast</th><th scope=col>BV Forecast</th><th scope=col>⋯</th><th scope=col>factor(Hour)14</th><th scope=col>factor(Hour)15</th><th scope=col>factor(Hour)16</th><th scope=col>factor(Hour)17</th><th scope=col>factor(Hour)18</th><th scope=col>factor(Hour)19</th><th scope=col>factor(Hour)20</th><th scope=col>factor(Hour)21</th><th scope=col>factor(Hour)22</th><th scope=col>factor(Hour)23</th></tr>\n",
       "\t<tr><th scope=col>&lt;dttm&gt;</th><th scope=col>&lt;dbl&gt;</th><th scope=col>&lt;dbl&gt;</th><th scope=col>&lt;dbl&gt;</th><th scope=col>&lt;dbl&gt;</th><th scope=col>&lt;int&gt;</th><th scope=col>&lt;dbl&gt;</th><th scope=col>&lt;dbl&gt;</th><th scope=col>&lt;dbl&gt;</th><th scope=col>&lt;dbl&gt;</th><th scope=col>⋯</th><th scope=col>&lt;dbl&gt;</th><th scope=col>&lt;dbl&gt;</th><th scope=col>&lt;dbl&gt;</th><th scope=col>&lt;dbl&gt;</th><th scope=col>&lt;dbl&gt;</th><th scope=col>&lt;dbl&gt;</th><th scope=col>&lt;dbl&gt;</th><th scope=col>&lt;dbl&gt;</th><th scope=col>&lt;dbl&gt;</th><th scope=col>&lt;dbl&gt;</th></tr>\n",
       "</thead>\n",
       "<tbody>\n",
       "\t<tr><td>2024-04-25 18:00:00</td><td>0.11151240</td><td>77.99</td><td>0</td><td> 0.67</td><td>1</td><td>1</td><td>1</td><td>318.28</td><td>5439.89</td><td>⋯</td><td>0</td><td>0</td><td>0</td><td>0</td><td>1</td><td>0</td><td>0</td><td>0</td><td>0</td><td>0</td></tr>\n",
       "\t<tr><td>2024-04-25 19:00:00</td><td>0.10691880</td><td>77.99</td><td>0</td><td>-0.44</td><td>1</td><td>1</td><td>1</td><td>264.01</td><td>4703.63</td><td>⋯</td><td>0</td><td>0</td><td>0</td><td>0</td><td>0</td><td>1</td><td>0</td><td>0</td><td>0</td><td>0</td></tr>\n",
       "\t<tr><td>2024-04-25 20:00:00</td><td>0.10165056</td><td>77.99</td><td>0</td><td>-0.44</td><td>1</td><td>1</td><td>1</td><td>219.62</td><td>4501.67</td><td>⋯</td><td>0</td><td>0</td><td>0</td><td>0</td><td>0</td><td>0</td><td>1</td><td>0</td><td>0</td><td>0</td></tr>\n",
       "\t<tr><td>2024-04-25 21:00:00</td><td>0.10212468</td><td>77.99</td><td>0</td><td>-0.44</td><td>1</td><td>1</td><td>1</td><td>191.99</td><td>4394.75</td><td>⋯</td><td>0</td><td>0</td><td>0</td><td>0</td><td>0</td><td>0</td><td>0</td><td>1</td><td>0</td><td>0</td></tr>\n",
       "\t<tr><td>2024-04-25 22:00:00</td><td>0.09613362</td><td>77.99</td><td>0</td><td> 1.04</td><td>1</td><td>1</td><td>1</td><td>157.67</td><td>4235.98</td><td>⋯</td><td>0</td><td>0</td><td>0</td><td>0</td><td>0</td><td>0</td><td>0</td><td>0</td><td>1</td><td>0</td></tr>\n",
       "\t<tr><td>2024-04-25 23:00:00</td><td>0.09804755</td><td>77.99</td><td>0</td><td>10.57</td><td>1</td><td>1</td><td>1</td><td>134.85</td><td>4053.30</td><td>⋯</td><td>0</td><td>0</td><td>0</td><td>0</td><td>0</td><td>0</td><td>0</td><td>0</td><td>0</td><td>1</td></tr>\n",
       "</tbody>\n",
       "</table>\n"
      ],
      "text/latex": [
       "A data.table: 6 × 38\n",
       "\\begin{tabular}{lllllllllllllllllllll}\n",
       " DateTime & renewable\\_ratio & priceEur & Difference\\_24 & Difference\\_168 & Workday & Workday\\_168 & Workday\\_24 & forecast & BV Forecast & ⋯ & factor(Hour)14 & factor(Hour)15 & factor(Hour)16 & factor(Hour)17 & factor(Hour)18 & factor(Hour)19 & factor(Hour)20 & factor(Hour)21 & factor(Hour)22 & factor(Hour)23\\\\\n",
       " <dttm> & <dbl> & <dbl> & <dbl> & <dbl> & <int> & <dbl> & <dbl> & <dbl> & <dbl> & ⋯ & <dbl> & <dbl> & <dbl> & <dbl> & <dbl> & <dbl> & <dbl> & <dbl> & <dbl> & <dbl>\\\\\n",
       "\\hline\n",
       "\t 2024-04-25 18:00:00 & 0.11151240 & 77.99 & 0 &  0.67 & 1 & 1 & 1 & 318.28 & 5439.89 & ⋯ & 0 & 0 & 0 & 0 & 1 & 0 & 0 & 0 & 0 & 0\\\\\n",
       "\t 2024-04-25 19:00:00 & 0.10691880 & 77.99 & 0 & -0.44 & 1 & 1 & 1 & 264.01 & 4703.63 & ⋯ & 0 & 0 & 0 & 0 & 0 & 1 & 0 & 0 & 0 & 0\\\\\n",
       "\t 2024-04-25 20:00:00 & 0.10165056 & 77.99 & 0 & -0.44 & 1 & 1 & 1 & 219.62 & 4501.67 & ⋯ & 0 & 0 & 0 & 0 & 0 & 0 & 1 & 0 & 0 & 0\\\\\n",
       "\t 2024-04-25 21:00:00 & 0.10212468 & 77.99 & 0 & -0.44 & 1 & 1 & 1 & 191.99 & 4394.75 & ⋯ & 0 & 0 & 0 & 0 & 0 & 0 & 0 & 1 & 0 & 0\\\\\n",
       "\t 2024-04-25 22:00:00 & 0.09613362 & 77.99 & 0 &  1.04 & 1 & 1 & 1 & 157.67 & 4235.98 & ⋯ & 0 & 0 & 0 & 0 & 0 & 0 & 0 & 0 & 1 & 0\\\\\n",
       "\t 2024-04-25 23:00:00 & 0.09804755 & 77.99 & 0 & 10.57 & 1 & 1 & 1 & 134.85 & 4053.30 & ⋯ & 0 & 0 & 0 & 0 & 0 & 0 & 0 & 0 & 0 & 1\\\\\n",
       "\\end{tabular}\n"
      ],
      "text/markdown": [
       "\n",
       "A data.table: 6 × 38\n",
       "\n",
       "| DateTime &lt;dttm&gt; | renewable_ratio &lt;dbl&gt; | priceEur &lt;dbl&gt; | Difference_24 &lt;dbl&gt; | Difference_168 &lt;dbl&gt; | Workday &lt;int&gt; | Workday_168 &lt;dbl&gt; | Workday_24 &lt;dbl&gt; | forecast &lt;dbl&gt; | BV Forecast &lt;dbl&gt; | ⋯ ⋯ | factor(Hour)14 &lt;dbl&gt; | factor(Hour)15 &lt;dbl&gt; | factor(Hour)16 &lt;dbl&gt; | factor(Hour)17 &lt;dbl&gt; | factor(Hour)18 &lt;dbl&gt; | factor(Hour)19 &lt;dbl&gt; | factor(Hour)20 &lt;dbl&gt; | factor(Hour)21 &lt;dbl&gt; | factor(Hour)22 &lt;dbl&gt; | factor(Hour)23 &lt;dbl&gt; |\n",
       "|---|---|---|---|---|---|---|---|---|---|---|---|---|---|---|---|---|---|---|---|---|\n",
       "| 2024-04-25 18:00:00 | 0.11151240 | 77.99 | 0 |  0.67 | 1 | 1 | 1 | 318.28 | 5439.89 | ⋯ | 0 | 0 | 0 | 0 | 1 | 0 | 0 | 0 | 0 | 0 |\n",
       "| 2024-04-25 19:00:00 | 0.10691880 | 77.99 | 0 | -0.44 | 1 | 1 | 1 | 264.01 | 4703.63 | ⋯ | 0 | 0 | 0 | 0 | 0 | 1 | 0 | 0 | 0 | 0 |\n",
       "| 2024-04-25 20:00:00 | 0.10165056 | 77.99 | 0 | -0.44 | 1 | 1 | 1 | 219.62 | 4501.67 | ⋯ | 0 | 0 | 0 | 0 | 0 | 0 | 1 | 0 | 0 | 0 |\n",
       "| 2024-04-25 21:00:00 | 0.10212468 | 77.99 | 0 | -0.44 | 1 | 1 | 1 | 191.99 | 4394.75 | ⋯ | 0 | 0 | 0 | 0 | 0 | 0 | 0 | 1 | 0 | 0 |\n",
       "| 2024-04-25 22:00:00 | 0.09613362 | 77.99 | 0 |  1.04 | 1 | 1 | 1 | 157.67 | 4235.98 | ⋯ | 0 | 0 | 0 | 0 | 0 | 0 | 0 | 0 | 1 | 0 |\n",
       "| 2024-04-25 23:00:00 | 0.09804755 | 77.99 | 0 | 10.57 | 1 | 1 | 1 | 134.85 | 4053.30 | ⋯ | 0 | 0 | 0 | 0 | 0 | 0 | 0 | 0 | 0 | 1 |\n",
       "\n"
      ],
      "text/plain": [
       "  DateTime            renewable_ratio priceEur Difference_24 Difference_168\n",
       "1 2024-04-25 18:00:00 0.11151240      77.99    0              0.67         \n",
       "2 2024-04-25 19:00:00 0.10691880      77.99    0             -0.44         \n",
       "3 2024-04-25 20:00:00 0.10165056      77.99    0             -0.44         \n",
       "4 2024-04-25 21:00:00 0.10212468      77.99    0             -0.44         \n",
       "5 2024-04-25 22:00:00 0.09613362      77.99    0              1.04         \n",
       "6 2024-04-25 23:00:00 0.09804755      77.99    0             10.57         \n",
       "  Workday Workday_168 Workday_24 forecast BV Forecast ⋯ factor(Hour)14\n",
       "1 1       1           1          318.28   5439.89     ⋯ 0             \n",
       "2 1       1           1          264.01   4703.63     ⋯ 0             \n",
       "3 1       1           1          219.62   4501.67     ⋯ 0             \n",
       "4 1       1           1          191.99   4394.75     ⋯ 0             \n",
       "5 1       1           1          157.67   4235.98     ⋯ 0             \n",
       "6 1       1           1          134.85   4053.30     ⋯ 0             \n",
       "  factor(Hour)15 factor(Hour)16 factor(Hour)17 factor(Hour)18 factor(Hour)19\n",
       "1 0              0              0              1              0             \n",
       "2 0              0              0              0              1             \n",
       "3 0              0              0              0              0             \n",
       "4 0              0              0              0              0             \n",
       "5 0              0              0              0              0             \n",
       "6 0              0              0              0              0             \n",
       "  factor(Hour)20 factor(Hour)21 factor(Hour)22 factor(Hour)23\n",
       "1 0              0              0              0             \n",
       "2 0              0              0              0             \n",
       "3 1              0              0              0             \n",
       "4 0              1              0              0             \n",
       "5 0              0              1              0             \n",
       "6 0              0              0              1             "
      ]
     },
     "metadata": {},
     "output_type": "display_data"
    }
   ],
   "source": [
    "data_path='data.csv'\n",
    "data=fread(data_path)\n",
    "\n",
    "data[, diff_24_lag_24 := shift(Difference_24, 24)]\n",
    "data[, diff_24_lag_168 := shift(Difference_24, 168)]\n",
    "\n",
    "data <- data %>%\n",
    "  mutate(\n",
    "    Date = as.Date(DateTime),  # Extract date\n",
    "    Hour = hour(DateTime)      # Extract hour\n",
    "  )\n",
    "\n",
    "data_one_hot <- model.matrix(~ factor(Hour) - 1, data = data)  # The '-1' removes the intercept\n",
    "\n",
    "\n",
    "data <- cbind(data, data_one_hot)\n",
    "\n",
    "tail(data)"
   ]
  },
  {
   "cell_type": "code",
   "execution_count": null,
   "metadata": {
    "vscode": {
     "languageId": "r"
    }
   },
   "outputs": [
    {
     "data": {
      "text/plain": [
       "\n",
       "Call:\n",
       "lm(formula = Difference_24 ~ diff_24_lag_24 + diff_24_lag_168 + \n",
       "    Workday + Workday_24 + as.factor(factor(Hour)) - 1, data = data)\n",
       "\n",
       "Residuals:\n",
       "     Min       1Q   Median       3Q      Max \n",
       "-248.787   -7.110    0.054    7.925  190.388 \n",
       "\n",
       "Coefficients:\n",
       "                            Estimate Std. Error t value Pr(>|t|)    \n",
       "diff_24_lag_24             -0.331927   0.005314 -62.458  < 2e-16 ***\n",
       "diff_24_lag_168             0.263108   0.005319  49.470  < 2e-16 ***\n",
       "Workday                    14.014573   0.833851  16.807  < 2e-16 ***\n",
       "Workday_24                -10.785217   0.834145 -12.930  < 2e-16 ***\n",
       "as.factor(factor(Hour))0   -3.066918   1.114992  -2.751  0.00595 ** \n",
       "as.factor(factor(Hour))1   -3.067742   1.114995  -2.751  0.00594 ** \n",
       "as.factor(factor(Hour))2   -3.072944   1.114998  -2.756  0.00585 ** \n",
       "as.factor(factor(Hour))3   -3.078226   1.114999  -2.761  0.00577 ** \n",
       "as.factor(factor(Hour))4   -3.074759   1.114996  -2.758  0.00583 ** \n",
       "as.factor(factor(Hour))5   -3.078561   1.114997  -2.761  0.00577 ** \n",
       "as.factor(factor(Hour))6   -3.091545   1.115000  -2.773  0.00556 ** \n",
       "as.factor(factor(Hour))7   -3.081424   1.115000  -2.764  0.00572 ** \n",
       "as.factor(factor(Hour))8   -3.067911   1.114993  -2.752  0.00594 ** \n",
       "as.factor(factor(Hour))9   -3.065544   1.114993  -2.749  0.00597 ** \n",
       "as.factor(factor(Hour))10  -3.064316   1.114996  -2.748  0.00599 ** \n",
       "as.factor(factor(Hour))11  -3.069384   1.114997  -2.753  0.00591 ** \n",
       "as.factor(factor(Hour))12  -3.092578   1.115003  -2.774  0.00555 ** \n",
       "as.factor(factor(Hour))13  -3.089924   1.115000  -2.771  0.00559 ** \n",
       "as.factor(factor(Hour))14  -3.075445   1.114995  -2.758  0.00581 ** \n",
       "as.factor(factor(Hour))15  -3.069936   1.114995  -2.753  0.00590 ** \n",
       "as.factor(factor(Hour))16  -3.066593   1.114993  -2.750  0.00596 ** \n",
       "as.factor(factor(Hour))17  -3.070925   1.114992  -2.754  0.00589 ** \n",
       "as.factor(factor(Hour))18  -3.071540   1.114992  -2.755  0.00588 ** \n",
       "as.factor(factor(Hour))19  -3.070685   1.114992  -2.754  0.00589 ** \n",
       "as.factor(factor(Hour))20  -3.070184   1.114992  -2.754  0.00590 ** \n",
       "as.factor(factor(Hour))21  -3.069707   1.114992  -2.753  0.00591 ** \n",
       "as.factor(factor(Hour))22  -3.068914   1.114992  -2.752  0.00592 ** \n",
       "as.factor(factor(Hour))23  -3.066267   1.114992  -2.750  0.00596 ** \n",
       "---\n",
       "Signif. codes:  0 '***' 0.001 '**' 0.01 '*' 0.05 '.' 0.1 ' ' 1\n",
       "\n",
       "Residual standard error: 24.35 on 28556 degrees of freedom\n",
       "  (168 observations deleted due to missingness)\n",
       "Multiple R-squared:  0.2088,\tAdjusted R-squared:  0.208 \n",
       "F-statistic: 269.1 on 28 and 28556 DF,  p-value: < 2.2e-16\n"
      ]
     },
     "metadata": {},
     "output_type": "display_data"
    }
   ],
   "source": [
    "data <- data %>%\n",
    "  mutate(across(starts_with(\"factor(Hour)\"), as.factor))\n",
    "\n",
    "\n",
    "lm_model <- lm(Difference_24 ~ diff_24_lag_24 + diff_24_lag_168 + Workday + Workday_24 + \n",
    "                 as.factor(factor(Hour)) -1 ,  # Minus 1 to remove intercept\n",
    "               data = data)\n",
    "\n",
    "summary(lm_model)\n"
   ]
  },
  {
   "cell_type": "code",
   "execution_count": null,
   "metadata": {
    "vscode": {
     "languageId": "r"
    }
   },
   "outputs": [
    {
     "data": {
      "text/html": [
       "<table class=\"dataframe\">\n",
       "<caption>A data.frame: 5 × 5</caption>\n",
       "<thead>\n",
       "\t<tr><th scope=col>Model</th><th scope=col>MSE</th><th scope=col>MAE</th><th scope=col>MAPE</th><th scope=col>WMAPE</th></tr>\n",
       "\t<tr><th scope=col>&lt;chr&gt;</th><th scope=col>&lt;dbl&gt;</th><th scope=col>&lt;dbl&gt;</th><th scope=col>&lt;dbl&gt;</th><th scope=col>&lt;dbl&gt;</th></tr>\n",
       "</thead>\n",
       "<tbody>\n",
       "\t<tr><td>ARIMA 1</td><td>738.9659</td><td>15.14293</td><td>37474.51</td><td>0.1681185</td></tr>\n",
       "\t<tr><td>ARIMA 2</td><td>738.3403</td><td>15.18102</td><td>37461.09</td><td>0.1685414</td></tr>\n",
       "\t<tr><td>ARIMA 3</td><td>739.3178</td><td>15.13699</td><td>37449.06</td><td>0.1680526</td></tr>\n",
       "\t<tr><td>LRM 4  </td><td>592.4825</td><td>14.47721</td><td>39253.08</td><td>0.1601491</td></tr>\n",
       "\t<tr><td>LRM 5  </td><td>592.4824</td><td>14.47723</td><td>39250.55</td><td>0.1601492</td></tr>\n",
       "</tbody>\n",
       "</table>\n"
      ],
      "text/latex": [
       "A data.frame: 5 × 5\n",
       "\\begin{tabular}{lllll}\n",
       " Model & MSE & MAE & MAPE & WMAPE\\\\\n",
       " <chr> & <dbl> & <dbl> & <dbl> & <dbl>\\\\\n",
       "\\hline\n",
       "\t ARIMA 1 & 738.9659 & 15.14293 & 37474.51 & 0.1681185\\\\\n",
       "\t ARIMA 2 & 738.3403 & 15.18102 & 37461.09 & 0.1685414\\\\\n",
       "\t ARIMA 3 & 739.3178 & 15.13699 & 37449.06 & 0.1680526\\\\\n",
       "\t LRM 4   & 592.4825 & 14.47721 & 39253.08 & 0.1601491\\\\\n",
       "\t LRM 5   & 592.4824 & 14.47723 & 39250.55 & 0.1601492\\\\\n",
       "\\end{tabular}\n"
      ],
      "text/markdown": [
       "\n",
       "A data.frame: 5 × 5\n",
       "\n",
       "| Model &lt;chr&gt; | MSE &lt;dbl&gt; | MAE &lt;dbl&gt; | MAPE &lt;dbl&gt; | WMAPE &lt;dbl&gt; |\n",
       "|---|---|---|---|---|\n",
       "| ARIMA 1 | 738.9659 | 15.14293 | 37474.51 | 0.1681185 |\n",
       "| ARIMA 2 | 738.3403 | 15.18102 | 37461.09 | 0.1685414 |\n",
       "| ARIMA 3 | 739.3178 | 15.13699 | 37449.06 | 0.1680526 |\n",
       "| LRM 4   | 592.4825 | 14.47721 | 39253.08 | 0.1601491 |\n",
       "| LRM 5   | 592.4824 | 14.47723 | 39250.55 | 0.1601492 |\n",
       "\n"
      ],
      "text/plain": [
       "  Model   MSE      MAE      MAPE     WMAPE    \n",
       "1 ARIMA 1 738.9659 15.14293 37474.51 0.1681185\n",
       "2 ARIMA 2 738.3403 15.18102 37461.09 0.1685414\n",
       "3 ARIMA 3 739.3178 15.13699 37449.06 0.1680526\n",
       "4 LRM 4   592.4825 14.47721 39253.08 0.1601491\n",
       "5 LRM 5   592.4824 14.47723 39250.55 0.1601492"
      ]
     },
     "metadata": {},
     "output_type": "display_data"
    }
   ],
   "source": [
    "predictions <- predict(lm_model, newdata = na.omit(data))\n",
    "\n",
    "model_5_evaluation <- copy(na.omit(data))\n",
    "\n",
    "model_5_evaluation[,actual:=priceEur]\n",
    "model_5_evaluation[,priceEur_24:=priceEur-Difference_24]\n",
    "model_5_evaluation[,forecasted_diff:=predictions]\n",
    "model_5_evaluation[,forecasted_price:=priceEur_24 + predictions]\n",
    "\n",
    "residuals <- model_5_evaluation$actual - model_5_evaluation$forecasted_price\n",
    "\n",
    "mse <- mean(residuals^2)\n",
    "mae <- mean(abs(residuals))\n",
    "mape <- mean(abs(residuals)/((model_5_evaluation$actual)+0.000001))\n",
    "wmape <- sum(abs(residuals))/sum(model_5_evaluation$actual)\n",
    "\n",
    "new_row <- data.frame(\n",
    "  Model = \"LRM 5\",\n",
    "  MSE = mse,\n",
    "  MAE = mae,\n",
    "  MAPE = mape,\n",
    "  WMAPE = wmape\n",
    ")\n",
    "\n",
    "perf_results <- rbind(perf_results, new_row)\n",
    "\n",
    "perf_results"
   ]
  },
  {
   "cell_type": "markdown",
   "metadata": {},
   "source": [
    "# 6 Same PTF as yesterday"
   ]
  },
  {
   "cell_type": "code",
   "execution_count": null,
   "metadata": {
    "vscode": {
     "languageId": "r"
    }
   },
   "outputs": [
    {
     "data": {
      "text/html": [
       "<table class=\"dataframe\">\n",
       "<caption>A data.frame: 6 × 5</caption>\n",
       "<thead>\n",
       "\t<tr><th scope=col>Model</th><th scope=col>MSE</th><th scope=col>MAE</th><th scope=col>MAPE</th><th scope=col>WMAPE</th></tr>\n",
       "\t<tr><th scope=col>&lt;chr&gt;</th><th scope=col>&lt;dbl&gt;</th><th scope=col>&lt;dbl&gt;</th><th scope=col>&lt;dbl&gt;</th><th scope=col>&lt;dbl&gt;</th></tr>\n",
       "</thead>\n",
       "<tbody>\n",
       "\t<tr><td>ARIMA 1            </td><td>738.9659</td><td>15.14293</td><td>37474.51</td><td>0.1681185</td></tr>\n",
       "\t<tr><td>ARIMA 2            </td><td>738.3403</td><td>15.18102</td><td>37461.09</td><td>0.1685414</td></tr>\n",
       "\t<tr><td>ARIMA 3            </td><td>739.3178</td><td>15.13699</td><td>37449.06</td><td>0.1680526</td></tr>\n",
       "\t<tr><td>LRM 4              </td><td>592.4825</td><td>14.47721</td><td>39253.08</td><td>0.1601491</td></tr>\n",
       "\t<tr><td>LRM 5              </td><td>592.4824</td><td>14.47723</td><td>39250.55</td><td>0.1601492</td></tr>\n",
       "\t<tr><td>Same as Yesterday 6</td><td>744.5148</td><td>15.12668</td><td>37447.11</td><td>0.1679381</td></tr>\n",
       "</tbody>\n",
       "</table>\n"
      ],
      "text/latex": [
       "A data.frame: 6 × 5\n",
       "\\begin{tabular}{lllll}\n",
       " Model & MSE & MAE & MAPE & WMAPE\\\\\n",
       " <chr> & <dbl> & <dbl> & <dbl> & <dbl>\\\\\n",
       "\\hline\n",
       "\t ARIMA 1             & 738.9659 & 15.14293 & 37474.51 & 0.1681185\\\\\n",
       "\t ARIMA 2             & 738.3403 & 15.18102 & 37461.09 & 0.1685414\\\\\n",
       "\t ARIMA 3             & 739.3178 & 15.13699 & 37449.06 & 0.1680526\\\\\n",
       "\t LRM 4               & 592.4825 & 14.47721 & 39253.08 & 0.1601491\\\\\n",
       "\t LRM 5               & 592.4824 & 14.47723 & 39250.55 & 0.1601492\\\\\n",
       "\t Same as Yesterday 6 & 744.5148 & 15.12668 & 37447.11 & 0.1679381\\\\\n",
       "\\end{tabular}\n"
      ],
      "text/markdown": [
       "\n",
       "A data.frame: 6 × 5\n",
       "\n",
       "| Model &lt;chr&gt; | MSE &lt;dbl&gt; | MAE &lt;dbl&gt; | MAPE &lt;dbl&gt; | WMAPE &lt;dbl&gt; |\n",
       "|---|---|---|---|---|\n",
       "| ARIMA 1             | 738.9659 | 15.14293 | 37474.51 | 0.1681185 |\n",
       "| ARIMA 2             | 738.3403 | 15.18102 | 37461.09 | 0.1685414 |\n",
       "| ARIMA 3             | 739.3178 | 15.13699 | 37449.06 | 0.1680526 |\n",
       "| LRM 4               | 592.4825 | 14.47721 | 39253.08 | 0.1601491 |\n",
       "| LRM 5               | 592.4824 | 14.47723 | 39250.55 | 0.1601492 |\n",
       "| Same as Yesterday 6 | 744.5148 | 15.12668 | 37447.11 | 0.1679381 |\n",
       "\n"
      ],
      "text/plain": [
       "  Model               MSE      MAE      MAPE     WMAPE    \n",
       "1 ARIMA 1             738.9659 15.14293 37474.51 0.1681185\n",
       "2 ARIMA 2             738.3403 15.18102 37461.09 0.1685414\n",
       "3 ARIMA 3             739.3178 15.13699 37449.06 0.1680526\n",
       "4 LRM 4               592.4825 14.47721 39253.08 0.1601491\n",
       "5 LRM 5               592.4824 14.47723 39250.55 0.1601492\n",
       "6 Same as Yesterday 6 744.5148 15.12668 37447.11 0.1679381"
      ]
     },
     "metadata": {},
     "output_type": "display_data"
    }
   ],
   "source": [
    "data_path='data.csv'\n",
    "data=fread(data_path)\n",
    "\n",
    "model_6_evaluation <- copy(data)\n",
    "model_6_evaluation[,actual:=priceEur]\n",
    "model_6_evaluation[,forecasted_price:=priceEur - Difference_24]\n",
    "\n",
    "residuals <- model_6_evaluation$actual - model_6_evaluation$forecasted_price\n",
    "\n",
    "mse <- mean(residuals^2)\n",
    "mae <- mean(abs(residuals))\n",
    "mape <- mean(abs(residuals)/((model_6_evaluation$actual)+0.000001))\n",
    "wmape <- sum(abs(residuals))/sum(model_6_evaluation$actual)\n",
    "\n",
    "new_row <- data.frame(\n",
    "  Model = \"Same as Yesterday 6\",\n",
    "  MSE = mse,\n",
    "  MAE = mae,\n",
    "  MAPE = mape,\n",
    "  WMAPE = wmape\n",
    ")\n",
    "\n",
    "perf_results <- rbind(perf_results, new_row)\n",
    "\n",
    "perf_results"
   ]
  },
  {
   "cell_type": "markdown",
   "metadata": {},
   "source": [
    "# 7 Same PTF as Last Week"
   ]
  },
  {
   "cell_type": "code",
   "execution_count": null,
   "metadata": {
    "vscode": {
     "languageId": "r"
    }
   },
   "outputs": [
    {
     "data": {
      "text/html": [
       "<table class=\"dataframe\">\n",
       "<caption>A data.frame: 7 × 5</caption>\n",
       "<thead>\n",
       "\t<tr><th scope=col>Model</th><th scope=col>MSE</th><th scope=col>MAE</th><th scope=col>MAPE</th><th scope=col>WMAPE</th></tr>\n",
       "\t<tr><th scope=col>&lt;chr&gt;</th><th scope=col>&lt;dbl&gt;</th><th scope=col>&lt;dbl&gt;</th><th scope=col>&lt;dbl&gt;</th><th scope=col>&lt;dbl&gt;</th></tr>\n",
       "</thead>\n",
       "<tbody>\n",
       "\t<tr><td>ARIMA 1            </td><td>738.9659</td><td>15.14293</td><td>37474.51</td><td>0.1681185</td></tr>\n",
       "\t<tr><td>ARIMA 2            </td><td>738.3403</td><td>15.18102</td><td>37461.09</td><td>0.1685414</td></tr>\n",
       "\t<tr><td>ARIMA 3            </td><td>739.3178</td><td>15.13699</td><td>37449.06</td><td>0.1680526</td></tr>\n",
       "\t<tr><td>LRM 4              </td><td>592.4825</td><td>14.47721</td><td>39253.08</td><td>0.1601491</td></tr>\n",
       "\t<tr><td>LRM 5              </td><td>592.4824</td><td>14.47723</td><td>39250.55</td><td>0.1601492</td></tr>\n",
       "\t<tr><td>Same as Yesterday 6</td><td>744.5148</td><td>15.12668</td><td>37447.11</td><td>0.1679381</td></tr>\n",
       "\t<tr><td>Same as Last Week 7</td><td>815.4347</td><td>16.66282</td><td>39897.34</td><td>0.1849925</td></tr>\n",
       "</tbody>\n",
       "</table>\n"
      ],
      "text/latex": [
       "A data.frame: 7 × 5\n",
       "\\begin{tabular}{lllll}\n",
       " Model & MSE & MAE & MAPE & WMAPE\\\\\n",
       " <chr> & <dbl> & <dbl> & <dbl> & <dbl>\\\\\n",
       "\\hline\n",
       "\t ARIMA 1             & 738.9659 & 15.14293 & 37474.51 & 0.1681185\\\\\n",
       "\t ARIMA 2             & 738.3403 & 15.18102 & 37461.09 & 0.1685414\\\\\n",
       "\t ARIMA 3             & 739.3178 & 15.13699 & 37449.06 & 0.1680526\\\\\n",
       "\t LRM 4               & 592.4825 & 14.47721 & 39253.08 & 0.1601491\\\\\n",
       "\t LRM 5               & 592.4824 & 14.47723 & 39250.55 & 0.1601492\\\\\n",
       "\t Same as Yesterday 6 & 744.5148 & 15.12668 & 37447.11 & 0.1679381\\\\\n",
       "\t Same as Last Week 7 & 815.4347 & 16.66282 & 39897.34 & 0.1849925\\\\\n",
       "\\end{tabular}\n"
      ],
      "text/markdown": [
       "\n",
       "A data.frame: 7 × 5\n",
       "\n",
       "| Model &lt;chr&gt; | MSE &lt;dbl&gt; | MAE &lt;dbl&gt; | MAPE &lt;dbl&gt; | WMAPE &lt;dbl&gt; |\n",
       "|---|---|---|---|---|\n",
       "| ARIMA 1             | 738.9659 | 15.14293 | 37474.51 | 0.1681185 |\n",
       "| ARIMA 2             | 738.3403 | 15.18102 | 37461.09 | 0.1685414 |\n",
       "| ARIMA 3             | 739.3178 | 15.13699 | 37449.06 | 0.1680526 |\n",
       "| LRM 4               | 592.4825 | 14.47721 | 39253.08 | 0.1601491 |\n",
       "| LRM 5               | 592.4824 | 14.47723 | 39250.55 | 0.1601492 |\n",
       "| Same as Yesterday 6 | 744.5148 | 15.12668 | 37447.11 | 0.1679381 |\n",
       "| Same as Last Week 7 | 815.4347 | 16.66282 | 39897.34 | 0.1849925 |\n",
       "\n"
      ],
      "text/plain": [
       "  Model               MSE      MAE      MAPE     WMAPE    \n",
       "1 ARIMA 1             738.9659 15.14293 37474.51 0.1681185\n",
       "2 ARIMA 2             738.3403 15.18102 37461.09 0.1685414\n",
       "3 ARIMA 3             739.3178 15.13699 37449.06 0.1680526\n",
       "4 LRM 4               592.4825 14.47721 39253.08 0.1601491\n",
       "5 LRM 5               592.4824 14.47723 39250.55 0.1601492\n",
       "6 Same as Yesterday 6 744.5148 15.12668 37447.11 0.1679381\n",
       "7 Same as Last Week 7 815.4347 16.66282 39897.34 0.1849925"
      ]
     },
     "metadata": {},
     "output_type": "display_data"
    }
   ],
   "source": [
    "data_path='data.csv'\n",
    "data=fread(data_path)\n",
    "\n",
    "model_7_evaluation <- copy(data)\n",
    "model_7_evaluation[,actual:=priceEur]\n",
    "model_7_evaluation[,forecasted_price:=priceEur - Difference_168]\n",
    "\n",
    "residuals <- model_7_evaluation$actual - model_7_evaluation$forecasted_price\n",
    "\n",
    "mse <- mean(residuals^2)\n",
    "mae <- mean(abs(residuals))\n",
    "mape <- mean(abs(residuals)/((model_7_evaluation$actual)+0.000001))\n",
    "wmape <- sum(abs(residuals))/sum(model_7_evaluation$actual)\n",
    "\n",
    "new_row <- data.frame(\n",
    "  Model = \"Same as Last Week 7\",\n",
    "  MSE = mse,\n",
    "  MAE = mae,\n",
    "  MAPE = mape,\n",
    "  WMAPE = wmape\n",
    ")\n",
    "\n",
    "perf_results <- rbind(perf_results, new_row)\n",
    "\n",
    "perf_results"
   ]
  },
  {
   "cell_type": "markdown",
   "metadata": {},
   "source": [
    "# 8 Linear Regression for Price with Lag_24, Lag_168, and Workdays"
   ]
  },
  {
   "cell_type": "code",
   "execution_count": null,
   "metadata": {
    "vscode": {
     "languageId": "r"
    }
   },
   "outputs": [
    {
     "data": {
      "text/html": [
       "<table class=\"dataframe\">\n",
       "<caption>A data.table: 6 × 12</caption>\n",
       "<thead>\n",
       "\t<tr><th scope=col>DateTime</th><th scope=col>renewable_ratio</th><th scope=col>priceEur</th><th scope=col>Difference_24</th><th scope=col>Difference_168</th><th scope=col>Workday</th><th scope=col>Workday_168</th><th scope=col>Workday_24</th><th scope=col>forecast</th><th scope=col>BV Forecast</th><th scope=col>price_lag_24</th><th scope=col>price_lag_168</th></tr>\n",
       "\t<tr><th scope=col>&lt;dttm&gt;</th><th scope=col>&lt;dbl&gt;</th><th scope=col>&lt;dbl&gt;</th><th scope=col>&lt;dbl&gt;</th><th scope=col>&lt;dbl&gt;</th><th scope=col>&lt;int&gt;</th><th scope=col>&lt;dbl&gt;</th><th scope=col>&lt;dbl&gt;</th><th scope=col>&lt;dbl&gt;</th><th scope=col>&lt;dbl&gt;</th><th scope=col>&lt;dbl&gt;</th><th scope=col>&lt;dbl&gt;</th></tr>\n",
       "</thead>\n",
       "<tbody>\n",
       "\t<tr><td>2021-01-14 00:00:00</td><td>0.04073709</td><td>35.26</td><td>1.16</td><td>2.17</td><td>1</td><td>1</td><td>1</td><td>27.4</td><td>4187.97</td><td>34.10</td><td>33.09</td></tr>\n",
       "\t<tr><td>2021-01-14 01:00:00</td><td>0.04586432</td><td>35.13</td><td>4.79</td><td>0.94</td><td>1</td><td>1</td><td>1</td><td>30.1</td><td>3975.82</td><td>30.34</td><td>34.19</td></tr>\n",
       "\t<tr><td>2021-01-14 02:00:00</td><td>0.05103432</td><td>34.87</td><td>2.32</td><td>5.17</td><td>1</td><td>1</td><td>1</td><td>37.3</td><td>3885.02</td><td>32.55</td><td>29.70</td></tr>\n",
       "\t<tr><td>2021-01-14 03:00:00</td><td>0.05995258</td><td>34.58</td><td>7.66</td><td>5.35</td><td>1</td><td>1</td><td>1</td><td>41.0</td><td>3589.79</td><td>26.92</td><td>29.23</td></tr>\n",
       "\t<tr><td>2021-01-14 04:00:00</td><td>0.06207705</td><td>34.57</td><td>6.45</td><td>7.32</td><td>1</td><td>1</td><td>1</td><td>52.6</td><td>3137.07</td><td>28.12</td><td>27.25</td></tr>\n",
       "\t<tr><td>2021-01-14 05:00:00</td><td>0.07138521</td><td>34.53</td><td>0.32</td><td>7.28</td><td>1</td><td>1</td><td>1</td><td>67.9</td><td>2717.61</td><td>34.21</td><td>27.25</td></tr>\n",
       "</tbody>\n",
       "</table>\n"
      ],
      "text/latex": [
       "A data.table: 6 × 12\n",
       "\\begin{tabular}{llllllllllll}\n",
       " DateTime & renewable\\_ratio & priceEur & Difference\\_24 & Difference\\_168 & Workday & Workday\\_168 & Workday\\_24 & forecast & BV Forecast & price\\_lag\\_24 & price\\_lag\\_168\\\\\n",
       " <dttm> & <dbl> & <dbl> & <dbl> & <dbl> & <int> & <dbl> & <dbl> & <dbl> & <dbl> & <dbl> & <dbl>\\\\\n",
       "\\hline\n",
       "\t 2021-01-14 00:00:00 & 0.04073709 & 35.26 & 1.16 & 2.17 & 1 & 1 & 1 & 27.4 & 4187.97 & 34.10 & 33.09\\\\\n",
       "\t 2021-01-14 01:00:00 & 0.04586432 & 35.13 & 4.79 & 0.94 & 1 & 1 & 1 & 30.1 & 3975.82 & 30.34 & 34.19\\\\\n",
       "\t 2021-01-14 02:00:00 & 0.05103432 & 34.87 & 2.32 & 5.17 & 1 & 1 & 1 & 37.3 & 3885.02 & 32.55 & 29.70\\\\\n",
       "\t 2021-01-14 03:00:00 & 0.05995258 & 34.58 & 7.66 & 5.35 & 1 & 1 & 1 & 41.0 & 3589.79 & 26.92 & 29.23\\\\\n",
       "\t 2021-01-14 04:00:00 & 0.06207705 & 34.57 & 6.45 & 7.32 & 1 & 1 & 1 & 52.6 & 3137.07 & 28.12 & 27.25\\\\\n",
       "\t 2021-01-14 05:00:00 & 0.07138521 & 34.53 & 0.32 & 7.28 & 1 & 1 & 1 & 67.9 & 2717.61 & 34.21 & 27.25\\\\\n",
       "\\end{tabular}\n"
      ],
      "text/markdown": [
       "\n",
       "A data.table: 6 × 12\n",
       "\n",
       "| DateTime &lt;dttm&gt; | renewable_ratio &lt;dbl&gt; | priceEur &lt;dbl&gt; | Difference_24 &lt;dbl&gt; | Difference_168 &lt;dbl&gt; | Workday &lt;int&gt; | Workday_168 &lt;dbl&gt; | Workday_24 &lt;dbl&gt; | forecast &lt;dbl&gt; | BV Forecast &lt;dbl&gt; | price_lag_24 &lt;dbl&gt; | price_lag_168 &lt;dbl&gt; |\n",
       "|---|---|---|---|---|---|---|---|---|---|---|---|\n",
       "| 2021-01-14 00:00:00 | 0.04073709 | 35.26 | 1.16 | 2.17 | 1 | 1 | 1 | 27.4 | 4187.97 | 34.10 | 33.09 |\n",
       "| 2021-01-14 01:00:00 | 0.04586432 | 35.13 | 4.79 | 0.94 | 1 | 1 | 1 | 30.1 | 3975.82 | 30.34 | 34.19 |\n",
       "| 2021-01-14 02:00:00 | 0.05103432 | 34.87 | 2.32 | 5.17 | 1 | 1 | 1 | 37.3 | 3885.02 | 32.55 | 29.70 |\n",
       "| 2021-01-14 03:00:00 | 0.05995258 | 34.58 | 7.66 | 5.35 | 1 | 1 | 1 | 41.0 | 3589.79 | 26.92 | 29.23 |\n",
       "| 2021-01-14 04:00:00 | 0.06207705 | 34.57 | 6.45 | 7.32 | 1 | 1 | 1 | 52.6 | 3137.07 | 28.12 | 27.25 |\n",
       "| 2021-01-14 05:00:00 | 0.07138521 | 34.53 | 0.32 | 7.28 | 1 | 1 | 1 | 67.9 | 2717.61 | 34.21 | 27.25 |\n",
       "\n"
      ],
      "text/plain": [
       "  DateTime            renewable_ratio priceEur Difference_24 Difference_168\n",
       "1 2021-01-14 00:00:00 0.04073709      35.26    1.16          2.17          \n",
       "2 2021-01-14 01:00:00 0.04586432      35.13    4.79          0.94          \n",
       "3 2021-01-14 02:00:00 0.05103432      34.87    2.32          5.17          \n",
       "4 2021-01-14 03:00:00 0.05995258      34.58    7.66          5.35          \n",
       "5 2021-01-14 04:00:00 0.06207705      34.57    6.45          7.32          \n",
       "6 2021-01-14 05:00:00 0.07138521      34.53    0.32          7.28          \n",
       "  Workday Workday_168 Workday_24 forecast BV Forecast price_lag_24\n",
       "1 1       1           1          27.4     4187.97     34.10       \n",
       "2 1       1           1          30.1     3975.82     30.34       \n",
       "3 1       1           1          37.3     3885.02     32.55       \n",
       "4 1       1           1          41.0     3589.79     26.92       \n",
       "5 1       1           1          52.6     3137.07     28.12       \n",
       "6 1       1           1          67.9     2717.61     34.21       \n",
       "  price_lag_168\n",
       "1 33.09        \n",
       "2 34.19        \n",
       "3 29.70        \n",
       "4 29.23        \n",
       "5 27.25        \n",
       "6 27.25        "
      ]
     },
     "metadata": {},
     "output_type": "display_data"
    }
   ],
   "source": [
    "data_path='data.csv'\n",
    "data=fread(data_path)\n",
    "\n",
    "data[,price_lag_24:=priceEur - Difference_24]\n",
    "data[,price_lag_168:=priceEur - Difference_168]\n",
    "head(data)"
   ]
  },
  {
   "cell_type": "code",
   "execution_count": null,
   "metadata": {
    "vscode": {
     "languageId": "r"
    }
   },
   "outputs": [
    {
     "data": {
      "text/plain": [
       "\n",
       "Call:\n",
       "lm(formula = priceEur ~ price_lag_24 + price_lag_168 + Workday + \n",
       "    Workday_24 + Workday_168, data = data)\n",
       "\n",
       "Residuals:\n",
       "     Min       1Q   Median       3Q      Max \n",
       "-227.331   -7.196   -0.713    7.793  150.824 \n",
       "\n",
       "Coefficients:\n",
       "               Estimate Std. Error t value Pr(>|t|)    \n",
       "(Intercept)     0.88662    1.06588   0.832   0.4055    \n",
       "price_lag_24    0.49286    0.00437 112.794   <2e-16 ***\n",
       "price_lag_168   0.46023    0.00436 105.567   <2e-16 ***\n",
       "Workday        16.50655    0.76736  21.511   <2e-16 ***\n",
       "Workday_24     -1.73332    0.77116  -2.248   0.0246 *  \n",
       "Workday_168   -11.20198    0.71046 -15.767   <2e-16 ***\n",
       "---\n",
       "Signif. codes:  0 '***' 0.001 '**' 0.01 '*' 0.05 '.' 0.1 ' ' 1\n",
       "\n",
       "Residual standard error: 22.37 on 28746 degrees of freedom\n",
       "Multiple R-squared:  0.8402,\tAdjusted R-squared:  0.8402 \n",
       "F-statistic: 3.024e+04 on 5 and 28746 DF,  p-value: < 2.2e-16\n"
      ]
     },
     "metadata": {},
     "output_type": "display_data"
    }
   ],
   "source": [
    "lm_model <- lm(priceEur ~  price_lag_24 + price_lag_168 + Workday + Workday_24 + Workday_168, data = data)\n",
    "\n",
    "\n",
    "summary(lm_model)"
   ]
  },
  {
   "cell_type": "code",
   "execution_count": null,
   "metadata": {
    "vscode": {
     "languageId": "r"
    }
   },
   "outputs": [
    {
     "data": {
      "text/html": [
       "<table class=\"dataframe\">\n",
       "<caption>A data.frame: 8 × 5</caption>\n",
       "<thead>\n",
       "\t<tr><th scope=col>Model</th><th scope=col>MSE</th><th scope=col>MAE</th><th scope=col>MAPE</th><th scope=col>WMAPE</th></tr>\n",
       "\t<tr><th scope=col>&lt;chr&gt;</th><th scope=col>&lt;dbl&gt;</th><th scope=col>&lt;dbl&gt;</th><th scope=col>&lt;dbl&gt;</th><th scope=col>&lt;dbl&gt;</th></tr>\n",
       "</thead>\n",
       "<tbody>\n",
       "\t<tr><td>ARIMA 1            </td><td>738.9659</td><td>15.14293</td><td>37474.51</td><td>0.1681185</td></tr>\n",
       "\t<tr><td>ARIMA 2            </td><td>738.3403</td><td>15.18102</td><td>37461.09</td><td>0.1685414</td></tr>\n",
       "\t<tr><td>ARIMA 3            </td><td>739.3178</td><td>15.13699</td><td>37449.06</td><td>0.1680526</td></tr>\n",
       "\t<tr><td>LRM 4              </td><td>592.4825</td><td>14.47721</td><td>39253.08</td><td>0.1601491</td></tr>\n",
       "\t<tr><td>LRM 5              </td><td>592.4824</td><td>14.47723</td><td>39250.55</td><td>0.1601492</td></tr>\n",
       "\t<tr><td>Same as Yesterday 6</td><td>744.5148</td><td>15.12668</td><td>37447.11</td><td>0.1679381</td></tr>\n",
       "\t<tr><td>Same as Last Week 7</td><td>815.4347</td><td>16.66282</td><td>39897.34</td><td>0.1849925</td></tr>\n",
       "\t<tr><td>LRM 8              </td><td>500.1183</td><td>13.75569</td><td>39405.29</td><td>0.1527173</td></tr>\n",
       "</tbody>\n",
       "</table>\n"
      ],
      "text/latex": [
       "A data.frame: 8 × 5\n",
       "\\begin{tabular}{lllll}\n",
       " Model & MSE & MAE & MAPE & WMAPE\\\\\n",
       " <chr> & <dbl> & <dbl> & <dbl> & <dbl>\\\\\n",
       "\\hline\n",
       "\t ARIMA 1             & 738.9659 & 15.14293 & 37474.51 & 0.1681185\\\\\n",
       "\t ARIMA 2             & 738.3403 & 15.18102 & 37461.09 & 0.1685414\\\\\n",
       "\t ARIMA 3             & 739.3178 & 15.13699 & 37449.06 & 0.1680526\\\\\n",
       "\t LRM 4               & 592.4825 & 14.47721 & 39253.08 & 0.1601491\\\\\n",
       "\t LRM 5               & 592.4824 & 14.47723 & 39250.55 & 0.1601492\\\\\n",
       "\t Same as Yesterday 6 & 744.5148 & 15.12668 & 37447.11 & 0.1679381\\\\\n",
       "\t Same as Last Week 7 & 815.4347 & 16.66282 & 39897.34 & 0.1849925\\\\\n",
       "\t LRM 8               & 500.1183 & 13.75569 & 39405.29 & 0.1527173\\\\\n",
       "\\end{tabular}\n"
      ],
      "text/markdown": [
       "\n",
       "A data.frame: 8 × 5\n",
       "\n",
       "| Model &lt;chr&gt; | MSE &lt;dbl&gt; | MAE &lt;dbl&gt; | MAPE &lt;dbl&gt; | WMAPE &lt;dbl&gt; |\n",
       "|---|---|---|---|---|\n",
       "| ARIMA 1             | 738.9659 | 15.14293 | 37474.51 | 0.1681185 |\n",
       "| ARIMA 2             | 738.3403 | 15.18102 | 37461.09 | 0.1685414 |\n",
       "| ARIMA 3             | 739.3178 | 15.13699 | 37449.06 | 0.1680526 |\n",
       "| LRM 4               | 592.4825 | 14.47721 | 39253.08 | 0.1601491 |\n",
       "| LRM 5               | 592.4824 | 14.47723 | 39250.55 | 0.1601492 |\n",
       "| Same as Yesterday 6 | 744.5148 | 15.12668 | 37447.11 | 0.1679381 |\n",
       "| Same as Last Week 7 | 815.4347 | 16.66282 | 39897.34 | 0.1849925 |\n",
       "| LRM 8               | 500.1183 | 13.75569 | 39405.29 | 0.1527173 |\n",
       "\n"
      ],
      "text/plain": [
       "  Model               MSE      MAE      MAPE     WMAPE    \n",
       "1 ARIMA 1             738.9659 15.14293 37474.51 0.1681185\n",
       "2 ARIMA 2             738.3403 15.18102 37461.09 0.1685414\n",
       "3 ARIMA 3             739.3178 15.13699 37449.06 0.1680526\n",
       "4 LRM 4               592.4825 14.47721 39253.08 0.1601491\n",
       "5 LRM 5               592.4824 14.47723 39250.55 0.1601492\n",
       "6 Same as Yesterday 6 744.5148 15.12668 37447.11 0.1679381\n",
       "7 Same as Last Week 7 815.4347 16.66282 39897.34 0.1849925\n",
       "8 LRM 8               500.1183 13.75569 39405.29 0.1527173"
      ]
     },
     "metadata": {},
     "output_type": "display_data"
    }
   ],
   "source": [
    "predictions <- predict(lm_model, newdata = na.omit(data))\n",
    "\n",
    "model_8_evaluation <- copy(na.omit(data))\n",
    "\n",
    "model_8_evaluation[,actual:=priceEur]\n",
    "model_8_evaluation[,forecasted_price:=predictions]\n",
    "\n",
    "residuals <- model_8_evaluation$actual - model_8_evaluation$forecasted_price\n",
    "\n",
    "mse <- mean(residuals^2)\n",
    "mae <- mean(abs(residuals))\n",
    "mape <- mean(abs(residuals)/((model_8_evaluation$actual)+0.000001))\n",
    "wmape <- sum(abs(residuals))/sum(model_8_evaluation$actual)\n",
    "\n",
    "new_row <- data.frame(\n",
    "  Model = \"LRM 8\",\n",
    "  MSE = mse,\n",
    "  MAE = mae,\n",
    "  MAPE = mape,\n",
    "  WMAPE = wmape\n",
    ")\n",
    "\n",
    "perf_results <- rbind(perf_results, new_row)\n",
    "\n",
    "perf_results"
   ]
  },
  {
   "cell_type": "markdown",
   "metadata": {},
   "source": [
    "# 8TH MODEL FOR SOLVING OPTIMIZATION MODEL"
   ]
  },
  {
   "cell_type": "code",
   "execution_count": null,
   "metadata": {
    "vscode": {
     "languageId": "r"
    }
   },
   "outputs": [
    {
     "data": {
      "text/html": [
       "<table class=\"dataframe\">\n",
       "<caption>A data.table: 6 × 9</caption>\n",
       "<thead>\n",
       "\t<tr><th scope=col>date</th><th scope=col>hour</th><th scope=col>price</th><th scope=col>priceUsd</th><th scope=col>priceEur</th><th scope=col>Price_Lag_24</th><th scope=col>Price_Lag_168</th><th scope=col>Workday</th><th scope=col>forecast</th></tr>\n",
       "\t<tr><th scope=col>&lt;dttm&gt;</th><th scope=col>&lt;chr&gt;</th><th scope=col>&lt;dbl&gt;</th><th scope=col>&lt;dbl&gt;</th><th scope=col>&lt;dbl&gt;</th><th scope=col>&lt;dbl&gt;</th><th scope=col>&lt;dbl&gt;</th><th scope=col>&lt;int&gt;</th><th scope=col>&lt;dbl&gt;</th></tr>\n",
       "</thead>\n",
       "<tbody>\n",
       "\t<tr><td>2021-01-07 00:00:00</td><td>00:00</td><td>300.00</td><td>40.61</td><td>33.09</td><td>300.00</td><td>285.00</td><td>1</td><td>115.6</td></tr>\n",
       "\t<tr><td>2021-01-07 01:00:00</td><td>01:00</td><td>309.99</td><td>41.97</td><td>34.19</td><td>310.39</td><td>269.99</td><td>1</td><td>131.0</td></tr>\n",
       "\t<tr><td>2021-01-07 02:00:00</td><td>02:00</td><td>269.24</td><td>36.45</td><td>29.70</td><td>269.98</td><td>259.00</td><td>1</td><td>143.3</td></tr>\n",
       "\t<tr><td>2021-01-07 03:00:00</td><td>03:00</td><td>264.99</td><td>35.87</td><td>29.23</td><td>256.32</td><td>236.99</td><td>1</td><td>153.6</td></tr>\n",
       "\t<tr><td>2021-01-07 04:00:00</td><td>04:00</td><td>247.03</td><td>33.44</td><td>27.25</td><td>247.02</td><td>236.98</td><td>1</td><td>162.9</td></tr>\n",
       "\t<tr><td>2021-01-07 05:00:00</td><td>05:00</td><td>247.03</td><td>33.44</td><td>27.25</td><td>256.33</td><td>236.99</td><td>1</td><td>168.6</td></tr>\n",
       "</tbody>\n",
       "</table>\n"
      ],
      "text/latex": [
       "A data.table: 6 × 9\n",
       "\\begin{tabular}{lllllllll}\n",
       " date & hour & price & priceUsd & priceEur & Price\\_Lag\\_24 & Price\\_Lag\\_168 & Workday & forecast\\\\\n",
       " <dttm> & <chr> & <dbl> & <dbl> & <dbl> & <dbl> & <dbl> & <int> & <dbl>\\\\\n",
       "\\hline\n",
       "\t 2021-01-07 00:00:00 & 00:00 & 300.00 & 40.61 & 33.09 & 300.00 & 285.00 & 1 & 115.6\\\\\n",
       "\t 2021-01-07 01:00:00 & 01:00 & 309.99 & 41.97 & 34.19 & 310.39 & 269.99 & 1 & 131.0\\\\\n",
       "\t 2021-01-07 02:00:00 & 02:00 & 269.24 & 36.45 & 29.70 & 269.98 & 259.00 & 1 & 143.3\\\\\n",
       "\t 2021-01-07 03:00:00 & 03:00 & 264.99 & 35.87 & 29.23 & 256.32 & 236.99 & 1 & 153.6\\\\\n",
       "\t 2021-01-07 04:00:00 & 04:00 & 247.03 & 33.44 & 27.25 & 247.02 & 236.98 & 1 & 162.9\\\\\n",
       "\t 2021-01-07 05:00:00 & 05:00 & 247.03 & 33.44 & 27.25 & 256.33 & 236.99 & 1 & 168.6\\\\\n",
       "\\end{tabular}\n"
      ],
      "text/markdown": [
       "\n",
       "A data.table: 6 × 9\n",
       "\n",
       "| date &lt;dttm&gt; | hour &lt;chr&gt; | price &lt;dbl&gt; | priceUsd &lt;dbl&gt; | priceEur &lt;dbl&gt; | Price_Lag_24 &lt;dbl&gt; | Price_Lag_168 &lt;dbl&gt; | Workday &lt;int&gt; | forecast &lt;dbl&gt; |\n",
       "|---|---|---|---|---|---|---|---|---|\n",
       "| 2021-01-07 00:00:00 | 00:00 | 300.00 | 40.61 | 33.09 | 300.00 | 285.00 | 1 | 115.6 |\n",
       "| 2021-01-07 01:00:00 | 01:00 | 309.99 | 41.97 | 34.19 | 310.39 | 269.99 | 1 | 131.0 |\n",
       "| 2021-01-07 02:00:00 | 02:00 | 269.24 | 36.45 | 29.70 | 269.98 | 259.00 | 1 | 143.3 |\n",
       "| 2021-01-07 03:00:00 | 03:00 | 264.99 | 35.87 | 29.23 | 256.32 | 236.99 | 1 | 153.6 |\n",
       "| 2021-01-07 04:00:00 | 04:00 | 247.03 | 33.44 | 27.25 | 247.02 | 236.98 | 1 | 162.9 |\n",
       "| 2021-01-07 05:00:00 | 05:00 | 247.03 | 33.44 | 27.25 | 256.33 | 236.99 | 1 | 168.6 |\n",
       "\n"
      ],
      "text/plain": [
       "  date                hour  price  priceUsd priceEur Price_Lag_24 Price_Lag_168\n",
       "1 2021-01-07 00:00:00 00:00 300.00 40.61    33.09    300.00       285.00       \n",
       "2 2021-01-07 01:00:00 01:00 309.99 41.97    34.19    310.39       269.99       \n",
       "3 2021-01-07 02:00:00 02:00 269.24 36.45    29.70    269.98       259.00       \n",
       "4 2021-01-07 03:00:00 03:00 264.99 35.87    29.23    256.32       236.99       \n",
       "5 2021-01-07 04:00:00 04:00 247.03 33.44    27.25    247.02       236.98       \n",
       "6 2021-01-07 05:00:00 05:00 247.03 33.44    27.25    256.33       236.99       \n",
       "  Workday forecast\n",
       "1 1       115.6   \n",
       "2 1       131.0   \n",
       "3 1       143.3   \n",
       "4 1       153.6   \n",
       "5 1       162.9   \n",
       "6 1       168.6   "
      ]
     },
     "metadata": {},
     "output_type": "display_data"
    }
   ],
   "source": [
    "data_path='dataforptf.csv'\n",
    "data=fread(data_path)\n",
    "setnames(data, \"Tatil\", \"Workday\")\n",
    "head(data)"
   ]
  },
  {
   "cell_type": "code",
   "execution_count": null,
   "metadata": {
    "vscode": {
     "languageId": "r"
    }
   },
   "outputs": [
    {
     "data": {
      "text/html": [
       "<table class=\"dataframe\">\n",
       "<caption>A data.table: 6 × 11</caption>\n",
       "<thead>\n",
       "\t<tr><th scope=col>date</th><th scope=col>hour</th><th scope=col>price</th><th scope=col>priceUsd</th><th scope=col>priceEur</th><th scope=col>Workday</th><th scope=col>forecast</th><th scope=col>priceEur_24</th><th scope=col>priceEur_168</th><th scope=col>Workday_24</th><th scope=col>Workday_168</th></tr>\n",
       "\t<tr><th scope=col>&lt;dttm&gt;</th><th scope=col>&lt;chr&gt;</th><th scope=col>&lt;dbl&gt;</th><th scope=col>&lt;dbl&gt;</th><th scope=col>&lt;dbl&gt;</th><th scope=col>&lt;int&gt;</th><th scope=col>&lt;dbl&gt;</th><th scope=col>&lt;dbl&gt;</th><th scope=col>&lt;dbl&gt;</th><th scope=col>&lt;int&gt;</th><th scope=col>&lt;int&gt;</th></tr>\n",
       "</thead>\n",
       "<tbody>\n",
       "\t<tr><td>2021-01-07 00:00:00</td><td>00:00</td><td>300.00</td><td>40.61</td><td>33.09</td><td>1</td><td>115.6</td><td>NA</td><td>NA</td><td>NA</td><td>NA</td></tr>\n",
       "\t<tr><td>2021-01-07 01:00:00</td><td>01:00</td><td>309.99</td><td>41.97</td><td>34.19</td><td>1</td><td>131.0</td><td>NA</td><td>NA</td><td>NA</td><td>NA</td></tr>\n",
       "\t<tr><td>2021-01-07 02:00:00</td><td>02:00</td><td>269.24</td><td>36.45</td><td>29.70</td><td>1</td><td>143.3</td><td>NA</td><td>NA</td><td>NA</td><td>NA</td></tr>\n",
       "\t<tr><td>2021-01-07 03:00:00</td><td>03:00</td><td>264.99</td><td>35.87</td><td>29.23</td><td>1</td><td>153.6</td><td>NA</td><td>NA</td><td>NA</td><td>NA</td></tr>\n",
       "\t<tr><td>2021-01-07 04:00:00</td><td>04:00</td><td>247.03</td><td>33.44</td><td>27.25</td><td>1</td><td>162.9</td><td>NA</td><td>NA</td><td>NA</td><td>NA</td></tr>\n",
       "\t<tr><td>2021-01-07 05:00:00</td><td>05:00</td><td>247.03</td><td>33.44</td><td>27.25</td><td>1</td><td>168.6</td><td>NA</td><td>NA</td><td>NA</td><td>NA</td></tr>\n",
       "</tbody>\n",
       "</table>\n"
      ],
      "text/latex": [
       "A data.table: 6 × 11\n",
       "\\begin{tabular}{lllllllllll}\n",
       " date & hour & price & priceUsd & priceEur & Workday & forecast & priceEur\\_24 & priceEur\\_168 & Workday\\_24 & Workday\\_168\\\\\n",
       " <dttm> & <chr> & <dbl> & <dbl> & <dbl> & <int> & <dbl> & <dbl> & <dbl> & <int> & <int>\\\\\n",
       "\\hline\n",
       "\t 2021-01-07 00:00:00 & 00:00 & 300.00 & 40.61 & 33.09 & 1 & 115.6 & NA & NA & NA & NA\\\\\n",
       "\t 2021-01-07 01:00:00 & 01:00 & 309.99 & 41.97 & 34.19 & 1 & 131.0 & NA & NA & NA & NA\\\\\n",
       "\t 2021-01-07 02:00:00 & 02:00 & 269.24 & 36.45 & 29.70 & 1 & 143.3 & NA & NA & NA & NA\\\\\n",
       "\t 2021-01-07 03:00:00 & 03:00 & 264.99 & 35.87 & 29.23 & 1 & 153.6 & NA & NA & NA & NA\\\\\n",
       "\t 2021-01-07 04:00:00 & 04:00 & 247.03 & 33.44 & 27.25 & 1 & 162.9 & NA & NA & NA & NA\\\\\n",
       "\t 2021-01-07 05:00:00 & 05:00 & 247.03 & 33.44 & 27.25 & 1 & 168.6 & NA & NA & NA & NA\\\\\n",
       "\\end{tabular}\n"
      ],
      "text/markdown": [
       "\n",
       "A data.table: 6 × 11\n",
       "\n",
       "| date &lt;dttm&gt; | hour &lt;chr&gt; | price &lt;dbl&gt; | priceUsd &lt;dbl&gt; | priceEur &lt;dbl&gt; | Workday &lt;int&gt; | forecast &lt;dbl&gt; | priceEur_24 &lt;dbl&gt; | priceEur_168 &lt;dbl&gt; | Workday_24 &lt;int&gt; | Workday_168 &lt;int&gt; |\n",
       "|---|---|---|---|---|---|---|---|---|---|---|\n",
       "| 2021-01-07 00:00:00 | 00:00 | 300.00 | 40.61 | 33.09 | 1 | 115.6 | NA | NA | NA | NA |\n",
       "| 2021-01-07 01:00:00 | 01:00 | 309.99 | 41.97 | 34.19 | 1 | 131.0 | NA | NA | NA | NA |\n",
       "| 2021-01-07 02:00:00 | 02:00 | 269.24 | 36.45 | 29.70 | 1 | 143.3 | NA | NA | NA | NA |\n",
       "| 2021-01-07 03:00:00 | 03:00 | 264.99 | 35.87 | 29.23 | 1 | 153.6 | NA | NA | NA | NA |\n",
       "| 2021-01-07 04:00:00 | 04:00 | 247.03 | 33.44 | 27.25 | 1 | 162.9 | NA | NA | NA | NA |\n",
       "| 2021-01-07 05:00:00 | 05:00 | 247.03 | 33.44 | 27.25 | 1 | 168.6 | NA | NA | NA | NA |\n",
       "\n"
      ],
      "text/plain": [
       "  date                hour  price  priceUsd priceEur Workday forecast\n",
       "1 2021-01-07 00:00:00 00:00 300.00 40.61    33.09    1       115.6   \n",
       "2 2021-01-07 01:00:00 01:00 309.99 41.97    34.19    1       131.0   \n",
       "3 2021-01-07 02:00:00 02:00 269.24 36.45    29.70    1       143.3   \n",
       "4 2021-01-07 03:00:00 03:00 264.99 35.87    29.23    1       153.6   \n",
       "5 2021-01-07 04:00:00 04:00 247.03 33.44    27.25    1       162.9   \n",
       "6 2021-01-07 05:00:00 05:00 247.03 33.44    27.25    1       168.6   \n",
       "  priceEur_24 priceEur_168 Workday_24 Workday_168\n",
       "1 NA          NA           NA         NA         \n",
       "2 NA          NA           NA         NA         \n",
       "3 NA          NA           NA         NA         \n",
       "4 NA          NA           NA         NA         \n",
       "5 NA          NA           NA         NA         \n",
       "6 NA          NA           NA         NA         "
      ]
     },
     "metadata": {},
     "output_type": "display_data"
    }
   ],
   "source": [
    "data[, c(\"Price_Lag_24\", \"Price_Lag_168\") := NULL]\n",
    "data[, c(\"priceEur_24\", \"priceEur_168\", \"Workday_24\", \"Workday_168\") := .(\n",
    "  shift(priceEur, n = 24, fill = NA), \n",
    "  shift(priceEur, n = 168, fill = NA),\n",
    "  shift(Workday, n = 24, fill = NA),\n",
    "  shift(Workday, n = 168, fill = NA))]\n",
    "head(data)"
   ]
  },
  {
   "cell_type": "code",
   "execution_count": null,
   "metadata": {
    "vscode": {
     "languageId": "r"
    }
   },
   "outputs": [
    {
     "data": {
      "text/html": [
       "<table class=\"dataframe\">\n",
       "<caption>A data.table: 6 × 11</caption>\n",
       "<thead>\n",
       "\t<tr><th scope=col>date</th><th scope=col>hour</th><th scope=col>price</th><th scope=col>priceUsd</th><th scope=col>priceEur</th><th scope=col>Workday</th><th scope=col>forecast</th><th scope=col>priceEur_24</th><th scope=col>priceEur_168</th><th scope=col>Workday_24</th><th scope=col>Workday_168</th></tr>\n",
       "\t<tr><th scope=col>&lt;dttm&gt;</th><th scope=col>&lt;chr&gt;</th><th scope=col>&lt;dbl&gt;</th><th scope=col>&lt;dbl&gt;</th><th scope=col>&lt;dbl&gt;</th><th scope=col>&lt;int&gt;</th><th scope=col>&lt;dbl&gt;</th><th scope=col>&lt;dbl&gt;</th><th scope=col>&lt;dbl&gt;</th><th scope=col>&lt;int&gt;</th><th scope=col>&lt;int&gt;</th></tr>\n",
       "</thead>\n",
       "<tbody>\n",
       "\t<tr><td>2021-01-14 00:00:00</td><td>00:00</td><td>319.81</td><td>42.87</td><td>35.26</td><td>1</td><td>27.4</td><td>34.10</td><td>33.09</td><td>1</td><td>1</td></tr>\n",
       "\t<tr><td>2021-01-14 01:00:00</td><td>01:00</td><td>318.60</td><td>42.70</td><td>35.13</td><td>1</td><td>30.1</td><td>30.34</td><td>34.19</td><td>1</td><td>1</td></tr>\n",
       "\t<tr><td>2021-01-14 02:00:00</td><td>02:00</td><td>316.21</td><td>42.38</td><td>34.87</td><td>1</td><td>37.3</td><td>32.55</td><td>29.70</td><td>1</td><td>1</td></tr>\n",
       "\t<tr><td>2021-01-14 03:00:00</td><td>03:00</td><td>313.66</td><td>42.04</td><td>34.58</td><td>1</td><td>41.0</td><td>26.92</td><td>29.23</td><td>1</td><td>1</td></tr>\n",
       "\t<tr><td>2021-01-14 04:00:00</td><td>04:00</td><td>313.50</td><td>42.02</td><td>34.57</td><td>1</td><td>52.6</td><td>28.12</td><td>27.25</td><td>1</td><td>1</td></tr>\n",
       "\t<tr><td>2021-01-14 05:00:00</td><td>05:00</td><td>313.13</td><td>41.97</td><td>34.53</td><td>1</td><td>67.9</td><td>34.21</td><td>27.25</td><td>1</td><td>1</td></tr>\n",
       "</tbody>\n",
       "</table>\n"
      ],
      "text/latex": [
       "A data.table: 6 × 11\n",
       "\\begin{tabular}{lllllllllll}\n",
       " date & hour & price & priceUsd & priceEur & Workday & forecast & priceEur\\_24 & priceEur\\_168 & Workday\\_24 & Workday\\_168\\\\\n",
       " <dttm> & <chr> & <dbl> & <dbl> & <dbl> & <int> & <dbl> & <dbl> & <dbl> & <int> & <int>\\\\\n",
       "\\hline\n",
       "\t 2021-01-14 00:00:00 & 00:00 & 319.81 & 42.87 & 35.26 & 1 & 27.4 & 34.10 & 33.09 & 1 & 1\\\\\n",
       "\t 2021-01-14 01:00:00 & 01:00 & 318.60 & 42.70 & 35.13 & 1 & 30.1 & 30.34 & 34.19 & 1 & 1\\\\\n",
       "\t 2021-01-14 02:00:00 & 02:00 & 316.21 & 42.38 & 34.87 & 1 & 37.3 & 32.55 & 29.70 & 1 & 1\\\\\n",
       "\t 2021-01-14 03:00:00 & 03:00 & 313.66 & 42.04 & 34.58 & 1 & 41.0 & 26.92 & 29.23 & 1 & 1\\\\\n",
       "\t 2021-01-14 04:00:00 & 04:00 & 313.50 & 42.02 & 34.57 & 1 & 52.6 & 28.12 & 27.25 & 1 & 1\\\\\n",
       "\t 2021-01-14 05:00:00 & 05:00 & 313.13 & 41.97 & 34.53 & 1 & 67.9 & 34.21 & 27.25 & 1 & 1\\\\\n",
       "\\end{tabular}\n"
      ],
      "text/markdown": [
       "\n",
       "A data.table: 6 × 11\n",
       "\n",
       "| date &lt;dttm&gt; | hour &lt;chr&gt; | price &lt;dbl&gt; | priceUsd &lt;dbl&gt; | priceEur &lt;dbl&gt; | Workday &lt;int&gt; | forecast &lt;dbl&gt; | priceEur_24 &lt;dbl&gt; | priceEur_168 &lt;dbl&gt; | Workday_24 &lt;int&gt; | Workday_168 &lt;int&gt; |\n",
       "|---|---|---|---|---|---|---|---|---|---|---|\n",
       "| 2021-01-14 00:00:00 | 00:00 | 319.81 | 42.87 | 35.26 | 1 | 27.4 | 34.10 | 33.09 | 1 | 1 |\n",
       "| 2021-01-14 01:00:00 | 01:00 | 318.60 | 42.70 | 35.13 | 1 | 30.1 | 30.34 | 34.19 | 1 | 1 |\n",
       "| 2021-01-14 02:00:00 | 02:00 | 316.21 | 42.38 | 34.87 | 1 | 37.3 | 32.55 | 29.70 | 1 | 1 |\n",
       "| 2021-01-14 03:00:00 | 03:00 | 313.66 | 42.04 | 34.58 | 1 | 41.0 | 26.92 | 29.23 | 1 | 1 |\n",
       "| 2021-01-14 04:00:00 | 04:00 | 313.50 | 42.02 | 34.57 | 1 | 52.6 | 28.12 | 27.25 | 1 | 1 |\n",
       "| 2021-01-14 05:00:00 | 05:00 | 313.13 | 41.97 | 34.53 | 1 | 67.9 | 34.21 | 27.25 | 1 | 1 |\n",
       "\n"
      ],
      "text/plain": [
       "  date                hour  price  priceUsd priceEur Workday forecast\n",
       "1 2021-01-14 00:00:00 00:00 319.81 42.87    35.26    1       27.4    \n",
       "2 2021-01-14 01:00:00 01:00 318.60 42.70    35.13    1       30.1    \n",
       "3 2021-01-14 02:00:00 02:00 316.21 42.38    34.87    1       37.3    \n",
       "4 2021-01-14 03:00:00 03:00 313.66 42.04    34.58    1       41.0    \n",
       "5 2021-01-14 04:00:00 04:00 313.50 42.02    34.57    1       52.6    \n",
       "6 2021-01-14 05:00:00 05:00 313.13 41.97    34.53    1       67.9    \n",
       "  priceEur_24 priceEur_168 Workday_24 Workday_168\n",
       "1 34.10       33.09        1          1          \n",
       "2 30.34       34.19        1          1          \n",
       "3 32.55       29.70        1          1          \n",
       "4 26.92       29.23        1          1          \n",
       "5 28.12       27.25        1          1          \n",
       "6 34.21       27.25        1          1          "
      ]
     },
     "metadata": {},
     "output_type": "display_data"
    },
    {
     "data": {
      "text/html": [
       "<table class=\"dataframe\">\n",
       "<caption>A data.table: 6 × 11</caption>\n",
       "<thead>\n",
       "\t<tr><th scope=col>date</th><th scope=col>hour</th><th scope=col>price</th><th scope=col>priceUsd</th><th scope=col>priceEur</th><th scope=col>Workday</th><th scope=col>forecast</th><th scope=col>priceEur_24</th><th scope=col>priceEur_168</th><th scope=col>Workday_24</th><th scope=col>Workday_168</th></tr>\n",
       "\t<tr><th scope=col>&lt;dttm&gt;</th><th scope=col>&lt;chr&gt;</th><th scope=col>&lt;dbl&gt;</th><th scope=col>&lt;dbl&gt;</th><th scope=col>&lt;dbl&gt;</th><th scope=col>&lt;int&gt;</th><th scope=col>&lt;dbl&gt;</th><th scope=col>&lt;dbl&gt;</th><th scope=col>&lt;dbl&gt;</th><th scope=col>&lt;int&gt;</th><th scope=col>&lt;int&gt;</th></tr>\n",
       "</thead>\n",
       "<tbody>\n",
       "\t<tr><td>2024-04-25 18:00:00</td><td>18:00</td><td>2700</td><td>83.08</td><td>77.99</td><td>1</td><td>318.28</td><td>77.99</td><td>77.32</td><td>1</td><td>1</td></tr>\n",
       "\t<tr><td>2024-04-25 19:00:00</td><td>19:00</td><td>2700</td><td>83.08</td><td>77.99</td><td>1</td><td>264.01</td><td>77.99</td><td>78.43</td><td>1</td><td>1</td></tr>\n",
       "\t<tr><td>2024-04-25 20:00:00</td><td>20:00</td><td>2700</td><td>83.08</td><td>77.99</td><td>1</td><td>219.62</td><td>77.99</td><td>78.43</td><td>1</td><td>1</td></tr>\n",
       "\t<tr><td>2024-04-25 21:00:00</td><td>21:00</td><td>2700</td><td>83.08</td><td>77.99</td><td>1</td><td>191.99</td><td>77.99</td><td>78.43</td><td>1</td><td>1</td></tr>\n",
       "\t<tr><td>2024-04-25 22:00:00</td><td>22:00</td><td>2700</td><td>83.08</td><td>77.99</td><td>1</td><td>157.67</td><td>77.99</td><td>76.95</td><td>1</td><td>1</td></tr>\n",
       "\t<tr><td>2024-04-25 23:00:00</td><td>23:00</td><td>2700</td><td>83.08</td><td>77.99</td><td>1</td><td>134.85</td><td>77.99</td><td>67.42</td><td>1</td><td>1</td></tr>\n",
       "</tbody>\n",
       "</table>\n"
      ],
      "text/latex": [
       "A data.table: 6 × 11\n",
       "\\begin{tabular}{lllllllllll}\n",
       " date & hour & price & priceUsd & priceEur & Workday & forecast & priceEur\\_24 & priceEur\\_168 & Workday\\_24 & Workday\\_168\\\\\n",
       " <dttm> & <chr> & <dbl> & <dbl> & <dbl> & <int> & <dbl> & <dbl> & <dbl> & <int> & <int>\\\\\n",
       "\\hline\n",
       "\t 2024-04-25 18:00:00 & 18:00 & 2700 & 83.08 & 77.99 & 1 & 318.28 & 77.99 & 77.32 & 1 & 1\\\\\n",
       "\t 2024-04-25 19:00:00 & 19:00 & 2700 & 83.08 & 77.99 & 1 & 264.01 & 77.99 & 78.43 & 1 & 1\\\\\n",
       "\t 2024-04-25 20:00:00 & 20:00 & 2700 & 83.08 & 77.99 & 1 & 219.62 & 77.99 & 78.43 & 1 & 1\\\\\n",
       "\t 2024-04-25 21:00:00 & 21:00 & 2700 & 83.08 & 77.99 & 1 & 191.99 & 77.99 & 78.43 & 1 & 1\\\\\n",
       "\t 2024-04-25 22:00:00 & 22:00 & 2700 & 83.08 & 77.99 & 1 & 157.67 & 77.99 & 76.95 & 1 & 1\\\\\n",
       "\t 2024-04-25 23:00:00 & 23:00 & 2700 & 83.08 & 77.99 & 1 & 134.85 & 77.99 & 67.42 & 1 & 1\\\\\n",
       "\\end{tabular}\n"
      ],
      "text/markdown": [
       "\n",
       "A data.table: 6 × 11\n",
       "\n",
       "| date &lt;dttm&gt; | hour &lt;chr&gt; | price &lt;dbl&gt; | priceUsd &lt;dbl&gt; | priceEur &lt;dbl&gt; | Workday &lt;int&gt; | forecast &lt;dbl&gt; | priceEur_24 &lt;dbl&gt; | priceEur_168 &lt;dbl&gt; | Workday_24 &lt;int&gt; | Workday_168 &lt;int&gt; |\n",
       "|---|---|---|---|---|---|---|---|---|---|---|\n",
       "| 2024-04-25 18:00:00 | 18:00 | 2700 | 83.08 | 77.99 | 1 | 318.28 | 77.99 | 77.32 | 1 | 1 |\n",
       "| 2024-04-25 19:00:00 | 19:00 | 2700 | 83.08 | 77.99 | 1 | 264.01 | 77.99 | 78.43 | 1 | 1 |\n",
       "| 2024-04-25 20:00:00 | 20:00 | 2700 | 83.08 | 77.99 | 1 | 219.62 | 77.99 | 78.43 | 1 | 1 |\n",
       "| 2024-04-25 21:00:00 | 21:00 | 2700 | 83.08 | 77.99 | 1 | 191.99 | 77.99 | 78.43 | 1 | 1 |\n",
       "| 2024-04-25 22:00:00 | 22:00 | 2700 | 83.08 | 77.99 | 1 | 157.67 | 77.99 | 76.95 | 1 | 1 |\n",
       "| 2024-04-25 23:00:00 | 23:00 | 2700 | 83.08 | 77.99 | 1 | 134.85 | 77.99 | 67.42 | 1 | 1 |\n",
       "\n"
      ],
      "text/plain": [
       "  date                hour  price priceUsd priceEur Workday forecast\n",
       "1 2024-04-25 18:00:00 18:00 2700  83.08    77.99    1       318.28  \n",
       "2 2024-04-25 19:00:00 19:00 2700  83.08    77.99    1       264.01  \n",
       "3 2024-04-25 20:00:00 20:00 2700  83.08    77.99    1       219.62  \n",
       "4 2024-04-25 21:00:00 21:00 2700  83.08    77.99    1       191.99  \n",
       "5 2024-04-25 22:00:00 22:00 2700  83.08    77.99    1       157.67  \n",
       "6 2024-04-25 23:00:00 23:00 2700  83.08    77.99    1       134.85  \n",
       "  priceEur_24 priceEur_168 Workday_24 Workday_168\n",
       "1 77.99       77.32        1          1          \n",
       "2 77.99       78.43        1          1          \n",
       "3 77.99       78.43        1          1          \n",
       "4 77.99       78.43        1          1          \n",
       "5 77.99       76.95        1          1          \n",
       "6 77.99       67.42        1          1          "
      ]
     },
     "metadata": {},
     "output_type": "display_data"
    }
   ],
   "source": [
    "data <- na.omit(data)\n",
    "head(data)\n",
    "tail(data)"
   ]
  },
  {
   "cell_type": "code",
   "execution_count": null,
   "metadata": {
    "vscode": {
     "languageId": "r"
    }
   },
   "outputs": [
    {
     "data": {
      "text/html": [
       "<table class=\"dataframe\">\n",
       "<caption>A data.table: 6 × 11</caption>\n",
       "<thead>\n",
       "\t<tr><th scope=col>date</th><th scope=col>hour</th><th scope=col>price</th><th scope=col>priceUsd</th><th scope=col>priceEur</th><th scope=col>Workday</th><th scope=col>forecast</th><th scope=col>priceEur_24</th><th scope=col>priceEur_168</th><th scope=col>Workday_24</th><th scope=col>Workday_168</th></tr>\n",
       "\t<tr><th scope=col>&lt;dttm&gt;</th><th scope=col>&lt;chr&gt;</th><th scope=col>&lt;dbl&gt;</th><th scope=col>&lt;dbl&gt;</th><th scope=col>&lt;dbl&gt;</th><th scope=col>&lt;int&gt;</th><th scope=col>&lt;dbl&gt;</th><th scope=col>&lt;dbl&gt;</th><th scope=col>&lt;dbl&gt;</th><th scope=col>&lt;int&gt;</th><th scope=col>&lt;int&gt;</th></tr>\n",
       "</thead>\n",
       "<tbody>\n",
       "\t<tr><td>2021-01-14 00:00:00</td><td>00:00</td><td>319.81</td><td>42.87</td><td>35.26</td><td>1</td><td>27.4</td><td>34.10</td><td>33.09</td><td>1</td><td>1</td></tr>\n",
       "\t<tr><td>2021-01-14 01:00:00</td><td>01:00</td><td>318.60</td><td>42.70</td><td>35.13</td><td>1</td><td>30.1</td><td>30.34</td><td>34.19</td><td>1</td><td>1</td></tr>\n",
       "\t<tr><td>2021-01-14 02:00:00</td><td>02:00</td><td>316.21</td><td>42.38</td><td>34.87</td><td>1</td><td>37.3</td><td>32.55</td><td>29.70</td><td>1</td><td>1</td></tr>\n",
       "\t<tr><td>2021-01-14 03:00:00</td><td>03:00</td><td>313.66</td><td>42.04</td><td>34.58</td><td>1</td><td>41.0</td><td>26.92</td><td>29.23</td><td>1</td><td>1</td></tr>\n",
       "\t<tr><td>2021-01-14 04:00:00</td><td>04:00</td><td>313.50</td><td>42.02</td><td>34.57</td><td>1</td><td>52.6</td><td>28.12</td><td>27.25</td><td>1</td><td>1</td></tr>\n",
       "\t<tr><td>2021-01-14 05:00:00</td><td>05:00</td><td>313.13</td><td>41.97</td><td>34.53</td><td>1</td><td>67.9</td><td>34.21</td><td>27.25</td><td>1</td><td>1</td></tr>\n",
       "</tbody>\n",
       "</table>\n"
      ],
      "text/latex": [
       "A data.table: 6 × 11\n",
       "\\begin{tabular}{lllllllllll}\n",
       " date & hour & price & priceUsd & priceEur & Workday & forecast & priceEur\\_24 & priceEur\\_168 & Workday\\_24 & Workday\\_168\\\\\n",
       " <dttm> & <chr> & <dbl> & <dbl> & <dbl> & <int> & <dbl> & <dbl> & <dbl> & <int> & <int>\\\\\n",
       "\\hline\n",
       "\t 2021-01-14 00:00:00 & 00:00 & 319.81 & 42.87 & 35.26 & 1 & 27.4 & 34.10 & 33.09 & 1 & 1\\\\\n",
       "\t 2021-01-14 01:00:00 & 01:00 & 318.60 & 42.70 & 35.13 & 1 & 30.1 & 30.34 & 34.19 & 1 & 1\\\\\n",
       "\t 2021-01-14 02:00:00 & 02:00 & 316.21 & 42.38 & 34.87 & 1 & 37.3 & 32.55 & 29.70 & 1 & 1\\\\\n",
       "\t 2021-01-14 03:00:00 & 03:00 & 313.66 & 42.04 & 34.58 & 1 & 41.0 & 26.92 & 29.23 & 1 & 1\\\\\n",
       "\t 2021-01-14 04:00:00 & 04:00 & 313.50 & 42.02 & 34.57 & 1 & 52.6 & 28.12 & 27.25 & 1 & 1\\\\\n",
       "\t 2021-01-14 05:00:00 & 05:00 & 313.13 & 41.97 & 34.53 & 1 & 67.9 & 34.21 & 27.25 & 1 & 1\\\\\n",
       "\\end{tabular}\n"
      ],
      "text/markdown": [
       "\n",
       "A data.table: 6 × 11\n",
       "\n",
       "| date &lt;dttm&gt; | hour &lt;chr&gt; | price &lt;dbl&gt; | priceUsd &lt;dbl&gt; | priceEur &lt;dbl&gt; | Workday &lt;int&gt; | forecast &lt;dbl&gt; | priceEur_24 &lt;dbl&gt; | priceEur_168 &lt;dbl&gt; | Workday_24 &lt;int&gt; | Workday_168 &lt;int&gt; |\n",
       "|---|---|---|---|---|---|---|---|---|---|---|\n",
       "| 2021-01-14 00:00:00 | 00:00 | 319.81 | 42.87 | 35.26 | 1 | 27.4 | 34.10 | 33.09 | 1 | 1 |\n",
       "| 2021-01-14 01:00:00 | 01:00 | 318.60 | 42.70 | 35.13 | 1 | 30.1 | 30.34 | 34.19 | 1 | 1 |\n",
       "| 2021-01-14 02:00:00 | 02:00 | 316.21 | 42.38 | 34.87 | 1 | 37.3 | 32.55 | 29.70 | 1 | 1 |\n",
       "| 2021-01-14 03:00:00 | 03:00 | 313.66 | 42.04 | 34.58 | 1 | 41.0 | 26.92 | 29.23 | 1 | 1 |\n",
       "| 2021-01-14 04:00:00 | 04:00 | 313.50 | 42.02 | 34.57 | 1 | 52.6 | 28.12 | 27.25 | 1 | 1 |\n",
       "| 2021-01-14 05:00:00 | 05:00 | 313.13 | 41.97 | 34.53 | 1 | 67.9 | 34.21 | 27.25 | 1 | 1 |\n",
       "\n"
      ],
      "text/plain": [
       "  date                hour  price  priceUsd priceEur Workday forecast\n",
       "1 2021-01-14 00:00:00 00:00 319.81 42.87    35.26    1       27.4    \n",
       "2 2021-01-14 01:00:00 01:00 318.60 42.70    35.13    1       30.1    \n",
       "3 2021-01-14 02:00:00 02:00 316.21 42.38    34.87    1       37.3    \n",
       "4 2021-01-14 03:00:00 03:00 313.66 42.04    34.58    1       41.0    \n",
       "5 2021-01-14 04:00:00 04:00 313.50 42.02    34.57    1       52.6    \n",
       "6 2021-01-14 05:00:00 05:00 313.13 41.97    34.53    1       67.9    \n",
       "  priceEur_24 priceEur_168 Workday_24 Workday_168\n",
       "1 34.10       33.09        1          1          \n",
       "2 30.34       34.19        1          1          \n",
       "3 32.55       29.70        1          1          \n",
       "4 26.92       29.23        1          1          \n",
       "5 28.12       27.25        1          1          \n",
       "6 34.21       27.25        1          1          "
      ]
     },
     "metadata": {},
     "output_type": "display_data"
    },
    {
     "data": {
      "text/html": [
       "<table class=\"dataframe\">\n",
       "<caption>A data.table: 6 × 11</caption>\n",
       "<thead>\n",
       "\t<tr><th scope=col>date</th><th scope=col>hour</th><th scope=col>price</th><th scope=col>priceUsd</th><th scope=col>priceEur</th><th scope=col>Workday</th><th scope=col>forecast</th><th scope=col>priceEur_24</th><th scope=col>priceEur_168</th><th scope=col>Workday_24</th><th scope=col>Workday_168</th></tr>\n",
       "\t<tr><th scope=col>&lt;dttm&gt;</th><th scope=col>&lt;chr&gt;</th><th scope=col>&lt;dbl&gt;</th><th scope=col>&lt;dbl&gt;</th><th scope=col>&lt;dbl&gt;</th><th scope=col>&lt;int&gt;</th><th scope=col>&lt;dbl&gt;</th><th scope=col>&lt;dbl&gt;</th><th scope=col>&lt;dbl&gt;</th><th scope=col>&lt;int&gt;</th><th scope=col>&lt;int&gt;</th></tr>\n",
       "</thead>\n",
       "<tbody>\n",
       "\t<tr><td>2024-04-25 18:00:00</td><td>18:00</td><td>2700</td><td>83.08</td><td>77.99</td><td>1</td><td>318.28</td><td>77.99</td><td>77.32</td><td>1</td><td>1</td></tr>\n",
       "\t<tr><td>2024-04-25 19:00:00</td><td>19:00</td><td>2700</td><td>83.08</td><td>77.99</td><td>1</td><td>264.01</td><td>77.99</td><td>78.43</td><td>1</td><td>1</td></tr>\n",
       "\t<tr><td>2024-04-25 20:00:00</td><td>20:00</td><td>2700</td><td>83.08</td><td>77.99</td><td>1</td><td>219.62</td><td>77.99</td><td>78.43</td><td>1</td><td>1</td></tr>\n",
       "\t<tr><td>2024-04-25 21:00:00</td><td>21:00</td><td>2700</td><td>83.08</td><td>77.99</td><td>1</td><td>191.99</td><td>77.99</td><td>78.43</td><td>1</td><td>1</td></tr>\n",
       "\t<tr><td>2024-04-25 22:00:00</td><td>22:00</td><td>2700</td><td>83.08</td><td>77.99</td><td>1</td><td>157.67</td><td>77.99</td><td>76.95</td><td>1</td><td>1</td></tr>\n",
       "\t<tr><td>2024-04-25 23:00:00</td><td>23:00</td><td>2700</td><td>83.08</td><td>77.99</td><td>1</td><td>134.85</td><td>77.99</td><td>67.42</td><td>1</td><td>1</td></tr>\n",
       "</tbody>\n",
       "</table>\n"
      ],
      "text/latex": [
       "A data.table: 6 × 11\n",
       "\\begin{tabular}{lllllllllll}\n",
       " date & hour & price & priceUsd & priceEur & Workday & forecast & priceEur\\_24 & priceEur\\_168 & Workday\\_24 & Workday\\_168\\\\\n",
       " <dttm> & <chr> & <dbl> & <dbl> & <dbl> & <int> & <dbl> & <dbl> & <dbl> & <int> & <int>\\\\\n",
       "\\hline\n",
       "\t 2024-04-25 18:00:00 & 18:00 & 2700 & 83.08 & 77.99 & 1 & 318.28 & 77.99 & 77.32 & 1 & 1\\\\\n",
       "\t 2024-04-25 19:00:00 & 19:00 & 2700 & 83.08 & 77.99 & 1 & 264.01 & 77.99 & 78.43 & 1 & 1\\\\\n",
       "\t 2024-04-25 20:00:00 & 20:00 & 2700 & 83.08 & 77.99 & 1 & 219.62 & 77.99 & 78.43 & 1 & 1\\\\\n",
       "\t 2024-04-25 21:00:00 & 21:00 & 2700 & 83.08 & 77.99 & 1 & 191.99 & 77.99 & 78.43 & 1 & 1\\\\\n",
       "\t 2024-04-25 22:00:00 & 22:00 & 2700 & 83.08 & 77.99 & 1 & 157.67 & 77.99 & 76.95 & 1 & 1\\\\\n",
       "\t 2024-04-25 23:00:00 & 23:00 & 2700 & 83.08 & 77.99 & 1 & 134.85 & 77.99 & 67.42 & 1 & 1\\\\\n",
       "\\end{tabular}\n"
      ],
      "text/markdown": [
       "\n",
       "A data.table: 6 × 11\n",
       "\n",
       "| date &lt;dttm&gt; | hour &lt;chr&gt; | price &lt;dbl&gt; | priceUsd &lt;dbl&gt; | priceEur &lt;dbl&gt; | Workday &lt;int&gt; | forecast &lt;dbl&gt; | priceEur_24 &lt;dbl&gt; | priceEur_168 &lt;dbl&gt; | Workday_24 &lt;int&gt; | Workday_168 &lt;int&gt; |\n",
       "|---|---|---|---|---|---|---|---|---|---|---|\n",
       "| 2024-04-25 18:00:00 | 18:00 | 2700 | 83.08 | 77.99 | 1 | 318.28 | 77.99 | 77.32 | 1 | 1 |\n",
       "| 2024-04-25 19:00:00 | 19:00 | 2700 | 83.08 | 77.99 | 1 | 264.01 | 77.99 | 78.43 | 1 | 1 |\n",
       "| 2024-04-25 20:00:00 | 20:00 | 2700 | 83.08 | 77.99 | 1 | 219.62 | 77.99 | 78.43 | 1 | 1 |\n",
       "| 2024-04-25 21:00:00 | 21:00 | 2700 | 83.08 | 77.99 | 1 | 191.99 | 77.99 | 78.43 | 1 | 1 |\n",
       "| 2024-04-25 22:00:00 | 22:00 | 2700 | 83.08 | 77.99 | 1 | 157.67 | 77.99 | 76.95 | 1 | 1 |\n",
       "| 2024-04-25 23:00:00 | 23:00 | 2700 | 83.08 | 77.99 | 1 | 134.85 | 77.99 | 67.42 | 1 | 1 |\n",
       "\n"
      ],
      "text/plain": [
       "  date                hour  price priceUsd priceEur Workday forecast\n",
       "1 2024-04-25 18:00:00 18:00 2700  83.08    77.99    1       318.28  \n",
       "2 2024-04-25 19:00:00 19:00 2700  83.08    77.99    1       264.01  \n",
       "3 2024-04-25 20:00:00 20:00 2700  83.08    77.99    1       219.62  \n",
       "4 2024-04-25 21:00:00 21:00 2700  83.08    77.99    1       191.99  \n",
       "5 2024-04-25 22:00:00 22:00 2700  83.08    77.99    1       157.67  \n",
       "6 2024-04-25 23:00:00 23:00 2700  83.08    77.99    1       134.85  \n",
       "  priceEur_24 priceEur_168 Workday_24 Workday_168\n",
       "1 77.99       77.32        1          1          \n",
       "2 77.99       78.43        1          1          \n",
       "3 77.99       78.43        1          1          \n",
       "4 77.99       78.43        1          1          \n",
       "5 77.99       76.95        1          1          \n",
       "6 77.99       67.42        1          1          "
      ]
     },
     "metadata": {},
     "output_type": "display_data"
    }
   ],
   "source": [
    "data$date <- as.POSIXct(data$date)\n",
    "head(data)\n",
    "tail(data)"
   ]
  },
  {
   "cell_type": "code",
   "execution_count": null,
   "metadata": {
    "vscode": {
     "languageId": "r"
    }
   },
   "outputs": [
    {
     "data": {
      "text/html": [
       "<table class=\"dataframe\">\n",
       "<caption>A data.table: 6 × 11</caption>\n",
       "<thead>\n",
       "\t<tr><th scope=col>date</th><th scope=col>hour</th><th scope=col>price</th><th scope=col>priceUsd</th><th scope=col>priceEur</th><th scope=col>Workday</th><th scope=col>forecast</th><th scope=col>priceEur_24</th><th scope=col>priceEur_168</th><th scope=col>Workday_24</th><th scope=col>Workday_168</th></tr>\n",
       "\t<tr><th scope=col>&lt;dttm&gt;</th><th scope=col>&lt;chr&gt;</th><th scope=col>&lt;dbl&gt;</th><th scope=col>&lt;dbl&gt;</th><th scope=col>&lt;dbl&gt;</th><th scope=col>&lt;int&gt;</th><th scope=col>&lt;dbl&gt;</th><th scope=col>&lt;dbl&gt;</th><th scope=col>&lt;dbl&gt;</th><th scope=col>&lt;int&gt;</th><th scope=col>&lt;int&gt;</th></tr>\n",
       "</thead>\n",
       "<tbody>\n",
       "\t<tr><td>2021-01-14 00:00:00</td><td>00:00</td><td>319.81</td><td>42.87</td><td>35.26</td><td>1</td><td>27.4</td><td>34.10</td><td>33.09</td><td>1</td><td>1</td></tr>\n",
       "\t<tr><td>2021-01-14 01:00:00</td><td>01:00</td><td>318.60</td><td>42.70</td><td>35.13</td><td>1</td><td>30.1</td><td>30.34</td><td>34.19</td><td>1</td><td>1</td></tr>\n",
       "\t<tr><td>2021-01-14 02:00:00</td><td>02:00</td><td>316.21</td><td>42.38</td><td>34.87</td><td>1</td><td>37.3</td><td>32.55</td><td>29.70</td><td>1</td><td>1</td></tr>\n",
       "\t<tr><td>2021-01-14 03:00:00</td><td>03:00</td><td>313.66</td><td>42.04</td><td>34.58</td><td>1</td><td>41.0</td><td>26.92</td><td>29.23</td><td>1</td><td>1</td></tr>\n",
       "\t<tr><td>2021-01-14 04:00:00</td><td>04:00</td><td>313.50</td><td>42.02</td><td>34.57</td><td>1</td><td>52.6</td><td>28.12</td><td>27.25</td><td>1</td><td>1</td></tr>\n",
       "\t<tr><td>2021-01-14 05:00:00</td><td>05:00</td><td>313.13</td><td>41.97</td><td>34.53</td><td>1</td><td>67.9</td><td>34.21</td><td>27.25</td><td>1</td><td>1</td></tr>\n",
       "</tbody>\n",
       "</table>\n"
      ],
      "text/latex": [
       "A data.table: 6 × 11\n",
       "\\begin{tabular}{lllllllllll}\n",
       " date & hour & price & priceUsd & priceEur & Workday & forecast & priceEur\\_24 & priceEur\\_168 & Workday\\_24 & Workday\\_168\\\\\n",
       " <dttm> & <chr> & <dbl> & <dbl> & <dbl> & <int> & <dbl> & <dbl> & <dbl> & <int> & <int>\\\\\n",
       "\\hline\n",
       "\t 2021-01-14 00:00:00 & 00:00 & 319.81 & 42.87 & 35.26 & 1 & 27.4 & 34.10 & 33.09 & 1 & 1\\\\\n",
       "\t 2021-01-14 01:00:00 & 01:00 & 318.60 & 42.70 & 35.13 & 1 & 30.1 & 30.34 & 34.19 & 1 & 1\\\\\n",
       "\t 2021-01-14 02:00:00 & 02:00 & 316.21 & 42.38 & 34.87 & 1 & 37.3 & 32.55 & 29.70 & 1 & 1\\\\\n",
       "\t 2021-01-14 03:00:00 & 03:00 & 313.66 & 42.04 & 34.58 & 1 & 41.0 & 26.92 & 29.23 & 1 & 1\\\\\n",
       "\t 2021-01-14 04:00:00 & 04:00 & 313.50 & 42.02 & 34.57 & 1 & 52.6 & 28.12 & 27.25 & 1 & 1\\\\\n",
       "\t 2021-01-14 05:00:00 & 05:00 & 313.13 & 41.97 & 34.53 & 1 & 67.9 & 34.21 & 27.25 & 1 & 1\\\\\n",
       "\\end{tabular}\n"
      ],
      "text/markdown": [
       "\n",
       "A data.table: 6 × 11\n",
       "\n",
       "| date &lt;dttm&gt; | hour &lt;chr&gt; | price &lt;dbl&gt; | priceUsd &lt;dbl&gt; | priceEur &lt;dbl&gt; | Workday &lt;int&gt; | forecast &lt;dbl&gt; | priceEur_24 &lt;dbl&gt; | priceEur_168 &lt;dbl&gt; | Workday_24 &lt;int&gt; | Workday_168 &lt;int&gt; |\n",
       "|---|---|---|---|---|---|---|---|---|---|---|\n",
       "| 2021-01-14 00:00:00 | 00:00 | 319.81 | 42.87 | 35.26 | 1 | 27.4 | 34.10 | 33.09 | 1 | 1 |\n",
       "| 2021-01-14 01:00:00 | 01:00 | 318.60 | 42.70 | 35.13 | 1 | 30.1 | 30.34 | 34.19 | 1 | 1 |\n",
       "| 2021-01-14 02:00:00 | 02:00 | 316.21 | 42.38 | 34.87 | 1 | 37.3 | 32.55 | 29.70 | 1 | 1 |\n",
       "| 2021-01-14 03:00:00 | 03:00 | 313.66 | 42.04 | 34.58 | 1 | 41.0 | 26.92 | 29.23 | 1 | 1 |\n",
       "| 2021-01-14 04:00:00 | 04:00 | 313.50 | 42.02 | 34.57 | 1 | 52.6 | 28.12 | 27.25 | 1 | 1 |\n",
       "| 2021-01-14 05:00:00 | 05:00 | 313.13 | 41.97 | 34.53 | 1 | 67.9 | 34.21 | 27.25 | 1 | 1 |\n",
       "\n"
      ],
      "text/plain": [
       "  date                hour  price  priceUsd priceEur Workday forecast\n",
       "1 2021-01-14 00:00:00 00:00 319.81 42.87    35.26    1       27.4    \n",
       "2 2021-01-14 01:00:00 01:00 318.60 42.70    35.13    1       30.1    \n",
       "3 2021-01-14 02:00:00 02:00 316.21 42.38    34.87    1       37.3    \n",
       "4 2021-01-14 03:00:00 03:00 313.66 42.04    34.58    1       41.0    \n",
       "5 2021-01-14 04:00:00 04:00 313.50 42.02    34.57    1       52.6    \n",
       "6 2021-01-14 05:00:00 05:00 313.13 41.97    34.53    1       67.9    \n",
       "  priceEur_24 priceEur_168 Workday_24 Workday_168\n",
       "1 34.10       33.09        1          1          \n",
       "2 30.34       34.19        1          1          \n",
       "3 32.55       29.70        1          1          \n",
       "4 26.92       29.23        1          1          \n",
       "5 28.12       27.25        1          1          \n",
       "6 34.21       27.25        1          1          "
      ]
     },
     "metadata": {},
     "output_type": "display_data"
    },
    {
     "data": {
      "text/html": [
       "<table class=\"dataframe\">\n",
       "<caption>A data.table: 6 × 11</caption>\n",
       "<thead>\n",
       "\t<tr><th scope=col>date</th><th scope=col>hour</th><th scope=col>price</th><th scope=col>priceUsd</th><th scope=col>priceEur</th><th scope=col>Workday</th><th scope=col>forecast</th><th scope=col>priceEur_24</th><th scope=col>priceEur_168</th><th scope=col>Workday_24</th><th scope=col>Workday_168</th></tr>\n",
       "\t<tr><th scope=col>&lt;dttm&gt;</th><th scope=col>&lt;chr&gt;</th><th scope=col>&lt;dbl&gt;</th><th scope=col>&lt;dbl&gt;</th><th scope=col>&lt;dbl&gt;</th><th scope=col>&lt;int&gt;</th><th scope=col>&lt;dbl&gt;</th><th scope=col>&lt;dbl&gt;</th><th scope=col>&lt;dbl&gt;</th><th scope=col>&lt;int&gt;</th><th scope=col>&lt;int&gt;</th></tr>\n",
       "</thead>\n",
       "<tbody>\n",
       "\t<tr><td>2023-04-24 15:00:00</td><td>15:00</td><td>2244.45</td><td>115.81</td><td>105.81</td><td>1</td><td>106.49</td><td> 0.94</td><td> 79.49</td><td>0</td><td>1</td></tr>\n",
       "\t<tr><td>2023-04-24 16:00:00</td><td>16:00</td><td>2499.99</td><td>128.99</td><td>117.86</td><td>1</td><td>111.89</td><td> 2.50</td><td> 86.24</td><td>0</td><td>1</td></tr>\n",
       "\t<tr><td>2023-04-24 17:00:00</td><td>17:00</td><td>2600.00</td><td>134.15</td><td>122.57</td><td>1</td><td>114.78</td><td>23.57</td><td> 84.12</td><td>0</td><td>1</td></tr>\n",
       "\t<tr><td>2023-04-24 18:00:00</td><td>18:00</td><td>2600.00</td><td>134.15</td><td>122.57</td><td>1</td><td>119.24</td><td>47.14</td><td>117.50</td><td>0</td><td>1</td></tr>\n",
       "\t<tr><td>2023-04-24 19:00:00</td><td>19:00</td><td>2600.00</td><td>134.15</td><td>122.57</td><td>1</td><td>119.81</td><td>79.20</td><td>121.57</td><td>0</td><td>1</td></tr>\n",
       "\t<tr><td>2023-04-24 20:00:00</td><td>20:00</td><td>2600.00</td><td>134.15</td><td>122.57</td><td>1</td><td>117.13</td><td>83.91</td><td>121.57</td><td>0</td><td>1</td></tr>\n",
       "</tbody>\n",
       "</table>\n"
      ],
      "text/latex": [
       "A data.table: 6 × 11\n",
       "\\begin{tabular}{lllllllllll}\n",
       " date & hour & price & priceUsd & priceEur & Workday & forecast & priceEur\\_24 & priceEur\\_168 & Workday\\_24 & Workday\\_168\\\\\n",
       " <dttm> & <chr> & <dbl> & <dbl> & <dbl> & <int> & <dbl> & <dbl> & <dbl> & <int> & <int>\\\\\n",
       "\\hline\n",
       "\t 2023-04-24 15:00:00 & 15:00 & 2244.45 & 115.81 & 105.81 & 1 & 106.49 &  0.94 &  79.49 & 0 & 1\\\\\n",
       "\t 2023-04-24 16:00:00 & 16:00 & 2499.99 & 128.99 & 117.86 & 1 & 111.89 &  2.50 &  86.24 & 0 & 1\\\\\n",
       "\t 2023-04-24 17:00:00 & 17:00 & 2600.00 & 134.15 & 122.57 & 1 & 114.78 & 23.57 &  84.12 & 0 & 1\\\\\n",
       "\t 2023-04-24 18:00:00 & 18:00 & 2600.00 & 134.15 & 122.57 & 1 & 119.24 & 47.14 & 117.50 & 0 & 1\\\\\n",
       "\t 2023-04-24 19:00:00 & 19:00 & 2600.00 & 134.15 & 122.57 & 1 & 119.81 & 79.20 & 121.57 & 0 & 1\\\\\n",
       "\t 2023-04-24 20:00:00 & 20:00 & 2600.00 & 134.15 & 122.57 & 1 & 117.13 & 83.91 & 121.57 & 0 & 1\\\\\n",
       "\\end{tabular}\n"
      ],
      "text/markdown": [
       "\n",
       "A data.table: 6 × 11\n",
       "\n",
       "| date &lt;dttm&gt; | hour &lt;chr&gt; | price &lt;dbl&gt; | priceUsd &lt;dbl&gt; | priceEur &lt;dbl&gt; | Workday &lt;int&gt; | forecast &lt;dbl&gt; | priceEur_24 &lt;dbl&gt; | priceEur_168 &lt;dbl&gt; | Workday_24 &lt;int&gt; | Workday_168 &lt;int&gt; |\n",
       "|---|---|---|---|---|---|---|---|---|---|---|\n",
       "| 2023-04-24 15:00:00 | 15:00 | 2244.45 | 115.81 | 105.81 | 1 | 106.49 |  0.94 |  79.49 | 0 | 1 |\n",
       "| 2023-04-24 16:00:00 | 16:00 | 2499.99 | 128.99 | 117.86 | 1 | 111.89 |  2.50 |  86.24 | 0 | 1 |\n",
       "| 2023-04-24 17:00:00 | 17:00 | 2600.00 | 134.15 | 122.57 | 1 | 114.78 | 23.57 |  84.12 | 0 | 1 |\n",
       "| 2023-04-24 18:00:00 | 18:00 | 2600.00 | 134.15 | 122.57 | 1 | 119.24 | 47.14 | 117.50 | 0 | 1 |\n",
       "| 2023-04-24 19:00:00 | 19:00 | 2600.00 | 134.15 | 122.57 | 1 | 119.81 | 79.20 | 121.57 | 0 | 1 |\n",
       "| 2023-04-24 20:00:00 | 20:00 | 2600.00 | 134.15 | 122.57 | 1 | 117.13 | 83.91 | 121.57 | 0 | 1 |\n",
       "\n"
      ],
      "text/plain": [
       "  date                hour  price   priceUsd priceEur Workday forecast\n",
       "1 2023-04-24 15:00:00 15:00 2244.45 115.81   105.81   1       106.49  \n",
       "2 2023-04-24 16:00:00 16:00 2499.99 128.99   117.86   1       111.89  \n",
       "3 2023-04-24 17:00:00 17:00 2600.00 134.15   122.57   1       114.78  \n",
       "4 2023-04-24 18:00:00 18:00 2600.00 134.15   122.57   1       119.24  \n",
       "5 2023-04-24 19:00:00 19:00 2600.00 134.15   122.57   1       119.81  \n",
       "6 2023-04-24 20:00:00 20:00 2600.00 134.15   122.57   1       117.13  \n",
       "  priceEur_24 priceEur_168 Workday_24 Workday_168\n",
       "1  0.94        79.49       0          1          \n",
       "2  2.50        86.24       0          1          \n",
       "3 23.57        84.12       0          1          \n",
       "4 47.14       117.50       0          1          \n",
       "5 79.20       121.57       0          1          \n",
       "6 83.91       121.57       0          1          "
      ]
     },
     "metadata": {},
     "output_type": "display_data"
    },
    {
     "data": {
      "text/html": [
       "<table class=\"dataframe\">\n",
       "<caption>A data.table: 6 × 11</caption>\n",
       "<thead>\n",
       "\t<tr><th scope=col>date</th><th scope=col>hour</th><th scope=col>price</th><th scope=col>priceUsd</th><th scope=col>priceEur</th><th scope=col>Workday</th><th scope=col>forecast</th><th scope=col>priceEur_24</th><th scope=col>priceEur_168</th><th scope=col>Workday_24</th><th scope=col>Workday_168</th></tr>\n",
       "\t<tr><th scope=col>&lt;dttm&gt;</th><th scope=col>&lt;chr&gt;</th><th scope=col>&lt;dbl&gt;</th><th scope=col>&lt;dbl&gt;</th><th scope=col>&lt;dbl&gt;</th><th scope=col>&lt;int&gt;</th><th scope=col>&lt;dbl&gt;</th><th scope=col>&lt;dbl&gt;</th><th scope=col>&lt;dbl&gt;</th><th scope=col>&lt;int&gt;</th><th scope=col>&lt;int&gt;</th></tr>\n",
       "</thead>\n",
       "<tbody>\n",
       "\t<tr><td>2023-04-24 21:00:00</td><td>21:00</td><td>2600.00</td><td>134.15</td><td>122.57</td><td>1</td><td>111.04</td><td>79.81</td><td>121.57</td><td>0</td><td>1</td></tr>\n",
       "\t<tr><td>2023-04-24 22:00:00</td><td>22:00</td><td>2600.00</td><td>134.15</td><td>122.57</td><td>1</td><td>109.62</td><td>56.48</td><td> 91.37</td><td>0</td><td>1</td></tr>\n",
       "\t<tr><td>2023-04-24 23:00:00</td><td>23:00</td><td>2299.99</td><td>118.67</td><td>108.43</td><td>1</td><td>113.61</td><td>47.14</td><td> 84.50</td><td>0</td><td>1</td></tr>\n",
       "\t<tr><td>2023-04-25 00:00:00</td><td>00:00</td><td>2600.00</td><td>134.15</td><td>122.57</td><td>1</td><td> 94.57</td><td>69.54</td><td>112.22</td><td>1</td><td>1</td></tr>\n",
       "\t<tr><td>2023-04-25 01:00:00</td><td>01:00</td><td>2600.00</td><td>134.15</td><td>122.57</td><td>1</td><td>102.25</td><td>47.14</td><td>107.28</td><td>1</td><td>1</td></tr>\n",
       "\t<tr><td>2023-04-25 02:00:00</td><td>02:00</td><td>2235.58</td><td>115.35</td><td>105.39</td><td>1</td><td>111.28</td><td>45.94</td><td> 93.37</td><td>1</td><td>1</td></tr>\n",
       "</tbody>\n",
       "</table>\n"
      ],
      "text/latex": [
       "A data.table: 6 × 11\n",
       "\\begin{tabular}{lllllllllll}\n",
       " date & hour & price & priceUsd & priceEur & Workday & forecast & priceEur\\_24 & priceEur\\_168 & Workday\\_24 & Workday\\_168\\\\\n",
       " <dttm> & <chr> & <dbl> & <dbl> & <dbl> & <int> & <dbl> & <dbl> & <dbl> & <int> & <int>\\\\\n",
       "\\hline\n",
       "\t 2023-04-24 21:00:00 & 21:00 & 2600.00 & 134.15 & 122.57 & 1 & 111.04 & 79.81 & 121.57 & 0 & 1\\\\\n",
       "\t 2023-04-24 22:00:00 & 22:00 & 2600.00 & 134.15 & 122.57 & 1 & 109.62 & 56.48 &  91.37 & 0 & 1\\\\\n",
       "\t 2023-04-24 23:00:00 & 23:00 & 2299.99 & 118.67 & 108.43 & 1 & 113.61 & 47.14 &  84.50 & 0 & 1\\\\\n",
       "\t 2023-04-25 00:00:00 & 00:00 & 2600.00 & 134.15 & 122.57 & 1 &  94.57 & 69.54 & 112.22 & 1 & 1\\\\\n",
       "\t 2023-04-25 01:00:00 & 01:00 & 2600.00 & 134.15 & 122.57 & 1 & 102.25 & 47.14 & 107.28 & 1 & 1\\\\\n",
       "\t 2023-04-25 02:00:00 & 02:00 & 2235.58 & 115.35 & 105.39 & 1 & 111.28 & 45.94 &  93.37 & 1 & 1\\\\\n",
       "\\end{tabular}\n"
      ],
      "text/markdown": [
       "\n",
       "A data.table: 6 × 11\n",
       "\n",
       "| date &lt;dttm&gt; | hour &lt;chr&gt; | price &lt;dbl&gt; | priceUsd &lt;dbl&gt; | priceEur &lt;dbl&gt; | Workday &lt;int&gt; | forecast &lt;dbl&gt; | priceEur_24 &lt;dbl&gt; | priceEur_168 &lt;dbl&gt; | Workday_24 &lt;int&gt; | Workday_168 &lt;int&gt; |\n",
       "|---|---|---|---|---|---|---|---|---|---|---|\n",
       "| 2023-04-24 21:00:00 | 21:00 | 2600.00 | 134.15 | 122.57 | 1 | 111.04 | 79.81 | 121.57 | 0 | 1 |\n",
       "| 2023-04-24 22:00:00 | 22:00 | 2600.00 | 134.15 | 122.57 | 1 | 109.62 | 56.48 |  91.37 | 0 | 1 |\n",
       "| 2023-04-24 23:00:00 | 23:00 | 2299.99 | 118.67 | 108.43 | 1 | 113.61 | 47.14 |  84.50 | 0 | 1 |\n",
       "| 2023-04-25 00:00:00 | 00:00 | 2600.00 | 134.15 | 122.57 | 1 |  94.57 | 69.54 | 112.22 | 1 | 1 |\n",
       "| 2023-04-25 01:00:00 | 01:00 | 2600.00 | 134.15 | 122.57 | 1 | 102.25 | 47.14 | 107.28 | 1 | 1 |\n",
       "| 2023-04-25 02:00:00 | 02:00 | 2235.58 | 115.35 | 105.39 | 1 | 111.28 | 45.94 |  93.37 | 1 | 1 |\n",
       "\n"
      ],
      "text/plain": [
       "  date                hour  price   priceUsd priceEur Workday forecast\n",
       "1 2023-04-24 21:00:00 21:00 2600.00 134.15   122.57   1       111.04  \n",
       "2 2023-04-24 22:00:00 22:00 2600.00 134.15   122.57   1       109.62  \n",
       "3 2023-04-24 23:00:00 23:00 2299.99 118.67   108.43   1       113.61  \n",
       "4 2023-04-25 00:00:00 00:00 2600.00 134.15   122.57   1        94.57  \n",
       "5 2023-04-25 01:00:00 01:00 2600.00 134.15   122.57   1       102.25  \n",
       "6 2023-04-25 02:00:00 02:00 2235.58 115.35   105.39   1       111.28  \n",
       "  priceEur_24 priceEur_168 Workday_24 Workday_168\n",
       "1 79.81       121.57       0          1          \n",
       "2 56.48        91.37       0          1          \n",
       "3 47.14        84.50       0          1          \n",
       "4 69.54       112.22       1          1          \n",
       "5 47.14       107.28       1          1          \n",
       "6 45.94        93.37       1          1          "
      ]
     },
     "metadata": {},
     "output_type": "display_data"
    },
    {
     "data": {
      "text/html": [
       "<table class=\"dataframe\">\n",
       "<caption>A data.table: 6 × 11</caption>\n",
       "<thead>\n",
       "\t<tr><th scope=col>date</th><th scope=col>hour</th><th scope=col>price</th><th scope=col>priceUsd</th><th scope=col>priceEur</th><th scope=col>Workday</th><th scope=col>forecast</th><th scope=col>priceEur_24</th><th scope=col>priceEur_168</th><th scope=col>Workday_24</th><th scope=col>Workday_168</th></tr>\n",
       "\t<tr><th scope=col>&lt;dttm&gt;</th><th scope=col>&lt;chr&gt;</th><th scope=col>&lt;dbl&gt;</th><th scope=col>&lt;dbl&gt;</th><th scope=col>&lt;dbl&gt;</th><th scope=col>&lt;int&gt;</th><th scope=col>&lt;dbl&gt;</th><th scope=col>&lt;dbl&gt;</th><th scope=col>&lt;dbl&gt;</th><th scope=col>&lt;int&gt;</th><th scope=col>&lt;int&gt;</th></tr>\n",
       "</thead>\n",
       "<tbody>\n",
       "\t<tr><td>2024-04-25 18:00:00</td><td>18:00</td><td>2700</td><td>83.08</td><td>77.99</td><td>1</td><td>318.28</td><td>77.99</td><td>77.32</td><td>1</td><td>1</td></tr>\n",
       "\t<tr><td>2024-04-25 19:00:00</td><td>19:00</td><td>2700</td><td>83.08</td><td>77.99</td><td>1</td><td>264.01</td><td>77.99</td><td>78.43</td><td>1</td><td>1</td></tr>\n",
       "\t<tr><td>2024-04-25 20:00:00</td><td>20:00</td><td>2700</td><td>83.08</td><td>77.99</td><td>1</td><td>219.62</td><td>77.99</td><td>78.43</td><td>1</td><td>1</td></tr>\n",
       "\t<tr><td>2024-04-25 21:00:00</td><td>21:00</td><td>2700</td><td>83.08</td><td>77.99</td><td>1</td><td>191.99</td><td>77.99</td><td>78.43</td><td>1</td><td>1</td></tr>\n",
       "\t<tr><td>2024-04-25 22:00:00</td><td>22:00</td><td>2700</td><td>83.08</td><td>77.99</td><td>1</td><td>157.67</td><td>77.99</td><td>76.95</td><td>1</td><td>1</td></tr>\n",
       "\t<tr><td>2024-04-25 23:00:00</td><td>23:00</td><td>2700</td><td>83.08</td><td>77.99</td><td>1</td><td>134.85</td><td>77.99</td><td>67.42</td><td>1</td><td>1</td></tr>\n",
       "</tbody>\n",
       "</table>\n"
      ],
      "text/latex": [
       "A data.table: 6 × 11\n",
       "\\begin{tabular}{lllllllllll}\n",
       " date & hour & price & priceUsd & priceEur & Workday & forecast & priceEur\\_24 & priceEur\\_168 & Workday\\_24 & Workday\\_168\\\\\n",
       " <dttm> & <chr> & <dbl> & <dbl> & <dbl> & <int> & <dbl> & <dbl> & <dbl> & <int> & <int>\\\\\n",
       "\\hline\n",
       "\t 2024-04-25 18:00:00 & 18:00 & 2700 & 83.08 & 77.99 & 1 & 318.28 & 77.99 & 77.32 & 1 & 1\\\\\n",
       "\t 2024-04-25 19:00:00 & 19:00 & 2700 & 83.08 & 77.99 & 1 & 264.01 & 77.99 & 78.43 & 1 & 1\\\\\n",
       "\t 2024-04-25 20:00:00 & 20:00 & 2700 & 83.08 & 77.99 & 1 & 219.62 & 77.99 & 78.43 & 1 & 1\\\\\n",
       "\t 2024-04-25 21:00:00 & 21:00 & 2700 & 83.08 & 77.99 & 1 & 191.99 & 77.99 & 78.43 & 1 & 1\\\\\n",
       "\t 2024-04-25 22:00:00 & 22:00 & 2700 & 83.08 & 77.99 & 1 & 157.67 & 77.99 & 76.95 & 1 & 1\\\\\n",
       "\t 2024-04-25 23:00:00 & 23:00 & 2700 & 83.08 & 77.99 & 1 & 134.85 & 77.99 & 67.42 & 1 & 1\\\\\n",
       "\\end{tabular}\n"
      ],
      "text/markdown": [
       "\n",
       "A data.table: 6 × 11\n",
       "\n",
       "| date &lt;dttm&gt; | hour &lt;chr&gt; | price &lt;dbl&gt; | priceUsd &lt;dbl&gt; | priceEur &lt;dbl&gt; | Workday &lt;int&gt; | forecast &lt;dbl&gt; | priceEur_24 &lt;dbl&gt; | priceEur_168 &lt;dbl&gt; | Workday_24 &lt;int&gt; | Workday_168 &lt;int&gt; |\n",
       "|---|---|---|---|---|---|---|---|---|---|---|\n",
       "| 2024-04-25 18:00:00 | 18:00 | 2700 | 83.08 | 77.99 | 1 | 318.28 | 77.99 | 77.32 | 1 | 1 |\n",
       "| 2024-04-25 19:00:00 | 19:00 | 2700 | 83.08 | 77.99 | 1 | 264.01 | 77.99 | 78.43 | 1 | 1 |\n",
       "| 2024-04-25 20:00:00 | 20:00 | 2700 | 83.08 | 77.99 | 1 | 219.62 | 77.99 | 78.43 | 1 | 1 |\n",
       "| 2024-04-25 21:00:00 | 21:00 | 2700 | 83.08 | 77.99 | 1 | 191.99 | 77.99 | 78.43 | 1 | 1 |\n",
       "| 2024-04-25 22:00:00 | 22:00 | 2700 | 83.08 | 77.99 | 1 | 157.67 | 77.99 | 76.95 | 1 | 1 |\n",
       "| 2024-04-25 23:00:00 | 23:00 | 2700 | 83.08 | 77.99 | 1 | 134.85 | 77.99 | 67.42 | 1 | 1 |\n",
       "\n"
      ],
      "text/plain": [
       "  date                hour  price priceUsd priceEur Workday forecast\n",
       "1 2024-04-25 18:00:00 18:00 2700  83.08    77.99    1       318.28  \n",
       "2 2024-04-25 19:00:00 19:00 2700  83.08    77.99    1       264.01  \n",
       "3 2024-04-25 20:00:00 20:00 2700  83.08    77.99    1       219.62  \n",
       "4 2024-04-25 21:00:00 21:00 2700  83.08    77.99    1       191.99  \n",
       "5 2024-04-25 22:00:00 22:00 2700  83.08    77.99    1       157.67  \n",
       "6 2024-04-25 23:00:00 23:00 2700  83.08    77.99    1       134.85  \n",
       "  priceEur_24 priceEur_168 Workday_24 Workday_168\n",
       "1 77.99       77.32        1          1          \n",
       "2 77.99       78.43        1          1          \n",
       "3 77.99       78.43        1          1          \n",
       "4 77.99       78.43        1          1          \n",
       "5 77.99       76.95        1          1          \n",
       "6 77.99       67.42        1          1          "
      ]
     },
     "metadata": {},
     "output_type": "display_data"
    }
   ],
   "source": [
    "train_data <- data[date < as.POSIXct(\"2023-04-25\"), ]\n",
    "test_data <- data[date >= as.POSIXct(\"2023-04-25\"), ]\n",
    "\n",
    "head(train_data)\n",
    "tail(train_data)\n",
    "head(test_data)\n",
    "tail(test_data)"
   ]
  },
  {
   "cell_type": "code",
   "execution_count": null,
   "metadata": {
    "vscode": {
     "languageId": "r"
    }
   },
   "outputs": [
    {
     "data": {
      "text/plain": [
       "\n",
       "Call:\n",
       "lm(formula = priceEur ~ priceEur_24 + priceEur_168 + Workday + \n",
       "    Workday_24 + Workday_168, data = train_data)\n",
       "\n",
       "Residuals:\n",
       "     Min       1Q   Median       3Q      Max \n",
       "-228.157   -7.472   -1.429    8.344  150.202 \n",
       "\n",
       "Coefficients:\n",
       "               Estimate Std. Error t value Pr(>|t|)    \n",
       "(Intercept)   -0.246031   1.448218  -0.170 0.865102    \n",
       "priceEur_24    0.500063   0.005265  94.972  < 2e-16 ***\n",
       "priceEur_168   0.453098   0.005247  86.349  < 2e-16 ***\n",
       "Workday       21.068106   1.039011  20.277  < 2e-16 ***\n",
       "Workday_24    -3.621097   1.048648  -3.453 0.000555 ***\n",
       "Workday_168  -12.135543   0.994204 -12.206  < 2e-16 ***\n",
       "---\n",
       "Signif. codes:  0 '***' 0.001 '**' 0.01 '*' 0.05 '.' 0.1 ' ' 1\n",
       "\n",
       "Residual standard error: 25.02 on 19935 degrees of freedom\n",
       "Multiple R-squared:  0.8442,\tAdjusted R-squared:  0.8442 \n",
       "F-statistic: 2.16e+04 on 5 and 19935 DF,  p-value: < 2.2e-16\n"
      ]
     },
     "metadata": {},
     "output_type": "display_data"
    }
   ],
   "source": [
    "lm_model <- lm(priceEur ~  priceEur_24 + priceEur_168 + Workday + Workday_24 + Workday_168, data = train_data)\n",
    "\n",
    "summary(lm_model)"
   ]
  },
  {
   "cell_type": "code",
   "execution_count": null,
   "metadata": {
    "vscode": {
     "languageId": "r"
    }
   },
   "outputs": [],
   "source": [
    "test_errors <- copy(test_data)\n",
    "\n",
    "predictions <- predict(lm_model, newdata = test_data)\n",
    "\n",
    "test_errors[, forecasted_price_eur := predictions]"
   ]
  },
  {
   "cell_type": "code",
   "execution_count": null,
   "metadata": {
    "vscode": {
     "languageId": "r"
    }
   },
   "outputs": [
    {
     "name": "stdout",
     "output_type": "stream",
     "text": [
      "[1] \"mse: 219.477568592907\"\n",
      "[1] \"mae: 10.5076614375571\"\n",
      "[1] \"mape: 46258.0375529106\"\n",
      "[1] \"wmape: 0.154007158366246\"\n"
     ]
    }
   ],
   "source": [
    "residuals <- test_errors$priceEur - test_errors$forecasted_price_eur\n",
    "\n",
    "mse <- mean(residuals^2)\n",
    "mae <- mean(abs(residuals))\n",
    "mape <- mean(abs(residuals)/((test_errors$priceEur)+0.000001))\n",
    "wmape <- sum(abs(residuals))/sum(test_errors$priceEur)\n",
    "\n",
    "print(paste(\"mse:\", mse))\n",
    "print(paste(\"mae:\", mae))\n",
    "print(paste(\"mape:\", mape))\n",
    "print(paste(\"wmape:\", wmape))"
   ]
  },
  {
   "cell_type": "code",
   "execution_count": null,
   "metadata": {
    "vscode": {
     "languageId": "r"
    }
   },
   "outputs": [
    {
     "data": {
      "text/html": [
       "<table class=\"dataframe\">\n",
       "<caption>A data.table: 6 × 12</caption>\n",
       "<thead>\n",
       "\t<tr><th scope=col>date</th><th scope=col>hour</th><th scope=col>price</th><th scope=col>priceUsd</th><th scope=col>priceEur</th><th scope=col>Workday</th><th scope=col>forecast</th><th scope=col>priceEur_24</th><th scope=col>priceEur_168</th><th scope=col>Workday_24</th><th scope=col>Workday_168</th><th scope=col>forecasted_price_eur</th></tr>\n",
       "\t<tr><th scope=col>&lt;dttm&gt;</th><th scope=col>&lt;chr&gt;</th><th scope=col>&lt;dbl&gt;</th><th scope=col>&lt;dbl&gt;</th><th scope=col>&lt;dbl&gt;</th><th scope=col>&lt;int&gt;</th><th scope=col>&lt;dbl&gt;</th><th scope=col>&lt;dbl&gt;</th><th scope=col>&lt;dbl&gt;</th><th scope=col>&lt;int&gt;</th><th scope=col>&lt;int&gt;</th><th scope=col>&lt;dbl&gt;</th></tr>\n",
       "</thead>\n",
       "<tbody>\n",
       "\t<tr><td>2021-01-14 00:00:00</td><td>00:00</td><td>319.81</td><td>42.87</td><td>35.26</td><td>1</td><td>27.4</td><td>34.10</td><td>33.09</td><td>1</td><td>1</td><td>37.11062</td></tr>\n",
       "\t<tr><td>2021-01-14 01:00:00</td><td>01:00</td><td>318.60</td><td>42.70</td><td>35.13</td><td>1</td><td>30.1</td><td>30.34</td><td>34.19</td><td>1</td><td>1</td><td>35.72879</td></tr>\n",
       "\t<tr><td>2021-01-14 02:00:00</td><td>02:00</td><td>316.21</td><td>42.38</td><td>34.87</td><td>1</td><td>37.3</td><td>32.55</td><td>29.70</td><td>1</td><td>1</td><td>34.79952</td></tr>\n",
       "\t<tr><td>2021-01-14 03:00:00</td><td>03:00</td><td>313.66</td><td>42.04</td><td>34.58</td><td>1</td><td>41.0</td><td>26.92</td><td>29.23</td><td>1</td><td>1</td><td>31.77121</td></tr>\n",
       "\t<tr><td>2021-01-14 04:00:00</td><td>04:00</td><td>313.50</td><td>42.02</td><td>34.57</td><td>1</td><td>52.6</td><td>28.12</td><td>27.25</td><td>1</td><td>1</td><td>31.47415</td></tr>\n",
       "\t<tr><td>2021-01-14 05:00:00</td><td>05:00</td><td>313.13</td><td>41.97</td><td>34.53</td><td>1</td><td>67.9</td><td>34.21</td><td>27.25</td><td>1</td><td>1</td><td>34.51953</td></tr>\n",
       "</tbody>\n",
       "</table>\n"
      ],
      "text/latex": [
       "A data.table: 6 × 12\n",
       "\\begin{tabular}{llllllllllll}\n",
       " date & hour & price & priceUsd & priceEur & Workday & forecast & priceEur\\_24 & priceEur\\_168 & Workday\\_24 & Workday\\_168 & forecasted\\_price\\_eur\\\\\n",
       " <dttm> & <chr> & <dbl> & <dbl> & <dbl> & <int> & <dbl> & <dbl> & <dbl> & <int> & <int> & <dbl>\\\\\n",
       "\\hline\n",
       "\t 2021-01-14 00:00:00 & 00:00 & 319.81 & 42.87 & 35.26 & 1 & 27.4 & 34.10 & 33.09 & 1 & 1 & 37.11062\\\\\n",
       "\t 2021-01-14 01:00:00 & 01:00 & 318.60 & 42.70 & 35.13 & 1 & 30.1 & 30.34 & 34.19 & 1 & 1 & 35.72879\\\\\n",
       "\t 2021-01-14 02:00:00 & 02:00 & 316.21 & 42.38 & 34.87 & 1 & 37.3 & 32.55 & 29.70 & 1 & 1 & 34.79952\\\\\n",
       "\t 2021-01-14 03:00:00 & 03:00 & 313.66 & 42.04 & 34.58 & 1 & 41.0 & 26.92 & 29.23 & 1 & 1 & 31.77121\\\\\n",
       "\t 2021-01-14 04:00:00 & 04:00 & 313.50 & 42.02 & 34.57 & 1 & 52.6 & 28.12 & 27.25 & 1 & 1 & 31.47415\\\\\n",
       "\t 2021-01-14 05:00:00 & 05:00 & 313.13 & 41.97 & 34.53 & 1 & 67.9 & 34.21 & 27.25 & 1 & 1 & 34.51953\\\\\n",
       "\\end{tabular}\n"
      ],
      "text/markdown": [
       "\n",
       "A data.table: 6 × 12\n",
       "\n",
       "| date &lt;dttm&gt; | hour &lt;chr&gt; | price &lt;dbl&gt; | priceUsd &lt;dbl&gt; | priceEur &lt;dbl&gt; | Workday &lt;int&gt; | forecast &lt;dbl&gt; | priceEur_24 &lt;dbl&gt; | priceEur_168 &lt;dbl&gt; | Workday_24 &lt;int&gt; | Workday_168 &lt;int&gt; | forecasted_price_eur &lt;dbl&gt; |\n",
       "|---|---|---|---|---|---|---|---|---|---|---|---|\n",
       "| 2021-01-14 00:00:00 | 00:00 | 319.81 | 42.87 | 35.26 | 1 | 27.4 | 34.10 | 33.09 | 1 | 1 | 37.11062 |\n",
       "| 2021-01-14 01:00:00 | 01:00 | 318.60 | 42.70 | 35.13 | 1 | 30.1 | 30.34 | 34.19 | 1 | 1 | 35.72879 |\n",
       "| 2021-01-14 02:00:00 | 02:00 | 316.21 | 42.38 | 34.87 | 1 | 37.3 | 32.55 | 29.70 | 1 | 1 | 34.79952 |\n",
       "| 2021-01-14 03:00:00 | 03:00 | 313.66 | 42.04 | 34.58 | 1 | 41.0 | 26.92 | 29.23 | 1 | 1 | 31.77121 |\n",
       "| 2021-01-14 04:00:00 | 04:00 | 313.50 | 42.02 | 34.57 | 1 | 52.6 | 28.12 | 27.25 | 1 | 1 | 31.47415 |\n",
       "| 2021-01-14 05:00:00 | 05:00 | 313.13 | 41.97 | 34.53 | 1 | 67.9 | 34.21 | 27.25 | 1 | 1 | 34.51953 |\n",
       "\n"
      ],
      "text/plain": [
       "  date                hour  price  priceUsd priceEur Workday forecast\n",
       "1 2021-01-14 00:00:00 00:00 319.81 42.87    35.26    1       27.4    \n",
       "2 2021-01-14 01:00:00 01:00 318.60 42.70    35.13    1       30.1    \n",
       "3 2021-01-14 02:00:00 02:00 316.21 42.38    34.87    1       37.3    \n",
       "4 2021-01-14 03:00:00 03:00 313.66 42.04    34.58    1       41.0    \n",
       "5 2021-01-14 04:00:00 04:00 313.50 42.02    34.57    1       52.6    \n",
       "6 2021-01-14 05:00:00 05:00 313.13 41.97    34.53    1       67.9    \n",
       "  priceEur_24 priceEur_168 Workday_24 Workday_168 forecasted_price_eur\n",
       "1 34.10       33.09        1          1           37.11062            \n",
       "2 30.34       34.19        1          1           35.72879            \n",
       "3 32.55       29.70        1          1           34.79952            \n",
       "4 26.92       29.23        1          1           31.77121            \n",
       "5 28.12       27.25        1          1           31.47415            \n",
       "6 34.21       27.25        1          1           34.51953            "
      ]
     },
     "metadata": {},
     "output_type": "display_data"
    },
    {
     "data": {
      "text/html": [
       "<table class=\"dataframe\">\n",
       "<caption>A data.table: 6 × 12</caption>\n",
       "<thead>\n",
       "\t<tr><th scope=col>date</th><th scope=col>hour</th><th scope=col>price</th><th scope=col>priceUsd</th><th scope=col>priceEur</th><th scope=col>Workday</th><th scope=col>forecast</th><th scope=col>priceEur_24</th><th scope=col>priceEur_168</th><th scope=col>Workday_24</th><th scope=col>Workday_168</th><th scope=col>forecasted_price_eur</th></tr>\n",
       "\t<tr><th scope=col>&lt;dttm&gt;</th><th scope=col>&lt;chr&gt;</th><th scope=col>&lt;dbl&gt;</th><th scope=col>&lt;dbl&gt;</th><th scope=col>&lt;dbl&gt;</th><th scope=col>&lt;int&gt;</th><th scope=col>&lt;dbl&gt;</th><th scope=col>&lt;dbl&gt;</th><th scope=col>&lt;dbl&gt;</th><th scope=col>&lt;int&gt;</th><th scope=col>&lt;int&gt;</th><th scope=col>&lt;dbl&gt;</th></tr>\n",
       "</thead>\n",
       "<tbody>\n",
       "\t<tr><td>2024-04-25 18:00:00</td><td>18:00</td><td>2700</td><td>83.08</td><td>77.99</td><td>1</td><td>318.28</td><td>77.99</td><td>77.32</td><td>1</td><td>1</td><td>79.09895</td></tr>\n",
       "\t<tr><td>2024-04-25 19:00:00</td><td>19:00</td><td>2700</td><td>83.08</td><td>77.99</td><td>1</td><td>264.01</td><td>77.99</td><td>78.43</td><td>1</td><td>1</td><td>79.60189</td></tr>\n",
       "\t<tr><td>2024-04-25 20:00:00</td><td>20:00</td><td>2700</td><td>83.08</td><td>77.99</td><td>1</td><td>219.62</td><td>77.99</td><td>78.43</td><td>1</td><td>1</td><td>79.60189</td></tr>\n",
       "\t<tr><td>2024-04-25 21:00:00</td><td>21:00</td><td>2700</td><td>83.08</td><td>77.99</td><td>1</td><td>191.99</td><td>77.99</td><td>78.43</td><td>1</td><td>1</td><td>79.60189</td></tr>\n",
       "\t<tr><td>2024-04-25 22:00:00</td><td>22:00</td><td>2700</td><td>83.08</td><td>77.99</td><td>1</td><td>157.67</td><td>77.99</td><td>76.95</td><td>1</td><td>1</td><td>78.93130</td></tr>\n",
       "\t<tr><td>2024-04-25 23:00:00</td><td>23:00</td><td>2700</td><td>83.08</td><td>77.99</td><td>1</td><td>134.85</td><td>77.99</td><td>67.42</td><td>1</td><td>1</td><td>74.61327</td></tr>\n",
       "</tbody>\n",
       "</table>\n"
      ],
      "text/latex": [
       "A data.table: 6 × 12\n",
       "\\begin{tabular}{llllllllllll}\n",
       " date & hour & price & priceUsd & priceEur & Workday & forecast & priceEur\\_24 & priceEur\\_168 & Workday\\_24 & Workday\\_168 & forecasted\\_price\\_eur\\\\\n",
       " <dttm> & <chr> & <dbl> & <dbl> & <dbl> & <int> & <dbl> & <dbl> & <dbl> & <int> & <int> & <dbl>\\\\\n",
       "\\hline\n",
       "\t 2024-04-25 18:00:00 & 18:00 & 2700 & 83.08 & 77.99 & 1 & 318.28 & 77.99 & 77.32 & 1 & 1 & 79.09895\\\\\n",
       "\t 2024-04-25 19:00:00 & 19:00 & 2700 & 83.08 & 77.99 & 1 & 264.01 & 77.99 & 78.43 & 1 & 1 & 79.60189\\\\\n",
       "\t 2024-04-25 20:00:00 & 20:00 & 2700 & 83.08 & 77.99 & 1 & 219.62 & 77.99 & 78.43 & 1 & 1 & 79.60189\\\\\n",
       "\t 2024-04-25 21:00:00 & 21:00 & 2700 & 83.08 & 77.99 & 1 & 191.99 & 77.99 & 78.43 & 1 & 1 & 79.60189\\\\\n",
       "\t 2024-04-25 22:00:00 & 22:00 & 2700 & 83.08 & 77.99 & 1 & 157.67 & 77.99 & 76.95 & 1 & 1 & 78.93130\\\\\n",
       "\t 2024-04-25 23:00:00 & 23:00 & 2700 & 83.08 & 77.99 & 1 & 134.85 & 77.99 & 67.42 & 1 & 1 & 74.61327\\\\\n",
       "\\end{tabular}\n"
      ],
      "text/markdown": [
       "\n",
       "A data.table: 6 × 12\n",
       "\n",
       "| date &lt;dttm&gt; | hour &lt;chr&gt; | price &lt;dbl&gt; | priceUsd &lt;dbl&gt; | priceEur &lt;dbl&gt; | Workday &lt;int&gt; | forecast &lt;dbl&gt; | priceEur_24 &lt;dbl&gt; | priceEur_168 &lt;dbl&gt; | Workday_24 &lt;int&gt; | Workday_168 &lt;int&gt; | forecasted_price_eur &lt;dbl&gt; |\n",
       "|---|---|---|---|---|---|---|---|---|---|---|---|\n",
       "| 2024-04-25 18:00:00 | 18:00 | 2700 | 83.08 | 77.99 | 1 | 318.28 | 77.99 | 77.32 | 1 | 1 | 79.09895 |\n",
       "| 2024-04-25 19:00:00 | 19:00 | 2700 | 83.08 | 77.99 | 1 | 264.01 | 77.99 | 78.43 | 1 | 1 | 79.60189 |\n",
       "| 2024-04-25 20:00:00 | 20:00 | 2700 | 83.08 | 77.99 | 1 | 219.62 | 77.99 | 78.43 | 1 | 1 | 79.60189 |\n",
       "| 2024-04-25 21:00:00 | 21:00 | 2700 | 83.08 | 77.99 | 1 | 191.99 | 77.99 | 78.43 | 1 | 1 | 79.60189 |\n",
       "| 2024-04-25 22:00:00 | 22:00 | 2700 | 83.08 | 77.99 | 1 | 157.67 | 77.99 | 76.95 | 1 | 1 | 78.93130 |\n",
       "| 2024-04-25 23:00:00 | 23:00 | 2700 | 83.08 | 77.99 | 1 | 134.85 | 77.99 | 67.42 | 1 | 1 | 74.61327 |\n",
       "\n"
      ],
      "text/plain": [
       "  date                hour  price priceUsd priceEur Workday forecast\n",
       "1 2024-04-25 18:00:00 18:00 2700  83.08    77.99    1       318.28  \n",
       "2 2024-04-25 19:00:00 19:00 2700  83.08    77.99    1       264.01  \n",
       "3 2024-04-25 20:00:00 20:00 2700  83.08    77.99    1       219.62  \n",
       "4 2024-04-25 21:00:00 21:00 2700  83.08    77.99    1       191.99  \n",
       "5 2024-04-25 22:00:00 22:00 2700  83.08    77.99    1       157.67  \n",
       "6 2024-04-25 23:00:00 23:00 2700  83.08    77.99    1       134.85  \n",
       "  priceEur_24 priceEur_168 Workday_24 Workday_168 forecasted_price_eur\n",
       "1 77.99       77.32        1          1           79.09895            \n",
       "2 77.99       78.43        1          1           79.60189            \n",
       "3 77.99       78.43        1          1           79.60189            \n",
       "4 77.99       78.43        1          1           79.60189            \n",
       "5 77.99       76.95        1          1           78.93130            \n",
       "6 77.99       67.42        1          1           74.61327            "
      ]
     },
     "metadata": {},
     "output_type": "display_data"
    }
   ],
   "source": [
    "results <- copy(data)\n",
    "\n",
    "predictions <- predict(lm_model, newdata = na.omit(data))\n",
    "\n",
    "results[, forecasted_price_eur := predictions]\n",
    "\n",
    "head(results)\n",
    "tail(results)"
   ]
  },
  {
   "cell_type": "code",
   "execution_count": null,
   "metadata": {
    "vscode": {
     "languageId": "r"
    }
   },
   "outputs": [
    {
     "data": {
      "text/html": [
       "<table class=\"dataframe\">\n",
       "<caption>A data.table: 6 × 14</caption>\n",
       "<thead>\n",
       "\t<tr><th scope=col>date</th><th scope=col>hour</th><th scope=col>price</th><th scope=col>priceUsd</th><th scope=col>priceEur</th><th scope=col>Workday</th><th scope=col>forecast</th><th scope=col>priceEur_24</th><th scope=col>priceEur_168</th><th scope=col>Workday_24</th><th scope=col>Workday_168</th><th scope=col>forecasted_price_eur</th><th scope=col>exchange_rate</th><th scope=col>forecasted_price_TL</th></tr>\n",
       "\t<tr><th scope=col>&lt;dttm&gt;</th><th scope=col>&lt;chr&gt;</th><th scope=col>&lt;dbl&gt;</th><th scope=col>&lt;dbl&gt;</th><th scope=col>&lt;dbl&gt;</th><th scope=col>&lt;int&gt;</th><th scope=col>&lt;dbl&gt;</th><th scope=col>&lt;dbl&gt;</th><th scope=col>&lt;dbl&gt;</th><th scope=col>&lt;int&gt;</th><th scope=col>&lt;int&gt;</th><th scope=col>&lt;dbl&gt;</th><th scope=col>&lt;dbl&gt;</th><th scope=col>&lt;dbl&gt;</th></tr>\n",
       "</thead>\n",
       "<tbody>\n",
       "\t<tr><td>2021-01-14 00:00:00</td><td>00:00</td><td>319.81</td><td>42.87</td><td>35.26</td><td>1</td><td>27.4</td><td>34.10</td><td>33.09</td><td>1</td><td>1</td><td>37.11062</td><td>9.070051</td><td>336.5952</td></tr>\n",
       "\t<tr><td>2021-01-14 01:00:00</td><td>01:00</td><td>318.60</td><td>42.70</td><td>35.13</td><td>1</td><td>30.1</td><td>30.34</td><td>34.19</td><td>1</td><td>1</td><td>35.72879</td><td>9.069172</td><td>324.0305</td></tr>\n",
       "\t<tr><td>2021-01-14 02:00:00</td><td>02:00</td><td>316.21</td><td>42.38</td><td>34.87</td><td>1</td><td>37.3</td><td>32.55</td><td>29.70</td><td>1</td><td>1</td><td>34.79952</td><td>9.068254</td><td>315.5709</td></tr>\n",
       "\t<tr><td>2021-01-14 03:00:00</td><td>03:00</td><td>313.66</td><td>42.04</td><td>34.58</td><td>1</td><td>41.0</td><td>26.92</td><td>29.23</td><td>1</td><td>1</td><td>31.77121</td><td>9.070561</td><td>288.1827</td></tr>\n",
       "\t<tr><td>2021-01-14 04:00:00</td><td>04:00</td><td>313.50</td><td>42.02</td><td>34.57</td><td>1</td><td>52.6</td><td>28.12</td><td>27.25</td><td>1</td><td>1</td><td>31.47415</td><td>9.068557</td><td>285.4251</td></tr>\n",
       "\t<tr><td>2021-01-14 05:00:00</td><td>05:00</td><td>313.13</td><td>41.97</td><td>34.53</td><td>1</td><td>67.9</td><td>34.21</td><td>27.25</td><td>1</td><td>1</td><td>34.51953</td><td>9.068346</td><td>313.0351</td></tr>\n",
       "</tbody>\n",
       "</table>\n"
      ],
      "text/latex": [
       "A data.table: 6 × 14\n",
       "\\begin{tabular}{llllllllllllll}\n",
       " date & hour & price & priceUsd & priceEur & Workday & forecast & priceEur\\_24 & priceEur\\_168 & Workday\\_24 & Workday\\_168 & forecasted\\_price\\_eur & exchange\\_rate & forecasted\\_price\\_TL\\\\\n",
       " <dttm> & <chr> & <dbl> & <dbl> & <dbl> & <int> & <dbl> & <dbl> & <dbl> & <int> & <int> & <dbl> & <dbl> & <dbl>\\\\\n",
       "\\hline\n",
       "\t 2021-01-14 00:00:00 & 00:00 & 319.81 & 42.87 & 35.26 & 1 & 27.4 & 34.10 & 33.09 & 1 & 1 & 37.11062 & 9.070051 & 336.5952\\\\\n",
       "\t 2021-01-14 01:00:00 & 01:00 & 318.60 & 42.70 & 35.13 & 1 & 30.1 & 30.34 & 34.19 & 1 & 1 & 35.72879 & 9.069172 & 324.0305\\\\\n",
       "\t 2021-01-14 02:00:00 & 02:00 & 316.21 & 42.38 & 34.87 & 1 & 37.3 & 32.55 & 29.70 & 1 & 1 & 34.79952 & 9.068254 & 315.5709\\\\\n",
       "\t 2021-01-14 03:00:00 & 03:00 & 313.66 & 42.04 & 34.58 & 1 & 41.0 & 26.92 & 29.23 & 1 & 1 & 31.77121 & 9.070561 & 288.1827\\\\\n",
       "\t 2021-01-14 04:00:00 & 04:00 & 313.50 & 42.02 & 34.57 & 1 & 52.6 & 28.12 & 27.25 & 1 & 1 & 31.47415 & 9.068557 & 285.4251\\\\\n",
       "\t 2021-01-14 05:00:00 & 05:00 & 313.13 & 41.97 & 34.53 & 1 & 67.9 & 34.21 & 27.25 & 1 & 1 & 34.51953 & 9.068346 & 313.0351\\\\\n",
       "\\end{tabular}\n"
      ],
      "text/markdown": [
       "\n",
       "A data.table: 6 × 14\n",
       "\n",
       "| date &lt;dttm&gt; | hour &lt;chr&gt; | price &lt;dbl&gt; | priceUsd &lt;dbl&gt; | priceEur &lt;dbl&gt; | Workday &lt;int&gt; | forecast &lt;dbl&gt; | priceEur_24 &lt;dbl&gt; | priceEur_168 &lt;dbl&gt; | Workday_24 &lt;int&gt; | Workday_168 &lt;int&gt; | forecasted_price_eur &lt;dbl&gt; | exchange_rate &lt;dbl&gt; | forecasted_price_TL &lt;dbl&gt; |\n",
       "|---|---|---|---|---|---|---|---|---|---|---|---|---|---|\n",
       "| 2021-01-14 00:00:00 | 00:00 | 319.81 | 42.87 | 35.26 | 1 | 27.4 | 34.10 | 33.09 | 1 | 1 | 37.11062 | 9.070051 | 336.5952 |\n",
       "| 2021-01-14 01:00:00 | 01:00 | 318.60 | 42.70 | 35.13 | 1 | 30.1 | 30.34 | 34.19 | 1 | 1 | 35.72879 | 9.069172 | 324.0305 |\n",
       "| 2021-01-14 02:00:00 | 02:00 | 316.21 | 42.38 | 34.87 | 1 | 37.3 | 32.55 | 29.70 | 1 | 1 | 34.79952 | 9.068254 | 315.5709 |\n",
       "| 2021-01-14 03:00:00 | 03:00 | 313.66 | 42.04 | 34.58 | 1 | 41.0 | 26.92 | 29.23 | 1 | 1 | 31.77121 | 9.070561 | 288.1827 |\n",
       "| 2021-01-14 04:00:00 | 04:00 | 313.50 | 42.02 | 34.57 | 1 | 52.6 | 28.12 | 27.25 | 1 | 1 | 31.47415 | 9.068557 | 285.4251 |\n",
       "| 2021-01-14 05:00:00 | 05:00 | 313.13 | 41.97 | 34.53 | 1 | 67.9 | 34.21 | 27.25 | 1 | 1 | 34.51953 | 9.068346 | 313.0351 |\n",
       "\n"
      ],
      "text/plain": [
       "  date                hour  price  priceUsd priceEur Workday forecast\n",
       "1 2021-01-14 00:00:00 00:00 319.81 42.87    35.26    1       27.4    \n",
       "2 2021-01-14 01:00:00 01:00 318.60 42.70    35.13    1       30.1    \n",
       "3 2021-01-14 02:00:00 02:00 316.21 42.38    34.87    1       37.3    \n",
       "4 2021-01-14 03:00:00 03:00 313.66 42.04    34.58    1       41.0    \n",
       "5 2021-01-14 04:00:00 04:00 313.50 42.02    34.57    1       52.6    \n",
       "6 2021-01-14 05:00:00 05:00 313.13 41.97    34.53    1       67.9    \n",
       "  priceEur_24 priceEur_168 Workday_24 Workday_168 forecasted_price_eur\n",
       "1 34.10       33.09        1          1           37.11062            \n",
       "2 30.34       34.19        1          1           35.72879            \n",
       "3 32.55       29.70        1          1           34.79952            \n",
       "4 26.92       29.23        1          1           31.77121            \n",
       "5 28.12       27.25        1          1           31.47415            \n",
       "6 34.21       27.25        1          1           34.51953            \n",
       "  exchange_rate forecasted_price_TL\n",
       "1 9.070051      336.5952           \n",
       "2 9.069172      324.0305           \n",
       "3 9.068254      315.5709           \n",
       "4 9.070561      288.1827           \n",
       "5 9.068557      285.4251           \n",
       "6 9.068346      313.0351           "
      ]
     },
     "metadata": {},
     "output_type": "display_data"
    },
    {
     "data": {
      "text/html": [
       "<table class=\"dataframe\">\n",
       "<caption>A data.table: 6 × 14</caption>\n",
       "<thead>\n",
       "\t<tr><th scope=col>date</th><th scope=col>hour</th><th scope=col>price</th><th scope=col>priceUsd</th><th scope=col>priceEur</th><th scope=col>Workday</th><th scope=col>forecast</th><th scope=col>priceEur_24</th><th scope=col>priceEur_168</th><th scope=col>Workday_24</th><th scope=col>Workday_168</th><th scope=col>forecasted_price_eur</th><th scope=col>exchange_rate</th><th scope=col>forecasted_price_TL</th></tr>\n",
       "\t<tr><th scope=col>&lt;dttm&gt;</th><th scope=col>&lt;chr&gt;</th><th scope=col>&lt;dbl&gt;</th><th scope=col>&lt;dbl&gt;</th><th scope=col>&lt;dbl&gt;</th><th scope=col>&lt;int&gt;</th><th scope=col>&lt;dbl&gt;</th><th scope=col>&lt;dbl&gt;</th><th scope=col>&lt;dbl&gt;</th><th scope=col>&lt;int&gt;</th><th scope=col>&lt;int&gt;</th><th scope=col>&lt;dbl&gt;</th><th scope=col>&lt;dbl&gt;</th><th scope=col>&lt;dbl&gt;</th></tr>\n",
       "</thead>\n",
       "<tbody>\n",
       "\t<tr><td>2024-04-25 18:00:00</td><td>18:00</td><td>2700</td><td>83.08</td><td>77.99</td><td>1</td><td>318.28</td><td>77.99</td><td>77.32</td><td>1</td><td>1</td><td>79.09895</td><td>34.61982</td><td>2738.392</td></tr>\n",
       "\t<tr><td>2024-04-25 19:00:00</td><td>19:00</td><td>2700</td><td>83.08</td><td>77.99</td><td>1</td><td>264.01</td><td>77.99</td><td>78.43</td><td>1</td><td>1</td><td>79.60189</td><td>34.61982</td><td>2755.803</td></tr>\n",
       "\t<tr><td>2024-04-25 20:00:00</td><td>20:00</td><td>2700</td><td>83.08</td><td>77.99</td><td>1</td><td>219.62</td><td>77.99</td><td>78.43</td><td>1</td><td>1</td><td>79.60189</td><td>34.61982</td><td>2755.803</td></tr>\n",
       "\t<tr><td>2024-04-25 21:00:00</td><td>21:00</td><td>2700</td><td>83.08</td><td>77.99</td><td>1</td><td>191.99</td><td>77.99</td><td>78.43</td><td>1</td><td>1</td><td>79.60189</td><td>34.61982</td><td>2755.803</td></tr>\n",
       "\t<tr><td>2024-04-25 22:00:00</td><td>22:00</td><td>2700</td><td>83.08</td><td>77.99</td><td>1</td><td>157.67</td><td>77.99</td><td>76.95</td><td>1</td><td>1</td><td>78.93130</td><td>34.61982</td><td>2732.588</td></tr>\n",
       "\t<tr><td>2024-04-25 23:00:00</td><td>23:00</td><td>2700</td><td>83.08</td><td>77.99</td><td>1</td><td>134.85</td><td>77.99</td><td>67.42</td><td>1</td><td>1</td><td>74.61327</td><td>34.61982</td><td>2583.098</td></tr>\n",
       "</tbody>\n",
       "</table>\n"
      ],
      "text/latex": [
       "A data.table: 6 × 14\n",
       "\\begin{tabular}{llllllllllllll}\n",
       " date & hour & price & priceUsd & priceEur & Workday & forecast & priceEur\\_24 & priceEur\\_168 & Workday\\_24 & Workday\\_168 & forecasted\\_price\\_eur & exchange\\_rate & forecasted\\_price\\_TL\\\\\n",
       " <dttm> & <chr> & <dbl> & <dbl> & <dbl> & <int> & <dbl> & <dbl> & <dbl> & <int> & <int> & <dbl> & <dbl> & <dbl>\\\\\n",
       "\\hline\n",
       "\t 2024-04-25 18:00:00 & 18:00 & 2700 & 83.08 & 77.99 & 1 & 318.28 & 77.99 & 77.32 & 1 & 1 & 79.09895 & 34.61982 & 2738.392\\\\\n",
       "\t 2024-04-25 19:00:00 & 19:00 & 2700 & 83.08 & 77.99 & 1 & 264.01 & 77.99 & 78.43 & 1 & 1 & 79.60189 & 34.61982 & 2755.803\\\\\n",
       "\t 2024-04-25 20:00:00 & 20:00 & 2700 & 83.08 & 77.99 & 1 & 219.62 & 77.99 & 78.43 & 1 & 1 & 79.60189 & 34.61982 & 2755.803\\\\\n",
       "\t 2024-04-25 21:00:00 & 21:00 & 2700 & 83.08 & 77.99 & 1 & 191.99 & 77.99 & 78.43 & 1 & 1 & 79.60189 & 34.61982 & 2755.803\\\\\n",
       "\t 2024-04-25 22:00:00 & 22:00 & 2700 & 83.08 & 77.99 & 1 & 157.67 & 77.99 & 76.95 & 1 & 1 & 78.93130 & 34.61982 & 2732.588\\\\\n",
       "\t 2024-04-25 23:00:00 & 23:00 & 2700 & 83.08 & 77.99 & 1 & 134.85 & 77.99 & 67.42 & 1 & 1 & 74.61327 & 34.61982 & 2583.098\\\\\n",
       "\\end{tabular}\n"
      ],
      "text/markdown": [
       "\n",
       "A data.table: 6 × 14\n",
       "\n",
       "| date &lt;dttm&gt; | hour &lt;chr&gt; | price &lt;dbl&gt; | priceUsd &lt;dbl&gt; | priceEur &lt;dbl&gt; | Workday &lt;int&gt; | forecast &lt;dbl&gt; | priceEur_24 &lt;dbl&gt; | priceEur_168 &lt;dbl&gt; | Workday_24 &lt;int&gt; | Workday_168 &lt;int&gt; | forecasted_price_eur &lt;dbl&gt; | exchange_rate &lt;dbl&gt; | forecasted_price_TL &lt;dbl&gt; |\n",
       "|---|---|---|---|---|---|---|---|---|---|---|---|---|---|\n",
       "| 2024-04-25 18:00:00 | 18:00 | 2700 | 83.08 | 77.99 | 1 | 318.28 | 77.99 | 77.32 | 1 | 1 | 79.09895 | 34.61982 | 2738.392 |\n",
       "| 2024-04-25 19:00:00 | 19:00 | 2700 | 83.08 | 77.99 | 1 | 264.01 | 77.99 | 78.43 | 1 | 1 | 79.60189 | 34.61982 | 2755.803 |\n",
       "| 2024-04-25 20:00:00 | 20:00 | 2700 | 83.08 | 77.99 | 1 | 219.62 | 77.99 | 78.43 | 1 | 1 | 79.60189 | 34.61982 | 2755.803 |\n",
       "| 2024-04-25 21:00:00 | 21:00 | 2700 | 83.08 | 77.99 | 1 | 191.99 | 77.99 | 78.43 | 1 | 1 | 79.60189 | 34.61982 | 2755.803 |\n",
       "| 2024-04-25 22:00:00 | 22:00 | 2700 | 83.08 | 77.99 | 1 | 157.67 | 77.99 | 76.95 | 1 | 1 | 78.93130 | 34.61982 | 2732.588 |\n",
       "| 2024-04-25 23:00:00 | 23:00 | 2700 | 83.08 | 77.99 | 1 | 134.85 | 77.99 | 67.42 | 1 | 1 | 74.61327 | 34.61982 | 2583.098 |\n",
       "\n"
      ],
      "text/plain": [
       "  date                hour  price priceUsd priceEur Workday forecast\n",
       "1 2024-04-25 18:00:00 18:00 2700  83.08    77.99    1       318.28  \n",
       "2 2024-04-25 19:00:00 19:00 2700  83.08    77.99    1       264.01  \n",
       "3 2024-04-25 20:00:00 20:00 2700  83.08    77.99    1       219.62  \n",
       "4 2024-04-25 21:00:00 21:00 2700  83.08    77.99    1       191.99  \n",
       "5 2024-04-25 22:00:00 22:00 2700  83.08    77.99    1       157.67  \n",
       "6 2024-04-25 23:00:00 23:00 2700  83.08    77.99    1       134.85  \n",
       "  priceEur_24 priceEur_168 Workday_24 Workday_168 forecasted_price_eur\n",
       "1 77.99       77.32        1          1           79.09895            \n",
       "2 77.99       78.43        1          1           79.60189            \n",
       "3 77.99       78.43        1          1           79.60189            \n",
       "4 77.99       78.43        1          1           79.60189            \n",
       "5 77.99       76.95        1          1           78.93130            \n",
       "6 77.99       67.42        1          1           74.61327            \n",
       "  exchange_rate forecasted_price_TL\n",
       "1 34.61982      2738.392           \n",
       "2 34.61982      2755.803           \n",
       "3 34.61982      2755.803           \n",
       "4 34.61982      2755.803           \n",
       "5 34.61982      2732.588           \n",
       "6 34.61982      2583.098           "
      ]
     },
     "metadata": {},
     "output_type": "display_data"
    }
   ],
   "source": [
    "results[, exchange_rate := price/priceEur]\n",
    "results[, forecasted_price_TL := exchange_rate*forecasted_price_eur]\n",
    "\n",
    "head(results)\n",
    "tail(results)"
   ]
  },
  {
   "cell_type": "code",
   "execution_count": null,
   "metadata": {
    "vscode": {
     "languageId": "r"
    }
   },
   "outputs": [],
   "source": [
    "fwrite(results, file = \"PTF_PREDICTIONS.csv\")"
   ]
  },
  {
   "cell_type": "markdown",
   "metadata": {},
   "source": [
    "# 8th MODEL FOR PREDICTIONS IN TL"
   ]
  },
  {
   "cell_type": "code",
   "execution_count": null,
   "metadata": {
    "vscode": {
     "languageId": "r"
    }
   },
   "outputs": [
    {
     "data": {
      "text/html": [
       "<table class=\"dataframe\">\n",
       "<caption>A data.table: 6 × 9</caption>\n",
       "<thead>\n",
       "\t<tr><th scope=col>date</th><th scope=col>hour</th><th scope=col>price</th><th scope=col>priceUsd</th><th scope=col>priceEur</th><th scope=col>Price_Lag_24</th><th scope=col>Price_Lag_168</th><th scope=col>Tatil</th><th scope=col>forecast</th></tr>\n",
       "\t<tr><th scope=col>&lt;dttm&gt;</th><th scope=col>&lt;chr&gt;</th><th scope=col>&lt;dbl&gt;</th><th scope=col>&lt;dbl&gt;</th><th scope=col>&lt;dbl&gt;</th><th scope=col>&lt;dbl&gt;</th><th scope=col>&lt;dbl&gt;</th><th scope=col>&lt;int&gt;</th><th scope=col>&lt;dbl&gt;</th></tr>\n",
       "</thead>\n",
       "<tbody>\n",
       "\t<tr><td>2021-01-07 00:00:00</td><td>00:00</td><td>300.00</td><td>40.61</td><td>33.09</td><td>300.00</td><td>285.00</td><td>1</td><td>115.6</td></tr>\n",
       "\t<tr><td>2021-01-07 01:00:00</td><td>01:00</td><td>309.99</td><td>41.97</td><td>34.19</td><td>310.39</td><td>269.99</td><td>1</td><td>131.0</td></tr>\n",
       "\t<tr><td>2021-01-07 02:00:00</td><td>02:00</td><td>269.24</td><td>36.45</td><td>29.70</td><td>269.98</td><td>259.00</td><td>1</td><td>143.3</td></tr>\n",
       "\t<tr><td>2021-01-07 03:00:00</td><td>03:00</td><td>264.99</td><td>35.87</td><td>29.23</td><td>256.32</td><td>236.99</td><td>1</td><td>153.6</td></tr>\n",
       "\t<tr><td>2021-01-07 04:00:00</td><td>04:00</td><td>247.03</td><td>33.44</td><td>27.25</td><td>247.02</td><td>236.98</td><td>1</td><td>162.9</td></tr>\n",
       "\t<tr><td>2021-01-07 05:00:00</td><td>05:00</td><td>247.03</td><td>33.44</td><td>27.25</td><td>256.33</td><td>236.99</td><td>1</td><td>168.6</td></tr>\n",
       "</tbody>\n",
       "</table>\n"
      ],
      "text/latex": [
       "A data.table: 6 × 9\n",
       "\\begin{tabular}{lllllllll}\n",
       " date & hour & price & priceUsd & priceEur & Price\\_Lag\\_24 & Price\\_Lag\\_168 & Tatil & forecast\\\\\n",
       " <dttm> & <chr> & <dbl> & <dbl> & <dbl> & <dbl> & <dbl> & <int> & <dbl>\\\\\n",
       "\\hline\n",
       "\t 2021-01-07 00:00:00 & 00:00 & 300.00 & 40.61 & 33.09 & 300.00 & 285.00 & 1 & 115.6\\\\\n",
       "\t 2021-01-07 01:00:00 & 01:00 & 309.99 & 41.97 & 34.19 & 310.39 & 269.99 & 1 & 131.0\\\\\n",
       "\t 2021-01-07 02:00:00 & 02:00 & 269.24 & 36.45 & 29.70 & 269.98 & 259.00 & 1 & 143.3\\\\\n",
       "\t 2021-01-07 03:00:00 & 03:00 & 264.99 & 35.87 & 29.23 & 256.32 & 236.99 & 1 & 153.6\\\\\n",
       "\t 2021-01-07 04:00:00 & 04:00 & 247.03 & 33.44 & 27.25 & 247.02 & 236.98 & 1 & 162.9\\\\\n",
       "\t 2021-01-07 05:00:00 & 05:00 & 247.03 & 33.44 & 27.25 & 256.33 & 236.99 & 1 & 168.6\\\\\n",
       "\\end{tabular}\n"
      ],
      "text/markdown": [
       "\n",
       "A data.table: 6 × 9\n",
       "\n",
       "| date &lt;dttm&gt; | hour &lt;chr&gt; | price &lt;dbl&gt; | priceUsd &lt;dbl&gt; | priceEur &lt;dbl&gt; | Price_Lag_24 &lt;dbl&gt; | Price_Lag_168 &lt;dbl&gt; | Tatil &lt;int&gt; | forecast &lt;dbl&gt; |\n",
       "|---|---|---|---|---|---|---|---|---|\n",
       "| 2021-01-07 00:00:00 | 00:00 | 300.00 | 40.61 | 33.09 | 300.00 | 285.00 | 1 | 115.6 |\n",
       "| 2021-01-07 01:00:00 | 01:00 | 309.99 | 41.97 | 34.19 | 310.39 | 269.99 | 1 | 131.0 |\n",
       "| 2021-01-07 02:00:00 | 02:00 | 269.24 | 36.45 | 29.70 | 269.98 | 259.00 | 1 | 143.3 |\n",
       "| 2021-01-07 03:00:00 | 03:00 | 264.99 | 35.87 | 29.23 | 256.32 | 236.99 | 1 | 153.6 |\n",
       "| 2021-01-07 04:00:00 | 04:00 | 247.03 | 33.44 | 27.25 | 247.02 | 236.98 | 1 | 162.9 |\n",
       "| 2021-01-07 05:00:00 | 05:00 | 247.03 | 33.44 | 27.25 | 256.33 | 236.99 | 1 | 168.6 |\n",
       "\n"
      ],
      "text/plain": [
       "  date                hour  price  priceUsd priceEur Price_Lag_24 Price_Lag_168\n",
       "1 2021-01-07 00:00:00 00:00 300.00 40.61    33.09    300.00       285.00       \n",
       "2 2021-01-07 01:00:00 01:00 309.99 41.97    34.19    310.39       269.99       \n",
       "3 2021-01-07 02:00:00 02:00 269.24 36.45    29.70    269.98       259.00       \n",
       "4 2021-01-07 03:00:00 03:00 264.99 35.87    29.23    256.32       236.99       \n",
       "5 2021-01-07 04:00:00 04:00 247.03 33.44    27.25    247.02       236.98       \n",
       "6 2021-01-07 05:00:00 05:00 247.03 33.44    27.25    256.33       236.99       \n",
       "  Tatil forecast\n",
       "1 1     115.6   \n",
       "2 1     131.0   \n",
       "3 1     143.3   \n",
       "4 1     153.6   \n",
       "5 1     162.9   \n",
       "6 1     168.6   "
      ]
     },
     "metadata": {},
     "output_type": "display_data"
    }
   ],
   "source": [
    "data_path='dataforptf.csv'\n",
    "data=fread(data_path)\n",
    "head(data)"
   ]
  },
  {
   "cell_type": "code",
   "execution_count": null,
   "metadata": {
    "vscode": {
     "languageId": "r"
    }
   },
   "outputs": [
    {
     "data": {
      "text/html": [
       "<table class=\"dataframe\">\n",
       "<caption>A data.table: 6 × 11</caption>\n",
       "<thead>\n",
       "\t<tr><th scope=col>date</th><th scope=col>hour</th><th scope=col>price</th><th scope=col>priceUsd</th><th scope=col>priceEur</th><th scope=col>Price_Lag_24</th><th scope=col>Price_Lag_168</th><th scope=col>Tatil</th><th scope=col>forecast</th><th scope=col>Workday_24</th><th scope=col>Workday_168</th></tr>\n",
       "\t<tr><th scope=col>&lt;dttm&gt;</th><th scope=col>&lt;chr&gt;</th><th scope=col>&lt;dbl&gt;</th><th scope=col>&lt;dbl&gt;</th><th scope=col>&lt;dbl&gt;</th><th scope=col>&lt;dbl&gt;</th><th scope=col>&lt;dbl&gt;</th><th scope=col>&lt;int&gt;</th><th scope=col>&lt;dbl&gt;</th><th scope=col>&lt;int&gt;</th><th scope=col>&lt;int&gt;</th></tr>\n",
       "</thead>\n",
       "<tbody>\n",
       "\t<tr><td>2021-01-07 00:00:00</td><td>00:00</td><td>300.00</td><td>40.61</td><td>33.09</td><td>300.00</td><td>285.00</td><td>1</td><td>115.6</td><td>NA</td><td>NA</td></tr>\n",
       "\t<tr><td>2021-01-07 01:00:00</td><td>01:00</td><td>309.99</td><td>41.97</td><td>34.19</td><td>310.39</td><td>269.99</td><td>1</td><td>131.0</td><td>NA</td><td>NA</td></tr>\n",
       "\t<tr><td>2021-01-07 02:00:00</td><td>02:00</td><td>269.24</td><td>36.45</td><td>29.70</td><td>269.98</td><td>259.00</td><td>1</td><td>143.3</td><td>NA</td><td>NA</td></tr>\n",
       "\t<tr><td>2021-01-07 03:00:00</td><td>03:00</td><td>264.99</td><td>35.87</td><td>29.23</td><td>256.32</td><td>236.99</td><td>1</td><td>153.6</td><td>NA</td><td>NA</td></tr>\n",
       "\t<tr><td>2021-01-07 04:00:00</td><td>04:00</td><td>247.03</td><td>33.44</td><td>27.25</td><td>247.02</td><td>236.98</td><td>1</td><td>162.9</td><td>NA</td><td>NA</td></tr>\n",
       "\t<tr><td>2021-01-07 05:00:00</td><td>05:00</td><td>247.03</td><td>33.44</td><td>27.25</td><td>256.33</td><td>236.99</td><td>1</td><td>168.6</td><td>NA</td><td>NA</td></tr>\n",
       "</tbody>\n",
       "</table>\n"
      ],
      "text/latex": [
       "A data.table: 6 × 11\n",
       "\\begin{tabular}{lllllllllll}\n",
       " date & hour & price & priceUsd & priceEur & Price\\_Lag\\_24 & Price\\_Lag\\_168 & Tatil & forecast & Workday\\_24 & Workday\\_168\\\\\n",
       " <dttm> & <chr> & <dbl> & <dbl> & <dbl> & <dbl> & <dbl> & <int> & <dbl> & <int> & <int>\\\\\n",
       "\\hline\n",
       "\t 2021-01-07 00:00:00 & 00:00 & 300.00 & 40.61 & 33.09 & 300.00 & 285.00 & 1 & 115.6 & NA & NA\\\\\n",
       "\t 2021-01-07 01:00:00 & 01:00 & 309.99 & 41.97 & 34.19 & 310.39 & 269.99 & 1 & 131.0 & NA & NA\\\\\n",
       "\t 2021-01-07 02:00:00 & 02:00 & 269.24 & 36.45 & 29.70 & 269.98 & 259.00 & 1 & 143.3 & NA & NA\\\\\n",
       "\t 2021-01-07 03:00:00 & 03:00 & 264.99 & 35.87 & 29.23 & 256.32 & 236.99 & 1 & 153.6 & NA & NA\\\\\n",
       "\t 2021-01-07 04:00:00 & 04:00 & 247.03 & 33.44 & 27.25 & 247.02 & 236.98 & 1 & 162.9 & NA & NA\\\\\n",
       "\t 2021-01-07 05:00:00 & 05:00 & 247.03 & 33.44 & 27.25 & 256.33 & 236.99 & 1 & 168.6 & NA & NA\\\\\n",
       "\\end{tabular}\n"
      ],
      "text/markdown": [
       "\n",
       "A data.table: 6 × 11\n",
       "\n",
       "| date &lt;dttm&gt; | hour &lt;chr&gt; | price &lt;dbl&gt; | priceUsd &lt;dbl&gt; | priceEur &lt;dbl&gt; | Price_Lag_24 &lt;dbl&gt; | Price_Lag_168 &lt;dbl&gt; | Tatil &lt;int&gt; | forecast &lt;dbl&gt; | Workday_24 &lt;int&gt; | Workday_168 &lt;int&gt; |\n",
       "|---|---|---|---|---|---|---|---|---|---|---|\n",
       "| 2021-01-07 00:00:00 | 00:00 | 300.00 | 40.61 | 33.09 | 300.00 | 285.00 | 1 | 115.6 | NA | NA |\n",
       "| 2021-01-07 01:00:00 | 01:00 | 309.99 | 41.97 | 34.19 | 310.39 | 269.99 | 1 | 131.0 | NA | NA |\n",
       "| 2021-01-07 02:00:00 | 02:00 | 269.24 | 36.45 | 29.70 | 269.98 | 259.00 | 1 | 143.3 | NA | NA |\n",
       "| 2021-01-07 03:00:00 | 03:00 | 264.99 | 35.87 | 29.23 | 256.32 | 236.99 | 1 | 153.6 | NA | NA |\n",
       "| 2021-01-07 04:00:00 | 04:00 | 247.03 | 33.44 | 27.25 | 247.02 | 236.98 | 1 | 162.9 | NA | NA |\n",
       "| 2021-01-07 05:00:00 | 05:00 | 247.03 | 33.44 | 27.25 | 256.33 | 236.99 | 1 | 168.6 | NA | NA |\n",
       "\n"
      ],
      "text/plain": [
       "  date                hour  price  priceUsd priceEur Price_Lag_24 Price_Lag_168\n",
       "1 2021-01-07 00:00:00 00:00 300.00 40.61    33.09    300.00       285.00       \n",
       "2 2021-01-07 01:00:00 01:00 309.99 41.97    34.19    310.39       269.99       \n",
       "3 2021-01-07 02:00:00 02:00 269.24 36.45    29.70    269.98       259.00       \n",
       "4 2021-01-07 03:00:00 03:00 264.99 35.87    29.23    256.32       236.99       \n",
       "5 2021-01-07 04:00:00 04:00 247.03 33.44    27.25    247.02       236.98       \n",
       "6 2021-01-07 05:00:00 05:00 247.03 33.44    27.25    256.33       236.99       \n",
       "  Tatil forecast Workday_24 Workday_168\n",
       "1 1     115.6    NA         NA         \n",
       "2 1     131.0    NA         NA         \n",
       "3 1     143.3    NA         NA         \n",
       "4 1     153.6    NA         NA         \n",
       "5 1     162.9    NA         NA         \n",
       "6 1     168.6    NA         NA         "
      ]
     },
     "metadata": {},
     "output_type": "display_data"
    }
   ],
   "source": [
    "data[, c(\"Workday_24\", \"Workday_168\") := .(\n",
    "  shift(Tatil, n = 24, fill = NA),\n",
    "  shift(Tatil, n = 168, fill = NA))]\n",
    "head(data)"
   ]
  },
  {
   "cell_type": "code",
   "execution_count": null,
   "metadata": {
    "vscode": {
     "languageId": "r"
    }
   },
   "outputs": [
    {
     "data": {
      "text/plain": [
       "\n",
       "Call:\n",
       "lm(formula = price ~ Price_Lag_24 + Price_Lag_168 + Tatil + Workday_24 + \n",
       "    Workday_168, data = train_data)\n",
       "\n",
       "Residuals:\n",
       "    Min      1Q  Median      3Q     Max \n",
       "-4154.1  -109.5   -31.1   126.2  2889.0 \n",
       "\n",
       "Coefficients:\n",
       "                Estimate Std. Error t value Pr(>|t|)    \n",
       "(Intercept)   -1.866e+01  2.626e+01  -0.711 0.477368    \n",
       "Price_Lag_24   4.961e-01  5.223e-03  94.979  < 2e-16 ***\n",
       "Price_Lag_168  4.687e-01  5.204e-03  90.052  < 2e-16 ***\n",
       "Tatil          3.565e+02  1.891e+01  18.857  < 2e-16 ***\n",
       "Workday_24    -6.927e+01  1.905e+01  -3.636 0.000278 ***\n",
       "Workday_168   -2.005e+02  1.806e+01 -11.106  < 2e-16 ***\n",
       "---\n",
       "Signif. codes:  0 '***' 0.001 '**' 0.01 '*' 0.05 '.' 0.1 ' ' 1\n",
       "\n",
       "Residual standard error: 455.3 on 19935 degrees of freedom\n",
       "  (168 observations deleted due to missingness)\n",
       "Multiple R-squared:  0.8818,\tAdjusted R-squared:  0.8818 \n",
       "F-statistic: 2.974e+04 on 5 and 19935 DF,  p-value: < 2.2e-16\n"
      ]
     },
     "metadata": {},
     "output_type": "display_data"
    }
   ],
   "source": [
    "data$date <- as.POSIXct(data$date)\n",
    "\n",
    "train_data <- data[date < as.POSIXct(\"2023-04-25\"), ]\n",
    "test_data <- data[date >= as.POSIXct(\"2023-04-25\"), ]\n",
    "\n",
    "lm_model <- lm(price ~  Price_Lag_24 + Price_Lag_168 + Tatil + Workday_24 + Workday_168, data = train_data)\n",
    "\n",
    "\n",
    "summary(lm_model)"
   ]
  },
  {
   "cell_type": "code",
   "execution_count": null,
   "metadata": {
    "vscode": {
     "languageId": "r"
    }
   },
   "outputs": [
    {
     "data": {
      "text/html": [
       "<table class=\"dataframe\">\n",
       "<caption>A data.frame: 9 × 5</caption>\n",
       "<thead>\n",
       "\t<tr><th scope=col>Model</th><th scope=col>MSE</th><th scope=col>MAE</th><th scope=col>MAPE</th><th scope=col>WMAPE</th></tr>\n",
       "\t<tr><th scope=col>&lt;chr&gt;</th><th scope=col>&lt;dbl&gt;</th><th scope=col>&lt;dbl&gt;</th><th scope=col>&lt;dbl&gt;</th><th scope=col>&lt;dbl&gt;</th></tr>\n",
       "</thead>\n",
       "<tbody>\n",
       "\t<tr><td>ARIMA 1                 </td><td>   738.9659</td><td> 15.14293</td><td>  37474.51</td><td>0.1681185</td></tr>\n",
       "\t<tr><td>ARIMA 2                 </td><td>   738.3403</td><td> 15.18102</td><td>  37461.09</td><td>0.1685414</td></tr>\n",
       "\t<tr><td>ARIMA 3                 </td><td>   739.3178</td><td> 15.13699</td><td>  37449.06</td><td>0.1680526</td></tr>\n",
       "\t<tr><td>LRM 4                   </td><td>   592.4825</td><td> 14.47721</td><td>  39253.08</td><td>0.1601491</td></tr>\n",
       "\t<tr><td>LRM 5                   </td><td>   592.4824</td><td> 14.47723</td><td>  39250.55</td><td>0.1601492</td></tr>\n",
       "\t<tr><td>Same as Yesterday 6     </td><td>   744.5148</td><td> 15.12668</td><td>  37447.11</td><td>0.1679381</td></tr>\n",
       "\t<tr><td>Same as Last Week 7     </td><td>   815.4347</td><td> 16.66282</td><td>  39897.34</td><td>0.1849925</td></tr>\n",
       "\t<tr><td>LRM 8                   </td><td>   500.1183</td><td> 13.75569</td><td>  39405.29</td><td>0.1527173</td></tr>\n",
       "\t<tr><td>LRM 9: Regression for TL</td><td>184785.9289</td><td>306.35003</td><td>1045714.92</td><td>0.1529235</td></tr>\n",
       "</tbody>\n",
       "</table>\n"
      ],
      "text/latex": [
       "A data.frame: 9 × 5\n",
       "\\begin{tabular}{lllll}\n",
       " Model & MSE & MAE & MAPE & WMAPE\\\\\n",
       " <chr> & <dbl> & <dbl> & <dbl> & <dbl>\\\\\n",
       "\\hline\n",
       "\t ARIMA 1                  &    738.9659 &  15.14293 &   37474.51 & 0.1681185\\\\\n",
       "\t ARIMA 2                  &    738.3403 &  15.18102 &   37461.09 & 0.1685414\\\\\n",
       "\t ARIMA 3                  &    739.3178 &  15.13699 &   37449.06 & 0.1680526\\\\\n",
       "\t LRM 4                    &    592.4825 &  14.47721 &   39253.08 & 0.1601491\\\\\n",
       "\t LRM 5                    &    592.4824 &  14.47723 &   39250.55 & 0.1601492\\\\\n",
       "\t Same as Yesterday 6      &    744.5148 &  15.12668 &   37447.11 & 0.1679381\\\\\n",
       "\t Same as Last Week 7      &    815.4347 &  16.66282 &   39897.34 & 0.1849925\\\\\n",
       "\t LRM 8                    &    500.1183 &  13.75569 &   39405.29 & 0.1527173\\\\\n",
       "\t LRM 9: Regression for TL & 184785.9289 & 306.35003 & 1045714.92 & 0.1529235\\\\\n",
       "\\end{tabular}\n"
      ],
      "text/markdown": [
       "\n",
       "A data.frame: 9 × 5\n",
       "\n",
       "| Model &lt;chr&gt; | MSE &lt;dbl&gt; | MAE &lt;dbl&gt; | MAPE &lt;dbl&gt; | WMAPE &lt;dbl&gt; |\n",
       "|---|---|---|---|---|\n",
       "| ARIMA 1                  |    738.9659 |  15.14293 |   37474.51 | 0.1681185 |\n",
       "| ARIMA 2                  |    738.3403 |  15.18102 |   37461.09 | 0.1685414 |\n",
       "| ARIMA 3                  |    739.3178 |  15.13699 |   37449.06 | 0.1680526 |\n",
       "| LRM 4                    |    592.4825 |  14.47721 |   39253.08 | 0.1601491 |\n",
       "| LRM 5                    |    592.4824 |  14.47723 |   39250.55 | 0.1601492 |\n",
       "| Same as Yesterday 6      |    744.5148 |  15.12668 |   37447.11 | 0.1679381 |\n",
       "| Same as Last Week 7      |    815.4347 |  16.66282 |   39897.34 | 0.1849925 |\n",
       "| LRM 8                    |    500.1183 |  13.75569 |   39405.29 | 0.1527173 |\n",
       "| LRM 9: Regression for TL | 184785.9289 | 306.35003 | 1045714.92 | 0.1529235 |\n",
       "\n"
      ],
      "text/plain": [
       "  Model                    MSE         MAE       MAPE       WMAPE    \n",
       "1 ARIMA 1                     738.9659  15.14293   37474.51 0.1681185\n",
       "2 ARIMA 2                     738.3403  15.18102   37461.09 0.1685414\n",
       "3 ARIMA 3                     739.3178  15.13699   37449.06 0.1680526\n",
       "4 LRM 4                       592.4825  14.47721   39253.08 0.1601491\n",
       "5 LRM 5                       592.4824  14.47723   39250.55 0.1601492\n",
       "6 Same as Yesterday 6         744.5148  15.12668   37447.11 0.1679381\n",
       "7 Same as Last Week 7         815.4347  16.66282   39897.34 0.1849925\n",
       "8 LRM 8                       500.1183  13.75569   39405.29 0.1527173\n",
       "9 LRM 9: Regression for TL 184785.9289 306.35003 1045714.92 0.1529235"
      ]
     },
     "metadata": {},
     "output_type": "display_data"
    }
   ],
   "source": [
    "test_errors <- copy(test_data)\n",
    "\n",
    "predictions <- predict(lm_model, newdata = test_data)\n",
    "\n",
    "test_errors[, forecasted := predictions]\n",
    "\n",
    "residuals <- test_errors$price - test_errors$forecasted\n",
    "\n",
    "mse <- mean(residuals^2)\n",
    "mae <- mean(abs(residuals))\n",
    "mape <- mean(abs(residuals)/((test_errors$price)+0.000001))\n",
    "wmape <- sum(abs(residuals))/sum(test_errors$price)\n",
    "\n",
    "new_row <- data.frame(\n",
    "  Model = \"LRM 9: Regression for TL\",\n",
    "  MSE = mse,\n",
    "  MAE = mae,\n",
    "  MAPE = mape,\n",
    "  WMAPE = wmape\n",
    ")\n",
    "\n",
    "perf_results <- rbind(perf_results, new_row)\n",
    "\n",
    "perf_results"
   ]
  },
  {
   "cell_type": "code",
   "execution_count": null,
   "metadata": {
    "vscode": {
     "languageId": "r"
    }
   },
   "outputs": [
    {
     "data": {
      "text/html": [
       "<table class=\"dataframe\">\n",
       "<caption>A data.table: 6 × 12</caption>\n",
       "<thead>\n",
       "\t<tr><th scope=col>date</th><th scope=col>hour</th><th scope=col>price</th><th scope=col>priceUsd</th><th scope=col>priceEur</th><th scope=col>Price_Lag_24</th><th scope=col>Price_Lag_168</th><th scope=col>Tatil</th><th scope=col>forecast</th><th scope=col>Workday_24</th><th scope=col>Workday_168</th><th scope=col>forecasted</th></tr>\n",
       "\t<tr><th scope=col>&lt;dttm&gt;</th><th scope=col>&lt;chr&gt;</th><th scope=col>&lt;dbl&gt;</th><th scope=col>&lt;dbl&gt;</th><th scope=col>&lt;dbl&gt;</th><th scope=col>&lt;dbl&gt;</th><th scope=col>&lt;dbl&gt;</th><th scope=col>&lt;int&gt;</th><th scope=col>&lt;dbl&gt;</th><th scope=col>&lt;int&gt;</th><th scope=col>&lt;int&gt;</th><th scope=col>&lt;dbl&gt;</th></tr>\n",
       "</thead>\n",
       "<tbody>\n",
       "\t<tr><td>2024-04-25 18:00:00</td><td>18:00</td><td>2700</td><td>83.08</td><td>77.99</td><td>2700</td><td>2662.00</td><td>1</td><td>318.28</td><td>1</td><td>1</td><td>2655.063</td></tr>\n",
       "\t<tr><td>2024-04-25 19:00:00</td><td>19:00</td><td>2700</td><td>83.08</td><td>77.99</td><td>2700</td><td>2700.00</td><td>1</td><td>264.01</td><td>1</td><td>1</td><td>2672.872</td></tr>\n",
       "\t<tr><td>2024-04-25 20:00:00</td><td>20:00</td><td>2700</td><td>83.08</td><td>77.99</td><td>2700</td><td>2700.00</td><td>1</td><td>219.62</td><td>1</td><td>1</td><td>2672.872</td></tr>\n",
       "\t<tr><td>2024-04-25 21:00:00</td><td>21:00</td><td>2700</td><td>83.08</td><td>77.99</td><td>2700</td><td>2700.00</td><td>1</td><td>191.99</td><td>1</td><td>1</td><td>2672.872</td></tr>\n",
       "\t<tr><td>2024-04-25 22:00:00</td><td>22:00</td><td>2700</td><td>83.08</td><td>77.99</td><td>2700</td><td>2649.00</td><td>1</td><td>157.67</td><td>1</td><td>1</td><td>2648.970</td></tr>\n",
       "\t<tr><td>2024-04-25 23:00:00</td><td>23:00</td><td>2700</td><td>83.08</td><td>77.99</td><td>2700</td><td>2320.89</td><td>1</td><td>134.85</td><td>1</td><td>1</td><td>2495.197</td></tr>\n",
       "</tbody>\n",
       "</table>\n"
      ],
      "text/latex": [
       "A data.table: 6 × 12\n",
       "\\begin{tabular}{llllllllllll}\n",
       " date & hour & price & priceUsd & priceEur & Price\\_Lag\\_24 & Price\\_Lag\\_168 & Tatil & forecast & Workday\\_24 & Workday\\_168 & forecasted\\\\\n",
       " <dttm> & <chr> & <dbl> & <dbl> & <dbl> & <dbl> & <dbl> & <int> & <dbl> & <int> & <int> & <dbl>\\\\\n",
       "\\hline\n",
       "\t 2024-04-25 18:00:00 & 18:00 & 2700 & 83.08 & 77.99 & 2700 & 2662.00 & 1 & 318.28 & 1 & 1 & 2655.063\\\\\n",
       "\t 2024-04-25 19:00:00 & 19:00 & 2700 & 83.08 & 77.99 & 2700 & 2700.00 & 1 & 264.01 & 1 & 1 & 2672.872\\\\\n",
       "\t 2024-04-25 20:00:00 & 20:00 & 2700 & 83.08 & 77.99 & 2700 & 2700.00 & 1 & 219.62 & 1 & 1 & 2672.872\\\\\n",
       "\t 2024-04-25 21:00:00 & 21:00 & 2700 & 83.08 & 77.99 & 2700 & 2700.00 & 1 & 191.99 & 1 & 1 & 2672.872\\\\\n",
       "\t 2024-04-25 22:00:00 & 22:00 & 2700 & 83.08 & 77.99 & 2700 & 2649.00 & 1 & 157.67 & 1 & 1 & 2648.970\\\\\n",
       "\t 2024-04-25 23:00:00 & 23:00 & 2700 & 83.08 & 77.99 & 2700 & 2320.89 & 1 & 134.85 & 1 & 1 & 2495.197\\\\\n",
       "\\end{tabular}\n"
      ],
      "text/markdown": [
       "\n",
       "A data.table: 6 × 12\n",
       "\n",
       "| date &lt;dttm&gt; | hour &lt;chr&gt; | price &lt;dbl&gt; | priceUsd &lt;dbl&gt; | priceEur &lt;dbl&gt; | Price_Lag_24 &lt;dbl&gt; | Price_Lag_168 &lt;dbl&gt; | Tatil &lt;int&gt; | forecast &lt;dbl&gt; | Workday_24 &lt;int&gt; | Workday_168 &lt;int&gt; | forecasted &lt;dbl&gt; |\n",
       "|---|---|---|---|---|---|---|---|---|---|---|---|\n",
       "| 2024-04-25 18:00:00 | 18:00 | 2700 | 83.08 | 77.99 | 2700 | 2662.00 | 1 | 318.28 | 1 | 1 | 2655.063 |\n",
       "| 2024-04-25 19:00:00 | 19:00 | 2700 | 83.08 | 77.99 | 2700 | 2700.00 | 1 | 264.01 | 1 | 1 | 2672.872 |\n",
       "| 2024-04-25 20:00:00 | 20:00 | 2700 | 83.08 | 77.99 | 2700 | 2700.00 | 1 | 219.62 | 1 | 1 | 2672.872 |\n",
       "| 2024-04-25 21:00:00 | 21:00 | 2700 | 83.08 | 77.99 | 2700 | 2700.00 | 1 | 191.99 | 1 | 1 | 2672.872 |\n",
       "| 2024-04-25 22:00:00 | 22:00 | 2700 | 83.08 | 77.99 | 2700 | 2649.00 | 1 | 157.67 | 1 | 1 | 2648.970 |\n",
       "| 2024-04-25 23:00:00 | 23:00 | 2700 | 83.08 | 77.99 | 2700 | 2320.89 | 1 | 134.85 | 1 | 1 | 2495.197 |\n",
       "\n"
      ],
      "text/plain": [
       "  date                hour  price priceUsd priceEur Price_Lag_24 Price_Lag_168\n",
       "1 2024-04-25 18:00:00 18:00 2700  83.08    77.99    2700         2662.00      \n",
       "2 2024-04-25 19:00:00 19:00 2700  83.08    77.99    2700         2700.00      \n",
       "3 2024-04-25 20:00:00 20:00 2700  83.08    77.99    2700         2700.00      \n",
       "4 2024-04-25 21:00:00 21:00 2700  83.08    77.99    2700         2700.00      \n",
       "5 2024-04-25 22:00:00 22:00 2700  83.08    77.99    2700         2649.00      \n",
       "6 2024-04-25 23:00:00 23:00 2700  83.08    77.99    2700         2320.89      \n",
       "  Tatil forecast Workday_24 Workday_168 forecasted\n",
       "1 1     318.28   1          1           2655.063  \n",
       "2 1     264.01   1          1           2672.872  \n",
       "3 1     219.62   1          1           2672.872  \n",
       "4 1     191.99   1          1           2672.872  \n",
       "5 1     157.67   1          1           2648.970  \n",
       "6 1     134.85   1          1           2495.197  "
      ]
     },
     "metadata": {},
     "output_type": "display_data"
    }
   ],
   "source": [
    "tail(test_errors)"
   ]
  },
  {
   "cell_type": "code",
   "execution_count": null,
   "metadata": {
    "vscode": {
     "languageId": "r"
    }
   },
   "outputs": [
    {
     "data": {
      "image/png": "[encoded data removed]",
      "text/plain": [
       "plot without title"
      ]
     },
     "metadata": {
      "image/png": {
       "height": 420,
       "width": 420
      }
     },
     "output_type": "display_data"
    }
   ],
   "source": [
    "ggplot(test_errors,aes(x=date)) + geom_line(aes(y=price,color='real'))+ geom_line(aes(y=forecasted,color='forecasted'))"
   ]
  },
  {
   "cell_type": "code",
   "execution_count": null,
   "metadata": {
    "vscode": {
     "languageId": "r"
    }
   },
   "outputs": [
    {
     "data": {
      "text/html": [
       "<table class=\"dataframe\">\n",
       "<caption>A data.table: 6 × 12</caption>\n",
       "<thead>\n",
       "\t<tr><th scope=col>date</th><th scope=col>hour</th><th scope=col>price</th><th scope=col>priceUsd</th><th scope=col>priceEur</th><th scope=col>Price_Lag_24</th><th scope=col>Price_Lag_168</th><th scope=col>Tatil</th><th scope=col>forecast</th><th scope=col>Workday_24</th><th scope=col>Workday_168</th><th scope=col>forecasted</th></tr>\n",
       "\t<tr><th scope=col>&lt;dttm&gt;</th><th scope=col>&lt;chr&gt;</th><th scope=col>&lt;dbl&gt;</th><th scope=col>&lt;dbl&gt;</th><th scope=col>&lt;dbl&gt;</th><th scope=col>&lt;dbl&gt;</th><th scope=col>&lt;dbl&gt;</th><th scope=col>&lt;int&gt;</th><th scope=col>&lt;dbl&gt;</th><th scope=col>&lt;int&gt;</th><th scope=col>&lt;int&gt;</th><th scope=col>&lt;dbl&gt;</th></tr>\n",
       "</thead>\n",
       "<tbody>\n",
       "\t<tr><td>2021-01-14 00:00:00</td><td>00:00</td><td>319.81</td><td>42.87</td><td>35.26</td><td>309.00</td><td>300.00</td><td>1</td><td>27.4</td><td>1</td><td>1</td><td>361.9198</td></tr>\n",
       "\t<tr><td>2021-01-14 01:00:00</td><td>01:00</td><td>318.60</td><td>42.70</td><td>35.13</td><td>275.01</td><td>309.99</td><td>1</td><td>30.1</td><td>1</td><td>1</td><td>349.7396</td></tr>\n",
       "\t<tr><td>2021-01-14 02:00:00</td><td>02:00</td><td>316.21</td><td>42.38</td><td>34.87</td><td>294.99</td><td>269.24</td><td>1</td><td>37.3</td><td>1</td><td>1</td><td>340.5534</td></tr>\n",
       "\t<tr><td>2021-01-14 03:00:00</td><td>03:00</td><td>313.66</td><td>42.04</td><td>34.58</td><td>243.99</td><td>264.99</td><td>1</td><td>41.0</td><td>1</td><td>1</td><td>313.2609</td></tr>\n",
       "\t<tr><td>2021-01-14 04:00:00</td><td>04:00</td><td>313.50</td><td>42.02</td><td>34.57</td><td>254.88</td><td>247.03</td><td>1</td><td>52.6</td><td>1</td><td>1</td><td>310.2461</td></tr>\n",
       "\t<tr><td>2021-01-14 05:00:00</td><td>05:00</td><td>313.13</td><td>41.97</td><td>34.53</td><td>310.07</td><td>247.03</td><td>1</td><td>67.9</td><td>1</td><td>1</td><td>337.6255</td></tr>\n",
       "</tbody>\n",
       "</table>\n"
      ],
      "text/latex": [
       "A data.table: 6 × 12\n",
       "\\begin{tabular}{llllllllllll}\n",
       " date & hour & price & priceUsd & priceEur & Price\\_Lag\\_24 & Price\\_Lag\\_168 & Tatil & forecast & Workday\\_24 & Workday\\_168 & forecasted\\\\\n",
       " <dttm> & <chr> & <dbl> & <dbl> & <dbl> & <dbl> & <dbl> & <int> & <dbl> & <int> & <int> & <dbl>\\\\\n",
       "\\hline\n",
       "\t 2021-01-14 00:00:00 & 00:00 & 319.81 & 42.87 & 35.26 & 309.00 & 300.00 & 1 & 27.4 & 1 & 1 & 361.9198\\\\\n",
       "\t 2021-01-14 01:00:00 & 01:00 & 318.60 & 42.70 & 35.13 & 275.01 & 309.99 & 1 & 30.1 & 1 & 1 & 349.7396\\\\\n",
       "\t 2021-01-14 02:00:00 & 02:00 & 316.21 & 42.38 & 34.87 & 294.99 & 269.24 & 1 & 37.3 & 1 & 1 & 340.5534\\\\\n",
       "\t 2021-01-14 03:00:00 & 03:00 & 313.66 & 42.04 & 34.58 & 243.99 & 264.99 & 1 & 41.0 & 1 & 1 & 313.2609\\\\\n",
       "\t 2021-01-14 04:00:00 & 04:00 & 313.50 & 42.02 & 34.57 & 254.88 & 247.03 & 1 & 52.6 & 1 & 1 & 310.2461\\\\\n",
       "\t 2021-01-14 05:00:00 & 05:00 & 313.13 & 41.97 & 34.53 & 310.07 & 247.03 & 1 & 67.9 & 1 & 1 & 337.6255\\\\\n",
       "\\end{tabular}\n"
      ],
      "text/markdown": [
       "\n",
       "A data.table: 6 × 12\n",
       "\n",
       "| date &lt;dttm&gt; | hour &lt;chr&gt; | price &lt;dbl&gt; | priceUsd &lt;dbl&gt; | priceEur &lt;dbl&gt; | Price_Lag_24 &lt;dbl&gt; | Price_Lag_168 &lt;dbl&gt; | Tatil &lt;int&gt; | forecast &lt;dbl&gt; | Workday_24 &lt;int&gt; | Workday_168 &lt;int&gt; | forecasted &lt;dbl&gt; |\n",
       "|---|---|---|---|---|---|---|---|---|---|---|---|\n",
       "| 2021-01-14 00:00:00 | 00:00 | 319.81 | 42.87 | 35.26 | 309.00 | 300.00 | 1 | 27.4 | 1 | 1 | 361.9198 |\n",
       "| 2021-01-14 01:00:00 | 01:00 | 318.60 | 42.70 | 35.13 | 275.01 | 309.99 | 1 | 30.1 | 1 | 1 | 349.7396 |\n",
       "| 2021-01-14 02:00:00 | 02:00 | 316.21 | 42.38 | 34.87 | 294.99 | 269.24 | 1 | 37.3 | 1 | 1 | 340.5534 |\n",
       "| 2021-01-14 03:00:00 | 03:00 | 313.66 | 42.04 | 34.58 | 243.99 | 264.99 | 1 | 41.0 | 1 | 1 | 313.2609 |\n",
       "| 2021-01-14 04:00:00 | 04:00 | 313.50 | 42.02 | 34.57 | 254.88 | 247.03 | 1 | 52.6 | 1 | 1 | 310.2461 |\n",
       "| 2021-01-14 05:00:00 | 05:00 | 313.13 | 41.97 | 34.53 | 310.07 | 247.03 | 1 | 67.9 | 1 | 1 | 337.6255 |\n",
       "\n"
      ],
      "text/plain": [
       "  date                hour  price  priceUsd priceEur Price_Lag_24 Price_Lag_168\n",
       "1 2021-01-14 00:00:00 00:00 319.81 42.87    35.26    309.00       300.00       \n",
       "2 2021-01-14 01:00:00 01:00 318.60 42.70    35.13    275.01       309.99       \n",
       "3 2021-01-14 02:00:00 02:00 316.21 42.38    34.87    294.99       269.24       \n",
       "4 2021-01-14 03:00:00 03:00 313.66 42.04    34.58    243.99       264.99       \n",
       "5 2021-01-14 04:00:00 04:00 313.50 42.02    34.57    254.88       247.03       \n",
       "6 2021-01-14 05:00:00 05:00 313.13 41.97    34.53    310.07       247.03       \n",
       "  Tatil forecast Workday_24 Workday_168 forecasted\n",
       "1 1     27.4     1          1           361.9198  \n",
       "2 1     30.1     1          1           349.7396  \n",
       "3 1     37.3     1          1           340.5534  \n",
       "4 1     41.0     1          1           313.2609  \n",
       "5 1     52.6     1          1           310.2461  \n",
       "6 1     67.9     1          1           337.6255  "
      ]
     },
     "metadata": {},
     "output_type": "display_data"
    },
    {
     "data": {
      "text/html": [
       "<table class=\"dataframe\">\n",
       "<caption>A data.table: 6 × 12</caption>\n",
       "<thead>\n",
       "\t<tr><th scope=col>date</th><th scope=col>hour</th><th scope=col>price</th><th scope=col>priceUsd</th><th scope=col>priceEur</th><th scope=col>Price_Lag_24</th><th scope=col>Price_Lag_168</th><th scope=col>Tatil</th><th scope=col>forecast</th><th scope=col>Workday_24</th><th scope=col>Workday_168</th><th scope=col>forecasted</th></tr>\n",
       "\t<tr><th scope=col>&lt;dttm&gt;</th><th scope=col>&lt;chr&gt;</th><th scope=col>&lt;dbl&gt;</th><th scope=col>&lt;dbl&gt;</th><th scope=col>&lt;dbl&gt;</th><th scope=col>&lt;dbl&gt;</th><th scope=col>&lt;dbl&gt;</th><th scope=col>&lt;int&gt;</th><th scope=col>&lt;dbl&gt;</th><th scope=col>&lt;int&gt;</th><th scope=col>&lt;int&gt;</th><th scope=col>&lt;dbl&gt;</th></tr>\n",
       "</thead>\n",
       "<tbody>\n",
       "\t<tr><td>2024-04-25 18:00:00</td><td>18:00</td><td>2700</td><td>83.08</td><td>77.99</td><td>2700</td><td>2662.00</td><td>1</td><td>318.28</td><td>1</td><td>1</td><td>2655.063</td></tr>\n",
       "\t<tr><td>2024-04-25 19:00:00</td><td>19:00</td><td>2700</td><td>83.08</td><td>77.99</td><td>2700</td><td>2700.00</td><td>1</td><td>264.01</td><td>1</td><td>1</td><td>2672.872</td></tr>\n",
       "\t<tr><td>2024-04-25 20:00:00</td><td>20:00</td><td>2700</td><td>83.08</td><td>77.99</td><td>2700</td><td>2700.00</td><td>1</td><td>219.62</td><td>1</td><td>1</td><td>2672.872</td></tr>\n",
       "\t<tr><td>2024-04-25 21:00:00</td><td>21:00</td><td>2700</td><td>83.08</td><td>77.99</td><td>2700</td><td>2700.00</td><td>1</td><td>191.99</td><td>1</td><td>1</td><td>2672.872</td></tr>\n",
       "\t<tr><td>2024-04-25 22:00:00</td><td>22:00</td><td>2700</td><td>83.08</td><td>77.99</td><td>2700</td><td>2649.00</td><td>1</td><td>157.67</td><td>1</td><td>1</td><td>2648.970</td></tr>\n",
       "\t<tr><td>2024-04-25 23:00:00</td><td>23:00</td><td>2700</td><td>83.08</td><td>77.99</td><td>2700</td><td>2320.89</td><td>1</td><td>134.85</td><td>1</td><td>1</td><td>2495.197</td></tr>\n",
       "</tbody>\n",
       "</table>\n"
      ],
      "text/latex": [
       "A data.table: 6 × 12\n",
       "\\begin{tabular}{llllllllllll}\n",
       " date & hour & price & priceUsd & priceEur & Price\\_Lag\\_24 & Price\\_Lag\\_168 & Tatil & forecast & Workday\\_24 & Workday\\_168 & forecasted\\\\\n",
       " <dttm> & <chr> & <dbl> & <dbl> & <dbl> & <dbl> & <dbl> & <int> & <dbl> & <int> & <int> & <dbl>\\\\\n",
       "\\hline\n",
       "\t 2024-04-25 18:00:00 & 18:00 & 2700 & 83.08 & 77.99 & 2700 & 2662.00 & 1 & 318.28 & 1 & 1 & 2655.063\\\\\n",
       "\t 2024-04-25 19:00:00 & 19:00 & 2700 & 83.08 & 77.99 & 2700 & 2700.00 & 1 & 264.01 & 1 & 1 & 2672.872\\\\\n",
       "\t 2024-04-25 20:00:00 & 20:00 & 2700 & 83.08 & 77.99 & 2700 & 2700.00 & 1 & 219.62 & 1 & 1 & 2672.872\\\\\n",
       "\t 2024-04-25 21:00:00 & 21:00 & 2700 & 83.08 & 77.99 & 2700 & 2700.00 & 1 & 191.99 & 1 & 1 & 2672.872\\\\\n",
       "\t 2024-04-25 22:00:00 & 22:00 & 2700 & 83.08 & 77.99 & 2700 & 2649.00 & 1 & 157.67 & 1 & 1 & 2648.970\\\\\n",
       "\t 2024-04-25 23:00:00 & 23:00 & 2700 & 83.08 & 77.99 & 2700 & 2320.89 & 1 & 134.85 & 1 & 1 & 2495.197\\\\\n",
       "\\end{tabular}\n"
      ],
      "text/markdown": [
       "\n",
       "A data.table: 6 × 12\n",
       "\n",
       "| date &lt;dttm&gt; | hour &lt;chr&gt; | price &lt;dbl&gt; | priceUsd &lt;dbl&gt; | priceEur &lt;dbl&gt; | Price_Lag_24 &lt;dbl&gt; | Price_Lag_168 &lt;dbl&gt; | Tatil &lt;int&gt; | forecast &lt;dbl&gt; | Workday_24 &lt;int&gt; | Workday_168 &lt;int&gt; | forecasted &lt;dbl&gt; |\n",
       "|---|---|---|---|---|---|---|---|---|---|---|---|\n",
       "| 2024-04-25 18:00:00 | 18:00 | 2700 | 83.08 | 77.99 | 2700 | 2662.00 | 1 | 318.28 | 1 | 1 | 2655.063 |\n",
       "| 2024-04-25 19:00:00 | 19:00 | 2700 | 83.08 | 77.99 | 2700 | 2700.00 | 1 | 264.01 | 1 | 1 | 2672.872 |\n",
       "| 2024-04-25 20:00:00 | 20:00 | 2700 | 83.08 | 77.99 | 2700 | 2700.00 | 1 | 219.62 | 1 | 1 | 2672.872 |\n",
       "| 2024-04-25 21:00:00 | 21:00 | 2700 | 83.08 | 77.99 | 2700 | 2700.00 | 1 | 191.99 | 1 | 1 | 2672.872 |\n",
       "| 2024-04-25 22:00:00 | 22:00 | 2700 | 83.08 | 77.99 | 2700 | 2649.00 | 1 | 157.67 | 1 | 1 | 2648.970 |\n",
       "| 2024-04-25 23:00:00 | 23:00 | 2700 | 83.08 | 77.99 | 2700 | 2320.89 | 1 | 134.85 | 1 | 1 | 2495.197 |\n",
       "\n"
      ],
      "text/plain": [
       "  date                hour  price priceUsd priceEur Price_Lag_24 Price_Lag_168\n",
       "1 2024-04-25 18:00:00 18:00 2700  83.08    77.99    2700         2662.00      \n",
       "2 2024-04-25 19:00:00 19:00 2700  83.08    77.99    2700         2700.00      \n",
       "3 2024-04-25 20:00:00 20:00 2700  83.08    77.99    2700         2700.00      \n",
       "4 2024-04-25 21:00:00 21:00 2700  83.08    77.99    2700         2700.00      \n",
       "5 2024-04-25 22:00:00 22:00 2700  83.08    77.99    2700         2649.00      \n",
       "6 2024-04-25 23:00:00 23:00 2700  83.08    77.99    2700         2320.89      \n",
       "  Tatil forecast Workday_24 Workday_168 forecasted\n",
       "1 1     318.28   1          1           2655.063  \n",
       "2 1     264.01   1          1           2672.872  \n",
       "3 1     219.62   1          1           2672.872  \n",
       "4 1     191.99   1          1           2672.872  \n",
       "5 1     157.67   1          1           2648.970  \n",
       "6 1     134.85   1          1           2495.197  "
      ]
     },
     "metadata": {},
     "output_type": "display_data"
    }
   ],
   "source": [
    "to_export <- na.omit(copy(data))\n",
    "\n",
    "predictions <- predict(lm_model, newdata = to_export)\n",
    "\n",
    "to_export[, forecasted := predictions]\n",
    "\n",
    "head(to_export)\n",
    "tail(to_export)"
   ]
  },
  {
   "cell_type": "code",
   "execution_count": null,
   "metadata": {
    "vscode": {
     "languageId": "r"
    }
   },
   "outputs": [],
   "source": [
    "library(data.table)\n",
    "\n",
    "#fwrite(to_export, file = \"PTF_PREDICTIONS.csv\")\n"
   ]
  },
  {
   "cell_type": "markdown",
   "metadata": {},
   "source": [
    "## 9 Linear Regression + Renew_ratio"
   ]
  },
  {
   "cell_type": "code",
   "execution_count": 13,
   "metadata": {
    "vscode": {
     "languageId": "r"
    }
   },
   "outputs": [
    {
     "data": {
      "text/html": [
       "<table class=\"dataframe\">\n",
       "<caption>A data.table: 6 × 12</caption>\n",
       "<thead>\n",
       "\t<tr><th scope=col>DateTime</th><th scope=col>renewable_ratio</th><th scope=col>priceEur</th><th scope=col>Difference_24</th><th scope=col>Difference_168</th><th scope=col>Workday</th><th scope=col>Workday_168</th><th scope=col>Workday_24</th><th scope=col>forecast</th><th scope=col>BV Forecast</th><th scope=col>price_lag_24</th><th scope=col>price_lag_168</th></tr>\n",
       "\t<tr><th scope=col>&lt;dttm&gt;</th><th scope=col>&lt;dbl&gt;</th><th scope=col>&lt;dbl&gt;</th><th scope=col>&lt;dbl&gt;</th><th scope=col>&lt;dbl&gt;</th><th scope=col>&lt;int&gt;</th><th scope=col>&lt;dbl&gt;</th><th scope=col>&lt;dbl&gt;</th><th scope=col>&lt;dbl&gt;</th><th scope=col>&lt;dbl&gt;</th><th scope=col>&lt;dbl&gt;</th><th scope=col>&lt;dbl&gt;</th></tr>\n",
       "</thead>\n",
       "<tbody>\n",
       "\t<tr><td>2021-01-14 00:00:00</td><td>0.04073709</td><td>35.26</td><td>1.16</td><td>2.17</td><td>1</td><td>1</td><td>1</td><td>27.4</td><td>4187.97</td><td>34.10</td><td>33.09</td></tr>\n",
       "\t<tr><td>2021-01-14 01:00:00</td><td>0.04586432</td><td>35.13</td><td>4.79</td><td>0.94</td><td>1</td><td>1</td><td>1</td><td>30.1</td><td>3975.82</td><td>30.34</td><td>34.19</td></tr>\n",
       "\t<tr><td>2021-01-14 02:00:00</td><td>0.05103432</td><td>34.87</td><td>2.32</td><td>5.17</td><td>1</td><td>1</td><td>1</td><td>37.3</td><td>3885.02</td><td>32.55</td><td>29.70</td></tr>\n",
       "\t<tr><td>2021-01-14 03:00:00</td><td>0.05995258</td><td>34.58</td><td>7.66</td><td>5.35</td><td>1</td><td>1</td><td>1</td><td>41.0</td><td>3589.79</td><td>26.92</td><td>29.23</td></tr>\n",
       "\t<tr><td>2021-01-14 04:00:00</td><td>0.06207705</td><td>34.57</td><td>6.45</td><td>7.32</td><td>1</td><td>1</td><td>1</td><td>52.6</td><td>3137.07</td><td>28.12</td><td>27.25</td></tr>\n",
       "\t<tr><td>2021-01-14 05:00:00</td><td>0.07138521</td><td>34.53</td><td>0.32</td><td>7.28</td><td>1</td><td>1</td><td>1</td><td>67.9</td><td>2717.61</td><td>34.21</td><td>27.25</td></tr>\n",
       "</tbody>\n",
       "</table>\n"
      ],
      "text/latex": [
       "A data.table: 6 × 12\n",
       "\\begin{tabular}{llllllllllll}\n",
       " DateTime & renewable\\_ratio & priceEur & Difference\\_24 & Difference\\_168 & Workday & Workday\\_168 & Workday\\_24 & forecast & BV Forecast & price\\_lag\\_24 & price\\_lag\\_168\\\\\n",
       " <dttm> & <dbl> & <dbl> & <dbl> & <dbl> & <int> & <dbl> & <dbl> & <dbl> & <dbl> & <dbl> & <dbl>\\\\\n",
       "\\hline\n",
       "\t 2021-01-14 00:00:00 & 0.04073709 & 35.26 & 1.16 & 2.17 & 1 & 1 & 1 & 27.4 & 4187.97 & 34.10 & 33.09\\\\\n",
       "\t 2021-01-14 01:00:00 & 0.04586432 & 35.13 & 4.79 & 0.94 & 1 & 1 & 1 & 30.1 & 3975.82 & 30.34 & 34.19\\\\\n",
       "\t 2021-01-14 02:00:00 & 0.05103432 & 34.87 & 2.32 & 5.17 & 1 & 1 & 1 & 37.3 & 3885.02 & 32.55 & 29.70\\\\\n",
       "\t 2021-01-14 03:00:00 & 0.05995258 & 34.58 & 7.66 & 5.35 & 1 & 1 & 1 & 41.0 & 3589.79 & 26.92 & 29.23\\\\\n",
       "\t 2021-01-14 04:00:00 & 0.06207705 & 34.57 & 6.45 & 7.32 & 1 & 1 & 1 & 52.6 & 3137.07 & 28.12 & 27.25\\\\\n",
       "\t 2021-01-14 05:00:00 & 0.07138521 & 34.53 & 0.32 & 7.28 & 1 & 1 & 1 & 67.9 & 2717.61 & 34.21 & 27.25\\\\\n",
       "\\end{tabular}\n"
      ],
      "text/markdown": [
       "\n",
       "A data.table: 6 × 12\n",
       "\n",
       "| DateTime &lt;dttm&gt; | renewable_ratio &lt;dbl&gt; | priceEur &lt;dbl&gt; | Difference_24 &lt;dbl&gt; | Difference_168 &lt;dbl&gt; | Workday &lt;int&gt; | Workday_168 &lt;dbl&gt; | Workday_24 &lt;dbl&gt; | forecast &lt;dbl&gt; | BV Forecast &lt;dbl&gt; | price_lag_24 &lt;dbl&gt; | price_lag_168 &lt;dbl&gt; |\n",
       "|---|---|---|---|---|---|---|---|---|---|---|---|\n",
       "| 2021-01-14 00:00:00 | 0.04073709 | 35.26 | 1.16 | 2.17 | 1 | 1 | 1 | 27.4 | 4187.97 | 34.10 | 33.09 |\n",
       "| 2021-01-14 01:00:00 | 0.04586432 | 35.13 | 4.79 | 0.94 | 1 | 1 | 1 | 30.1 | 3975.82 | 30.34 | 34.19 |\n",
       "| 2021-01-14 02:00:00 | 0.05103432 | 34.87 | 2.32 | 5.17 | 1 | 1 | 1 | 37.3 | 3885.02 | 32.55 | 29.70 |\n",
       "| 2021-01-14 03:00:00 | 0.05995258 | 34.58 | 7.66 | 5.35 | 1 | 1 | 1 | 41.0 | 3589.79 | 26.92 | 29.23 |\n",
       "| 2021-01-14 04:00:00 | 0.06207705 | 34.57 | 6.45 | 7.32 | 1 | 1 | 1 | 52.6 | 3137.07 | 28.12 | 27.25 |\n",
       "| 2021-01-14 05:00:00 | 0.07138521 | 34.53 | 0.32 | 7.28 | 1 | 1 | 1 | 67.9 | 2717.61 | 34.21 | 27.25 |\n",
       "\n"
      ],
      "text/plain": [
       "  DateTime            renewable_ratio priceEur Difference_24 Difference_168\n",
       "1 2021-01-14 00:00:00 0.04073709      35.26    1.16          2.17          \n",
       "2 2021-01-14 01:00:00 0.04586432      35.13    4.79          0.94          \n",
       "3 2021-01-14 02:00:00 0.05103432      34.87    2.32          5.17          \n",
       "4 2021-01-14 03:00:00 0.05995258      34.58    7.66          5.35          \n",
       "5 2021-01-14 04:00:00 0.06207705      34.57    6.45          7.32          \n",
       "6 2021-01-14 05:00:00 0.07138521      34.53    0.32          7.28          \n",
       "  Workday Workday_168 Workday_24 forecast BV Forecast price_lag_24\n",
       "1 1       1           1          27.4     4187.97     34.10       \n",
       "2 1       1           1          30.1     3975.82     30.34       \n",
       "3 1       1           1          37.3     3885.02     32.55       \n",
       "4 1       1           1          41.0     3589.79     26.92       \n",
       "5 1       1           1          52.6     3137.07     28.12       \n",
       "6 1       1           1          67.9     2717.61     34.21       \n",
       "  price_lag_168\n",
       "1 33.09        \n",
       "2 34.19        \n",
       "3 29.70        \n",
       "4 29.23        \n",
       "5 27.25        \n",
       "6 27.25        "
      ]
     },
     "metadata": {},
     "output_type": "display_data"
    },
    {
     "data": {
      "text/html": [
       "<table class=\"dataframe\">\n",
       "<caption>A data.table: 6 × 12</caption>\n",
       "<thead>\n",
       "\t<tr><th scope=col>DateTime</th><th scope=col>renewable_ratio</th><th scope=col>priceEur</th><th scope=col>Difference_24</th><th scope=col>Difference_168</th><th scope=col>Workday</th><th scope=col>Workday_168</th><th scope=col>Workday_24</th><th scope=col>forecast</th><th scope=col>BV Forecast</th><th scope=col>price_lag_24</th><th scope=col>price_lag_168</th></tr>\n",
       "\t<tr><th scope=col>&lt;dttm&gt;</th><th scope=col>&lt;dbl&gt;</th><th scope=col>&lt;dbl&gt;</th><th scope=col>&lt;dbl&gt;</th><th scope=col>&lt;dbl&gt;</th><th scope=col>&lt;int&gt;</th><th scope=col>&lt;dbl&gt;</th><th scope=col>&lt;dbl&gt;</th><th scope=col>&lt;dbl&gt;</th><th scope=col>&lt;dbl&gt;</th><th scope=col>&lt;dbl&gt;</th><th scope=col>&lt;dbl&gt;</th></tr>\n",
       "</thead>\n",
       "<tbody>\n",
       "\t<tr><td>2024-04-25 18:00:00</td><td>0.11151240</td><td>77.99</td><td>0</td><td> 0.67</td><td>1</td><td>1</td><td>1</td><td>318.28</td><td>5439.89</td><td>77.99</td><td>77.32</td></tr>\n",
       "\t<tr><td>2024-04-25 19:00:00</td><td>0.10691880</td><td>77.99</td><td>0</td><td>-0.44</td><td>1</td><td>1</td><td>1</td><td>264.01</td><td>4703.63</td><td>77.99</td><td>78.43</td></tr>\n",
       "\t<tr><td>2024-04-25 20:00:00</td><td>0.10165056</td><td>77.99</td><td>0</td><td>-0.44</td><td>1</td><td>1</td><td>1</td><td>219.62</td><td>4501.67</td><td>77.99</td><td>78.43</td></tr>\n",
       "\t<tr><td>2024-04-25 21:00:00</td><td>0.10212468</td><td>77.99</td><td>0</td><td>-0.44</td><td>1</td><td>1</td><td>1</td><td>191.99</td><td>4394.75</td><td>77.99</td><td>78.43</td></tr>\n",
       "\t<tr><td>2024-04-25 22:00:00</td><td>0.09613362</td><td>77.99</td><td>0</td><td> 1.04</td><td>1</td><td>1</td><td>1</td><td>157.67</td><td>4235.98</td><td>77.99</td><td>76.95</td></tr>\n",
       "\t<tr><td>2024-04-25 23:00:00</td><td>0.09804755</td><td>77.99</td><td>0</td><td>10.57</td><td>1</td><td>1</td><td>1</td><td>134.85</td><td>4053.30</td><td>77.99</td><td>67.42</td></tr>\n",
       "</tbody>\n",
       "</table>\n"
      ],
      "text/latex": [
       "A data.table: 6 × 12\n",
       "\\begin{tabular}{llllllllllll}\n",
       " DateTime & renewable\\_ratio & priceEur & Difference\\_24 & Difference\\_168 & Workday & Workday\\_168 & Workday\\_24 & forecast & BV Forecast & price\\_lag\\_24 & price\\_lag\\_168\\\\\n",
       " <dttm> & <dbl> & <dbl> & <dbl> & <dbl> & <int> & <dbl> & <dbl> & <dbl> & <dbl> & <dbl> & <dbl>\\\\\n",
       "\\hline\n",
       "\t 2024-04-25 18:00:00 & 0.11151240 & 77.99 & 0 &  0.67 & 1 & 1 & 1 & 318.28 & 5439.89 & 77.99 & 77.32\\\\\n",
       "\t 2024-04-25 19:00:00 & 0.10691880 & 77.99 & 0 & -0.44 & 1 & 1 & 1 & 264.01 & 4703.63 & 77.99 & 78.43\\\\\n",
       "\t 2024-04-25 20:00:00 & 0.10165056 & 77.99 & 0 & -0.44 & 1 & 1 & 1 & 219.62 & 4501.67 & 77.99 & 78.43\\\\\n",
       "\t 2024-04-25 21:00:00 & 0.10212468 & 77.99 & 0 & -0.44 & 1 & 1 & 1 & 191.99 & 4394.75 & 77.99 & 78.43\\\\\n",
       "\t 2024-04-25 22:00:00 & 0.09613362 & 77.99 & 0 &  1.04 & 1 & 1 & 1 & 157.67 & 4235.98 & 77.99 & 76.95\\\\\n",
       "\t 2024-04-25 23:00:00 & 0.09804755 & 77.99 & 0 & 10.57 & 1 & 1 & 1 & 134.85 & 4053.30 & 77.99 & 67.42\\\\\n",
       "\\end{tabular}\n"
      ],
      "text/markdown": [
       "\n",
       "A data.table: 6 × 12\n",
       "\n",
       "| DateTime &lt;dttm&gt; | renewable_ratio &lt;dbl&gt; | priceEur &lt;dbl&gt; | Difference_24 &lt;dbl&gt; | Difference_168 &lt;dbl&gt; | Workday &lt;int&gt; | Workday_168 &lt;dbl&gt; | Workday_24 &lt;dbl&gt; | forecast &lt;dbl&gt; | BV Forecast &lt;dbl&gt; | price_lag_24 &lt;dbl&gt; | price_lag_168 &lt;dbl&gt; |\n",
       "|---|---|---|---|---|---|---|---|---|---|---|---|\n",
       "| 2024-04-25 18:00:00 | 0.11151240 | 77.99 | 0 |  0.67 | 1 | 1 | 1 | 318.28 | 5439.89 | 77.99 | 77.32 |\n",
       "| 2024-04-25 19:00:00 | 0.10691880 | 77.99 | 0 | -0.44 | 1 | 1 | 1 | 264.01 | 4703.63 | 77.99 | 78.43 |\n",
       "| 2024-04-25 20:00:00 | 0.10165056 | 77.99 | 0 | -0.44 | 1 | 1 | 1 | 219.62 | 4501.67 | 77.99 | 78.43 |\n",
       "| 2024-04-25 21:00:00 | 0.10212468 | 77.99 | 0 | -0.44 | 1 | 1 | 1 | 191.99 | 4394.75 | 77.99 | 78.43 |\n",
       "| 2024-04-25 22:00:00 | 0.09613362 | 77.99 | 0 |  1.04 | 1 | 1 | 1 | 157.67 | 4235.98 | 77.99 | 76.95 |\n",
       "| 2024-04-25 23:00:00 | 0.09804755 | 77.99 | 0 | 10.57 | 1 | 1 | 1 | 134.85 | 4053.30 | 77.99 | 67.42 |\n",
       "\n"
      ],
      "text/plain": [
       "  DateTime            renewable_ratio priceEur Difference_24 Difference_168\n",
       "1 2024-04-25 18:00:00 0.11151240      77.99    0              0.67         \n",
       "2 2024-04-25 19:00:00 0.10691880      77.99    0             -0.44         \n",
       "3 2024-04-25 20:00:00 0.10165056      77.99    0             -0.44         \n",
       "4 2024-04-25 21:00:00 0.10212468      77.99    0             -0.44         \n",
       "5 2024-04-25 22:00:00 0.09613362      77.99    0              1.04         \n",
       "6 2024-04-25 23:00:00 0.09804755      77.99    0             10.57         \n",
       "  Workday Workday_168 Workday_24 forecast BV Forecast price_lag_24\n",
       "1 1       1           1          318.28   5439.89     77.99       \n",
       "2 1       1           1          264.01   4703.63     77.99       \n",
       "3 1       1           1          219.62   4501.67     77.99       \n",
       "4 1       1           1          191.99   4394.75     77.99       \n",
       "5 1       1           1          157.67   4235.98     77.99       \n",
       "6 1       1           1          134.85   4053.30     77.99       \n",
       "  price_lag_168\n",
       "1 77.32        \n",
       "2 78.43        \n",
       "3 78.43        \n",
       "4 78.43        \n",
       "5 76.95        \n",
       "6 67.42        "
      ]
     },
     "metadata": {},
     "output_type": "display_data"
    }
   ],
   "source": [
    "data_path='data_new.csv'\n",
    "data=fread(data_path)\n",
    "\n",
    "data[,price_lag_24:=priceEur - Difference_24]\n",
    "data[,price_lag_168:=priceEur - Difference_168]\n",
    "\n",
    "head(data)\n",
    "tail(data)"
   ]
  },
  {
   "cell_type": "code",
   "execution_count": 14,
   "metadata": {
    "vscode": {
     "languageId": "r"
    }
   },
   "outputs": [
    {
     "data": {
      "text/html": [
       "<table class=\"dataframe\">\n",
       "<caption>A data.table: 6 × 12</caption>\n",
       "<thead>\n",
       "\t<tr><th scope=col>DateTime</th><th scope=col>renewable_ratio</th><th scope=col>priceEur</th><th scope=col>Difference_24</th><th scope=col>Difference_168</th><th scope=col>Workday</th><th scope=col>Workday_168</th><th scope=col>Workday_24</th><th scope=col>forecast</th><th scope=col>BV Forecast</th><th scope=col>price_lag_24</th><th scope=col>price_lag_168</th></tr>\n",
       "\t<tr><th scope=col>&lt;dttm&gt;</th><th scope=col>&lt;dbl&gt;</th><th scope=col>&lt;dbl&gt;</th><th scope=col>&lt;dbl&gt;</th><th scope=col>&lt;dbl&gt;</th><th scope=col>&lt;int&gt;</th><th scope=col>&lt;dbl&gt;</th><th scope=col>&lt;dbl&gt;</th><th scope=col>&lt;dbl&gt;</th><th scope=col>&lt;dbl&gt;</th><th scope=col>&lt;dbl&gt;</th><th scope=col>&lt;dbl&gt;</th></tr>\n",
       "</thead>\n",
       "<tbody>\n",
       "\t<tr><td>2021-01-14 00:00:00</td><td>0.04073709</td><td>35.26</td><td>1.16</td><td>2.17</td><td>1</td><td>1</td><td>1</td><td>27.4</td><td>4187.97</td><td>34.10</td><td>33.09</td></tr>\n",
       "\t<tr><td>2021-01-14 01:00:00</td><td>0.04586432</td><td>35.13</td><td>4.79</td><td>0.94</td><td>1</td><td>1</td><td>1</td><td>30.1</td><td>3975.82</td><td>30.34</td><td>34.19</td></tr>\n",
       "\t<tr><td>2021-01-14 02:00:00</td><td>0.05103432</td><td>34.87</td><td>2.32</td><td>5.17</td><td>1</td><td>1</td><td>1</td><td>37.3</td><td>3885.02</td><td>32.55</td><td>29.70</td></tr>\n",
       "\t<tr><td>2021-01-14 03:00:00</td><td>0.05995258</td><td>34.58</td><td>7.66</td><td>5.35</td><td>1</td><td>1</td><td>1</td><td>41.0</td><td>3589.79</td><td>26.92</td><td>29.23</td></tr>\n",
       "\t<tr><td>2021-01-14 04:00:00</td><td>0.06207705</td><td>34.57</td><td>6.45</td><td>7.32</td><td>1</td><td>1</td><td>1</td><td>52.6</td><td>3137.07</td><td>28.12</td><td>27.25</td></tr>\n",
       "\t<tr><td>2021-01-14 05:00:00</td><td>0.07138521</td><td>34.53</td><td>0.32</td><td>7.28</td><td>1</td><td>1</td><td>1</td><td>67.9</td><td>2717.61</td><td>34.21</td><td>27.25</td></tr>\n",
       "</tbody>\n",
       "</table>\n"
      ],
      "text/latex": [
       "A data.table: 6 × 12\n",
       "\\begin{tabular}{llllllllllll}\n",
       " DateTime & renewable\\_ratio & priceEur & Difference\\_24 & Difference\\_168 & Workday & Workday\\_168 & Workday\\_24 & forecast & BV Forecast & price\\_lag\\_24 & price\\_lag\\_168\\\\\n",
       " <dttm> & <dbl> & <dbl> & <dbl> & <dbl> & <int> & <dbl> & <dbl> & <dbl> & <dbl> & <dbl> & <dbl>\\\\\n",
       "\\hline\n",
       "\t 2021-01-14 00:00:00 & 0.04073709 & 35.26 & 1.16 & 2.17 & 1 & 1 & 1 & 27.4 & 4187.97 & 34.10 & 33.09\\\\\n",
       "\t 2021-01-14 01:00:00 & 0.04586432 & 35.13 & 4.79 & 0.94 & 1 & 1 & 1 & 30.1 & 3975.82 & 30.34 & 34.19\\\\\n",
       "\t 2021-01-14 02:00:00 & 0.05103432 & 34.87 & 2.32 & 5.17 & 1 & 1 & 1 & 37.3 & 3885.02 & 32.55 & 29.70\\\\\n",
       "\t 2021-01-14 03:00:00 & 0.05995258 & 34.58 & 7.66 & 5.35 & 1 & 1 & 1 & 41.0 & 3589.79 & 26.92 & 29.23\\\\\n",
       "\t 2021-01-14 04:00:00 & 0.06207705 & 34.57 & 6.45 & 7.32 & 1 & 1 & 1 & 52.6 & 3137.07 & 28.12 & 27.25\\\\\n",
       "\t 2021-01-14 05:00:00 & 0.07138521 & 34.53 & 0.32 & 7.28 & 1 & 1 & 1 & 67.9 & 2717.61 & 34.21 & 27.25\\\\\n",
       "\\end{tabular}\n"
      ],
      "text/markdown": [
       "\n",
       "A data.table: 6 × 12\n",
       "\n",
       "| DateTime &lt;dttm&gt; | renewable_ratio &lt;dbl&gt; | priceEur &lt;dbl&gt; | Difference_24 &lt;dbl&gt; | Difference_168 &lt;dbl&gt; | Workday &lt;int&gt; | Workday_168 &lt;dbl&gt; | Workday_24 &lt;dbl&gt; | forecast &lt;dbl&gt; | BV Forecast &lt;dbl&gt; | price_lag_24 &lt;dbl&gt; | price_lag_168 &lt;dbl&gt; |\n",
       "|---|---|---|---|---|---|---|---|---|---|---|---|\n",
       "| 2021-01-14 00:00:00 | 0.04073709 | 35.26 | 1.16 | 2.17 | 1 | 1 | 1 | 27.4 | 4187.97 | 34.10 | 33.09 |\n",
       "| 2021-01-14 01:00:00 | 0.04586432 | 35.13 | 4.79 | 0.94 | 1 | 1 | 1 | 30.1 | 3975.82 | 30.34 | 34.19 |\n",
       "| 2021-01-14 02:00:00 | 0.05103432 | 34.87 | 2.32 | 5.17 | 1 | 1 | 1 | 37.3 | 3885.02 | 32.55 | 29.70 |\n",
       "| 2021-01-14 03:00:00 | 0.05995258 | 34.58 | 7.66 | 5.35 | 1 | 1 | 1 | 41.0 | 3589.79 | 26.92 | 29.23 |\n",
       "| 2021-01-14 04:00:00 | 0.06207705 | 34.57 | 6.45 | 7.32 | 1 | 1 | 1 | 52.6 | 3137.07 | 28.12 | 27.25 |\n",
       "| 2021-01-14 05:00:00 | 0.07138521 | 34.53 | 0.32 | 7.28 | 1 | 1 | 1 | 67.9 | 2717.61 | 34.21 | 27.25 |\n",
       "\n"
      ],
      "text/plain": [
       "  DateTime            renewable_ratio priceEur Difference_24 Difference_168\n",
       "1 2021-01-14 00:00:00 0.04073709      35.26    1.16          2.17          \n",
       "2 2021-01-14 01:00:00 0.04586432      35.13    4.79          0.94          \n",
       "3 2021-01-14 02:00:00 0.05103432      34.87    2.32          5.17          \n",
       "4 2021-01-14 03:00:00 0.05995258      34.58    7.66          5.35          \n",
       "5 2021-01-14 04:00:00 0.06207705      34.57    6.45          7.32          \n",
       "6 2021-01-14 05:00:00 0.07138521      34.53    0.32          7.28          \n",
       "  Workday Workday_168 Workday_24 forecast BV Forecast price_lag_24\n",
       "1 1       1           1          27.4     4187.97     34.10       \n",
       "2 1       1           1          30.1     3975.82     30.34       \n",
       "3 1       1           1          37.3     3885.02     32.55       \n",
       "4 1       1           1          41.0     3589.79     26.92       \n",
       "5 1       1           1          52.6     3137.07     28.12       \n",
       "6 1       1           1          67.9     2717.61     34.21       \n",
       "  price_lag_168\n",
       "1 33.09        \n",
       "2 34.19        \n",
       "3 29.70        \n",
       "4 29.23        \n",
       "5 27.25        \n",
       "6 27.25        "
      ]
     },
     "metadata": {},
     "output_type": "display_data"
    }
   ],
   "source": [
    "data$DateTime <- as.POSIXct(data$DateTime)\n",
    "\n",
    "head(data)"
   ]
  },
  {
   "cell_type": "code",
   "execution_count": 15,
   "metadata": {
    "vscode": {
     "languageId": "r"
    }
   },
   "outputs": [
    {
     "data": {
      "text/plain": [
       "\n",
       "Call:\n",
       "lm(formula = priceEur ~ price_lag_24 + price_lag_168 + Workday + \n",
       "    Workday_24 + Workday_168 + renewable_ratio, data = train_data)\n",
       "\n",
       "Residuals:\n",
       "     Min       1Q   Median       3Q      Max \n",
       "-204.277  -10.151   -1.578    8.591  156.260 \n",
       "\n",
       "Coefficients:\n",
       "                  Estimate Std. Error t value Pr(>|t|)    \n",
       "(Intercept)      1.995e+01  1.300e+00  15.337  < 2e-16 ***\n",
       "price_lag_24     4.775e-01  5.023e-03  95.076  < 2e-16 ***\n",
       "price_lag_168    4.814e-01  5.021e-03  95.874  < 2e-16 ***\n",
       "Workday          1.851e+01  9.391e-01  19.708  < 2e-16 ***\n",
       "Workday_24      -5.371e+00  9.470e-01  -5.671 1.44e-08 ***\n",
       "Workday_168     -1.392e+01  8.617e-01 -16.157  < 2e-16 ***\n",
       "renewable_ratio -1.304e+02  2.806e+00 -46.479  < 2e-16 ***\n",
       "---\n",
       "Signif. codes:  0 '***' 0.001 '**' 0.01 '*' 0.05 '.' 0.1 ' ' 1\n",
       "\n",
       "Residual standard error: 23.76 on 19934 degrees of freedom\n",
       "Multiple R-squared:  0.8595,\tAdjusted R-squared:  0.8595 \n",
       "F-statistic: 2.032e+04 on 6 and 19934 DF,  p-value: < 2.2e-16\n"
      ]
     },
     "metadata": {},
     "output_type": "display_data"
    }
   ],
   "source": [
    "train_data <- data[DateTime < as.POSIXct(\"2023-04-25\"), ]\n",
    "test_data <- data[DateTime >= as.POSIXct(\"2023-04-25\"), ]\n",
    "\n",
    "lm_model <- lm(priceEur ~  price_lag_24 + price_lag_168 + Workday + Workday_24 + Workday_168 + renewable_ratio, data = train_data)\n",
    "\n",
    "summary(lm_model)"
   ]
  },
  {
   "cell_type": "code",
   "execution_count": 16,
   "metadata": {
    "vscode": {
     "languageId": "r"
    }
   },
   "outputs": [
    {
     "name": "stdout",
     "output_type": "stream",
     "text": [
      "[1] 186.3594\n",
      "[1] 10.38826\n",
      "[1] 24741.64\n",
      "[1] 0.1522571\n"
     ]
    }
   ],
   "source": [
    "test_errors <- copy(test_data)\n",
    "\n",
    "predictions <- predict(lm_model, newdata = test_data)\n",
    "\n",
    "test_errors[, forecasted_price_eur := predictions]\n",
    "\n",
    "residuals <- test_errors$priceEur - test_errors$forecasted_price_eur\n",
    "\n",
    "mse <- mean(residuals^2)\n",
    "mae <- mean(abs(residuals))\n",
    "mape <- mean(abs(residuals)/((test_errors$priceEur)+0.000001))\n",
    "wmape <- sum(abs(residuals))/sum(test_errors$priceEur)\n",
    "\n",
    "print(mse)\n",
    "print(mae)\n",
    "print(mape)\n",
    "print(wmape)\n"
   ]
  },
  {
   "cell_type": "code",
   "execution_count": null,
   "metadata": {
    "vscode": {
     "languageId": "r"
    }
   },
   "outputs": [
    {
     "data": {
      "text/html": [
       "<table class=\"dataframe\">\n",
       "<caption>A data.table: 6 × 13</caption>\n",
       "<thead>\n",
       "\t<tr><th scope=col>DateTime</th><th scope=col>renewable_ratio</th><th scope=col>priceEur</th><th scope=col>Difference_24</th><th scope=col>Difference_168</th><th scope=col>Workday</th><th scope=col>Workday_168</th><th scope=col>Workday_24</th><th scope=col>forecast</th><th scope=col>BV Forecast</th><th scope=col>price_lag_24</th><th scope=col>price_lag_168</th><th scope=col>forecasted_price_eur</th></tr>\n",
       "\t<tr><th scope=col>&lt;dttm&gt;</th><th scope=col>&lt;dbl&gt;</th><th scope=col>&lt;dbl&gt;</th><th scope=col>&lt;dbl&gt;</th><th scope=col>&lt;dbl&gt;</th><th scope=col>&lt;int&gt;</th><th scope=col>&lt;dbl&gt;</th><th scope=col>&lt;dbl&gt;</th><th scope=col>&lt;dbl&gt;</th><th scope=col>&lt;dbl&gt;</th><th scope=col>&lt;dbl&gt;</th><th scope=col>&lt;dbl&gt;</th><th scope=col>&lt;dbl&gt;</th></tr>\n",
       "</thead>\n",
       "<tbody>\n",
       "\t<tr><td>2021-01-14 00:00:00</td><td>0.04073709</td><td>35.26</td><td>1.16</td><td>2.17</td><td>1</td><td>1</td><td>1</td><td>27.4</td><td>4187.97</td><td>34.10</td><td>33.09</td><td>46.06003</td></tr>\n",
       "\t<tr><td>2021-01-14 01:00:00</td><td>0.04586432</td><td>35.13</td><td>4.79</td><td>0.94</td><td>1</td><td>1</td><td>1</td><td>30.1</td><td>3975.82</td><td>30.34</td><td>34.19</td><td>44.12539</td></tr>\n",
       "\t<tr><td>2021-01-14 02:00:00</td><td>0.05103432</td><td>34.87</td><td>2.32</td><td>5.17</td><td>1</td><td>1</td><td>1</td><td>37.3</td><td>3885.02</td><td>32.55</td><td>29.70</td><td>42.34504</td></tr>\n",
       "\t<tr><td>2021-01-14 03:00:00</td><td>0.05995258</td><td>34.58</td><td>7.66</td><td>5.35</td><td>1</td><td>1</td><td>1</td><td>41.0</td><td>3589.79</td><td>26.92</td><td>29.23</td><td>38.26724</td></tr>\n",
       "\t<tr><td>2021-01-14 04:00:00</td><td>0.06207705</td><td>34.57</td><td>6.45</td><td>7.32</td><td>1</td><td>1</td><td>1</td><td>52.6</td><td>3137.07</td><td>28.12</td><td>27.25</td><td>37.61006</td></tr>\n",
       "\t<tr><td>2021-01-14 05:00:00</td><td>0.07138521</td><td>34.53</td><td>0.32</td><td>7.28</td><td>1</td><td>1</td><td>1</td><td>67.9</td><td>2717.61</td><td>34.21</td><td>27.25</td><td>39.30430</td></tr>\n",
       "</tbody>\n",
       "</table>\n"
      ],
      "text/latex": [
       "A data.table: 6 × 13\n",
       "\\begin{tabular}{lllllllllllll}\n",
       " DateTime & renewable\\_ratio & priceEur & Difference\\_24 & Difference\\_168 & Workday & Workday\\_168 & Workday\\_24 & forecast & BV Forecast & price\\_lag\\_24 & price\\_lag\\_168 & forecasted\\_price\\_eur\\\\\n",
       " <dttm> & <dbl> & <dbl> & <dbl> & <dbl> & <int> & <dbl> & <dbl> & <dbl> & <dbl> & <dbl> & <dbl> & <dbl>\\\\\n",
       "\\hline\n",
       "\t 2021-01-14 00:00:00 & 0.04073709 & 35.26 & 1.16 & 2.17 & 1 & 1 & 1 & 27.4 & 4187.97 & 34.10 & 33.09 & 46.06003\\\\\n",
       "\t 2021-01-14 01:00:00 & 0.04586432 & 35.13 & 4.79 & 0.94 & 1 & 1 & 1 & 30.1 & 3975.82 & 30.34 & 34.19 & 44.12539\\\\\n",
       "\t 2021-01-14 02:00:00 & 0.05103432 & 34.87 & 2.32 & 5.17 & 1 & 1 & 1 & 37.3 & 3885.02 & 32.55 & 29.70 & 42.34504\\\\\n",
       "\t 2021-01-14 03:00:00 & 0.05995258 & 34.58 & 7.66 & 5.35 & 1 & 1 & 1 & 41.0 & 3589.79 & 26.92 & 29.23 & 38.26724\\\\\n",
       "\t 2021-01-14 04:00:00 & 0.06207705 & 34.57 & 6.45 & 7.32 & 1 & 1 & 1 & 52.6 & 3137.07 & 28.12 & 27.25 & 37.61006\\\\\n",
       "\t 2021-01-14 05:00:00 & 0.07138521 & 34.53 & 0.32 & 7.28 & 1 & 1 & 1 & 67.9 & 2717.61 & 34.21 & 27.25 & 39.30430\\\\\n",
       "\\end{tabular}\n"
      ],
      "text/markdown": [
       "\n",
       "A data.table: 6 × 13\n",
       "\n",
       "| DateTime &lt;dttm&gt; | renewable_ratio &lt;dbl&gt; | priceEur &lt;dbl&gt; | Difference_24 &lt;dbl&gt; | Difference_168 &lt;dbl&gt; | Workday &lt;int&gt; | Workday_168 &lt;dbl&gt; | Workday_24 &lt;dbl&gt; | forecast &lt;dbl&gt; | BV Forecast &lt;dbl&gt; | price_lag_24 &lt;dbl&gt; | price_lag_168 &lt;dbl&gt; | forecasted_price_eur &lt;dbl&gt; |\n",
       "|---|---|---|---|---|---|---|---|---|---|---|---|---|\n",
       "| 2021-01-14 00:00:00 | 0.04073709 | 35.26 | 1.16 | 2.17 | 1 | 1 | 1 | 27.4 | 4187.97 | 34.10 | 33.09 | 46.06003 |\n",
       "| 2021-01-14 01:00:00 | 0.04586432 | 35.13 | 4.79 | 0.94 | 1 | 1 | 1 | 30.1 | 3975.82 | 30.34 | 34.19 | 44.12539 |\n",
       "| 2021-01-14 02:00:00 | 0.05103432 | 34.87 | 2.32 | 5.17 | 1 | 1 | 1 | 37.3 | 3885.02 | 32.55 | 29.70 | 42.34504 |\n",
       "| 2021-01-14 03:00:00 | 0.05995258 | 34.58 | 7.66 | 5.35 | 1 | 1 | 1 | 41.0 | 3589.79 | 26.92 | 29.23 | 38.26724 |\n",
       "| 2021-01-14 04:00:00 | 0.06207705 | 34.57 | 6.45 | 7.32 | 1 | 1 | 1 | 52.6 | 3137.07 | 28.12 | 27.25 | 37.61006 |\n",
       "| 2021-01-14 05:00:00 | 0.07138521 | 34.53 | 0.32 | 7.28 | 1 | 1 | 1 | 67.9 | 2717.61 | 34.21 | 27.25 | 39.30430 |\n",
       "\n"
      ],
      "text/plain": [
       "  DateTime            renewable_ratio priceEur Difference_24 Difference_168\n",
       "1 2021-01-14 00:00:00 0.04073709      35.26    1.16          2.17          \n",
       "2 2021-01-14 01:00:00 0.04586432      35.13    4.79          0.94          \n",
       "3 2021-01-14 02:00:00 0.05103432      34.87    2.32          5.17          \n",
       "4 2021-01-14 03:00:00 0.05995258      34.58    7.66          5.35          \n",
       "5 2021-01-14 04:00:00 0.06207705      34.57    6.45          7.32          \n",
       "6 2021-01-14 05:00:00 0.07138521      34.53    0.32          7.28          \n",
       "  Workday Workday_168 Workday_24 forecast BV Forecast price_lag_24\n",
       "1 1       1           1          27.4     4187.97     34.10       \n",
       "2 1       1           1          30.1     3975.82     30.34       \n",
       "3 1       1           1          37.3     3885.02     32.55       \n",
       "4 1       1           1          41.0     3589.79     26.92       \n",
       "5 1       1           1          52.6     3137.07     28.12       \n",
       "6 1       1           1          67.9     2717.61     34.21       \n",
       "  price_lag_168 forecasted_price_eur\n",
       "1 33.09         46.06003            \n",
       "2 34.19         44.12539            \n",
       "3 29.70         42.34504            \n",
       "4 29.23         38.26724            \n",
       "5 27.25         37.61006            \n",
       "6 27.25         39.30430            "
      ]
     },
     "metadata": {},
     "output_type": "display_data"
    },
    {
     "data": {
      "text/html": [
       "<table class=\"dataframe\">\n",
       "<caption>A data.table: 6 × 13</caption>\n",
       "<thead>\n",
       "\t<tr><th scope=col>DateTime</th><th scope=col>renewable_ratio</th><th scope=col>priceEur</th><th scope=col>Difference_24</th><th scope=col>Difference_168</th><th scope=col>Workday</th><th scope=col>Workday_168</th><th scope=col>Workday_24</th><th scope=col>forecast</th><th scope=col>BV Forecast</th><th scope=col>price_lag_24</th><th scope=col>price_lag_168</th><th scope=col>forecasted_price_eur</th></tr>\n",
       "\t<tr><th scope=col>&lt;dttm&gt;</th><th scope=col>&lt;dbl&gt;</th><th scope=col>&lt;dbl&gt;</th><th scope=col>&lt;dbl&gt;</th><th scope=col>&lt;dbl&gt;</th><th scope=col>&lt;int&gt;</th><th scope=col>&lt;dbl&gt;</th><th scope=col>&lt;dbl&gt;</th><th scope=col>&lt;dbl&gt;</th><th scope=col>&lt;dbl&gt;</th><th scope=col>&lt;dbl&gt;</th><th scope=col>&lt;dbl&gt;</th><th scope=col>&lt;dbl&gt;</th></tr>\n",
       "</thead>\n",
       "<tbody>\n",
       "\t<tr><td>2024-04-25 18:00:00</td><td>0.11151240</td><td>77.99</td><td>0</td><td> 0.67</td><td>1</td><td>1</td><td>1</td><td>318.28</td><td>5439.89</td><td>77.99</td><td>77.32</td><td>79.08063</td></tr>\n",
       "\t<tr><td>2024-04-25 19:00:00</td><td>0.10691880</td><td>77.99</td><td>0</td><td>-0.44</td><td>1</td><td>1</td><td>1</td><td>264.01</td><td>4703.63</td><td>77.99</td><td>78.43</td><td>80.21404</td></tr>\n",
       "\t<tr><td>2024-04-25 20:00:00</td><td>0.10165056</td><td>77.99</td><td>0</td><td>-0.44</td><td>1</td><td>1</td><td>1</td><td>219.62</td><td>4501.67</td><td>77.99</td><td>78.43</td><td>80.90109</td></tr>\n",
       "\t<tr><td>2024-04-25 21:00:00</td><td>0.10212468</td><td>77.99</td><td>0</td><td>-0.44</td><td>1</td><td>1</td><td>1</td><td>191.99</td><td>4394.75</td><td>77.99</td><td>78.43</td><td>80.83926</td></tr>\n",
       "\t<tr><td>2024-04-25 22:00:00</td><td>0.09613362</td><td>77.99</td><td>0</td><td> 1.04</td><td>1</td><td>1</td><td>1</td><td>157.67</td><td>4235.98</td><td>77.99</td><td>76.95</td><td>80.90812</td></tr>\n",
       "\t<tr><td>2024-04-25 23:00:00</td><td>0.09804755</td><td>77.99</td><td>0</td><td>10.57</td><td>1</td><td>1</td><td>1</td><td>134.85</td><td>4053.30</td><td>77.99</td><td>67.42</td><td>76.07086</td></tr>\n",
       "</tbody>\n",
       "</table>\n"
      ],
      "text/latex": [
       "A data.table: 6 × 13\n",
       "\\begin{tabular}{lllllllllllll}\n",
       " DateTime & renewable\\_ratio & priceEur & Difference\\_24 & Difference\\_168 & Workday & Workday\\_168 & Workday\\_24 & forecast & BV Forecast & price\\_lag\\_24 & price\\_lag\\_168 & forecasted\\_price\\_eur\\\\\n",
       " <dttm> & <dbl> & <dbl> & <dbl> & <dbl> & <int> & <dbl> & <dbl> & <dbl> & <dbl> & <dbl> & <dbl> & <dbl>\\\\\n",
       "\\hline\n",
       "\t 2024-04-25 18:00:00 & 0.11151240 & 77.99 & 0 &  0.67 & 1 & 1 & 1 & 318.28 & 5439.89 & 77.99 & 77.32 & 79.08063\\\\\n",
       "\t 2024-04-25 19:00:00 & 0.10691880 & 77.99 & 0 & -0.44 & 1 & 1 & 1 & 264.01 & 4703.63 & 77.99 & 78.43 & 80.21404\\\\\n",
       "\t 2024-04-25 20:00:00 & 0.10165056 & 77.99 & 0 & -0.44 & 1 & 1 & 1 & 219.62 & 4501.67 & 77.99 & 78.43 & 80.90109\\\\\n",
       "\t 2024-04-25 21:00:00 & 0.10212468 & 77.99 & 0 & -0.44 & 1 & 1 & 1 & 191.99 & 4394.75 & 77.99 & 78.43 & 80.83926\\\\\n",
       "\t 2024-04-25 22:00:00 & 0.09613362 & 77.99 & 0 &  1.04 & 1 & 1 & 1 & 157.67 & 4235.98 & 77.99 & 76.95 & 80.90812\\\\\n",
       "\t 2024-04-25 23:00:00 & 0.09804755 & 77.99 & 0 & 10.57 & 1 & 1 & 1 & 134.85 & 4053.30 & 77.99 & 67.42 & 76.07086\\\\\n",
       "\\end{tabular}\n"
      ],
      "text/markdown": [
       "\n",
       "A data.table: 6 × 13\n",
       "\n",
       "| DateTime &lt;dttm&gt; | renewable_ratio &lt;dbl&gt; | priceEur &lt;dbl&gt; | Difference_24 &lt;dbl&gt; | Difference_168 &lt;dbl&gt; | Workday &lt;int&gt; | Workday_168 &lt;dbl&gt; | Workday_24 &lt;dbl&gt; | forecast &lt;dbl&gt; | BV Forecast &lt;dbl&gt; | price_lag_24 &lt;dbl&gt; | price_lag_168 &lt;dbl&gt; | forecasted_price_eur &lt;dbl&gt; |\n",
       "|---|---|---|---|---|---|---|---|---|---|---|---|---|\n",
       "| 2024-04-25 18:00:00 | 0.11151240 | 77.99 | 0 |  0.67 | 1 | 1 | 1 | 318.28 | 5439.89 | 77.99 | 77.32 | 79.08063 |\n",
       "| 2024-04-25 19:00:00 | 0.10691880 | 77.99 | 0 | -0.44 | 1 | 1 | 1 | 264.01 | 4703.63 | 77.99 | 78.43 | 80.21404 |\n",
       "| 2024-04-25 20:00:00 | 0.10165056 | 77.99 | 0 | -0.44 | 1 | 1 | 1 | 219.62 | 4501.67 | 77.99 | 78.43 | 80.90109 |\n",
       "| 2024-04-25 21:00:00 | 0.10212468 | 77.99 | 0 | -0.44 | 1 | 1 | 1 | 191.99 | 4394.75 | 77.99 | 78.43 | 80.83926 |\n",
       "| 2024-04-25 22:00:00 | 0.09613362 | 77.99 | 0 |  1.04 | 1 | 1 | 1 | 157.67 | 4235.98 | 77.99 | 76.95 | 80.90812 |\n",
       "| 2024-04-25 23:00:00 | 0.09804755 | 77.99 | 0 | 10.57 | 1 | 1 | 1 | 134.85 | 4053.30 | 77.99 | 67.42 | 76.07086 |\n",
       "\n"
      ],
      "text/plain": [
       "  DateTime            renewable_ratio priceEur Difference_24 Difference_168\n",
       "1 2024-04-25 18:00:00 0.11151240      77.99    0              0.67         \n",
       "2 2024-04-25 19:00:00 0.10691880      77.99    0             -0.44         \n",
       "3 2024-04-25 20:00:00 0.10165056      77.99    0             -0.44         \n",
       "4 2024-04-25 21:00:00 0.10212468      77.99    0             -0.44         \n",
       "5 2024-04-25 22:00:00 0.09613362      77.99    0              1.04         \n",
       "6 2024-04-25 23:00:00 0.09804755      77.99    0             10.57         \n",
       "  Workday Workday_168 Workday_24 forecast BV Forecast price_lag_24\n",
       "1 1       1           1          318.28   5439.89     77.99       \n",
       "2 1       1           1          264.01   4703.63     77.99       \n",
       "3 1       1           1          219.62   4501.67     77.99       \n",
       "4 1       1           1          191.99   4394.75     77.99       \n",
       "5 1       1           1          157.67   4235.98     77.99       \n",
       "6 1       1           1          134.85   4053.30     77.99       \n",
       "  price_lag_168 forecasted_price_eur\n",
       "1 77.32         79.08063            \n",
       "2 78.43         80.21404            \n",
       "3 78.43         80.90109            \n",
       "4 78.43         80.83926            \n",
       "5 76.95         80.90812            \n",
       "6 67.42         76.07086            "
      ]
     },
     "metadata": {},
     "output_type": "display_data"
    }
   ],
   "source": [
    "to_export <- na.omit(copy(data))\n",
    "\n",
    "predictions <- predict(lm_model, newdata = to_export)\n",
    "\n",
    "to_export[, forecasted_price_eur := predictions]\n",
    "\n",
    "head(to_export)\n",
    "tail(to_export)"
   ]
  },
  {
   "cell_type": "code",
   "execution_count": null,
   "metadata": {
    "vscode": {
     "languageId": "r"
    }
   },
   "outputs": [
    {
     "data": {
      "image/png": "[encoded data removed]",
      "text/plain": [
       "plot without title"
      ]
     },
     "metadata": {
      "image/png": {
       "height": 420,
       "width": 420
      }
     },
     "output_type": "display_data"
    }
   ],
   "source": [
    "ggplot(to_export,aes(x=DateTime)) + geom_line(aes(y=priceEur,color='real'))+ geom_line(aes(y=forecasted_price_eur,color='forecasted'))"
   ]
  },
  {
   "cell_type": "code",
   "execution_count": null,
   "metadata": {
    "vscode": {
     "languageId": "r"
    }
   },
   "outputs": [
    {
     "data": {
      "text/html": [
       "<table class=\"dataframe\">\n",
       "<caption>A data.table: 6 × 13</caption>\n",
       "<thead>\n",
       "\t<tr><th scope=col>DateTime</th><th scope=col>renewable_ratio</th><th scope=col>priceEur</th><th scope=col>Difference_24</th><th scope=col>Difference_168</th><th scope=col>Workday</th><th scope=col>Workday_168</th><th scope=col>Workday_24</th><th scope=col>forecast</th><th scope=col>BV Forecast</th><th scope=col>price_lag_24</th><th scope=col>price_lag_168</th><th scope=col>forecasted_price_eur</th></tr>\n",
       "\t<tr><th scope=col>&lt;dttm&gt;</th><th scope=col>&lt;dbl&gt;</th><th scope=col>&lt;dbl&gt;</th><th scope=col>&lt;dbl&gt;</th><th scope=col>&lt;dbl&gt;</th><th scope=col>&lt;int&gt;</th><th scope=col>&lt;dbl&gt;</th><th scope=col>&lt;dbl&gt;</th><th scope=col>&lt;dbl&gt;</th><th scope=col>&lt;dbl&gt;</th><th scope=col>&lt;dbl&gt;</th><th scope=col>&lt;dbl&gt;</th><th scope=col>&lt;dbl&gt;</th></tr>\n",
       "</thead>\n",
       "<tbody>\n",
       "\t<tr><td>2024-04-25 18:00:00</td><td>0.11151240</td><td>77.99</td><td>0</td><td> 0.67</td><td>1</td><td>1</td><td>1</td><td>318.28</td><td>5439.89</td><td>77.99</td><td>77.32</td><td>79.08063</td></tr>\n",
       "\t<tr><td>2024-04-25 19:00:00</td><td>0.10691880</td><td>77.99</td><td>0</td><td>-0.44</td><td>1</td><td>1</td><td>1</td><td>264.01</td><td>4703.63</td><td>77.99</td><td>78.43</td><td>80.21404</td></tr>\n",
       "\t<tr><td>2024-04-25 20:00:00</td><td>0.10165056</td><td>77.99</td><td>0</td><td>-0.44</td><td>1</td><td>1</td><td>1</td><td>219.62</td><td>4501.67</td><td>77.99</td><td>78.43</td><td>80.90109</td></tr>\n",
       "\t<tr><td>2024-04-25 21:00:00</td><td>0.10212468</td><td>77.99</td><td>0</td><td>-0.44</td><td>1</td><td>1</td><td>1</td><td>191.99</td><td>4394.75</td><td>77.99</td><td>78.43</td><td>80.83926</td></tr>\n",
       "\t<tr><td>2024-04-25 22:00:00</td><td>0.09613362</td><td>77.99</td><td>0</td><td> 1.04</td><td>1</td><td>1</td><td>1</td><td>157.67</td><td>4235.98</td><td>77.99</td><td>76.95</td><td>80.90812</td></tr>\n",
       "\t<tr><td>2024-04-25 23:00:00</td><td>0.09804755</td><td>77.99</td><td>0</td><td>10.57</td><td>1</td><td>1</td><td>1</td><td>134.85</td><td>4053.30</td><td>77.99</td><td>67.42</td><td>76.07086</td></tr>\n",
       "</tbody>\n",
       "</table>\n"
      ],
      "text/latex": [
       "A data.table: 6 × 13\n",
       "\\begin{tabular}{lllllllllllll}\n",
       " DateTime & renewable\\_ratio & priceEur & Difference\\_24 & Difference\\_168 & Workday & Workday\\_168 & Workday\\_24 & forecast & BV Forecast & price\\_lag\\_24 & price\\_lag\\_168 & forecasted\\_price\\_eur\\\\\n",
       " <dttm> & <dbl> & <dbl> & <dbl> & <dbl> & <int> & <dbl> & <dbl> & <dbl> & <dbl> & <dbl> & <dbl> & <dbl>\\\\\n",
       "\\hline\n",
       "\t 2024-04-25 18:00:00 & 0.11151240 & 77.99 & 0 &  0.67 & 1 & 1 & 1 & 318.28 & 5439.89 & 77.99 & 77.32 & 79.08063\\\\\n",
       "\t 2024-04-25 19:00:00 & 0.10691880 & 77.99 & 0 & -0.44 & 1 & 1 & 1 & 264.01 & 4703.63 & 77.99 & 78.43 & 80.21404\\\\\n",
       "\t 2024-04-25 20:00:00 & 0.10165056 & 77.99 & 0 & -0.44 & 1 & 1 & 1 & 219.62 & 4501.67 & 77.99 & 78.43 & 80.90109\\\\\n",
       "\t 2024-04-25 21:00:00 & 0.10212468 & 77.99 & 0 & -0.44 & 1 & 1 & 1 & 191.99 & 4394.75 & 77.99 & 78.43 & 80.83926\\\\\n",
       "\t 2024-04-25 22:00:00 & 0.09613362 & 77.99 & 0 &  1.04 & 1 & 1 & 1 & 157.67 & 4235.98 & 77.99 & 76.95 & 80.90812\\\\\n",
       "\t 2024-04-25 23:00:00 & 0.09804755 & 77.99 & 0 & 10.57 & 1 & 1 & 1 & 134.85 & 4053.30 & 77.99 & 67.42 & 76.07086\\\\\n",
       "\\end{tabular}\n"
      ],
      "text/markdown": [
       "\n",
       "A data.table: 6 × 13\n",
       "\n",
       "| DateTime &lt;dttm&gt; | renewable_ratio &lt;dbl&gt; | priceEur &lt;dbl&gt; | Difference_24 &lt;dbl&gt; | Difference_168 &lt;dbl&gt; | Workday &lt;int&gt; | Workday_168 &lt;dbl&gt; | Workday_24 &lt;dbl&gt; | forecast &lt;dbl&gt; | BV Forecast &lt;dbl&gt; | price_lag_24 &lt;dbl&gt; | price_lag_168 &lt;dbl&gt; | forecasted_price_eur &lt;dbl&gt; |\n",
       "|---|---|---|---|---|---|---|---|---|---|---|---|---|\n",
       "| 2024-04-25 18:00:00 | 0.11151240 | 77.99 | 0 |  0.67 | 1 | 1 | 1 | 318.28 | 5439.89 | 77.99 | 77.32 | 79.08063 |\n",
       "| 2024-04-25 19:00:00 | 0.10691880 | 77.99 | 0 | -0.44 | 1 | 1 | 1 | 264.01 | 4703.63 | 77.99 | 78.43 | 80.21404 |\n",
       "| 2024-04-25 20:00:00 | 0.10165056 | 77.99 | 0 | -0.44 | 1 | 1 | 1 | 219.62 | 4501.67 | 77.99 | 78.43 | 80.90109 |\n",
       "| 2024-04-25 21:00:00 | 0.10212468 | 77.99 | 0 | -0.44 | 1 | 1 | 1 | 191.99 | 4394.75 | 77.99 | 78.43 | 80.83926 |\n",
       "| 2024-04-25 22:00:00 | 0.09613362 | 77.99 | 0 |  1.04 | 1 | 1 | 1 | 157.67 | 4235.98 | 77.99 | 76.95 | 80.90812 |\n",
       "| 2024-04-25 23:00:00 | 0.09804755 | 77.99 | 0 | 10.57 | 1 | 1 | 1 | 134.85 | 4053.30 | 77.99 | 67.42 | 76.07086 |\n",
       "\n"
      ],
      "text/plain": [
       "  DateTime            renewable_ratio priceEur Difference_24 Difference_168\n",
       "1 2024-04-25 18:00:00 0.11151240      77.99    0              0.67         \n",
       "2 2024-04-25 19:00:00 0.10691880      77.99    0             -0.44         \n",
       "3 2024-04-25 20:00:00 0.10165056      77.99    0             -0.44         \n",
       "4 2024-04-25 21:00:00 0.10212468      77.99    0             -0.44         \n",
       "5 2024-04-25 22:00:00 0.09613362      77.99    0              1.04         \n",
       "6 2024-04-25 23:00:00 0.09804755      77.99    0             10.57         \n",
       "  Workday Workday_168 Workday_24 forecast BV Forecast price_lag_24\n",
       "1 1       1           1          318.28   5439.89     77.99       \n",
       "2 1       1           1          264.01   4703.63     77.99       \n",
       "3 1       1           1          219.62   4501.67     77.99       \n",
       "4 1       1           1          191.99   4394.75     77.99       \n",
       "5 1       1           1          157.67   4235.98     77.99       \n",
       "6 1       1           1          134.85   4053.30     77.99       \n",
       "  price_lag_168 forecasted_price_eur\n",
       "1 77.32         79.08063            \n",
       "2 78.43         80.21404            \n",
       "3 78.43         80.90109            \n",
       "4 78.43         80.83926            \n",
       "5 76.95         80.90812            \n",
       "6 67.42         76.07086            "
      ]
     },
     "metadata": {},
     "output_type": "display_data"
    }
   ],
   "source": [
    "to_export[forecasted_price_eur < 0, forecasted_price_eur := 0]\n",
    "\n",
    "tail(to_export)"
   ]
  },
  {
   "cell_type": "code",
   "execution_count": null,
   "metadata": {
    "vscode": {
     "languageId": "r"
    }
   },
   "outputs": [],
   "source": [
    "fwrite(to_export, file = \"MCP_PREDICTIONS.csv\")"
   ]
  },
  {
   "cell_type": "code",
   "execution_count": null,
   "metadata": {
    "vscode": {
     "languageId": "r"
    }
   },
   "outputs": [
    {
     "data": {
      "image/png": "[encoded data removed]",
      "text/plain": [
       "plot without title"
      ]
     },
     "metadata": {
      "image/png": {
       "height": 420,
       "width": 420
      }
     },
     "output_type": "display_data"
    }
   ],
   "source": [
    "ggplot(to_export,aes(x=DateTime)) + geom_line(aes(y=priceEur,color='real'))+ geom_line(aes(y=forecasted_price_eur,color='forecasted'))"
   ]
  }
 ],
 "metadata": {
  "kernelspec": {
   "display_name": "R",
   "language": "R",
   "name": "ir"
  },
  "language_info": {
   "codemirror_mode": "r",
   "file_extension": ".r",
   "mimetype": "text/x-r-source",
   "name": "R",
   "pygments_lexer": "r",
   "version": "4.3.3"
  }
 },
 "nbformat": 4,
 "nbformat_minor": 2
}
